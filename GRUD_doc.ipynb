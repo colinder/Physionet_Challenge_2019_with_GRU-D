{
 "cells": [
  {
   "cell_type": "markdown",
   "id": "8d474352",
   "metadata": {},
   "source": [
    "# RECURRENT NEURAL NETWORKS FOR MULTIVARIATE TIME SERIES WITH MISSING VALUES"
   ]
  },
  {
   "cell_type": "markdown",
   "id": "ec599b44",
   "metadata": {},
   "source": [
    "- 결측치를 효율적으로 대치하여 효율을 높이는 모델인 GRU-D에 대한 논문을 리뷰 및 구현"
   ]
  },
  {
   "cell_type": "markdown",
   "id": "0711ee7f",
   "metadata": {},
   "source": [
    "## ABSTRACT"
   ]
  },
  {
   "cell_type": "markdown",
   "id": "f69f24ae",
   "metadata": {},
   "source": [
    "- 실제응용분야(practical applications)에서 다변량 시계열 데이터는 다양한 결측치를 특징으로 가지고 있다. 그리고 결측값과 결측패턴들은 목표 라벨값을 도출하는데 상관관계가 있다는 지적이 있다. 다만, 효과적인 대치와 예측 성능 향상을 위해 누락된 값들을 이용하는 것은 매우 제한적. 이 논문에서는 위와 같은 문제를 해결하기위한 초기 개발 모델로 GRU-D라는 새로운 딥러닝 모델을 제안"
   ]
  },
  {
   "cell_type": "markdown",
   "id": "7ed15542",
   "metadata": {},
   "source": [
    "## 1. INTRODUCTION"
   ]
  },
  {
   "cell_type": "markdown",
   "id": "e150da54",
   "metadata": {},
   "source": [
    "- 생체정보, 지구과학, 천문학 및 실제 응용분야에서 다변수 시계열데이터는 어디에나 존재한다. 그리고 다양한 이유로인해 필연적인 정보 손실을 포함하고 있다. 그리고 이런 손실된 정보의 패턴이나 값은 데이터를 활용함에 있어 목표값에 도달하는데 유의미한 정보를 담고 있다.\n",
    "- MIMIC-III data set를 분석한 결과 피어슨 상관계수를 살펴보면 결측률이 라벨값(목표 ex. 예측값)과 상관관계가 있으며, 결측치가 낮은 비율을 갖는 결측률은 대개 레이블과 높은 상관관계(양 또는 음)를 갖는다는 것을 관찰했다. > **결측치가 낮을 수록 결과가 명확하게 도출**"
   ]
  },
  {
   "cell_type": "markdown",
   "id": "47ac7be7",
   "metadata": {},
   "source": [
    "그리고 시계열 데이터를 분석하는데 최초로 제안된 RNN은 이런 결측치를 대치해주는 적당한 알고리즘 및 방법론이 없었고 해당 논문에서는 누락된 패턴의 정보성과 함께 GRU모델을 기반으로 다변량 시계열 데이터를 효과적으로 모델링 할 수 있는 방법을 제안"
   ]
  },
  {
   "cell_type": "markdown",
   "id": "5ad6f754",
   "metadata": {},
   "source": [
    "제안하는 방법은\n",
    "\n",
    "1. 누락 된 데이터가있는 시계열을 처리하는 일반적인 심층 학습 프레임 워크.\n",
    "2. 모델링 마스킹(masking) 및 시간 간격과 같은 누락되지 않은 완전 무작위 시계열 데이터의 누락 패턴을 특성화하는 효과적인 솔루션.\n",
    "3. \"dacay rate\"에 의한 예측 레이블에 대한 변수 누락의 영향을 연구하는 통찰력있는 접근법을 포함하여 분류 작업 이외의 누락 된 데이터에 대한보다 일반적인 연구 과제에 대한 유용한 통찰력을 제공."
   ]
  },
  {
   "cell_type": "markdown",
   "id": "36b4784e",
   "metadata": {},
   "source": [
    "## 2 RNN MODELS FOR TIME SERIES WITH MISSING VARIABLES"
   ]
  },
  {
   "cell_type": "markdown",
   "id": "4bcacb3d",
   "metadata": {},
   "source": [
    "### 2.1 GRU-RNN FOR TIME SERIES CLASSIFICATION"
   ]
  },
  {
   "cell_type": "markdown",
   "id": "f709296e",
   "metadata": {},
   "source": [
    "LSTM의 장기 의존성 문제에 대한 해결책은 유지하면서, 은닉상태를 업데이트 하는 계산을 간소화"
   ]
  },
  {
   "cell_type": "markdown",
   "id": "4fbdb90b",
   "metadata": {},
   "source": [
    "손실된 정보(결측값) 대치에는 GRU의 구조에 수정이 없는 3가지 방법으로 해결이 가능.\n",
    "1. GRU-mean: 결측치가 아닌 값들의 평균을 사용\n",
    "2. GRU-forward: 정보누락 구간마다, 연속된 결측 정보의 마지막 값을 사용\n",
    "3. GRU-simple: 위의 방법으로 구한 값과 결측치 여부를 알려주는 mask, time interval을 concat해서 사용\n",
    "   => concat(x, mask, time interval)\n",
    "<br>\n",
    "<br>\n",
    "- 문제점\n",
    "    - 이러한 방법들은 결측치가 대치된건지 실제 관측값인지 구분하지 못함.(결측갑 활용 불가)\n",
    "    - 단순히 결측치 Masking과 time interval vacter의 concat으로는 결측치의 시간적 구조를 사용하지 못함.(결측패던 활용 불가)\n",
    "\n",
    "따라서 이러한 방법은 **결측성을 모델 학습에 활용하지 못함**\n"
   ]
  },
  {
   "cell_type": "markdown",
   "id": "7694b9a4",
   "metadata": {},
   "source": [
    "### 2.2 GRU-D: MODEL WITH TRAINABLE DECAYS"
   ]
  },
  {
   "cell_type": "markdown",
   "id": "00b78e2b",
   "metadata": {},
   "source": [
    "시계열 데이터에서 결측치의 문제를 군원적으로 해결하기 위해 근원적인 2가지 중요한 성질\n",
    "1. (만약 마지막 특정(관찰)이 오래전에 발행했다면,) 누락된 변수의 값은 기본값에 가까운 경향이 있다.\n",
    "    - 항상성 메커니즘으로 헬스케어 데이터에서 발견됨(ex. 체온은 36.5도가 정상, 혈압 120-80이 정상...)\n",
    "2. 변수가 잠시 누락된 경우, 시간이 지남에 따라 영향은 감소한다.\n",
    "    - 잠깐의 결측치는 전후의 일정 부분에만 영향을 미치고 전체로 퍼지진 않는다.\n",
    "<br>\n",
    "<br>\n",
    "이에 GRU-D는 <b>decay 메커니즘</b>을 제안. <u>중요한 요소</u>들을 고려하여 decay 메커니즘을 제어하기 위해 <b>decay rate( -∞ ~ 0 )</b>를 도입\n",
    "<br>\n",
    "<br>\n",
    "<u>- 중요한 요소</u><br>\n",
    " => 결측치는 변수마다 다르게 적용되어야 하고, 훈련데이터에 따라(시간의 흐름) 학습해 유동적으로 변해야 한다.\n"
   ]
  },
  {
   "cell_type": "markdown",
   "id": "d00140e8",
   "metadata": {},
   "source": [
    "### 해당 성질을 고려한 GRU-D 모델의 맹점\n",
    "1. 항상성을 띈 변수의 경우에만 GRU-D가 의미 있는 해석이 가능하다.\n",
    "2. 잠깐의 결측치가 아닌 연속적이고 오래지속되는 결측치에 대한 대치는 어렵다."
   ]
  },
  {
   "cell_type": "code",
   "execution_count": null,
   "id": "53bab00d",
   "metadata": {},
   "outputs": [],
   "source": []
  }
 ],
 "metadata": {
  "kernelspec": {
   "display_name": "ai",
   "language": "python",
   "name": "ai"
  },
  "language_info": {
   "codemirror_mode": {
    "name": "ipython",
    "version": 3
   },
   "file_extension": ".py",
   "mimetype": "text/x-python",
   "name": "python",
   "nbconvert_exporter": "python",
   "pygments_lexer": "ipython3",
   "version": "3.9.7"
  }
 },
 "nbformat": 4,
 "nbformat_minor": 5
}
