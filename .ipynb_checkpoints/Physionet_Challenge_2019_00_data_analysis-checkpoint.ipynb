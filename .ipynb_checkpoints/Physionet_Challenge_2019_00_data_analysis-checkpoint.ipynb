{
 "cells": [
  {
   "cell_type": "code",
   "execution_count": 18,
   "id": "8834aff8",
   "metadata": {},
   "outputs": [],
   "source": [
    "import pandas as pd\n",
    "import numpy as np\n",
    "import matplotlib.pyplot as plt\n",
    "import seaborn as sns\n",
    "\n",
    "import os"
   ]
  },
  {
   "cell_type": "code",
   "execution_count": 19,
   "id": "20d5b345",
   "metadata": {},
   "outputs": [
    {
     "ename": "FileNotFoundError",
     "evalue": "[WinError 3] 지정된 경로를 찾을 수 없습니다: 'C:/Users/kjong/Desktop/Data_set/physionet_Challenge_2019_sepsis/files/challenge-2019/1.0.0/training/training_setA/'",
     "output_type": "error",
     "traceback": [
      "\u001b[1;31m---------------------------------------------------------------------------\u001b[0m",
      "\u001b[1;31mFileNotFoundError\u001b[0m                         Traceback (most recent call last)",
      "Input \u001b[1;32mIn [19]\u001b[0m, in \u001b[0;36m<cell line: 2>\u001b[1;34m()\u001b[0m\n\u001b[0;32m      1\u001b[0m path_A \u001b[38;5;241m=\u001b[39m \u001b[38;5;124m'\u001b[39m\u001b[38;5;124mC:/Users/kjong/Desktop/Data_set/physionet_Challenge_2019_sepsis/files/challenge-2019/1.0.0/training/training_setA/\u001b[39m\u001b[38;5;124m'\u001b[39m\n\u001b[1;32m----> 2\u001b[0m file_list \u001b[38;5;241m=\u001b[39m \u001b[43mos\u001b[49m\u001b[38;5;241;43m.\u001b[39;49m\u001b[43mlistdir\u001b[49m\u001b[43m(\u001b[49m\u001b[43mpath_A\u001b[49m\u001b[43m)\u001b[49m\n\u001b[0;32m      3\u001b[0m file_lists_A \u001b[38;5;241m=\u001b[39m [file \u001b[38;5;28;01mfor\u001b[39;00m file \u001b[38;5;129;01min\u001b[39;00m file_list \u001b[38;5;28;01mif\u001b[39;00m file\u001b[38;5;241m.\u001b[39mendswith(\u001b[38;5;124m'\u001b[39m\u001b[38;5;124m.psv\u001b[39m\u001b[38;5;124m'\u001b[39m)]\n",
      "\u001b[1;31mFileNotFoundError\u001b[0m: [WinError 3] 지정된 경로를 찾을 수 없습니다: 'C:/Users/kjong/Desktop/Data_set/physionet_Challenge_2019_sepsis/files/challenge-2019/1.0.0/training/training_setA/'"
     ]
    }
   ],
   "source": [
    "path_A = 'C:/Users/kjong/Desktop/Data_set/physionet_Challenge_2019_sepsis/files/challenge-2019/1.0.0/training/training_setA/'\n",
    "file_list = os.listdir(path_A)\n",
    "file_lists_A = [file for file in file_list if file.endswith('.psv')]"
   ]
  },
  {
   "cell_type": "code",
   "execution_count": null,
   "id": "89b1d902",
   "metadata": {},
   "outputs": [],
   "source": [
    "df = pd.DataFrame()\n",
    "data_length_per_person = []  ## 한 사람의 데이터 길이\n",
    "\n",
    "for i in file_lists_A:\n",
    "    data = pd.read_csv(path_A + i, '|')\n",
    "    data_length_per_person.append(len(data))\n",
    "    df = pd.concat([df, data])\n",
    "    \n",
    "df = df.reset_index(drop = True)  ## reset_index 인덱스 초기화 후 재부여\n",
    "df.to_csv(\"00_df.csv\", mode='w')"
   ]
  },
  {
   "cell_type": "code",
   "execution_count": null,
   "id": "ed03cdfe",
   "metadata": {},
   "outputs": [],
   "source": [
    "data_length_per_person[:10]"
   ]
  },
  {
   "cell_type": "code",
   "execution_count": null,
   "id": "c43cf5c2",
   "metadata": {},
   "outputs": [],
   "source": [
    "df"
   ]
  },
  {
   "cell_type": "markdown",
   "id": "07d1659b",
   "metadata": {},
   "source": [
    "<b>Vital signs (columns 1-8)</b>\n",
    "- HR: Heart rate (beats per minute)\n",
    "- O2Sat: Pulse oximetry (%)\n",
    "- Temp: Temperature (Deg C)\n",
    "- SBP: Systolic BP (mm Hg) / 수축기 혈압\n",
    "- MAP: Mean arterial pressure (mm Hg) / 평균 동맥압\n",
    "- DBP: Diastolic BP (mm Hg) / 이완기 혈압\n",
    "- Resp: Respiration rate (breaths per minute) / 호흡수\n",
    "- EtCO2: End tidal carbon dioxide (mm Hg) / 호기말이산화탄소분압 - 호흡상태를 파악\n",
    "\n",
    "<b>Laboratory values (columns 9-34)</b>\n",
    "- BaseExcess: Measure of excess bicarbonate (mmol/L) / 과잉 중탄산염 측정\n",
    "- HCO3: Bicarbonate (mmol/L) / 중탄산염 - 혈액내 이산화탄소가 중탄산염 형태로 존재. 몸의 산과 염기의 균형을 유지\n",
    "- FiO2: Fraction of inspired oxygen (%) 흡입산소농도 - 들숨시 들어온 기체의 산소 비율 21%가 정상\n",
    "- pH: N/A / 혈액 산성도 (혈액은 기본으로 7.4 알칼리성)\n",
    "- PaCO2: Partial pressure of carbon dioxide from arterial blood (mm Hg) / 동맥혈탄산가스분압 - 폐기능 지표 40+-5mmhg가 정상\n",
    "- SaO2: Oygen saturation from arterial blood (%) / 동맥혈 산소포화도 97%이상 정상\n",
    "- AST: Aspartate transaminase (IU/L) / 아스파르테이트아미노전달효소 - 주로 간손상 더불어 근육에 손상에 있을 때 증가.\n",
    "- BUN: Blood urea nitrogen (mg/dL) / 혈액요소 질소\n",
    "- Alkalinephos: Alkaline phosphatase (IU/L) / 알칼리성 인산가수분해효소 - 간이 안좋을 때 증가.\n",
    "- Calcium: (mg/dL) / 칼슘\n",
    "- Chloride: (mmol/L) / 염화물\n",
    "- Creatinine: (mg/dL) / 크레아틴\n",
    "- Bilirubin_direct: Bilirubin direct (mg/dL) 직접빌리루빈 - 헤모글로빈이 만드는 답즘의 구성성분\n",
    "- Glucose: Serum glucose (mg/dL) / 포도당\n",
    "- Lactate: Lactic acid (mg/dL) / 락트산(젖산) - 운동 많이하면..\n",
    "- Magnesium: (mmol/dL) / 마그네슘\n",
    "- Phosphate: (mg/dL) / 인산염 - 골격, ph유지, 비타민 및 효소의 활성 등에 사용 현재는 과잉에 문제가 있음(즉석식품)\n",
    "- Potassium: (mmol/L) / 칼륨\n",
    "- Bilirubin_total: Total bilirubin (mg/dL) / 총 빌리루빈\n",
    "- TroponinI: Troponin I (ng/mL) / 트로포닌I - 골격근과 심장 근육의 근육수축에 필수적. 트로포닌I는 심장에 손상이 있을 때 증가\n",
    "- Hct: Hematocrit (%) / 헤마코트릿(전체 피 중 적혈구가 차지하는 비율)\n",
    "- Hgb: Hemoglobin (g/dL) / 헤모글로빈\n",
    "- PTT: partial thromboplastin time (seconds) / 혈액이 응고되는 데 걸리는 시간을 측정하는 검사\n",
    "- WBC: Leukocyte count (count*10^3/µL) / 백혈구 수 검사\n",
    "- Fibrinogen: (mg/dL) / 피브리노겐 - 혈액응고에 관게하는 혈장 단백질 - 많으면 어딘가에서 출혈중.\n",
    "- Platelets: (count*10^3/µL) / 혈소판 - 지혈과 혈액응고를 관장하는 혈구 중 하나\n",
    "\n",
    "<b>Demographics: (columns 35-40)</b>\n",
    "- Age: Years (100 for patients 90 or above)\n",
    "- Gender: Female (0) or Male (1)\n",
    "- Unit1: Administrative identifier for ICU unit (MICU)\n",
    "- Unit2: Administrative identifier for ICU unit (SICU)\n",
    "- HospAdmTime: Hours between hospital admit and ICU admit / 병원 입원 후 ICU에 간 시간.\n",
    "- ICULOS: ICU length-of-stay (hours since ICU admit) / ICU 입원 시간\n",
    "\n",
    "<b>Outcome (column 41)</b>\n",
    "- SepsisLabel"
   ]
  },
  {
   "cell_type": "markdown",
   "id": "953ad66b",
   "metadata": {},
   "source": [
    "## Sepsis와 논리적으로 비연관 데이터 제거 (ex. 입원 병동, 입원 기간 등)\n",
    "1. Unit1: Administrative identifier for ICU unit (MICU)\n",
    "2. Unit2: Administrative identifier for ICU unit (SICU)\n",
    "3. HospAdmTime: Hours between hospital admit and ICU admit / 병원 입원 후 ICU에 간 시간.\n",
    "4. ICULOS: ICU length-of-stay (hours since ICU admit) / ICU 입원 시간"
   ]
  },
  {
   "cell_type": "code",
   "execution_count": null,
   "id": "a1815fc8",
   "metadata": {},
   "outputs": [],
   "source": [
    "pre_df = df.drop(['Unit1', 'Unit2', 'HospAdmTime', 'ICULOS'], axis=1)\n",
    "pre_df.shape"
   ]
  },
  {
   "cell_type": "markdown",
   "id": "0d0c0d2c",
   "metadata": {},
   "source": [
    "- 로우 데이터 파일로 저장"
   ]
  },
  {
   "cell_type": "code",
   "execution_count": null,
   "id": "2a3a928a",
   "metadata": {},
   "outputs": [],
   "source": [
    "pre_df.to_csv(\"01_pre_df.csv\", mode='w')"
   ]
  },
  {
   "cell_type": "markdown",
   "id": "eef9ac81",
   "metadata": {},
   "source": [
    "# ================= 데이터 분석 및 전처리 ====================="
   ]
  },
  {
   "cell_type": "markdown",
   "id": "9b9b961a",
   "metadata": {},
   "source": [
    "- csv 불러오기"
   ]
  },
  {
   "cell_type": "code",
   "execution_count": null,
   "id": "b8cc8c8a",
   "metadata": {},
   "outputs": [],
   "source": [
    "df = pd.read_csv('00_df.csv', index_col=0)\n",
    "pre_df = pd.read_csv(\"01_pre_df.csv\", index_col=0)"
   ]
  },
  {
   "cell_type": "code",
   "execution_count": null,
   "id": "e6365cf8",
   "metadata": {},
   "outputs": [],
   "source": [
    "pre_df"
   ]
  },
  {
   "cell_type": "markdown",
   "id": "0cac7a2e",
   "metadata": {},
   "source": [
    "# - 결측 데이터 비율 확인"
   ]
  },
  {
   "cell_type": "code",
   "execution_count": null,
   "id": "17a03ad3",
   "metadata": {},
   "outputs": [],
   "source": [
    "columns = pre_df.columns\n",
    "columns"
   ]
  },
  {
   "cell_type": "code",
   "execution_count": null,
   "id": "758dd6e3",
   "metadata": {},
   "outputs": [],
   "source": [
    "null_rates = []\n",
    "\n",
    "for column in columns:\n",
    "    a = pre_df[column].isnull().sum()\n",
    "    null_rates.append(round(a/pre_df.shape[0]*100, 2))\n",
    "#     print(column,\"/\", a, \"/\", round(a/pre_df.shape[0]*100, 2))"
   ]
  },
  {
   "cell_type": "code",
   "execution_count": null,
   "id": "b39ee3ee",
   "metadata": {},
   "outputs": [],
   "source": [
    "plt.figure(figsize=(10, 5))\n",
    "plt.hist(null_rates, bins=100)\n",
    "plt.xticks(range(0, 100, 5))\n",
    "plt.show()"
   ]
  },
  {
   "cell_type": "markdown",
   "id": "8faf0e39",
   "metadata": {},
   "source": [
    "## > 그래프가 튀어 오르는 <u>85% 이상의 결측치는 우선 제거</u>"
   ]
  },
  {
   "cell_type": "markdown",
   "id": "a878d6e3",
   "metadata": {},
   "source": [
    "# - 결측 비율 별 index 추출 및 전처리"
   ]
  },
  {
   "cell_type": "code",
   "execution_count": null,
   "id": "8cb30756",
   "metadata": {},
   "outputs": [],
   "source": [
    "count = 0\n",
    "upper99 = []\n",
    "upper90 = []\n",
    "upper85 = []\n",
    "\n",
    "for i in range(len(null_rates)):\n",
    "    if null_rates[i] >= 99:\n",
    "        count += 1\n",
    "        upper99.append(i)\n",
    "    if null_rates[i] >= 90:\n",
    "        count += 1\n",
    "        upper90.append(i)\n",
    "    if null_rates[i] >= 85:\n",
    "        count += 1\n",
    "        upper85.append(i)\n",
    "    \n",
    "        \n",
    "print(f\"pre_df Columns Total: {pre_df.shape[1]} / null 85% 이상의 column: {count} / 비율: {round(count/df.shape[1]*100, 2)}\")\n",
    "print('결측치 99% 이상:', len(upper99), '>' ,upper99)\n",
    "print('결측치 90% 이상:', len(upper90), '>' ,upper90)\n",
    "print('결측치 85% 이상:', len(upper85), '>' ,upper85)"
   ]
  },
  {
   "cell_type": "code",
   "execution_count": null,
   "id": "ee266563",
   "metadata": {},
   "outputs": [],
   "source": [
    "## 결측치 85퍼 이상 제거한 DF\n",
    "pre_df = pre_df.drop(pre_df.columns[upper85], axis=1)\n",
    "pre_df.shape"
   ]
  },
  {
   "cell_type": "markdown",
   "id": "83a0fb16",
   "metadata": {},
   "source": [
    "# 상관 관계 분석"
   ]
  },
  {
   "cell_type": "code",
   "execution_count": null,
   "id": "cfa6084e",
   "metadata": {},
   "outputs": [],
   "source": [
    "plt.figure(figsize=(10,9))\n",
    "sns.heatmap(data=pre_df.corr(), annot=True, linewidths=.5, cmap='Blues')\n",
    "plt.title('corr analyze',pad=10, fontsize=25)\n",
    "plt.show()"
   ]
  },
  {
   "cell_type": "markdown",
   "id": "672816b7",
   "metadata": {},
   "source": [
    "0.5 이상의 상관관계를 가진 인자들을 분석\n",
    "- SBP: Systolic BP (mm Hg) / 수축기 혈압\n",
    "- MAP: Mean arterial pressure (mm Hg) / 평균 동맥압\n",
    "- DBP: Diastolic BP (mm Hg) / 이완기 혈압\n",
    "---\n",
    "해석\n",
    "- SBP - MAP : 평균동맥압이 높으면 수축기 혈압도 자연스레 증가 (논리적인 양의 상관관계)\n",
    "- MAP - DBP : 평균동맥압이 높으면 이완기 혈압도 자연스레 증가 (논리적인 양의 상관관계)\n",
    "- DBP - SBP : 이완기 혈압이 높으면 수축기 혈압도 비슷하게 증가 (논리적인 양의 상관관계)\n",
    "- 단, 이완기 혈압과 수축기 혈압의 차이가 커지면 대사증후군 발병의 위험도가 증가 - sepsis와의 연관성은 알 수 없음.\n",
    "\n",
    "\n",
    "### 논리적으로 이해가 되지 않는, **숨겨진 상관 관계**는 확인하지 못함."
   ]
  },
  {
   "cell_type": "markdown",
   "id": "b1b02432",
   "metadata": {},
   "source": [
    "# Sepsis 발병 환자 데이터 수 & 비율 확인"
   ]
  },
  {
   "cell_type": "code",
   "execution_count": null,
   "id": "9fec4b9d",
   "metadata": {},
   "outputs": [],
   "source": [
    "pre_df.head()"
   ]
  },
  {
   "cell_type": "code",
   "execution_count": null,
   "id": "6de9025f",
   "metadata": {},
   "outputs": [],
   "source": [
    "i_f = 0\n",
    "i_e = 1\n",
    "\n",
    "f = 0                             # 0,  54,  77\n",
    "e = data_length_per_person[i_f]   # 54, 77, 125 \n",
    "\n",
    "sepsis = []                       # Sepsis 발병 환자 수\n",
    "nonsepsis = []                    # Sepsis 발병하지 않은 환자 수\n",
    "\n",
    "sepsis_df = []\n",
    "non_sepsis_df = []\n",
    "while i_e != len(data_length_per_person):\n",
    "    if sum(pre_df['SepsisLabel'][f:e]) > 0:\n",
    "        sepsis.append(i_f)\n",
    "        sepsis_df.append(np.array(pre_df[f:e]))\n",
    "    else:\n",
    "        nonsepsis.append(i_f)\n",
    "        non_sepsis_df.append(np.array(pre_df[f:e]))\n",
    "    f += data_length_per_person[i_f]\n",
    "    i_f += 1\n",
    "    i_e += 1    \n",
    "    e += data_length_per_person[i_f]"
   ]
  },
  {
   "cell_type": "code",
   "execution_count": null,
   "id": "1780d1c8",
   "metadata": {},
   "outputs": [],
   "source": [
    "print(f'전체 환자수 대비 Sepsis 환자수 비율:{round(len(sepsis)/len(data_length_per_person), 2)} / sepsis 발병 환자 수:{len(sepsis)} / 전체 환자 수:{len(data_length_per_person)}')"
   ]
  },
  {
   "cell_type": "markdown",
   "id": "59b71bf4",
   "metadata": {},
   "source": [
    "### 전체 데이터(20169)안에서 sepsis가 발병한 환자 데이터 수 1769 (0.09%)\n",
    "- 모델링 진행시 가중치를 구분해 부여하던가, non_Sepsis 환자 데이터 수를 조정하여 학습해야할 것으로 예상"
   ]
  },
  {
   "cell_type": "markdown",
   "id": "72af06a8",
   "metadata": {},
   "source": [
    "## sepsis_df 와 non_sepsis_df 분석 & 시각화"
   ]
  },
  {
   "cell_type": "code",
   "execution_count": null,
   "id": "5dda16e6",
   "metadata": {},
   "outputs": [],
   "source": [
    "s_count = 0\n",
    "for per_data in sepsis_df:\n",
    "    s_count += 1\n",
    "\n",
    "print(f'환자수 : {len(sepsis_df[0])} / 총 데이터 수 : {s_count}')"
   ]
  },
  {
   "cell_type": "code",
   "execution_count": null,
   "id": "21703ad0",
   "metadata": {},
   "outputs": [],
   "source": [
    "ns_count = 0\n",
    "for per_data in non_sepsis_df:\n",
    "    ns_count += 1\n",
    "\n",
    "print(f'환자수 : {len(non_sepsis_df[0])} / 총 데이터 수 : {ns_count}')"
   ]
  },
  {
   "cell_type": "code",
   "execution_count": null,
   "id": "538eca3a",
   "metadata": {},
   "outputs": [],
   "source": [
    "# DataFrame 작업\n",
    "data = {'name': ['Sepsis', 'Non_sepsis'],'patient_number': [len(sepsis_df[0]), len(non_sepsis_df[0])], 'total_number_of_data': [s_count, ns_count]}\n",
    "graph = pd.DataFrame(data)"
   ]
  },
  {
   "cell_type": "code",
   "execution_count": null,
   "id": "5f11f51b",
   "metadata": {},
   "outputs": [],
   "source": [
    "# 시각화 작업\n",
    "fig, (ax1, ax2) = plt.subplots(1, 2, figsize=(16, 5))\n",
    "sns.barplot(x='name', y=\"patient_number\", data=graph, ax=ax1);\n",
    "ax1.set_title('patient_number', fontsize=22)\n",
    "ax1.tick_params(axis='x', labelsize=15)\n",
    "ax1.text(0, graph['patient_number'][0]/2, graph['patient_number'][0], ha='center',fontsize=13)\n",
    "ax1.text(1, graph['patient_number'][1]/2, graph['patient_number'][1], ha='center',fontsize=13)\n",
    "\n",
    "# plt.subplot(212)\n",
    "sns.barplot(x='name', y=\"total_number_of_data\", data=graph, ax=ax2);\n",
    "ax2.set_title('total_number_of_data', fontsize=22)\n",
    "ax2.tick_params(axis='x', labelsize=15)\n",
    "ax2.text(0, graph['total_number_of_data'][0]/2-300, graph['total_number_of_data'][0], ha='center',fontsize=10)\n",
    "ax2.text(1, graph['total_number_of_data'][1]/2, graph['total_number_of_data'][1], ha='center',fontsize=10)\n",
    "\n",
    "plt.subplots_adjust(wspace=0.3)\n",
    "plt.show()"
   ]
  },
  {
   "cell_type": "markdown",
   "id": "dcbb2480",
   "metadata": {},
   "source": [
    "- sepsis환자 수는 non_sepsis환자수보다 약 4배가 많지만, 수집된 데이터의 양은 non_sepsis 환자 데이터가 110% 더 많다."
   ]
  },
  {
   "cell_type": "markdown",
   "id": "5dcb4515",
   "metadata": {},
   "source": [
    "# 연령별 Sepsis 발병 비율"
   ]
  },
  {
   "cell_type": "code",
   "execution_count": null,
   "id": "7735dd37",
   "metadata": {},
   "outputs": [],
   "source": [
    "# Sepsis 발병 환자 연령대 LIST\n",
    "age_list_sepsis = [sepsis_df[i][0][7] for i in range(len(sepsis_df[0]))]\n",
    "\n",
    "# Sepsis 미 발병 환자 연령대 LIST\n",
    "age_list_non_sepsis = [non_sepsis_df[i][0][7] for i in range(len(non_sepsis_df[0]))]\n",
    "\n",
    "age_list_non_sepsis[:10]"
   ]
  },
  {
   "cell_type": "code",
   "execution_count": null,
   "id": "dfa4bf76",
   "metadata": {},
   "outputs": [],
   "source": [
    "fig, (ax1, ax2) = plt.subplots(1, 2, figsize=(16, 5))\n",
    "ax1.hist(age_list_sepsis)\n",
    "xticks = [i for i in range(0, 100, 5)]\n",
    "ax1.set_xticks(xticks)\n",
    "ax1.tick_params(axis='x', which='minor')\n",
    "ax1.set_title('Sepsis AGE list', fontsize='18')\n",
    "\n",
    "ax2.hist(age_list_non_sepsis, color='orange')\n",
    "xticks = [i for i in range(0, 100, 5)]\n",
    "ax2.set_xticks(xticks)\n",
    "ax2.tick_params(axis='x', which='minor')\n",
    "ax2.set_title('non_Sepsis AGE list', fontsize='18')\n",
    "\n",
    "plt.show()"
   ]
  },
  {
   "cell_type": "code",
   "execution_count": null,
   "id": "c9da0c7c",
   "metadata": {},
   "outputs": [],
   "source": [
    "fig, ax = plt.subplots(1, 1, figsize=(20, 5))\n",
    "ax = sns.kdeplot(age_list_sepsis, shade=True)\n",
    "ax = sns.kdeplot(age_list_non_sepsis, shade=True)"
   ]
  },
  {
   "cell_type": "markdown",
   "id": "2ec1aec4",
   "metadata": {},
   "source": [
    "### Sepsis환자는 주로 [60:80]대의 연령대를 보이고 있고 / non_sepsis환자는 [40:60]대의 연령대가 많이 있다"
   ]
  },
  {
   "cell_type": "markdown",
   "id": "5431e7de",
   "metadata": {},
   "source": [
    "# - 결측치 패턴 분석"
   ]
  },
  {
   "cell_type": "markdown",
   "id": "05e6a7f7",
   "metadata": {},
   "source": [
    "예상한 결측치 패턴 모습과 실제 데이터 패턴을 파악\n",
    "\n",
    "ex) 1~100까지 시퀀스가 이어지는 데이터가 있다고 가정했을 때\n",
    "- 예상 1. 처음과 끝에는 데이터가 있고, 중간에 결측치가 있는 경우  >   [10, 20, 30, null, null, null, ..., 80, 90, 100]\n",
    "- 예상 2. 처음에는 데이터가 있고, 중간부터 끝까지 결측치가 있는 경우  >  [10, 20, 30, null, null, ..., null, null, null]\n",
    "- 예상 3. 처음에는 결측이 있으나, 중간부터 끝까지는 데이터가 있는 경우  >  [null, null, null, ..., 70, 80, 90, 100]\n",
    "- 예상 4. 처음과 끝에는 결측이 있고, 중간 데이터만 있는 경우  >  [null. null. ..., 50, 60, 70, null, null, null]"
   ]
  },
  {
   "cell_type": "code",
   "execution_count": null,
   "id": "082278a7",
   "metadata": {},
   "outputs": [],
   "source": [
    "columns = pre_df.columns\n",
    "columns"
   ]
  },
  {
   "cell_type": "code",
   "execution_count": null,
   "id": "26288dd2",
   "metadata": {},
   "outputs": [],
   "source": [
    "null_rates = []\n",
    "\n",
    "for column in columns:\n",
    "    a = pre_df[column].isnull().sum()\n",
    "    null_rates.append(round(a/pre_df.shape[0]*100, 2))\n",
    "    print(column,\"/\", a, \"/\", round(a/pre_df.shape[0]*100, 2))"
   ]
  },
  {
   "cell_type": "code",
   "execution_count": null,
   "id": "b6e298a9",
   "metadata": {},
   "outputs": [],
   "source": [
    "i_f = 0\n",
    "i_e = 1\n",
    "\n",
    "f = 0                             # 0,  54,  77\n",
    "e = data_length_per_person[i_f]   # 54, 77, 125 \n",
    "\n",
    "pre_df[pre_df['HR'].isnull()]"
   ]
  },
  {
   "cell_type": "code",
   "execution_count": null,
   "id": "c0e3880a",
   "metadata": {},
   "outputs": [],
   "source": []
  }
 ],
 "metadata": {
  "kernelspec": {
   "display_name": "ai",
   "language": "python",
   "name": "ai"
  },
  "language_info": {
   "codemirror_mode": {
    "name": "ipython",
    "version": 3
   },
   "file_extension": ".py",
   "mimetype": "text/x-python",
   "name": "python",
   "nbconvert_exporter": "python",
   "pygments_lexer": "ipython3",
   "version": "3.8.10"
  }
 },
 "nbformat": 4,
 "nbformat_minor": 5
}
