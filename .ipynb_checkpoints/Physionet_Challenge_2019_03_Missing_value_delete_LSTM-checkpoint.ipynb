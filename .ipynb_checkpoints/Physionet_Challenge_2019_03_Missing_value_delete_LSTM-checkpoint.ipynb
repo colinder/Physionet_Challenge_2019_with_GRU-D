{
 "cells": [
  {
   "cell_type": "code",
   "execution_count": 1,
   "id": "23ba0bce",
   "metadata": {},
   "outputs": [],
   "source": [
    "import pandas as pd\n",
    "import numpy as np\n",
    "import matplotlib.pyplot as plt\n",
    "import seaborn as sns\n",
    "\n",
    "import os\n",
    "import csv\n",
    "from tqdm import tqdm"
   ]
  },
  {
   "cell_type": "code",
   "execution_count": 2,
   "id": "b3ea8055",
   "metadata": {},
   "outputs": [],
   "source": [
    "# import data\n",
    "df = pd.read_csv('00_df.csv', index_col=0)\n",
    "pre_df = pd.read_csv('01_pre_df.csv', index_col=0)\n",
    "interpolated_mv_df = pd.read_csv('02_interpolated_mv_df.csv', index_col=0)"
   ]
  },
  {
   "cell_type": "code",
   "execution_count": 3,
   "id": "91116b7f",
   "metadata": {},
   "outputs": [
    {
     "data": {
      "text/plain": [
       "(783926, 41)"
      ]
     },
     "execution_count": 3,
     "metadata": {},
     "output_type": "execute_result"
    }
   ],
   "source": [
    "df.shape"
   ]
  },
  {
   "cell_type": "code",
   "execution_count": 4,
   "id": "32ceb201",
   "metadata": {},
   "outputs": [
    {
     "data": {
      "text/plain": [
       "(783926, 37)"
      ]
     },
     "execution_count": 4,
     "metadata": {},
     "output_type": "execute_result"
    }
   ],
   "source": [
    "pre_df.shape"
   ]
  },
  {
   "cell_type": "code",
   "execution_count": 5,
   "id": "e86e19c5",
   "metadata": {},
   "outputs": [
    {
     "data": {
      "text/plain": [
       "(783926, 40)"
      ]
     },
     "execution_count": 5,
     "metadata": {},
     "output_type": "execute_result"
    }
   ],
   "source": [
    "interpolated_mv_df.shape"
   ]
  },
  {
   "cell_type": "code",
   "execution_count": 6,
   "id": "4f0597cc",
   "metadata": {},
   "outputs": [],
   "source": [
    "# import list data\n",
    "\n",
    "data_length_per_person = []\n",
    "data_length_per_person_sum = []\n",
    "\n",
    "with open('data_length_per_person.csv', 'r', encoding='utf-8') as f:\n",
    "    rdr = csv.reader(f)\n",
    "    for para in rdr:\n",
    "        for i in para:\n",
    "            data_length_per_person.append(int(i))\n",
    "\n",
    "\n",
    "with open('data_length_per_person_sum.csv', 'r', encoding='utf-8') as f:\n",
    "    rdr = csv.reader(f)\n",
    "    for para in rdr:\n",
    "        for i in para:\n",
    "            data_length_per_person_sum.append(int(i))"
   ]
  },
  {
   "cell_type": "code",
   "execution_count": 7,
   "id": "3bd2319f",
   "metadata": {},
   "outputs": [
    {
     "data": {
      "text/plain": [
       "20169"
      ]
     },
     "execution_count": 7,
     "metadata": {},
     "output_type": "execute_result"
    }
   ],
   "source": [
    "len(data_length_per_person)   # 20169"
   ]
  },
  {
   "cell_type": "code",
   "execution_count": 8,
   "id": "9456d9db",
   "metadata": {},
   "outputs": [
    {
     "data": {
      "text/plain": [
       "20169"
      ]
     },
     "execution_count": 8,
     "metadata": {},
     "output_type": "execute_result"
    }
   ],
   "source": [
    "len(data_length_per_person_sum)   # 20169"
   ]
  },
  {
   "cell_type": "markdown",
   "id": "26f9b035",
   "metadata": {},
   "source": [
    "## 선형회귀를 사용한 결측치 대치 기준 이상의 결측열은 삭제 후 모델링"
   ]
  },
  {
   "cell_type": "code",
   "execution_count": 9,
   "id": "199560a5",
   "metadata": {},
   "outputs": [
    {
     "data": {
      "text/html": [
       "<div>\n",
       "<style scoped>\n",
       "    .dataframe tbody tr th:only-of-type {\n",
       "        vertical-align: middle;\n",
       "    }\n",
       "\n",
       "    .dataframe tbody tr th {\n",
       "        vertical-align: top;\n",
       "    }\n",
       "\n",
       "    .dataframe thead th {\n",
       "        text-align: right;\n",
       "    }\n",
       "</style>\n",
       "<table border=\"1\" class=\"dataframe\">\n",
       "  <thead>\n",
       "    <tr style=\"text-align: right;\">\n",
       "      <th></th>\n",
       "      <th>HR</th>\n",
       "      <th>O2Sat</th>\n",
       "      <th>Temp</th>\n",
       "      <th>SBP</th>\n",
       "      <th>MAP</th>\n",
       "      <th>DBP</th>\n",
       "      <th>Resp</th>\n",
       "      <th>BaseExcess</th>\n",
       "      <th>HCO3</th>\n",
       "      <th>FiO2</th>\n",
       "      <th>...</th>\n",
       "      <th>WBC</th>\n",
       "      <th>Fibrinogen</th>\n",
       "      <th>Platelets</th>\n",
       "      <th>Age</th>\n",
       "      <th>Gender</th>\n",
       "      <th>Unit1</th>\n",
       "      <th>Unit2</th>\n",
       "      <th>HospAdmTime</th>\n",
       "      <th>ICULOS</th>\n",
       "      <th>SepsisLabel</th>\n",
       "    </tr>\n",
       "  </thead>\n",
       "  <tbody>\n",
       "    <tr>\n",
       "      <th>0</th>\n",
       "      <td>101.6</td>\n",
       "      <td>91.5</td>\n",
       "      <td>36.80</td>\n",
       "      <td>126.8</td>\n",
       "      <td>87.30</td>\n",
       "      <td>NaN</td>\n",
       "      <td>24.8</td>\n",
       "      <td>20.7</td>\n",
       "      <td>46.5</td>\n",
       "      <td>0.30</td>\n",
       "      <td>...</td>\n",
       "      <td>10.2</td>\n",
       "      <td>NaN</td>\n",
       "      <td>327.5</td>\n",
       "      <td>83.14</td>\n",
       "      <td>0</td>\n",
       "      <td>NaN</td>\n",
       "      <td>NaN</td>\n",
       "      <td>-0.03</td>\n",
       "      <td>1</td>\n",
       "      <td>0</td>\n",
       "    </tr>\n",
       "    <tr>\n",
       "      <th>1</th>\n",
       "      <td>97.0</td>\n",
       "      <td>95.0</td>\n",
       "      <td>36.80</td>\n",
       "      <td>98.0</td>\n",
       "      <td>75.33</td>\n",
       "      <td>NaN</td>\n",
       "      <td>19.0</td>\n",
       "      <td>20.7</td>\n",
       "      <td>46.5</td>\n",
       "      <td>0.30</td>\n",
       "      <td>...</td>\n",
       "      <td>10.2</td>\n",
       "      <td>NaN</td>\n",
       "      <td>327.5</td>\n",
       "      <td>83.14</td>\n",
       "      <td>0</td>\n",
       "      <td>NaN</td>\n",
       "      <td>NaN</td>\n",
       "      <td>-0.03</td>\n",
       "      <td>2</td>\n",
       "      <td>0</td>\n",
       "    </tr>\n",
       "    <tr>\n",
       "      <th>2</th>\n",
       "      <td>89.0</td>\n",
       "      <td>99.0</td>\n",
       "      <td>36.80</td>\n",
       "      <td>122.0</td>\n",
       "      <td>86.00</td>\n",
       "      <td>NaN</td>\n",
       "      <td>22.0</td>\n",
       "      <td>20.7</td>\n",
       "      <td>46.5</td>\n",
       "      <td>0.30</td>\n",
       "      <td>...</td>\n",
       "      <td>10.2</td>\n",
       "      <td>NaN</td>\n",
       "      <td>327.5</td>\n",
       "      <td>83.14</td>\n",
       "      <td>0</td>\n",
       "      <td>NaN</td>\n",
       "      <td>NaN</td>\n",
       "      <td>-0.03</td>\n",
       "      <td>3</td>\n",
       "      <td>0</td>\n",
       "    </tr>\n",
       "    <tr>\n",
       "      <th>3</th>\n",
       "      <td>90.0</td>\n",
       "      <td>95.0</td>\n",
       "      <td>36.80</td>\n",
       "      <td>126.8</td>\n",
       "      <td>87.30</td>\n",
       "      <td>NaN</td>\n",
       "      <td>30.0</td>\n",
       "      <td>24.0</td>\n",
       "      <td>46.5</td>\n",
       "      <td>0.30</td>\n",
       "      <td>...</td>\n",
       "      <td>10.2</td>\n",
       "      <td>NaN</td>\n",
       "      <td>327.5</td>\n",
       "      <td>83.14</td>\n",
       "      <td>0</td>\n",
       "      <td>NaN</td>\n",
       "      <td>NaN</td>\n",
       "      <td>-0.03</td>\n",
       "      <td>4</td>\n",
       "      <td>0</td>\n",
       "    </tr>\n",
       "    <tr>\n",
       "      <th>4</th>\n",
       "      <td>103.0</td>\n",
       "      <td>88.5</td>\n",
       "      <td>36.80</td>\n",
       "      <td>122.0</td>\n",
       "      <td>91.33</td>\n",
       "      <td>NaN</td>\n",
       "      <td>24.5</td>\n",
       "      <td>20.7</td>\n",
       "      <td>46.5</td>\n",
       "      <td>0.28</td>\n",
       "      <td>...</td>\n",
       "      <td>10.2</td>\n",
       "      <td>NaN</td>\n",
       "      <td>327.5</td>\n",
       "      <td>83.14</td>\n",
       "      <td>0</td>\n",
       "      <td>NaN</td>\n",
       "      <td>NaN</td>\n",
       "      <td>-0.03</td>\n",
       "      <td>5</td>\n",
       "      <td>0</td>\n",
       "    </tr>\n",
       "    <tr>\n",
       "      <th>...</th>\n",
       "      <td>...</td>\n",
       "      <td>...</td>\n",
       "      <td>...</td>\n",
       "      <td>...</td>\n",
       "      <td>...</td>\n",
       "      <td>...</td>\n",
       "      <td>...</td>\n",
       "      <td>...</td>\n",
       "      <td>...</td>\n",
       "      <td>...</td>\n",
       "      <td>...</td>\n",
       "      <td>...</td>\n",
       "      <td>...</td>\n",
       "      <td>...</td>\n",
       "      <td>...</td>\n",
       "      <td>...</td>\n",
       "      <td>...</td>\n",
       "      <td>...</td>\n",
       "      <td>...</td>\n",
       "      <td>...</td>\n",
       "      <td>...</td>\n",
       "    </tr>\n",
       "    <tr>\n",
       "      <th>783921</th>\n",
       "      <td>88.0</td>\n",
       "      <td>98.0</td>\n",
       "      <td>38.10</td>\n",
       "      <td>135.0</td>\n",
       "      <td>81.00</td>\n",
       "      <td>64.0</td>\n",
       "      <td>16.0</td>\n",
       "      <td>0.0</td>\n",
       "      <td>25.7</td>\n",
       "      <td>0.50</td>\n",
       "      <td>...</td>\n",
       "      <td>14.0</td>\n",
       "      <td>NaN</td>\n",
       "      <td>325.5</td>\n",
       "      <td>62.29</td>\n",
       "      <td>1</td>\n",
       "      <td>NaN</td>\n",
       "      <td>NaN</td>\n",
       "      <td>-0.03</td>\n",
       "      <td>31</td>\n",
       "      <td>1</td>\n",
       "    </tr>\n",
       "    <tr>\n",
       "      <th>783922</th>\n",
       "      <td>96.0</td>\n",
       "      <td>98.0</td>\n",
       "      <td>38.72</td>\n",
       "      <td>174.0</td>\n",
       "      <td>97.00</td>\n",
       "      <td>72.0</td>\n",
       "      <td>16.0</td>\n",
       "      <td>2.0</td>\n",
       "      <td>25.7</td>\n",
       "      <td>0.50</td>\n",
       "      <td>...</td>\n",
       "      <td>14.0</td>\n",
       "      <td>NaN</td>\n",
       "      <td>325.5</td>\n",
       "      <td>62.29</td>\n",
       "      <td>1</td>\n",
       "      <td>NaN</td>\n",
       "      <td>NaN</td>\n",
       "      <td>-0.03</td>\n",
       "      <td>32</td>\n",
       "      <td>1</td>\n",
       "    </tr>\n",
       "    <tr>\n",
       "      <th>783923</th>\n",
       "      <td>140.0</td>\n",
       "      <td>97.0</td>\n",
       "      <td>38.10</td>\n",
       "      <td>133.0</td>\n",
       "      <td>81.50</td>\n",
       "      <td>62.5</td>\n",
       "      <td>16.0</td>\n",
       "      <td>0.0</td>\n",
       "      <td>25.7</td>\n",
       "      <td>0.50</td>\n",
       "      <td>...</td>\n",
       "      <td>14.0</td>\n",
       "      <td>NaN</td>\n",
       "      <td>325.5</td>\n",
       "      <td>62.29</td>\n",
       "      <td>1</td>\n",
       "      <td>NaN</td>\n",
       "      <td>NaN</td>\n",
       "      <td>-0.03</td>\n",
       "      <td>33</td>\n",
       "      <td>1</td>\n",
       "    </tr>\n",
       "    <tr>\n",
       "      <th>783924</th>\n",
       "      <td>120.0</td>\n",
       "      <td>96.0</td>\n",
       "      <td>38.10</td>\n",
       "      <td>154.0</td>\n",
       "      <td>118.00</td>\n",
       "      <td>105.0</td>\n",
       "      <td>16.0</td>\n",
       "      <td>0.0</td>\n",
       "      <td>25.7</td>\n",
       "      <td>0.50</td>\n",
       "      <td>...</td>\n",
       "      <td>14.0</td>\n",
       "      <td>NaN</td>\n",
       "      <td>325.5</td>\n",
       "      <td>62.29</td>\n",
       "      <td>1</td>\n",
       "      <td>NaN</td>\n",
       "      <td>NaN</td>\n",
       "      <td>-0.03</td>\n",
       "      <td>34</td>\n",
       "      <td>1</td>\n",
       "    </tr>\n",
       "    <tr>\n",
       "      <th>783925</th>\n",
       "      <td>115.0</td>\n",
       "      <td>95.0</td>\n",
       "      <td>38.10</td>\n",
       "      <td>150.0</td>\n",
       "      <td>117.00</td>\n",
       "      <td>104.0</td>\n",
       "      <td>16.0</td>\n",
       "      <td>0.0</td>\n",
       "      <td>25.7</td>\n",
       "      <td>0.50</td>\n",
       "      <td>...</td>\n",
       "      <td>14.0</td>\n",
       "      <td>NaN</td>\n",
       "      <td>325.5</td>\n",
       "      <td>62.29</td>\n",
       "      <td>1</td>\n",
       "      <td>NaN</td>\n",
       "      <td>NaN</td>\n",
       "      <td>-0.03</td>\n",
       "      <td>35</td>\n",
       "      <td>1</td>\n",
       "    </tr>\n",
       "  </tbody>\n",
       "</table>\n",
       "<p>783926 rows × 40 columns</p>\n",
       "</div>"
      ],
      "text/plain": [
       "           HR  O2Sat   Temp    SBP     MAP    DBP  Resp  BaseExcess  HCO3  \\\n",
       "0       101.6   91.5  36.80  126.8   87.30    NaN  24.8        20.7  46.5   \n",
       "1        97.0   95.0  36.80   98.0   75.33    NaN  19.0        20.7  46.5   \n",
       "2        89.0   99.0  36.80  122.0   86.00    NaN  22.0        20.7  46.5   \n",
       "3        90.0   95.0  36.80  126.8   87.30    NaN  30.0        24.0  46.5   \n",
       "4       103.0   88.5  36.80  122.0   91.33    NaN  24.5        20.7  46.5   \n",
       "...       ...    ...    ...    ...     ...    ...   ...         ...   ...   \n",
       "783921   88.0   98.0  38.10  135.0   81.00   64.0  16.0         0.0  25.7   \n",
       "783922   96.0   98.0  38.72  174.0   97.00   72.0  16.0         2.0  25.7   \n",
       "783923  140.0   97.0  38.10  133.0   81.50   62.5  16.0         0.0  25.7   \n",
       "783924  120.0   96.0  38.10  154.0  118.00  105.0  16.0         0.0  25.7   \n",
       "783925  115.0   95.0  38.10  150.0  117.00  104.0  16.0         0.0  25.7   \n",
       "\n",
       "        FiO2  ...   WBC  Fibrinogen  Platelets    Age  Gender  Unit1  Unit2  \\\n",
       "0       0.30  ...  10.2         NaN      327.5  83.14       0    NaN    NaN   \n",
       "1       0.30  ...  10.2         NaN      327.5  83.14       0    NaN    NaN   \n",
       "2       0.30  ...  10.2         NaN      327.5  83.14       0    NaN    NaN   \n",
       "3       0.30  ...  10.2         NaN      327.5  83.14       0    NaN    NaN   \n",
       "4       0.28  ...  10.2         NaN      327.5  83.14       0    NaN    NaN   \n",
       "...      ...  ...   ...         ...        ...    ...     ...    ...    ...   \n",
       "783921  0.50  ...  14.0         NaN      325.5  62.29       1    NaN    NaN   \n",
       "783922  0.50  ...  14.0         NaN      325.5  62.29       1    NaN    NaN   \n",
       "783923  0.50  ...  14.0         NaN      325.5  62.29       1    NaN    NaN   \n",
       "783924  0.50  ...  14.0         NaN      325.5  62.29       1    NaN    NaN   \n",
       "783925  0.50  ...  14.0         NaN      325.5  62.29       1    NaN    NaN   \n",
       "\n",
       "        HospAdmTime  ICULOS  SepsisLabel  \n",
       "0             -0.03       1            0  \n",
       "1             -0.03       2            0  \n",
       "2             -0.03       3            0  \n",
       "3             -0.03       4            0  \n",
       "4             -0.03       5            0  \n",
       "...             ...     ...          ...  \n",
       "783921        -0.03      31            1  \n",
       "783922        -0.03      32            1  \n",
       "783923        -0.03      33            1  \n",
       "783924        -0.03      34            1  \n",
       "783925        -0.03      35            1  \n",
       "\n",
       "[783926 rows x 40 columns]"
      ]
     },
     "execution_count": 9,
     "metadata": {},
     "output_type": "execute_result"
    }
   ],
   "source": [
    "interpolated_mv_df"
   ]
  },
  {
   "cell_type": "code",
   "execution_count": 10,
   "id": "4829cece",
   "metadata": {},
   "outputs": [],
   "source": [
    "interpolated_mv_df.drop(['Unit1', 'Unit2', 'HospAdmTime', 'ICULOS'], axis=1, inplace=True)"
   ]
  },
  {
   "cell_type": "code",
   "execution_count": 11,
   "id": "f3805b49",
   "metadata": {},
   "outputs": [
    {
     "data": {
      "image/png": "[encoded data removed]",
      "text/plain": [
       "<Figure size 432x288 with 1 Axes>"
      ]
     },
     "metadata": {
      "needs_background": "light"
     },
     "output_type": "display_data"
    }
   ],
   "source": [
    "plt.hist(interpolated_mv_df.isnull().sum() / interpolated_mv_df.shape[0]*100)\n",
    "plt.show()"
   ]
  },
  {
   "cell_type": "code",
   "execution_count": 12,
   "id": "fdc75f38",
   "metadata": {},
   "outputs": [],
   "source": [
    "base = 50"
   ]
  },
  {
   "cell_type": "code",
   "execution_count": 13,
   "id": "18fccfc4",
   "metadata": {},
   "outputs": [
    {
     "data": {
      "text/plain": [
       "HR                  False\n",
       "O2Sat               False\n",
       "Temp                False\n",
       "SBP                 False\n",
       "MAP                 False\n",
       "DBP                 False\n",
       "Resp                False\n",
       "BaseExcess          False\n",
       "HCO3                False\n",
       "FiO2                False\n",
       "pH                  False\n",
       "PaCO2               False\n",
       "SaO2                 True\n",
       "AST                  True\n",
       "BUN                 False\n",
       "Alkalinephos         True\n",
       "Calcium             False\n",
       "Chloride            False\n",
       "Creatinine          False\n",
       "Bilirubin_direct     True\n",
       "Glucose             False\n",
       "Lactate              True\n",
       "Magnesium           False\n",
       "Phosphate           False\n",
       "Potassium           False\n",
       "Bilirubin_total      True\n",
       "TroponinI            True\n",
       "Hct                 False\n",
       "Hgb                 False\n",
       "PTT                 False\n",
       "WBC                 False\n",
       "Fibrinogen           True\n",
       "Platelets           False\n",
       "Age                 False\n",
       "Gender              False\n",
       "SepsisLabel         False\n",
       "dtype: bool"
      ]
     },
     "execution_count": 13,
     "metadata": {},
     "output_type": "execute_result"
    }
   ],
   "source": [
    "mv_cols = interpolated_mv_df.isnull().sum() / interpolated_mv_df.shape[0]*100 >= base"
   ]
  },
  {
   "cell_type": "code",
   "execution_count": 14,
   "id": "504b7307",
   "metadata": {},
   "outputs": [],
   "source": [
    "drop_columns_list = interpolated_mv_df.columns[mv_cols]"
   ]
  },
  {
   "cell_type": "code",
   "execution_count": 15,
   "id": "8be9bc35",
   "metadata": {},
   "outputs": [],
   "source": [
    "interpolated_mv_df.drop(drop_columns_list, axis=1, inplace=True)"
   ]
  },
  {
   "cell_type": "code",
   "execution_count": 16,
   "id": "013f3f68",
   "metadata": {},
   "outputs": [
    {
     "data": {
      "text/plain": [
       "(783926, 28)"
      ]
     },
     "execution_count": 16,
     "metadata": {},
     "output_type": "execute_result"
    }
   ],
   "source": [
    "interpolated_mv_df.shape"
   ]
  },
  {
   "cell_type": "markdown",
   "id": "c6cfbc43",
   "metadata": {},
   "source": [
    "# base 보다 많은 결측치 포함 columns 제거 후 데이터 전처리 진행"
   ]
  },
  {
   "cell_type": "code",
   "execution_count": 17,
   "id": "26735e87",
   "metadata": {},
   "outputs": [],
   "source": [
    "cols = interpolated_mv_df.columns"
   ]
  },
  {
   "cell_type": "code",
   "execution_count": 18,
   "id": "165ed80d",
   "metadata": {},
   "outputs": [],
   "source": [
    "data_length_per_person_sum.insert(0,0)"
   ]
  },
  {
   "cell_type": "code",
   "execution_count": 19,
   "id": "55871a1c",
   "metadata": {},
   "outputs": [],
   "source": [
    "L = len(data_length_per_person_sum)"
   ]
  },
  {
   "cell_type": "code",
   "execution_count": 21,
   "id": "13c6cdf5",
   "metadata": {},
   "outputs": [
    {
     "name": "stderr",
     "output_type": "stream",
     "text": [
      "100%|██████████| 20169/20169 [05:52<00:00, 57.21it/s]\n"
     ]
    }
   ],
   "source": [
    "s_i = 0\n",
    "e_i = 1\n",
    "\n",
    "df_patient_per_20 = pd.DataFrame(columns = cols)\n",
    "\n",
    "for i in tqdm(range(len(data_length_per_person_sum)-1)):\n",
    "    s = data_length_per_person_sum[s_i]\n",
    "    e = data_length_per_person_sum[e_i]\n",
    "    if e - s >= 20:\n",
    "        temp = interpolated_mv_df[e-20:e]\n",
    "        df_patient_per_20 = pd.concat([df_patient_per_20, temp])\n",
    "    \n",
    "    s_i += 1\n",
    "    e_i += 1"
   ]
  },
  {
   "cell_type": "code",
   "execution_count": 22,
   "id": "ad606e70",
   "metadata": {},
   "outputs": [
    {
     "data": {
      "text/html": [
       "<div>\n",
       "<style scoped>\n",
       "    .dataframe tbody tr th:only-of-type {\n",
       "        vertical-align: middle;\n",
       "    }\n",
       "\n",
       "    .dataframe tbody tr th {\n",
       "        vertical-align: top;\n",
       "    }\n",
       "\n",
       "    .dataframe thead th {\n",
       "        text-align: right;\n",
       "    }\n",
       "</style>\n",
       "<table border=\"1\" class=\"dataframe\">\n",
       "  <thead>\n",
       "    <tr style=\"text-align: right;\">\n",
       "      <th></th>\n",
       "      <th>HR</th>\n",
       "      <th>O2Sat</th>\n",
       "      <th>Temp</th>\n",
       "      <th>SBP</th>\n",
       "      <th>MAP</th>\n",
       "      <th>DBP</th>\n",
       "      <th>Resp</th>\n",
       "      <th>BaseExcess</th>\n",
       "      <th>HCO3</th>\n",
       "      <th>FiO2</th>\n",
       "      <th>...</th>\n",
       "      <th>Phosphate</th>\n",
       "      <th>Potassium</th>\n",
       "      <th>Hct</th>\n",
       "      <th>Hgb</th>\n",
       "      <th>PTT</th>\n",
       "      <th>WBC</th>\n",
       "      <th>Platelets</th>\n",
       "      <th>Age</th>\n",
       "      <th>Gender</th>\n",
       "      <th>SepsisLabel</th>\n",
       "    </tr>\n",
       "  </thead>\n",
       "  <tbody>\n",
       "    <tr>\n",
       "      <th>34</th>\n",
       "      <td>102.0</td>\n",
       "      <td>91.5</td>\n",
       "      <td>36.80</td>\n",
       "      <td>103.0</td>\n",
       "      <td>75.67</td>\n",
       "      <td>NaN</td>\n",
       "      <td>24.0</td>\n",
       "      <td>20.7</td>\n",
       "      <td>46.5</td>\n",
       "      <td>0.3</td>\n",
       "      <td>...</td>\n",
       "      <td>3.5</td>\n",
       "      <td>4.2</td>\n",
       "      <td>36.7</td>\n",
       "      <td>12.3</td>\n",
       "      <td>NaN</td>\n",
       "      <td>10.2</td>\n",
       "      <td>327.5</td>\n",
       "      <td>83.14</td>\n",
       "      <td>0</td>\n",
       "      <td>0</td>\n",
       "    </tr>\n",
       "    <tr>\n",
       "      <th>35</th>\n",
       "      <td>99.0</td>\n",
       "      <td>89.0</td>\n",
       "      <td>37.11</td>\n",
       "      <td>113.0</td>\n",
       "      <td>96.33</td>\n",
       "      <td>NaN</td>\n",
       "      <td>26.0</td>\n",
       "      <td>20.7</td>\n",
       "      <td>46.5</td>\n",
       "      <td>0.3</td>\n",
       "      <td>...</td>\n",
       "      <td>3.5</td>\n",
       "      <td>4.2</td>\n",
       "      <td>36.7</td>\n",
       "      <td>12.3</td>\n",
       "      <td>NaN</td>\n",
       "      <td>10.2</td>\n",
       "      <td>327.5</td>\n",
       "      <td>83.14</td>\n",
       "      <td>0</td>\n",
       "      <td>0</td>\n",
       "    </tr>\n",
       "    <tr>\n",
       "      <th>36</th>\n",
       "      <td>97.0</td>\n",
       "      <td>89.0</td>\n",
       "      <td>36.80</td>\n",
       "      <td>110.0</td>\n",
       "      <td>72.00</td>\n",
       "      <td>NaN</td>\n",
       "      <td>29.0</td>\n",
       "      <td>20.7</td>\n",
       "      <td>46.5</td>\n",
       "      <td>0.3</td>\n",
       "      <td>...</td>\n",
       "      <td>3.5</td>\n",
       "      <td>4.2</td>\n",
       "      <td>36.7</td>\n",
       "      <td>12.3</td>\n",
       "      <td>NaN</td>\n",
       "      <td>10.2</td>\n",
       "      <td>327.5</td>\n",
       "      <td>83.14</td>\n",
       "      <td>0</td>\n",
       "      <td>0</td>\n",
       "    </tr>\n",
       "    <tr>\n",
       "      <th>37</th>\n",
       "      <td>110.0</td>\n",
       "      <td>89.0</td>\n",
       "      <td>36.80</td>\n",
       "      <td>108.0</td>\n",
       "      <td>90.67</td>\n",
       "      <td>NaN</td>\n",
       "      <td>24.0</td>\n",
       "      <td>20.7</td>\n",
       "      <td>46.5</td>\n",
       "      <td>0.3</td>\n",
       "      <td>...</td>\n",
       "      <td>3.5</td>\n",
       "      <td>4.2</td>\n",
       "      <td>36.7</td>\n",
       "      <td>12.3</td>\n",
       "      <td>NaN</td>\n",
       "      <td>10.2</td>\n",
       "      <td>327.5</td>\n",
       "      <td>83.14</td>\n",
       "      <td>0</td>\n",
       "      <td>0</td>\n",
       "    </tr>\n",
       "    <tr>\n",
       "      <th>38</th>\n",
       "      <td>108.0</td>\n",
       "      <td>89.0</td>\n",
       "      <td>36.80</td>\n",
       "      <td>139.0</td>\n",
       "      <td>102.33</td>\n",
       "      <td>NaN</td>\n",
       "      <td>26.0</td>\n",
       "      <td>20.0</td>\n",
       "      <td>46.5</td>\n",
       "      <td>0.3</td>\n",
       "      <td>...</td>\n",
       "      <td>3.5</td>\n",
       "      <td>4.2</td>\n",
       "      <td>36.7</td>\n",
       "      <td>12.3</td>\n",
       "      <td>NaN</td>\n",
       "      <td>10.2</td>\n",
       "      <td>327.5</td>\n",
       "      <td>83.14</td>\n",
       "      <td>0</td>\n",
       "      <td>0</td>\n",
       "    </tr>\n",
       "    <tr>\n",
       "      <th>...</th>\n",
       "      <td>...</td>\n",
       "      <td>...</td>\n",
       "      <td>...</td>\n",
       "      <td>...</td>\n",
       "      <td>...</td>\n",
       "      <td>...</td>\n",
       "      <td>...</td>\n",
       "      <td>...</td>\n",
       "      <td>...</td>\n",
       "      <td>...</td>\n",
       "      <td>...</td>\n",
       "      <td>...</td>\n",
       "      <td>...</td>\n",
       "      <td>...</td>\n",
       "      <td>...</td>\n",
       "      <td>...</td>\n",
       "      <td>...</td>\n",
       "      <td>...</td>\n",
       "      <td>...</td>\n",
       "      <td>...</td>\n",
       "      <td>...</td>\n",
       "    </tr>\n",
       "    <tr>\n",
       "      <th>783921</th>\n",
       "      <td>88.0</td>\n",
       "      <td>98.0</td>\n",
       "      <td>38.10</td>\n",
       "      <td>135.0</td>\n",
       "      <td>81.00</td>\n",
       "      <td>64.0</td>\n",
       "      <td>16.0</td>\n",
       "      <td>0.0</td>\n",
       "      <td>25.7</td>\n",
       "      <td>0.5</td>\n",
       "      <td>...</td>\n",
       "      <td>4.0</td>\n",
       "      <td>3.8</td>\n",
       "      <td>31.2</td>\n",
       "      <td>11.6</td>\n",
       "      <td>29.8</td>\n",
       "      <td>14.0</td>\n",
       "      <td>325.5</td>\n",
       "      <td>62.29</td>\n",
       "      <td>1</td>\n",
       "      <td>1</td>\n",
       "    </tr>\n",
       "    <tr>\n",
       "      <th>783922</th>\n",
       "      <td>96.0</td>\n",
       "      <td>98.0</td>\n",
       "      <td>38.72</td>\n",
       "      <td>174.0</td>\n",
       "      <td>97.00</td>\n",
       "      <td>72.0</td>\n",
       "      <td>16.0</td>\n",
       "      <td>2.0</td>\n",
       "      <td>25.7</td>\n",
       "      <td>0.5</td>\n",
       "      <td>...</td>\n",
       "      <td>3.5</td>\n",
       "      <td>3.9</td>\n",
       "      <td>27.8</td>\n",
       "      <td>11.6</td>\n",
       "      <td>29.8</td>\n",
       "      <td>14.0</td>\n",
       "      <td>325.5</td>\n",
       "      <td>62.29</td>\n",
       "      <td>1</td>\n",
       "      <td>1</td>\n",
       "    </tr>\n",
       "    <tr>\n",
       "      <th>783923</th>\n",
       "      <td>140.0</td>\n",
       "      <td>97.0</td>\n",
       "      <td>38.10</td>\n",
       "      <td>133.0</td>\n",
       "      <td>81.50</td>\n",
       "      <td>62.5</td>\n",
       "      <td>16.0</td>\n",
       "      <td>0.0</td>\n",
       "      <td>25.7</td>\n",
       "      <td>0.5</td>\n",
       "      <td>...</td>\n",
       "      <td>4.0</td>\n",
       "      <td>3.8</td>\n",
       "      <td>31.2</td>\n",
       "      <td>11.6</td>\n",
       "      <td>29.8</td>\n",
       "      <td>14.0</td>\n",
       "      <td>325.5</td>\n",
       "      <td>62.29</td>\n",
       "      <td>1</td>\n",
       "      <td>1</td>\n",
       "    </tr>\n",
       "    <tr>\n",
       "      <th>783924</th>\n",
       "      <td>120.0</td>\n",
       "      <td>96.0</td>\n",
       "      <td>38.10</td>\n",
       "      <td>154.0</td>\n",
       "      <td>118.00</td>\n",
       "      <td>105.0</td>\n",
       "      <td>16.0</td>\n",
       "      <td>0.0</td>\n",
       "      <td>25.7</td>\n",
       "      <td>0.5</td>\n",
       "      <td>...</td>\n",
       "      <td>4.0</td>\n",
       "      <td>3.8</td>\n",
       "      <td>31.2</td>\n",
       "      <td>11.6</td>\n",
       "      <td>29.8</td>\n",
       "      <td>14.0</td>\n",
       "      <td>325.5</td>\n",
       "      <td>62.29</td>\n",
       "      <td>1</td>\n",
       "      <td>1</td>\n",
       "    </tr>\n",
       "    <tr>\n",
       "      <th>783925</th>\n",
       "      <td>115.0</td>\n",
       "      <td>95.0</td>\n",
       "      <td>38.10</td>\n",
       "      <td>150.0</td>\n",
       "      <td>117.00</td>\n",
       "      <td>104.0</td>\n",
       "      <td>16.0</td>\n",
       "      <td>0.0</td>\n",
       "      <td>25.7</td>\n",
       "      <td>0.5</td>\n",
       "      <td>...</td>\n",
       "      <td>4.0</td>\n",
       "      <td>3.8</td>\n",
       "      <td>31.2</td>\n",
       "      <td>11.6</td>\n",
       "      <td>29.8</td>\n",
       "      <td>14.0</td>\n",
       "      <td>325.5</td>\n",
       "      <td>62.29</td>\n",
       "      <td>1</td>\n",
       "      <td>1</td>\n",
       "    </tr>\n",
       "  </tbody>\n",
       "</table>\n",
       "<p>351700 rows × 28 columns</p>\n",
       "</div>"
      ],
      "text/plain": [
       "           HR  O2Sat   Temp    SBP     MAP    DBP  Resp  BaseExcess  HCO3  \\\n",
       "34      102.0   91.5  36.80  103.0   75.67    NaN  24.0        20.7  46.5   \n",
       "35       99.0   89.0  37.11  113.0   96.33    NaN  26.0        20.7  46.5   \n",
       "36       97.0   89.0  36.80  110.0   72.00    NaN  29.0        20.7  46.5   \n",
       "37      110.0   89.0  36.80  108.0   90.67    NaN  24.0        20.7  46.5   \n",
       "38      108.0   89.0  36.80  139.0  102.33    NaN  26.0        20.0  46.5   \n",
       "...       ...    ...    ...    ...     ...    ...   ...         ...   ...   \n",
       "783921   88.0   98.0  38.10  135.0   81.00   64.0  16.0         0.0  25.7   \n",
       "783922   96.0   98.0  38.72  174.0   97.00   72.0  16.0         2.0  25.7   \n",
       "783923  140.0   97.0  38.10  133.0   81.50   62.5  16.0         0.0  25.7   \n",
       "783924  120.0   96.0  38.10  154.0  118.00  105.0  16.0         0.0  25.7   \n",
       "783925  115.0   95.0  38.10  150.0  117.00  104.0  16.0         0.0  25.7   \n",
       "\n",
       "        FiO2  ...  Phosphate  Potassium   Hct   Hgb   PTT   WBC  Platelets  \\\n",
       "34       0.3  ...        3.5        4.2  36.7  12.3   NaN  10.2      327.5   \n",
       "35       0.3  ...        3.5        4.2  36.7  12.3   NaN  10.2      327.5   \n",
       "36       0.3  ...        3.5        4.2  36.7  12.3   NaN  10.2      327.5   \n",
       "37       0.3  ...        3.5        4.2  36.7  12.3   NaN  10.2      327.5   \n",
       "38       0.3  ...        3.5        4.2  36.7  12.3   NaN  10.2      327.5   \n",
       "...      ...  ...        ...        ...   ...   ...   ...   ...        ...   \n",
       "783921   0.5  ...        4.0        3.8  31.2  11.6  29.8  14.0      325.5   \n",
       "783922   0.5  ...        3.5        3.9  27.8  11.6  29.8  14.0      325.5   \n",
       "783923   0.5  ...        4.0        3.8  31.2  11.6  29.8  14.0      325.5   \n",
       "783924   0.5  ...        4.0        3.8  31.2  11.6  29.8  14.0      325.5   \n",
       "783925   0.5  ...        4.0        3.8  31.2  11.6  29.8  14.0      325.5   \n",
       "\n",
       "          Age  Gender  SepsisLabel  \n",
       "34      83.14       0            0  \n",
       "35      83.14       0            0  \n",
       "36      83.14       0            0  \n",
       "37      83.14       0            0  \n",
       "38      83.14       0            0  \n",
       "...       ...     ...          ...  \n",
       "783921  62.29       1            1  \n",
       "783922  62.29       1            1  \n",
       "783923  62.29       1            1  \n",
       "783924  62.29       1            1  \n",
       "783925  62.29       1            1  \n",
       "\n",
       "[351700 rows x 28 columns]"
      ]
     },
     "execution_count": 22,
     "metadata": {},
     "output_type": "execute_result"
    }
   ],
   "source": [
    "df_patient_per_20"
   ]
  },
  {
   "cell_type": "markdown",
   "id": "54fb6e01",
   "metadata": {},
   "source": [
    "데이터 손실률 확인"
   ]
  },
  {
   "cell_type": "code",
   "execution_count": 24,
   "id": "6e011988",
   "metadata": {},
   "outputs": [
    {
     "data": {
      "text/plain": [
       "17585"
      ]
     },
     "execution_count": 24,
     "metadata": {},
     "output_type": "execute_result"
    }
   ],
   "source": [
    "people = int(df_patient_per_20.shape[0]/20)\n",
    "people"
   ]
  },
  {
   "cell_type": "code",
   "execution_count": 25,
   "id": "737ae487",
   "metadata": {},
   "outputs": [
    {
     "name": "stdout",
     "output_type": "stream",
     "text": [
      "20행 미만의 데이터 수 : 2584.0, 손실율: 12.8)\n"
     ]
    }
   ],
   "source": [
    "diff = (len(data_length_per_person_sum)-1) - df_patient_per_20.shape[0]/20\n",
    "loss = round(diff/(len(data_length_per_person_sum)-1)*100, 1)\n",
    "\n",
    "print(f'20행 미만의 데이터 수 : {diff}, 손실율: {loss})')"
   ]
  },
  {
   "cell_type": "markdown",
   "id": "ee51a383",
   "metadata": {},
   "source": [
    "# 스케일링 진행"
   ]
  },
  {
   "cell_type": "code",
   "execution_count": 26,
   "id": "16904805",
   "metadata": {},
   "outputs": [
    {
     "data": {
      "text/plain": [
       "34        0\n",
       "35        0\n",
       "36        0\n",
       "37        0\n",
       "38        0\n",
       "         ..\n",
       "783921    1\n",
       "783922    1\n",
       "783923    1\n",
       "783924    1\n",
       "783925    1\n",
       "Name: SepsisLabel, Length: 351700, dtype: object"
      ]
     },
     "execution_count": 26,
     "metadata": {},
     "output_type": "execute_result"
    }
   ],
   "source": [
    "label = df_patient_per_20[\"SepsisLabel\"]"
   ]
  },
  {
   "cell_type": "code",
   "execution_count": 27,
   "id": "e3857c91",
   "metadata": {},
   "outputs": [
    {
     "data": {
      "text/html": [
       "<div>\n",
       "<style scoped>\n",
       "    .dataframe tbody tr th:only-of-type {\n",
       "        vertical-align: middle;\n",
       "    }\n",
       "\n",
       "    .dataframe tbody tr th {\n",
       "        vertical-align: top;\n",
       "    }\n",
       "\n",
       "    .dataframe thead th {\n",
       "        text-align: right;\n",
       "    }\n",
       "</style>\n",
       "<table border=\"1\" class=\"dataframe\">\n",
       "  <thead>\n",
       "    <tr style=\"text-align: right;\">\n",
       "      <th></th>\n",
       "      <th>HR</th>\n",
       "      <th>O2Sat</th>\n",
       "      <th>Temp</th>\n",
       "      <th>SBP</th>\n",
       "      <th>MAP</th>\n",
       "      <th>DBP</th>\n",
       "      <th>Resp</th>\n",
       "      <th>BaseExcess</th>\n",
       "      <th>HCO3</th>\n",
       "      <th>FiO2</th>\n",
       "      <th>...</th>\n",
       "      <th>Phosphate</th>\n",
       "      <th>Potassium</th>\n",
       "      <th>Hct</th>\n",
       "      <th>Hgb</th>\n",
       "      <th>PTT</th>\n",
       "      <th>WBC</th>\n",
       "      <th>Platelets</th>\n",
       "      <th>Age</th>\n",
       "      <th>Gender</th>\n",
       "      <th>SepsisLabel</th>\n",
       "    </tr>\n",
       "  </thead>\n",
       "  <tbody>\n",
       "    <tr>\n",
       "      <th>34</th>\n",
       "      <td>1.066961</td>\n",
       "      <td>-1.862253</td>\n",
       "      <td>-0.239035</td>\n",
       "      <td>-0.880981</td>\n",
       "      <td>-0.211372</td>\n",
       "      <td>NaN</td>\n",
       "      <td>0.974005</td>\n",
       "      <td>5.581491</td>\n",
       "      <td>5.647835</td>\n",
       "      <td>-1.315663</td>\n",
       "      <td>...</td>\n",
       "      <td>-0.029089</td>\n",
       "      <td>0.144512</td>\n",
       "      <td>1.131153</td>\n",
       "      <td>0.975539</td>\n",
       "      <td>NaN</td>\n",
       "      <td>-0.238756</td>\n",
       "      <td>1.110786</td>\n",
       "      <td>1.255027</td>\n",
       "      <td>-1.173589</td>\n",
       "      <td>-0.18765</td>\n",
       "    </tr>\n",
       "    <tr>\n",
       "      <th>35</th>\n",
       "      <td>0.883750</td>\n",
       "      <td>-2.714666</td>\n",
       "      <td>0.277930</td>\n",
       "      <td>-0.400239</td>\n",
       "      <td>1.200863</td>\n",
       "      <td>NaN</td>\n",
       "      <td>1.358281</td>\n",
       "      <td>5.581491</td>\n",
       "      <td>5.647835</td>\n",
       "      <td>-1.315663</td>\n",
       "      <td>...</td>\n",
       "      <td>-0.029089</td>\n",
       "      <td>0.144512</td>\n",
       "      <td>1.131153</td>\n",
       "      <td>0.975539</td>\n",
       "      <td>NaN</td>\n",
       "      <td>-0.238756</td>\n",
       "      <td>1.110786</td>\n",
       "      <td>1.255027</td>\n",
       "      <td>-1.173589</td>\n",
       "      <td>-0.18765</td>\n",
       "    </tr>\n",
       "    <tr>\n",
       "      <th>36</th>\n",
       "      <td>0.761609</td>\n",
       "      <td>-2.714666</td>\n",
       "      <td>-0.239035</td>\n",
       "      <td>-0.544461</td>\n",
       "      <td>-0.462239</td>\n",
       "      <td>NaN</td>\n",
       "      <td>1.934695</td>\n",
       "      <td>5.581491</td>\n",
       "      <td>5.647835</td>\n",
       "      <td>-1.315663</td>\n",
       "      <td>...</td>\n",
       "      <td>-0.029089</td>\n",
       "      <td>0.144512</td>\n",
       "      <td>1.131153</td>\n",
       "      <td>0.975539</td>\n",
       "      <td>NaN</td>\n",
       "      <td>-0.238756</td>\n",
       "      <td>1.110786</td>\n",
       "      <td>1.255027</td>\n",
       "      <td>-1.173589</td>\n",
       "      <td>-0.18765</td>\n",
       "    </tr>\n",
       "    <tr>\n",
       "      <th>37</th>\n",
       "      <td>1.555525</td>\n",
       "      <td>-2.714666</td>\n",
       "      <td>-0.239035</td>\n",
       "      <td>-0.640610</td>\n",
       "      <td>0.813968</td>\n",
       "      <td>NaN</td>\n",
       "      <td>0.974005</td>\n",
       "      <td>5.581491</td>\n",
       "      <td>5.647835</td>\n",
       "      <td>-1.315663</td>\n",
       "      <td>...</td>\n",
       "      <td>-0.029089</td>\n",
       "      <td>0.144512</td>\n",
       "      <td>1.131153</td>\n",
       "      <td>0.975539</td>\n",
       "      <td>NaN</td>\n",
       "      <td>-0.238756</td>\n",
       "      <td>1.110786</td>\n",
       "      <td>1.255027</td>\n",
       "      <td>-1.173589</td>\n",
       "      <td>-0.18765</td>\n",
       "    </tr>\n",
       "    <tr>\n",
       "      <th>38</th>\n",
       "      <td>1.433384</td>\n",
       "      <td>-2.714666</td>\n",
       "      <td>-0.239035</td>\n",
       "      <td>0.849690</td>\n",
       "      <td>1.611000</td>\n",
       "      <td>NaN</td>\n",
       "      <td>1.358281</td>\n",
       "      <td>5.394760</td>\n",
       "      <td>5.647835</td>\n",
       "      <td>-1.315663</td>\n",
       "      <td>...</td>\n",
       "      <td>-0.029089</td>\n",
       "      <td>0.144512</td>\n",
       "      <td>1.131153</td>\n",
       "      <td>0.975539</td>\n",
       "      <td>NaN</td>\n",
       "      <td>-0.238756</td>\n",
       "      <td>1.110786</td>\n",
       "      <td>1.255027</td>\n",
       "      <td>-1.173589</td>\n",
       "      <td>-0.18765</td>\n",
       "    </tr>\n",
       "  </tbody>\n",
       "</table>\n",
       "<p>5 rows × 28 columns</p>\n",
       "</div>"
      ],
      "text/plain": [
       "          HR     O2Sat      Temp       SBP       MAP  DBP      Resp  \\\n",
       "34  1.066961 -1.862253 -0.239035 -0.880981 -0.211372  NaN  0.974005   \n",
       "35  0.883750 -2.714666  0.277930 -0.400239  1.200863  NaN  1.358281   \n",
       "36  0.761609 -2.714666 -0.239035 -0.544461 -0.462239  NaN  1.934695   \n",
       "37  1.555525 -2.714666 -0.239035 -0.640610  0.813968  NaN  0.974005   \n",
       "38  1.433384 -2.714666 -0.239035  0.849690  1.611000  NaN  1.358281   \n",
       "\n",
       "    BaseExcess      HCO3      FiO2  ...  Phosphate  Potassium       Hct  \\\n",
       "34    5.581491  5.647835 -1.315663  ...  -0.029089   0.144512  1.131153   \n",
       "35    5.581491  5.647835 -1.315663  ...  -0.029089   0.144512  1.131153   \n",
       "36    5.581491  5.647835 -1.315663  ...  -0.029089   0.144512  1.131153   \n",
       "37    5.581491  5.647835 -1.315663  ...  -0.029089   0.144512  1.131153   \n",
       "38    5.394760  5.647835 -1.315663  ...  -0.029089   0.144512  1.131153   \n",
       "\n",
       "         Hgb  PTT       WBC  Platelets       Age    Gender  SepsisLabel  \n",
       "34  0.975539  NaN -0.238756   1.110786  1.255027 -1.173589     -0.18765  \n",
       "35  0.975539  NaN -0.238756   1.110786  1.255027 -1.173589     -0.18765  \n",
       "36  0.975539  NaN -0.238756   1.110786  1.255027 -1.173589     -0.18765  \n",
       "37  0.975539  NaN -0.238756   1.110786  1.255027 -1.173589     -0.18765  \n",
       "38  0.975539  NaN -0.238756   1.110786  1.255027 -1.173589     -0.18765  \n",
       "\n",
       "[5 rows x 28 columns]"
      ]
     },
     "execution_count": 27,
     "metadata": {},
     "output_type": "execute_result"
    }
   ],
   "source": [
    "# 정규 분포\n",
    "df_patient_per_20 = (df_patient_per_20 - df_patient_per_20.mean())/df_patient_per_20.std()\n",
    "df_patient_per_20.head()"
   ]
  },
  {
   "cell_type": "code",
   "execution_count": 28,
   "id": "b554ee90",
   "metadata": {},
   "outputs": [],
   "source": [
    "df_patient_per_20[\"SepsisLabel\"] = label"
   ]
  },
  {
   "cell_type": "code",
   "execution_count": 32,
   "id": "bd9d3dcd",
   "metadata": {},
   "outputs": [
    {
     "data": {
      "text/plain": [
       "(351700, 28)"
      ]
     },
     "execution_count": 32,
     "metadata": {},
     "output_type": "execute_result"
    }
   ],
   "source": [
    "df_patient_per_20.shape"
   ]
  },
  {
   "cell_type": "markdown",
   "id": "9c9d58a7",
   "metadata": {},
   "source": [
    "# sepsis vs non_sepsis 추출"
   ]
  },
  {
   "cell_type": "code",
   "execution_count": 33,
   "id": "bc851bfc",
   "metadata": {},
   "outputs": [
    {
     "name": "stderr",
     "output_type": "stream",
     "text": [
      "100%|██████████| 17585/17585 [04:57<00:00, 59.07it/s]\n"
     ]
    }
   ],
   "source": [
    "# sepsis와 non sepsis 구분\n",
    "\n",
    "s = 0\n",
    "e = 20\n",
    "\n",
    "sepsis_df = pd.DataFrame(columns=cols)\n",
    "non_sepsis_df = pd.DataFrame(columns=cols)\n",
    "\n",
    "for _ in tqdm(range(people)):\n",
    "    if df_patient_per_20[s:e]['SepsisLabel'].sum() >= 1:\n",
    "        data = df_patient_per_20[s:e]\n",
    "        sepsis_df = pd.concat([sepsis_df, data])\n",
    "    else: \n",
    "        data = df_patient_per_20[s:e]\n",
    "        non_sepsis_df = pd.concat([non_sepsis_df, data])\n",
    "        \n",
    "    s += 20\n",
    "    e += 20"
   ]
  },
  {
   "cell_type": "code",
   "execution_count": 34,
   "id": "4a6af51b",
   "metadata": {},
   "outputs": [
    {
     "data": {
      "text/plain": [
       "(24700, 28)"
      ]
     },
     "execution_count": 34,
     "metadata": {},
     "output_type": "execute_result"
    }
   ],
   "source": [
    "sepsis_df.shape"
   ]
  },
  {
   "cell_type": "code",
   "execution_count": 35,
   "id": "8d1f8078",
   "metadata": {},
   "outputs": [
    {
     "data": {
      "text/plain": [
       "(327000, 28)"
      ]
     },
     "execution_count": 35,
     "metadata": {},
     "output_type": "execute_result"
    }
   ],
   "source": [
    "non_sepsis_df.shape"
   ]
  },
  {
   "cell_type": "markdown",
   "id": "676fe064",
   "metadata": {},
   "source": [
    "# Title > 3시간의 데이터를 보고 6시간 후의 패혈증 발병 확률을 예측\n",
    "## label 분리\n",
    "1환자당 12개의 데이터 추출가능"
   ]
  },
  {
   "cell_type": "code",
   "execution_count": 37,
   "id": "0793c09b",
   "metadata": {},
   "outputs": [
    {
     "name": "stderr",
     "output_type": "stream",
     "text": [
      "100%|██████████| 1235/1235 [00:00<00:00, 24525.65it/s]\n"
     ]
    }
   ],
   "source": [
    "e = 20\n",
    "\n",
    "s_label = []\n",
    "for i in tqdm(range(int(sepsis_df.shape[0]/20))):\n",
    "    temp = sepsis_df[\"SepsisLabel\"][e-12:e]\n",
    "    s_label.append(list(temp))\n",
    "    \n",
    "    e += 20"
   ]
  },
  {
   "cell_type": "code",
   "execution_count": 38,
   "id": "03b7d2eb",
   "metadata": {},
   "outputs": [
    {
     "name": "stderr",
     "output_type": "stream",
     "text": [
      "100%|██████████| 16350/16350 [00:00<00:00, 29896.23it/s]\n"
     ]
    }
   ],
   "source": [
    "e = 20\n",
    "\n",
    "ns_label = []\n",
    "for i in tqdm(range(int(non_sepsis_df.shape[0]/20))):\n",
    "    temp = non_sepsis_df[\"SepsisLabel\"][e-12:e]\n",
    "    ns_label.append(list(temp))\n",
    "    \n",
    "    e += 20"
   ]
  },
  {
   "cell_type": "markdown",
   "id": "75d4ef98",
   "metadata": {},
   "source": [
    "# 훈련, 검증, 테스트 세트 구성\n",
    "sepsis와 non_sepsis 데이터의 비율을 고려하지 않고 모든 데이터를 활용"
   ]
  },
  {
   "cell_type": "code",
   "execution_count": 40,
   "id": "6a9f8d8f",
   "metadata": {},
   "outputs": [
    {
     "data": {
      "text/plain": [
       "(24700, 27)"
      ]
     },
     "execution_count": 40,
     "metadata": {},
     "output_type": "execute_result"
    }
   ],
   "source": [
    "sepsis_df_no_label = sepsis_df.drop(['SepsisLabel'], axis=1)\n",
    "sepsis_df_no_label.shape"
   ]
  },
  {
   "cell_type": "code",
   "execution_count": 41,
   "id": "0d588fb1",
   "metadata": {},
   "outputs": [
    {
     "data": {
      "text/plain": [
       "(327000, 27)"
      ]
     },
     "execution_count": 41,
     "metadata": {},
     "output_type": "execute_result"
    }
   ],
   "source": [
    "non_sepsis_df_no_label = non_sepsis_df.drop(['SepsisLabel'], axis=1)\n",
    "non_sepsis_df_no_label.shape"
   ]
  },
  {
   "cell_type": "markdown",
   "id": "e64fc3bb",
   "metadata": {},
   "source": [
    "# 환자별 column 평균으로 결측치 대치"
   ]
  },
  {
   "cell_type": "code",
   "execution_count": 147,
   "id": "600de8a4",
   "metadata": {},
   "outputs": [
    {
     "data": {
      "text/plain": [
       "Index(['HR', 'O2Sat', 'Temp', 'SBP', 'MAP', 'DBP', 'Resp', 'BaseExcess',\n",
       "       'HCO3', 'FiO2', 'pH', 'PaCO2', 'BUN', 'Calcium', 'Chloride',\n",
       "       'Creatinine', 'Glucose', 'Magnesium', 'Phosphate', 'Potassium', 'Hct',\n",
       "       'Hgb', 'PTT', 'WBC', 'Platelets', 'Age', 'Gender'],\n",
       "      dtype='object')"
      ]
     },
     "execution_count": 147,
     "metadata": {},
     "output_type": "execute_result"
    }
   ],
   "source": [
    "cols = sepsis_df_no_label.columns\n",
    "cols"
   ]
  },
  {
   "cell_type": "code",
   "execution_count": 148,
   "id": "5a17516b",
   "metadata": {},
   "outputs": [
    {
     "name": "stderr",
     "output_type": "stream",
     "text": [
      "100%|██████████| 1235/1235 [00:02<00:00, 545.45it/s]\n"
     ]
    },
    {
     "data": {
      "text/plain": [
       "1235"
      ]
     },
     "execution_count": 148,
     "metadata": {},
     "output_type": "execute_result"
    }
   ],
   "source": [
    "# 환자 별 평균\n",
    "person_mean = []\n",
    "\n",
    "s_i = 0\n",
    "e_i = 20\n",
    "\n",
    "for _ in tqdm(range(int(sepsis_df_no_label.shape[0]/20))):\n",
    "    temp = []\n",
    "    for col in cols:\n",
    "        temp.append(sepsis_df_no_label[col][s_i:e_i].mean())\n",
    "    person_mean.append(temp)\n",
    "    \n",
    "    s_i += 20\n",
    "    e_i += 20\n",
    "    \n",
    "len(person_mean)"
   ]
  },
  {
   "cell_type": "code",
   "execution_count": 149,
   "id": "8203e633",
   "metadata": {},
   "outputs": [
    {
     "name": "stderr",
     "output_type": "stream",
     "text": [
      "100%|██████████| 1235/1235 [00:00<00:00, 21683.84it/s]\n"
     ]
    }
   ],
   "source": [
    "# 환자별 평균을 정리한 리스트에 결측값을 0으로 변환\n",
    "\n",
    "for i in tqdm(range(len(person_mean))):\n",
    "    for j in range(len(person_mean[i])):\n",
    "        if str(person_mean[i][j]) == \"nan\":\n",
    "            person_mean[i][j] = 0\n",
    "        else:\n",
    "            person_mean[i][j] = round(person_mean[i][j], 1)"
   ]
  },
  {
   "cell_type": "code",
   "execution_count": 150,
   "id": "5e39d348",
   "metadata": {},
   "outputs": [
    {
     "name": "stderr",
     "output_type": "stream",
     "text": [
      "100%|██████████| 1235/1235 [00:14<00:00, 85.82it/s]\n"
     ]
    }
   ],
   "source": [
    "# DP 생성 후 결측치 없는 데이터 세트 구성\n",
    "\n",
    "sepsis_df_no_label_and_mv = pd.DataFrame(columns = cols)\n",
    "\n",
    "s_i = 0\n",
    "e_i = 20\n",
    "\n",
    "for i in tqdm(range(int(sepsis_df_no_label.shape[0]/20))):\n",
    "    temp = pd.DataFrame()\n",
    "    for j, col in enumerate(cols):\n",
    "        temp[col] = sepsis_df_no_label[col][s_i:e_i].fillna(person_mean[i][j])\n",
    "        \n",
    "    sepsis_df_no_label_and_mv = pd.concat([sepsis_df_no_label_and_mv, temp])\n",
    "    s_i += 20\n",
    "    e_i += 20"
   ]
  },
  {
   "cell_type": "code",
   "execution_count": 151,
   "id": "f394153c",
   "metadata": {},
   "outputs": [],
   "source": [
    "def ratio(li):\n",
    "    l = len(li)\n",
    "    train = l*0.8\n",
    "    val = train + int(l*0.1)\n",
    "    return int(train), int(val)"
   ]
  },
  {
   "cell_type": "code",
   "execution_count": 152,
   "id": "0dcfe254",
   "metadata": {},
   "outputs": [
    {
     "name": "stdout",
     "output_type": "stream",
     "text": [
      "988 1111\n"
     ]
    }
   ],
   "source": [
    "tr, va = ratio(s_label)\n",
    "print(tr, va)"
   ]
  },
  {
   "cell_type": "markdown",
   "id": "137fdc64",
   "metadata": {},
   "source": [
    "# Sepsis 데이터 분리 "
   ]
  },
  {
   "cell_type": "code",
   "execution_count": 153,
   "id": "6f720e45",
   "metadata": {},
   "outputs": [
    {
     "name": "stderr",
     "output_type": "stream",
     "text": [
      "100%|██████████| 1235/1235 [00:04<00:00, 286.96it/s]\n"
     ]
    }
   ],
   "source": [
    "# sepsis 데이터 > x_train, x_val, x_test\n",
    "\n",
    "s = 0\n",
    "x_train = []\n",
    "x_val = []\n",
    "x_test = []\n",
    "\n",
    "for _ in tqdm(range(int(sepsis_df_no_label_and_mv.shape[0]/20))):\n",
    "    if _ < tr:\n",
    "        for i in range(12):     # 20개의 데이터 세트에서 12개의 데이터를 label에 달아 사용 가능\n",
    "            temp = sepsis_df_no_label_and_mv[s+i : s+i+3].values.tolist()\n",
    "            x_train.append(temp)\n",
    "    elif _ < va:\n",
    "        for i in range(12):     # 20개의 데이터 세트에서 12개의 데이터를 label에 달아 사용 가능\n",
    "            temp = sepsis_df_no_label_and_mv[s+i : s+i+3].values.tolist()\n",
    "            x_val.append(temp)\n",
    "    else: \n",
    "        for i in range(12):     # 20개의 데이터 세트에서 12개의 데이터를 label에 달아 사용 가능\n",
    "            temp = sepsis_df_no_label_and_mv[s+i : s+i+3].values.tolist()\n",
    "            x_test.append(temp)\n",
    "    s += 20"
   ]
  },
  {
   "cell_type": "code",
   "execution_count": 154,
   "id": "9c1456ad",
   "metadata": {},
   "outputs": [
    {
     "name": "stdout",
     "output_type": "stream",
     "text": [
      "988.0 123.0 124.0 1235\n"
     ]
    }
   ],
   "source": [
    "print(len(x_train)/12, len(x_val)/12, len(x_test)/12, len(x_train)//12 + len(x_val)//12 + len(x_test)//12)"
   ]
  },
  {
   "cell_type": "markdown",
   "id": "5fd24371",
   "metadata": {},
   "source": [
    "## non_sepsis_df 에도 동일하게 수행 \n",
    "단, 데이터 비율을 sepsis 기준 1:1로 맞춰서 진행"
   ]
  },
  {
   "cell_type": "code",
   "execution_count": 155,
   "id": "d0e9f18e",
   "metadata": {},
   "outputs": [
    {
     "name": "stderr",
     "output_type": "stream",
     "text": [
      "100%|██████████| 16350/16350 [00:34<00:00, 480.27it/s]\n"
     ]
    },
    {
     "data": {
      "text/plain": [
       "16350"
      ]
     },
     "execution_count": 155,
     "metadata": {},
     "output_type": "execute_result"
    }
   ],
   "source": [
    "# non sepsis 환자 별 평균\n",
    "person_mean = []\n",
    "\n",
    "s_i = 0\n",
    "e_i = 20\n",
    "\n",
    "for _ in tqdm(range(int(non_sepsis_df_no_label.shape[0]/20))):\n",
    "    temp = []\n",
    "    for col in cols:\n",
    "        temp.append(non_sepsis_df_no_label[col][s_i:e_i].mean())\n",
    "    person_mean.append(temp)\n",
    "    \n",
    "    s_i += 20\n",
    "    e_i += 20\n",
    "    \n",
    "len(person_mean)"
   ]
  },
  {
   "cell_type": "code",
   "execution_count": 156,
   "id": "33b8f81b",
   "metadata": {},
   "outputs": [
    {
     "name": "stderr",
     "output_type": "stream",
     "text": [
      "100%|██████████| 16350/16350 [00:00<00:00, 21429.02it/s]\n"
     ]
    }
   ],
   "source": [
    "# 환자별 평균을 정리한 리스트에 결측값을 0으로 변환\n",
    "\n",
    "for i in tqdm(range(len(person_mean))):\n",
    "    for j in range(len(person_mean[i])):\n",
    "        if str(person_mean[i][j]) == \"nan\":\n",
    "            person_mean[i][j] = 0\n",
    "        else:\n",
    "            person_mean[i][j] = round(person_mean[i][j], 1)"
   ]
  },
  {
   "cell_type": "code",
   "execution_count": 157,
   "id": "de5e183f",
   "metadata": {},
   "outputs": [
    {
     "name": "stderr",
     "output_type": "stream",
     "text": [
      "100%|██████████| 16350/16350 [07:01<00:00, 38.80it/s]\n"
     ]
    }
   ],
   "source": [
    "# 결측치 없는 non sepsis DF 생성\n",
    "\n",
    "non_sepsis_df_no_label_and_mv = pd.DataFrame(columns = cols)\n",
    "\n",
    "s_i = 0\n",
    "e_i = 20\n",
    "\n",
    "for i in tqdm(range(int(non_sepsis_df_no_label.shape[0]/20))):\n",
    "    temp = pd.DataFrame()\n",
    "    for j, col in enumerate(cols):\n",
    "        temp[col] = non_sepsis_df_no_label[col][s_i:e_i].fillna(person_mean[i][j])\n",
    "        \n",
    "    non_sepsis_df_no_label_and_mv = pd.concat([non_sepsis_df_no_label_and_mv, temp])\n",
    "    s_i += 20\n",
    "    e_i += 20"
   ]
  },
  {
   "cell_type": "code",
   "execution_count": 158,
   "id": "b37b53f4",
   "metadata": {},
   "outputs": [
    {
     "name": "stderr",
     "output_type": "stream",
     "text": [
      "  8%|▊         | 1235/16350 [00:04<00:59, 252.28it/s]\n"
     ]
    }
   ],
   "source": [
    "# non_sepsis 데이터 > x_train, x_val, x_test에 추가 \n",
    "\n",
    "s = 0\n",
    "\n",
    "for _ in tqdm(range(int(non_sepsis_df_no_label_and_mv.shape[0]/20))):\n",
    "    if _ < tr:\n",
    "        for i in range(12):     # 20개의 데이터 세트에서 12개의 데이터를 label에 달아 사용 가능\n",
    "            temp = non_sepsis_df_no_label_and_mv[s+i : s+i+3].values.tolist()\n",
    "            x_train.append(temp)\n",
    "    elif _ < va:\n",
    "        for i in range(12):     # 20개의 데이터 세트에서 12개의 데이터를 label에 달아 사용 가능\n",
    "            temp = non_sepsis_df_no_label_and_mv[s+i : s+i+3].values.tolist()\n",
    "            x_val.append(temp)\n",
    "    elif _ < 1235:\n",
    "        for i in range(12):     # 20개의 데이터 세트에서 12개의 데이터를 label에 달아 사용 가능\n",
    "            temp = non_sepsis_df_no_label_and_mv[s+i : s+i+3].values.tolist()\n",
    "            x_test.append(temp)\n",
    "    else:\n",
    "        break\n",
    "    s += 20"
   ]
  },
  {
   "cell_type": "code",
   "execution_count": 159,
   "id": "64878ff4",
   "metadata": {},
   "outputs": [
    {
     "name": "stdout",
     "output_type": "stream",
     "text": [
      "1976.0 246.0 248.0 2470\n"
     ]
    }
   ],
   "source": [
    "print(len(x_train)/12, len(x_val)/12, len(x_test)/12, len(x_train)//12 + len(x_val)//12 + len(x_test)//12)"
   ]
  },
  {
   "cell_type": "code",
   "execution_count": 160,
   "id": "d565d5e0",
   "metadata": {},
   "outputs": [],
   "source": [
    "# sepsis label > train, val, test set 구성\n",
    "\n",
    "y_train = []\n",
    "y_val = []\n",
    "y_test = []   # 988 123 124 1235\n",
    "\n",
    "for _ in range(len(s_label)):\n",
    "    if _ < tr:\n",
    "        y_train += s_label[_]\n",
    "    elif _ < va:\n",
    "        y_val += s_label[_]\n",
    "    elif _ < 1235:\n",
    "        y_test += s_label[_]\n",
    "    else:\n",
    "        break"
   ]
  },
  {
   "cell_type": "code",
   "execution_count": 161,
   "id": "2ec952a7",
   "metadata": {},
   "outputs": [],
   "source": [
    "y_train += [0] * len(y_train)\n",
    "y_val += [0] * len(y_val)\n",
    "y_test += [0] * len(y_test)"
   ]
  },
  {
   "cell_type": "code",
   "execution_count": 162,
   "id": "4021b40c",
   "metadata": {},
   "outputs": [
    {
     "name": "stdout",
     "output_type": "stream",
     "text": [
      "1976.0 246.0 248.0 2470\n"
     ]
    }
   ],
   "source": [
    "print(len(y_train)/12, len(y_val)/12, len(y_test)/12, len(y_train)//12 + len(y_val)//12 + len(y_test)//12)"
   ]
  },
  {
   "cell_type": "code",
   "execution_count": 165,
   "id": "9daaed4c",
   "metadata": {},
   "outputs": [
    {
     "data": {
      "text/plain": [
       "23712"
      ]
     },
     "execution_count": 165,
     "metadata": {},
     "output_type": "execute_result"
    }
   ],
   "source": [
    "len(x_train)"
   ]
  },
  {
   "cell_type": "markdown",
   "id": "d3bc1797",
   "metadata": {},
   "source": [
    "# numpy 배열로 변환"
   ]
  },
  {
   "cell_type": "code",
   "execution_count": 167,
   "id": "83b32c78",
   "metadata": {},
   "outputs": [],
   "source": [
    "X_train = np.array(x_train)\n",
    "X_val = np.array(x_val)\n",
    "X_test = np.array(x_test)\n",
    "\n",
    "Y_train = np.array(y_train)\n",
    "Y_val = np.array(y_val)\n",
    "Y_test = np.array(y_test)"
   ]
  },
  {
   "cell_type": "code",
   "execution_count": 168,
   "id": "6faa4132",
   "metadata": {},
   "outputs": [
    {
     "data": {
      "text/plain": [
       "(23712, 3, 27)"
      ]
     },
     "execution_count": 168,
     "metadata": {},
     "output_type": "execute_result"
    }
   ],
   "source": [
    "X_train.shape"
   ]
  },
  {
   "cell_type": "markdown",
   "id": "77b84ee1",
   "metadata": {},
   "source": [
    "# 데이터 Shuffle 적용"
   ]
  },
  {
   "cell_type": "code",
   "execution_count": 170,
   "id": "bdf2ac06",
   "metadata": {},
   "outputs": [],
   "source": [
    "# Train, Test data 적용\n",
    "i = np.arange(X_train.shape[0])\n",
    "np.random.shuffle(i)\n",
    "\n",
    "X_train = X_train[i]\n",
    "Y_train = Y_train[i]"
   ]
  },
  {
   "cell_type": "code",
   "execution_count": 172,
   "id": "5f78aa29",
   "metadata": {},
   "outputs": [],
   "source": [
    "# Val data 적용\n",
    "\n",
    "i = np.arange(X_val.shape[0])\n",
    "np.random.shuffle(i)\n",
    "\n",
    "X_val = X_val[i]\n",
    "Y_val = Y_val[i]"
   ]
  },
  {
   "cell_type": "markdown",
   "id": "c903d162",
   "metadata": {},
   "source": [
    "# 데이터 세트 구성 완료"
   ]
  },
  {
   "cell_type": "markdown",
   "id": "47a87768",
   "metadata": {},
   "source": [
    "# 모델 구성"
   ]
  },
  {
   "cell_type": "code",
   "execution_count": 173,
   "id": "655b118f",
   "metadata": {},
   "outputs": [],
   "source": [
    "import tensorflow as tf\n",
    "from tensorflow.keras.layers import Dense, LSTM, Dropout, GRU\n",
    "from tensorflow.keras.models import Sequential\n",
    "from tensorflow.keras.models import load_model\n",
    "from tensorflow.keras.callbacks import EarlyStopping, ModelCheckpoint"
   ]
  },
  {
   "cell_type": "code",
   "execution_count": 177,
   "id": "48ca2cd1",
   "metadata": {},
   "outputs": [
    {
     "name": "stdout",
     "output_type": "stream",
     "text": [
      "Model: \"sequential_12\"\n",
      "_________________________________________________________________\n",
      " Layer (type)                Output Shape              Param #   \n",
      "=================================================================\n",
      " lstm_25 (LSTM)              (None, 128)               79872     \n",
      "                                                                 \n",
      " dense_17 (Dense)            (None, 64)                8256      \n",
      "                                                                 \n",
      " dense_18 (Dense)            (None, 10)                650       \n",
      "                                                                 \n",
      " dense_19 (Dense)            (None, 1)                 11        \n",
      "                                                                 \n",
      "=================================================================\n",
      "Total params: 88,789\n",
      "Trainable params: 88,789\n",
      "Non-trainable params: 0\n",
      "_________________________________________________________________\n"
     ]
    }
   ],
   "source": [
    "hidden_units = 128\n",
    "\n",
    "model = Sequential()\n",
    "model.add(LSTM(hidden_units, activation='tanh', input_shape=(3, 27)))\n",
    "model.add(Dense(64, activation='relu'))\n",
    "model.add(Dense(10))\n",
    "model.add(Dense(1, activation='sigmoid'))\n",
    "\n",
    "model.summary()"
   ]
  },
  {
   "cell_type": "code",
   "execution_count": 178,
   "id": "a5f0730f",
   "metadata": {},
   "outputs": [],
   "source": [
    "SGD = tf.keras.optimizers.SGD(learning_rate=0.02)  ## Defult Learning_rate = 0.01\n",
    "\n",
    "model.compile(loss=tf.keras.losses.BinaryCrossentropy(), optimizer=SGD, metrics=['accuracy'])"
   ]
  },
  {
   "cell_type": "code",
   "execution_count": 183,
   "id": "5acc69d9",
   "metadata": {},
   "outputs": [
    {
     "name": "stdout",
     "output_type": "stream",
     "text": [
      "Epoch 1/10\n",
      "741/741 [==============================] - 3s 3ms/step - loss: 0.6466 - accuracy: 0.6118 - val_loss: 0.6382 - val_accuracy: 0.6087\n",
      "Epoch 2/10\n",
      "741/741 [==============================] - 2s 3ms/step - loss: 0.6139 - accuracy: 0.6560 - val_loss: 0.6354 - val_accuracy: 0.6131\n",
      "Epoch 3/10\n",
      "741/741 [==============================] - 2s 3ms/step - loss: 0.6000 - accuracy: 0.6710 - val_loss: 0.6333 - val_accuracy: 0.6189\n",
      "Epoch 4/10\n",
      "741/741 [==============================] - 2s 3ms/step - loss: 0.5893 - accuracy: 0.6791 - val_loss: 0.6288 - val_accuracy: 0.6264\n",
      "Epoch 5/10\n",
      "741/741 [==============================] - 2s 3ms/step - loss: 0.5772 - accuracy: 0.6901 - val_loss: 0.6253 - val_accuracy: 0.6321\n",
      "Epoch 6/10\n",
      "741/741 [==============================] - 2s 3ms/step - loss: 0.5663 - accuracy: 0.7009 - val_loss: 0.6263 - val_accuracy: 0.6416\n",
      "Epoch 7/10\n",
      "741/741 [==============================] - 2s 3ms/step - loss: 0.5527 - accuracy: 0.7128 - val_loss: 0.6281 - val_accuracy: 0.6294\n",
      "Epoch 8/10\n",
      "741/741 [==============================] - 2s 3ms/step - loss: 0.5403 - accuracy: 0.7225 - val_loss: 0.6295 - val_accuracy: 0.6301\n",
      "Epoch 9/10\n",
      "741/741 [==============================] - 2s 3ms/step - loss: 0.5292 - accuracy: 0.7323 - val_loss: 0.6359 - val_accuracy: 0.6314\n",
      "Epoch 10/10\n",
      "741/741 [==============================] - 2s 3ms/step - loss: 0.5171 - accuracy: 0.7443 - val_loss: 0.6387 - val_accuracy: 0.6433\n"
     ]
    }
   ],
   "source": [
    "hist = model.fit(x_train, y_train, epochs=10, batch_size=32, validation_data=(X_val, Y_val))"
   ]
  },
  {
   "cell_type": "markdown",
   "id": "8781c3f9",
   "metadata": {},
   "source": [
    "## 과도한 결측치 대치를 막은 데이터 세트가 더 좋은 결과를 가져옴"
   ]
  },
  {
   "cell_type": "code",
   "execution_count": 228,
   "id": "e8080c6a",
   "metadata": {},
   "outputs": [
    {
     "name": "stdout",
     "output_type": "stream",
     "text": [
      "Model: \"sequential_19\"\n",
      "_________________________________________________________________\n",
      " Layer (type)                Output Shape              Param #   \n",
      "=================================================================\n",
      " lstm_32 (LSTM)              (None, 128)               79872     \n",
      "                                                                 \n",
      " dropout_15 (Dropout)        (None, 128)               0         \n",
      "                                                                 \n",
      " dense_38 (Dense)            (None, 64)                8256      \n",
      "                                                                 \n",
      " dense_39 (Dense)            (None, 10)                650       \n",
      "                                                                 \n",
      " dense_40 (Dense)            (None, 1)                 11        \n",
      "                                                                 \n",
      "=================================================================\n",
      "Total params: 88,789\n",
      "Trainable params: 88,789\n",
      "Non-trainable params: 0\n",
      "_________________________________________________________________\n"
     ]
    }
   ],
   "source": [
    "hidden_units = 128\n",
    "\n",
    "model = Sequential()\n",
    "model.add(LSTM(hidden_units, activation='tanh', input_shape=(3, 27)))\n",
    "model.add(Dense(64, activation='relu'))\n",
    "model.add(Dense(1, activation='sigmoid'))\n",
    "\n",
    "model.summary()"
   ]
  },
  {
   "cell_type": "code",
   "execution_count": 229,
   "id": "1f1f00c7",
   "metadata": {},
   "outputs": [],
   "source": [
    "SGD = tf.keras.optimizers.SGD(learning_rate=0.01)\n",
    "\n",
    "model.compile(loss=tf.keras.losses.BinaryCrossentropy(), optimizer=SGD, metrics=['accuracy'])"
   ]
  },
  {
   "cell_type": "code",
   "execution_count": 230,
   "id": "033bc622",
   "metadata": {},
   "outputs": [
    {
     "name": "stdout",
     "output_type": "stream",
     "text": [
      "Epoch 1/10\n",
      "741/741 [==============================] - 4s 4ms/step - loss: 0.6622 - accuracy: 0.6082 - val_loss: 0.6391 - val_accuracy: 0.6175\n",
      "Epoch 2/10\n",
      "741/741 [==============================] - 2s 3ms/step - loss: 0.6362 - accuracy: 0.6334 - val_loss: 0.6325 - val_accuracy: 0.6267\n",
      "Epoch 3/10\n",
      "741/741 [==============================] - 2s 3ms/step - loss: 0.6250 - accuracy: 0.6452 - val_loss: 0.6292 - val_accuracy: 0.6223\n",
      "Epoch 4/10\n",
      "741/741 [==============================] - 2s 3ms/step - loss: 0.6198 - accuracy: 0.6488 - val_loss: 0.6279 - val_accuracy: 0.6243\n",
      "Epoch 5/10\n",
      "741/741 [==============================] - 2s 3ms/step - loss: 0.6161 - accuracy: 0.6502 - val_loss: 0.6255 - val_accuracy: 0.6277\n",
      "Epoch 6/10\n",
      "741/741 [==============================] - 2s 3ms/step - loss: 0.6132 - accuracy: 0.6549 - val_loss: 0.6229 - val_accuracy: 0.6297\n",
      "Epoch 7/10\n",
      "741/741 [==============================] - 2s 3ms/step - loss: 0.6077 - accuracy: 0.6577 - val_loss: 0.6237 - val_accuracy: 0.6294\n",
      "Epoch 8/10\n",
      "741/741 [==============================] - 2s 3ms/step - loss: 0.6059 - accuracy: 0.6625 - val_loss: 0.6215 - val_accuracy: 0.6325\n",
      "Epoch 9/10\n",
      "741/741 [==============================] - 2s 3ms/step - loss: 0.6017 - accuracy: 0.6641 - val_loss: 0.6227 - val_accuracy: 0.6257\n",
      "Epoch 10/10\n",
      "741/741 [==============================] - 2s 3ms/step - loss: 0.6005 - accuracy: 0.6676 - val_loss: 0.6202 - val_accuracy: 0.6274\n"
     ]
    }
   ],
   "source": [
    "hist = model.fit(X_train, Y_train, epochs=10, batch_size=32, validation_data=(X_val, Y_val))"
   ]
  },
  {
   "cell_type": "code",
   "execution_count": 231,
   "id": "f4ec6996",
   "metadata": {},
   "outputs": [
    {
     "data": {
      "image/png": "[encoded data removed]",
      "text/plain": [
       "<Figure size 432x288 with 1 Axes>"
      ]
     },
     "metadata": {
      "needs_background": "light"
     },
     "output_type": "display_data"
    }
   ],
   "source": [
    "plt.plot(hist.history['loss'], label='loss')\n",
    "plt.plot(hist.history['val_loss'], label='val_loss')\n",
    "plt.legend()\n",
    "plt.xlabel(\"Epochs\")\n",
    "plt.show()"
   ]
  },
  {
   "cell_type": "code",
   "execution_count": 232,
   "id": "a27e1eed",
   "metadata": {},
   "outputs": [
    {
     "data": {
      "image/png": "[encoded data removed]",
      "text/plain": [
       "<Figure size 432x288 with 1 Axes>"
      ]
     },
     "metadata": {
      "needs_background": "light"
     },
     "output_type": "display_data"
    }
   ],
   "source": [
    "plt.plot(hist.history['accuracy'], label='accuracy')\n",
    "plt.plot(hist.history['val_accuracy'], label='val_accuracy')\n",
    "plt.legend()\n",
    "plt.xlabel(\"Epochs\")\n",
    "plt.show()"
   ]
  },
  {
   "cell_type": "markdown",
   "id": "fe7577e2",
   "metadata": {},
   "source": [
    "# 과적합을 줄이기 위해 데이터세트 증가 \n",
    "non sepsis 데이터만 증가 가능"
   ]
  },
  {
   "cell_type": "markdown",
   "id": "8ef98a8b",
   "metadata": {},
   "source": [
    "# sepsis 정리"
   ]
  },
  {
   "cell_type": "code",
   "execution_count": 238,
   "id": "81e97c8f",
   "metadata": {},
   "outputs": [
    {
     "name": "stderr",
     "output_type": "stream",
     "text": [
      "100%|██████████| 1235/1235 [00:04<00:00, 305.00it/s]\n"
     ]
    }
   ],
   "source": [
    "# sepsis 데이터 > x_train, x_val, x_test\n",
    "\n",
    "s = 0\n",
    "x_train = []\n",
    "x_val = []\n",
    "x_test = []\n",
    "\n",
    "for _ in tqdm(range(int(sepsis_df_no_label_and_mv.shape[0]/20))):\n",
    "    if _ < tr:\n",
    "        for i in range(12):     # 20개의 데이터 세트에서 12개의 데이터를 label에 달아 사용 가능\n",
    "            temp = sepsis_df_no_label_and_mv[s+i : s+i+3].values.tolist()\n",
    "            x_train.append(temp)\n",
    "    elif _ < va:\n",
    "        for i in range(12):     # 20개의 데이터 세트에서 12개의 데이터를 label에 달아 사용 가능\n",
    "            temp = sepsis_df_no_label_and_mv[s+i : s+i+3].values.tolist()\n",
    "            x_val.append(temp)\n",
    "    else: \n",
    "        for i in range(12):     # 20개의 데이터 세트에서 12개의 데이터를 label에 달아 사용 가능\n",
    "            temp = sepsis_df_no_label_and_mv[s+i : s+i+3].values.tolist()\n",
    "            x_test.append(temp)\n",
    "    s += 20"
   ]
  },
  {
   "cell_type": "code",
   "execution_count": 239,
   "id": "a7caa035",
   "metadata": {},
   "outputs": [
    {
     "name": "stdout",
     "output_type": "stream",
     "text": [
      "988.0 123.0 124.0 1235\n"
     ]
    }
   ],
   "source": [
    "print(len(x_train)/12, len(x_val)/12, len(x_test)/12, len(x_train)//12 + len(x_val)//12 + len(x_test)//12)"
   ]
  },
  {
   "cell_type": "markdown",
   "id": "565e27d8",
   "metadata": {},
   "source": [
    "# non sepsis 정리"
   ]
  },
  {
   "cell_type": "code",
   "execution_count": 240,
   "id": "3dd95904",
   "metadata": {},
   "outputs": [
    {
     "name": "stderr",
     "output_type": "stream",
     "text": [
      "100%|██████████| 16350/16350 [00:31<00:00, 520.73it/s]\n"
     ]
    },
    {
     "data": {
      "text/plain": [
       "16350"
      ]
     },
     "execution_count": 240,
     "metadata": {},
     "output_type": "execute_result"
    }
   ],
   "source": [
    "# non sepsis 환자 별 평균\n",
    "person_mean = []\n",
    "\n",
    "s_i = 0\n",
    "e_i = 20\n",
    "\n",
    "for _ in tqdm(range(int(non_sepsis_df_no_label.shape[0]/20))):\n",
    "    temp = []\n",
    "    for col in cols:\n",
    "        temp.append(non_sepsis_df_no_label[col][s_i:e_i].mean())\n",
    "    person_mean.append(temp)\n",
    "    \n",
    "    s_i += 20\n",
    "    e_i += 20\n",
    "    \n",
    "len(person_mean)"
   ]
  },
  {
   "cell_type": "code",
   "execution_count": 241,
   "id": "ea9519ae",
   "metadata": {},
   "outputs": [
    {
     "name": "stderr",
     "output_type": "stream",
     "text": [
      "100%|██████████| 16350/16350 [00:00<00:00, 25061.27it/s]\n"
     ]
    }
   ],
   "source": [
    "# 환자별 평균을 정리한 리스트에 결측값을 0으로 변환\n",
    "\n",
    "for i in tqdm(range(len(person_mean))):\n",
    "    for j in range(len(person_mean[i])):\n",
    "        if str(person_mean[i][j]) == \"nan\":\n",
    "            person_mean[i][j] = 0\n",
    "        else:\n",
    "            person_mean[i][j] = round(person_mean[i][j], 1)"
   ]
  },
  {
   "cell_type": "code",
   "execution_count": 242,
   "id": "d2c26b43",
   "metadata": {},
   "outputs": [
    {
     "name": "stderr",
     "output_type": "stream",
     "text": [
      "100%|██████████| 16350/16350 [06:24<00:00, 42.47it/s]\n"
     ]
    }
   ],
   "source": [
    "# 결측치 없는 non sepsis DF 생성\n",
    "\n",
    "non_sepsis_df_no_label_and_mv = pd.DataFrame(columns = cols)\n",
    "\n",
    "s_i = 0\n",
    "e_i = 20\n",
    "\n",
    "for i in tqdm(range(int(non_sepsis_df_no_label.shape[0]/20))):\n",
    "    temp = pd.DataFrame()\n",
    "    for j, col in enumerate(cols):\n",
    "        temp[col] = non_sepsis_df_no_label[col][s_i:e_i].fillna(person_mean[i][j])\n",
    "        \n",
    "    non_sepsis_df_no_label_and_mv = pd.concat([non_sepsis_df_no_label_and_mv, temp])\n",
    "    s_i += 20\n",
    "    e_i += 20"
   ]
  },
  {
   "cell_type": "code",
   "execution_count": 243,
   "id": "14c6f773",
   "metadata": {},
   "outputs": [
    {
     "name": "stdout",
     "output_type": "stream",
     "text": [
      "non sepsis 환자 수 :  16350\n"
     ]
    }
   ],
   "source": [
    "non_len = non_sepsis_df_no_label_and_mv.shape[0]//20\n",
    "print('non sepsis 환자 수 : ', non_len)"
   ]
  },
  {
   "cell_type": "code",
   "execution_count": 244,
   "id": "dcb5d32a",
   "metadata": {},
   "outputs": [
    {
     "name": "stderr",
     "output_type": "stream",
     "text": [
      "100%|██████████| 16350/16350 [00:58<00:00, 281.53it/s]\n"
     ]
    }
   ],
   "source": [
    "# non_sepsis 데이터 > x_train, x_val, x_test에 추가 \n",
    "\n",
    "s = 0\n",
    "\n",
    "for _ in tqdm(range(non_len)):\n",
    "    if _ < tr:\n",
    "        for i in range(12):     # 20개의 데이터 세트에서 12개의 데이터를 label에 달아 사용 가능\n",
    "            temp = non_sepsis_df_no_label_and_mv[s+i : s+i+3].values.tolist()\n",
    "            x_train.append(temp)\n",
    "    elif _ < va:\n",
    "        for i in range(12):     # 20개의 데이터 세트에서 12개의 데이터를 label에 달아 사용 가능\n",
    "            temp = non_sepsis_df_no_label_and_mv[s+i : s+i+3].values.tolist()\n",
    "            x_val.append(temp)\n",
    "    elif _ < non_len:\n",
    "        for i in range(12):     # 20개의 데이터 세트에서 12개의 데이터를 label에 달아 사용 가능\n",
    "            temp = non_sepsis_df_no_label_and_mv[s+i : s+i+3].values.tolist()\n",
    "            x_test.append(temp)\n",
    "    else:\n",
    "        break\n",
    "    s += 20"
   ]
  },
  {
   "cell_type": "code",
   "execution_count": 245,
   "id": "458d6a96",
   "metadata": {},
   "outputs": [
    {
     "name": "stdout",
     "output_type": "stream",
     "text": [
      "1976.0 246.0 15363.0 17585\n"
     ]
    }
   ],
   "source": [
    "print(len(x_train)/12, len(x_val)/12, len(x_test)/12, len(x_train)//12 + len(x_val)//12 + len(x_test)//12)"
   ]
  },
  {
   "cell_type": "code",
   "execution_count": 248,
   "id": "ef8d3691",
   "metadata": {},
   "outputs": [],
   "source": [
    "# sepsis label > train, val, test set 구성\n",
    "\n",
    "y_train = []\n",
    "y_val = []\n",
    "y_test = []   # 988 123 124 1235\n",
    "\n",
    "for _ in range(len(s_label)):\n",
    "    if _ < tr:\n",
    "        y_train += s_label[_]\n",
    "    elif _ < va:\n",
    "        y_val += s_label[_]\n",
    "    elif _ < 1235:\n",
    "        y_test += s_label[_]\n",
    "    else:\n",
    "        break"
   ]
  },
  {
   "cell_type": "code",
   "execution_count": 253,
   "id": "40a44632",
   "metadata": {},
   "outputs": [
    {
     "data": {
      "text/plain": [
       "23712"
      ]
     },
     "execution_count": 253,
     "metadata": {},
     "output_type": "execute_result"
    }
   ],
   "source": [
    "len(x_train)"
   ]
  },
  {
   "cell_type": "code",
   "execution_count": 252,
   "id": "79c5dc7d",
   "metadata": {},
   "outputs": [
    {
     "data": {
      "text/plain": [
       "1235"
      ]
     },
     "execution_count": 252,
     "metadata": {},
     "output_type": "execute_result"
    }
   ],
   "source": [
    "len(s_label)"
   ]
  },
  {
   "cell_type": "code",
   "execution_count": null,
   "id": "2f7e2101",
   "metadata": {},
   "outputs": [],
   "source": []
  }
 ],
 "metadata": {
  "kernelspec": {
   "display_name": "ai",
   "language": "python",
   "name": "ai"
  },
  "language_info": {
   "codemirror_mode": {
    "name": "ipython",
    "version": 3
   },
   "file_extension": ".py",
   "mimetype": "text/x-python",
   "name": "python",
   "nbconvert_exporter": "python",
   "pygments_lexer": "ipython3",
   "version": "3.9.7"
  }
 },
 "nbformat": 4,
 "nbformat_minor": 5
}
