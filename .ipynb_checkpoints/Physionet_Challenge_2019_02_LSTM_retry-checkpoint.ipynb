{
 "cells": [
  {
   "cell_type": "code",
   "execution_count": 1,
   "id": "4d0dd89e",
   "metadata": {},
   "outputs": [],
   "source": [
    "import pandas as pd\n",
    "import numpy as np\n",
    "import matplotlib.pyplot as plt\n",
    "import seaborn as sns\n",
    "\n",
    "import os\n",
    "import csv\n",
    "from tqdm import tqdm"
   ]
  },
  {
   "cell_type": "code",
   "execution_count": 2,
   "id": "57293db0",
   "metadata": {},
   "outputs": [],
   "source": [
    "# import data\n",
    "df = pd.read_csv('00_df.csv', index_col=0)\n",
    "pre_df = pd.read_csv('01_pre_df.csv', index_col=0)\n",
    "interpoltaed_mv_df = pd.read_csv('02_interpoltaed_mv_df.csv', index_col=0)"
   ]
  },
  {
   "cell_type": "code",
   "execution_count": 3,
   "id": "2848c4f4",
   "metadata": {},
   "outputs": [
    {
     "data": {
      "text/plain": [
       "(783926, 41)"
      ]
     },
     "execution_count": 3,
     "metadata": {},
     "output_type": "execute_result"
    }
   ],
   "source": [
    "df.shape   # (783926, 41)"
   ]
  },
  {
   "cell_type": "code",
   "execution_count": 4,
   "id": "d5459bf0",
   "metadata": {},
   "outputs": [
    {
     "data": {
      "text/plain": [
       "(783926, 37)"
      ]
     },
     "execution_count": 4,
     "metadata": {},
     "output_type": "execute_result"
    }
   ],
   "source": [
    "pre_df.shape   # (783926, 37)"
   ]
  },
  {
   "cell_type": "code",
   "execution_count": 5,
   "id": "4cfdd1a5",
   "metadata": {},
   "outputs": [
    {
     "data": {
      "text/plain": [
       "(783926, 40)"
      ]
     },
     "execution_count": 5,
     "metadata": {},
     "output_type": "execute_result"
    }
   ],
   "source": [
    "interpoltaed_mv_df.shape"
   ]
  },
  {
   "cell_type": "code",
   "execution_count": 6,
   "id": "456cfea9",
   "metadata": {},
   "outputs": [],
   "source": [
    "# import list data\n",
    "\n",
    "data_length_per_person = []\n",
    "data_length_per_person_sum = []\n",
    "\n",
    "with open('data_length_per_person.csv', 'r', encoding='utf-8') as f:\n",
    "    rdr = csv.reader(f)\n",
    "    for para in rdr:\n",
    "        for i in para:\n",
    "            data_length_per_person.append(int(i))\n",
    "\n",
    "\n",
    "with open('data_length_per_person_sum.csv', 'r', encoding='utf-8') as f:\n",
    "    rdr = csv.reader(f)\n",
    "    for para in rdr:\n",
    "        for i in para:\n",
    "            data_length_per_person_sum.append(int(i))"
   ]
  },
  {
   "cell_type": "code",
   "execution_count": 7,
   "id": "6a39b3de",
   "metadata": {},
   "outputs": [
    {
     "data": {
      "text/plain": [
       "20169"
      ]
     },
     "execution_count": 7,
     "metadata": {},
     "output_type": "execute_result"
    }
   ],
   "source": [
    "len(data_length_per_person)   # 20169"
   ]
  },
  {
   "cell_type": "code",
   "execution_count": 8,
   "id": "536af5ad",
   "metadata": {},
   "outputs": [
    {
     "data": {
      "text/plain": [
       "20169"
      ]
     },
     "execution_count": 8,
     "metadata": {},
     "output_type": "execute_result"
    }
   ],
   "source": [
    "len(data_length_per_person_sum)   # 20169"
   ]
  },
  {
   "cell_type": "markdown",
   "id": "c524c000",
   "metadata": {},
   "source": [
    "## interpoltaed_mv_df 기준 \n",
    "논적으로 필요없는 데이터와 선형회귀로 결측치가 대치된 데이터만 사용해서 테스트"
   ]
  },
  {
   "cell_type": "code",
   "execution_count": 9,
   "id": "fe43eb3c",
   "metadata": {},
   "outputs": [
    {
     "data": {
      "text/html": [
       "<div>\n",
       "<style scoped>\n",
       "    .dataframe tbody tr th:only-of-type {\n",
       "        vertical-align: middle;\n",
       "    }\n",
       "\n",
       "    .dataframe tbody tr th {\n",
       "        vertical-align: top;\n",
       "    }\n",
       "\n",
       "    .dataframe thead th {\n",
       "        text-align: right;\n",
       "    }\n",
       "</style>\n",
       "<table border=\"1\" class=\"dataframe\">\n",
       "  <thead>\n",
       "    <tr style=\"text-align: right;\">\n",
       "      <th></th>\n",
       "      <th>HR</th>\n",
       "      <th>O2Sat</th>\n",
       "      <th>Temp</th>\n",
       "      <th>SBP</th>\n",
       "      <th>MAP</th>\n",
       "      <th>DBP</th>\n",
       "      <th>Resp</th>\n",
       "      <th>BaseExcess</th>\n",
       "      <th>HCO3</th>\n",
       "      <th>FiO2</th>\n",
       "      <th>...</th>\n",
       "      <th>WBC</th>\n",
       "      <th>Fibrinogen</th>\n",
       "      <th>Platelets</th>\n",
       "      <th>Age</th>\n",
       "      <th>Gender</th>\n",
       "      <th>Unit1</th>\n",
       "      <th>Unit2</th>\n",
       "      <th>HospAdmTime</th>\n",
       "      <th>ICULOS</th>\n",
       "      <th>SepsisLabel</th>\n",
       "    </tr>\n",
       "  </thead>\n",
       "  <tbody>\n",
       "    <tr>\n",
       "      <th>0</th>\n",
       "      <td>101.6</td>\n",
       "      <td>91.5</td>\n",
       "      <td>36.80</td>\n",
       "      <td>126.8</td>\n",
       "      <td>87.30</td>\n",
       "      <td>NaN</td>\n",
       "      <td>24.8</td>\n",
       "      <td>20.7</td>\n",
       "      <td>46.5</td>\n",
       "      <td>0.30</td>\n",
       "      <td>...</td>\n",
       "      <td>10.2</td>\n",
       "      <td>NaN</td>\n",
       "      <td>327.5</td>\n",
       "      <td>83.14</td>\n",
       "      <td>0</td>\n",
       "      <td>NaN</td>\n",
       "      <td>NaN</td>\n",
       "      <td>-0.03</td>\n",
       "      <td>1</td>\n",
       "      <td>0</td>\n",
       "    </tr>\n",
       "    <tr>\n",
       "      <th>1</th>\n",
       "      <td>97.0</td>\n",
       "      <td>95.0</td>\n",
       "      <td>36.80</td>\n",
       "      <td>98.0</td>\n",
       "      <td>75.33</td>\n",
       "      <td>NaN</td>\n",
       "      <td>19.0</td>\n",
       "      <td>20.7</td>\n",
       "      <td>46.5</td>\n",
       "      <td>0.30</td>\n",
       "      <td>...</td>\n",
       "      <td>10.2</td>\n",
       "      <td>NaN</td>\n",
       "      <td>327.5</td>\n",
       "      <td>83.14</td>\n",
       "      <td>0</td>\n",
       "      <td>NaN</td>\n",
       "      <td>NaN</td>\n",
       "      <td>-0.03</td>\n",
       "      <td>2</td>\n",
       "      <td>0</td>\n",
       "    </tr>\n",
       "    <tr>\n",
       "      <th>2</th>\n",
       "      <td>89.0</td>\n",
       "      <td>99.0</td>\n",
       "      <td>36.80</td>\n",
       "      <td>122.0</td>\n",
       "      <td>86.00</td>\n",
       "      <td>NaN</td>\n",
       "      <td>22.0</td>\n",
       "      <td>20.7</td>\n",
       "      <td>46.5</td>\n",
       "      <td>0.30</td>\n",
       "      <td>...</td>\n",
       "      <td>10.2</td>\n",
       "      <td>NaN</td>\n",
       "      <td>327.5</td>\n",
       "      <td>83.14</td>\n",
       "      <td>0</td>\n",
       "      <td>NaN</td>\n",
       "      <td>NaN</td>\n",
       "      <td>-0.03</td>\n",
       "      <td>3</td>\n",
       "      <td>0</td>\n",
       "    </tr>\n",
       "    <tr>\n",
       "      <th>3</th>\n",
       "      <td>90.0</td>\n",
       "      <td>95.0</td>\n",
       "      <td>36.80</td>\n",
       "      <td>126.8</td>\n",
       "      <td>87.30</td>\n",
       "      <td>NaN</td>\n",
       "      <td>30.0</td>\n",
       "      <td>24.0</td>\n",
       "      <td>46.5</td>\n",
       "      <td>0.30</td>\n",
       "      <td>...</td>\n",
       "      <td>10.2</td>\n",
       "      <td>NaN</td>\n",
       "      <td>327.5</td>\n",
       "      <td>83.14</td>\n",
       "      <td>0</td>\n",
       "      <td>NaN</td>\n",
       "      <td>NaN</td>\n",
       "      <td>-0.03</td>\n",
       "      <td>4</td>\n",
       "      <td>0</td>\n",
       "    </tr>\n",
       "    <tr>\n",
       "      <th>4</th>\n",
       "      <td>103.0</td>\n",
       "      <td>88.5</td>\n",
       "      <td>36.80</td>\n",
       "      <td>122.0</td>\n",
       "      <td>91.33</td>\n",
       "      <td>NaN</td>\n",
       "      <td>24.5</td>\n",
       "      <td>20.7</td>\n",
       "      <td>46.5</td>\n",
       "      <td>0.28</td>\n",
       "      <td>...</td>\n",
       "      <td>10.2</td>\n",
       "      <td>NaN</td>\n",
       "      <td>327.5</td>\n",
       "      <td>83.14</td>\n",
       "      <td>0</td>\n",
       "      <td>NaN</td>\n",
       "      <td>NaN</td>\n",
       "      <td>-0.03</td>\n",
       "      <td>5</td>\n",
       "      <td>0</td>\n",
       "    </tr>\n",
       "    <tr>\n",
       "      <th>...</th>\n",
       "      <td>...</td>\n",
       "      <td>...</td>\n",
       "      <td>...</td>\n",
       "      <td>...</td>\n",
       "      <td>...</td>\n",
       "      <td>...</td>\n",
       "      <td>...</td>\n",
       "      <td>...</td>\n",
       "      <td>...</td>\n",
       "      <td>...</td>\n",
       "      <td>...</td>\n",
       "      <td>...</td>\n",
       "      <td>...</td>\n",
       "      <td>...</td>\n",
       "      <td>...</td>\n",
       "      <td>...</td>\n",
       "      <td>...</td>\n",
       "      <td>...</td>\n",
       "      <td>...</td>\n",
       "      <td>...</td>\n",
       "      <td>...</td>\n",
       "    </tr>\n",
       "    <tr>\n",
       "      <th>783921</th>\n",
       "      <td>88.0</td>\n",
       "      <td>98.0</td>\n",
       "      <td>38.10</td>\n",
       "      <td>135.0</td>\n",
       "      <td>81.00</td>\n",
       "      <td>64.0</td>\n",
       "      <td>16.0</td>\n",
       "      <td>0.0</td>\n",
       "      <td>25.7</td>\n",
       "      <td>0.50</td>\n",
       "      <td>...</td>\n",
       "      <td>14.0</td>\n",
       "      <td>NaN</td>\n",
       "      <td>325.5</td>\n",
       "      <td>62.29</td>\n",
       "      <td>1</td>\n",
       "      <td>NaN</td>\n",
       "      <td>NaN</td>\n",
       "      <td>-0.03</td>\n",
       "      <td>31</td>\n",
       "      <td>1</td>\n",
       "    </tr>\n",
       "    <tr>\n",
       "      <th>783922</th>\n",
       "      <td>96.0</td>\n",
       "      <td>98.0</td>\n",
       "      <td>38.72</td>\n",
       "      <td>174.0</td>\n",
       "      <td>97.00</td>\n",
       "      <td>72.0</td>\n",
       "      <td>16.0</td>\n",
       "      <td>2.0</td>\n",
       "      <td>25.7</td>\n",
       "      <td>0.50</td>\n",
       "      <td>...</td>\n",
       "      <td>14.0</td>\n",
       "      <td>NaN</td>\n",
       "      <td>325.5</td>\n",
       "      <td>62.29</td>\n",
       "      <td>1</td>\n",
       "      <td>NaN</td>\n",
       "      <td>NaN</td>\n",
       "      <td>-0.03</td>\n",
       "      <td>32</td>\n",
       "      <td>1</td>\n",
       "    </tr>\n",
       "    <tr>\n",
       "      <th>783923</th>\n",
       "      <td>140.0</td>\n",
       "      <td>97.0</td>\n",
       "      <td>38.10</td>\n",
       "      <td>133.0</td>\n",
       "      <td>81.50</td>\n",
       "      <td>62.5</td>\n",
       "      <td>16.0</td>\n",
       "      <td>0.0</td>\n",
       "      <td>25.7</td>\n",
       "      <td>0.50</td>\n",
       "      <td>...</td>\n",
       "      <td>14.0</td>\n",
       "      <td>NaN</td>\n",
       "      <td>325.5</td>\n",
       "      <td>62.29</td>\n",
       "      <td>1</td>\n",
       "      <td>NaN</td>\n",
       "      <td>NaN</td>\n",
       "      <td>-0.03</td>\n",
       "      <td>33</td>\n",
       "      <td>1</td>\n",
       "    </tr>\n",
       "    <tr>\n",
       "      <th>783924</th>\n",
       "      <td>120.0</td>\n",
       "      <td>96.0</td>\n",
       "      <td>38.10</td>\n",
       "      <td>154.0</td>\n",
       "      <td>118.00</td>\n",
       "      <td>105.0</td>\n",
       "      <td>16.0</td>\n",
       "      <td>0.0</td>\n",
       "      <td>25.7</td>\n",
       "      <td>0.50</td>\n",
       "      <td>...</td>\n",
       "      <td>14.0</td>\n",
       "      <td>NaN</td>\n",
       "      <td>325.5</td>\n",
       "      <td>62.29</td>\n",
       "      <td>1</td>\n",
       "      <td>NaN</td>\n",
       "      <td>NaN</td>\n",
       "      <td>-0.03</td>\n",
       "      <td>34</td>\n",
       "      <td>1</td>\n",
       "    </tr>\n",
       "    <tr>\n",
       "      <th>783925</th>\n",
       "      <td>115.0</td>\n",
       "      <td>95.0</td>\n",
       "      <td>38.10</td>\n",
       "      <td>150.0</td>\n",
       "      <td>117.00</td>\n",
       "      <td>104.0</td>\n",
       "      <td>16.0</td>\n",
       "      <td>0.0</td>\n",
       "      <td>25.7</td>\n",
       "      <td>0.50</td>\n",
       "      <td>...</td>\n",
       "      <td>14.0</td>\n",
       "      <td>NaN</td>\n",
       "      <td>325.5</td>\n",
       "      <td>62.29</td>\n",
       "      <td>1</td>\n",
       "      <td>NaN</td>\n",
       "      <td>NaN</td>\n",
       "      <td>-0.03</td>\n",
       "      <td>35</td>\n",
       "      <td>1</td>\n",
       "    </tr>\n",
       "  </tbody>\n",
       "</table>\n",
       "<p>783926 rows × 40 columns</p>\n",
       "</div>"
      ],
      "text/plain": [
       "           HR  O2Sat   Temp    SBP     MAP    DBP  Resp  BaseExcess  HCO3  \\\n",
       "0       101.6   91.5  36.80  126.8   87.30    NaN  24.8        20.7  46.5   \n",
       "1        97.0   95.0  36.80   98.0   75.33    NaN  19.0        20.7  46.5   \n",
       "2        89.0   99.0  36.80  122.0   86.00    NaN  22.0        20.7  46.5   \n",
       "3        90.0   95.0  36.80  126.8   87.30    NaN  30.0        24.0  46.5   \n",
       "4       103.0   88.5  36.80  122.0   91.33    NaN  24.5        20.7  46.5   \n",
       "...       ...    ...    ...    ...     ...    ...   ...         ...   ...   \n",
       "783921   88.0   98.0  38.10  135.0   81.00   64.0  16.0         0.0  25.7   \n",
       "783922   96.0   98.0  38.72  174.0   97.00   72.0  16.0         2.0  25.7   \n",
       "783923  140.0   97.0  38.10  133.0   81.50   62.5  16.0         0.0  25.7   \n",
       "783924  120.0   96.0  38.10  154.0  118.00  105.0  16.0         0.0  25.7   \n",
       "783925  115.0   95.0  38.10  150.0  117.00  104.0  16.0         0.0  25.7   \n",
       "\n",
       "        FiO2  ...   WBC  Fibrinogen  Platelets    Age  Gender  Unit1  Unit2  \\\n",
       "0       0.30  ...  10.2         NaN      327.5  83.14       0    NaN    NaN   \n",
       "1       0.30  ...  10.2         NaN      327.5  83.14       0    NaN    NaN   \n",
       "2       0.30  ...  10.2         NaN      327.5  83.14       0    NaN    NaN   \n",
       "3       0.30  ...  10.2         NaN      327.5  83.14       0    NaN    NaN   \n",
       "4       0.28  ...  10.2         NaN      327.5  83.14       0    NaN    NaN   \n",
       "...      ...  ...   ...         ...        ...    ...     ...    ...    ...   \n",
       "783921  0.50  ...  14.0         NaN      325.5  62.29       1    NaN    NaN   \n",
       "783922  0.50  ...  14.0         NaN      325.5  62.29       1    NaN    NaN   \n",
       "783923  0.50  ...  14.0         NaN      325.5  62.29       1    NaN    NaN   \n",
       "783924  0.50  ...  14.0         NaN      325.5  62.29       1    NaN    NaN   \n",
       "783925  0.50  ...  14.0         NaN      325.5  62.29       1    NaN    NaN   \n",
       "\n",
       "        HospAdmTime  ICULOS  SepsisLabel  \n",
       "0             -0.03       1            0  \n",
       "1             -0.03       2            0  \n",
       "2             -0.03       3            0  \n",
       "3             -0.03       4            0  \n",
       "4             -0.03       5            0  \n",
       "...             ...     ...          ...  \n",
       "783921        -0.03      31            1  \n",
       "783922        -0.03      32            1  \n",
       "783923        -0.03      33            1  \n",
       "783924        -0.03      34            1  \n",
       "783925        -0.03      35            1  \n",
       "\n",
       "[783926 rows x 40 columns]"
      ]
     },
     "execution_count": 9,
     "metadata": {},
     "output_type": "execute_result"
    }
   ],
   "source": [
    "interpoltaed_mv_df"
   ]
  },
  {
   "cell_type": "code",
   "execution_count": 10,
   "id": "72c1e5bf",
   "metadata": {},
   "outputs": [
    {
     "data": {
      "text/plain": [
       "Index(['HR', 'O2Sat', 'Temp', 'SBP', 'MAP', 'DBP', 'Resp', 'BaseExcess',\n",
       "       'HCO3', 'FiO2', 'pH', 'PaCO2', 'SaO2', 'AST', 'BUN', 'Alkalinephos',\n",
       "       'Calcium', 'Chloride', 'Creatinine', 'Bilirubin_direct', 'Glucose',\n",
       "       'Lactate', 'Magnesium', 'Phosphate', 'Potassium', 'Bilirubin_total',\n",
       "       'TroponinI', 'Hct', 'Hgb', 'PTT', 'WBC', 'Fibrinogen', 'Platelets',\n",
       "       'Age', 'Gender', 'Unit1', 'Unit2', 'HospAdmTime', 'ICULOS',\n",
       "       'SepsisLabel'],\n",
       "      dtype='object')"
      ]
     },
     "execution_count": 10,
     "metadata": {},
     "output_type": "execute_result"
    }
   ],
   "source": [
    "cols = interpoltaed_mv_df.columns\n",
    "cols"
   ]
  },
  {
   "cell_type": "code",
   "execution_count": 17,
   "id": "b7d11981",
   "metadata": {},
   "outputs": [],
   "source": [
    "interpoltaed_mv_df.drop(['Unit1', 'Unit2', 'HospAdmTime', 'ICULOS'], axis=1, inplace=True)"
   ]
  },
  {
   "cell_type": "code",
   "execution_count": 24,
   "id": "e810926e",
   "metadata": {},
   "outputs": [
    {
     "data": {
      "text/plain": [
       "(783926, 36)"
      ]
     },
     "execution_count": 24,
     "metadata": {},
     "output_type": "execute_result"
    }
   ],
   "source": [
    "interpoltaed_mv_df.shape"
   ]
  },
  {
   "cell_type": "code",
   "execution_count": 32,
   "id": "8f1c82ba",
   "metadata": {},
   "outputs": [
    {
     "data": {
      "text/plain": [
       "36"
      ]
     },
     "execution_count": 32,
     "metadata": {},
     "output_type": "execute_result"
    }
   ],
   "source": [
    "cols = interpoltaed_mv_df.columns\n",
    "len(cols)"
   ]
  },
  {
   "cell_type": "markdown",
   "id": "e68dc7a5",
   "metadata": {},
   "source": [
    "## 환자별 20 row data를 추출\n",
    "20 row가 되지 않는다면 drop / 20 이상의 row를 가지고 있다면 뒤쪽 데이터부터 20을 추출"
   ]
  },
  {
   "cell_type": "code",
   "execution_count": 26,
   "id": "6c82acaf",
   "metadata": {},
   "outputs": [
    {
     "data": {
      "text/plain": [
       "20169"
      ]
     },
     "execution_count": 26,
     "metadata": {},
     "output_type": "execute_result"
    }
   ],
   "source": [
    "len(data_length_per_person_sum)"
   ]
  },
  {
   "cell_type": "code",
   "execution_count": 27,
   "id": "d213f6f6",
   "metadata": {},
   "outputs": [],
   "source": [
    "data_length_per_person_sum.insert(0,0)"
   ]
  },
  {
   "cell_type": "code",
   "execution_count": 29,
   "id": "d55d25ab",
   "metadata": {},
   "outputs": [
    {
     "data": {
      "text/plain": [
       "20170"
      ]
     },
     "execution_count": 29,
     "metadata": {},
     "output_type": "execute_result"
    }
   ],
   "source": [
    "len(data_length_per_person_sum)"
   ]
  },
  {
   "cell_type": "code",
   "execution_count": 40,
   "id": "bfe23ae4",
   "metadata": {},
   "outputs": [
    {
     "name": "stderr",
     "output_type": "stream",
     "text": [
      "100%|██████████| 20169/20169 [08:32<00:00, 39.37it/s]\n"
     ]
    }
   ],
   "source": [
    "s_i = 0\n",
    "e_i = 1\n",
    "\n",
    "data_per_patient_for_20 = pd.DataFrame(columns = cols)\n",
    "for i in tqdm(range(len(data_length_per_person_sum)-1)):\n",
    "    s = data_length_per_person_sum[s_i]\n",
    "    e = data_length_per_person_sum[e_i]\n",
    "    if e - s >= 20:\n",
    "        temp = interpoltaed_mv_df[e-20:e]\n",
    "        data_per_patient_for_20 = pd.concat([data_per_patient_for_20, temp])\n",
    "    \n",
    "    s_i += 1\n",
    "    e_i += 1"
   ]
  },
  {
   "cell_type": "code",
   "execution_count": 41,
   "id": "475430c0",
   "metadata": {},
   "outputs": [
    {
     "data": {
      "text/html": [
       "<div>\n",
       "<style scoped>\n",
       "    .dataframe tbody tr th:only-of-type {\n",
       "        vertical-align: middle;\n",
       "    }\n",
       "\n",
       "    .dataframe tbody tr th {\n",
       "        vertical-align: top;\n",
       "    }\n",
       "\n",
       "    .dataframe thead th {\n",
       "        text-align: right;\n",
       "    }\n",
       "</style>\n",
       "<table border=\"1\" class=\"dataframe\">\n",
       "  <thead>\n",
       "    <tr style=\"text-align: right;\">\n",
       "      <th></th>\n",
       "      <th>HR</th>\n",
       "      <th>O2Sat</th>\n",
       "      <th>Temp</th>\n",
       "      <th>SBP</th>\n",
       "      <th>MAP</th>\n",
       "      <th>DBP</th>\n",
       "      <th>Resp</th>\n",
       "      <th>BaseExcess</th>\n",
       "      <th>HCO3</th>\n",
       "      <th>FiO2</th>\n",
       "      <th>...</th>\n",
       "      <th>TroponinI</th>\n",
       "      <th>Hct</th>\n",
       "      <th>Hgb</th>\n",
       "      <th>PTT</th>\n",
       "      <th>WBC</th>\n",
       "      <th>Fibrinogen</th>\n",
       "      <th>Platelets</th>\n",
       "      <th>Age</th>\n",
       "      <th>Gender</th>\n",
       "      <th>SepsisLabel</th>\n",
       "    </tr>\n",
       "  </thead>\n",
       "  <tbody>\n",
       "    <tr>\n",
       "      <th>34</th>\n",
       "      <td>102.0</td>\n",
       "      <td>91.5</td>\n",
       "      <td>36.80</td>\n",
       "      <td>103.0</td>\n",
       "      <td>75.67</td>\n",
       "      <td>NaN</td>\n",
       "      <td>24.0</td>\n",
       "      <td>20.7</td>\n",
       "      <td>46.5</td>\n",
       "      <td>0.3</td>\n",
       "      <td>...</td>\n",
       "      <td>NaN</td>\n",
       "      <td>36.7</td>\n",
       "      <td>12.3</td>\n",
       "      <td>NaN</td>\n",
       "      <td>10.2</td>\n",
       "      <td>NaN</td>\n",
       "      <td>327.5</td>\n",
       "      <td>83.14</td>\n",
       "      <td>0</td>\n",
       "      <td>0</td>\n",
       "    </tr>\n",
       "    <tr>\n",
       "      <th>35</th>\n",
       "      <td>99.0</td>\n",
       "      <td>89.0</td>\n",
       "      <td>37.11</td>\n",
       "      <td>113.0</td>\n",
       "      <td>96.33</td>\n",
       "      <td>NaN</td>\n",
       "      <td>26.0</td>\n",
       "      <td>20.7</td>\n",
       "      <td>46.5</td>\n",
       "      <td>0.3</td>\n",
       "      <td>...</td>\n",
       "      <td>NaN</td>\n",
       "      <td>36.7</td>\n",
       "      <td>12.3</td>\n",
       "      <td>NaN</td>\n",
       "      <td>10.2</td>\n",
       "      <td>NaN</td>\n",
       "      <td>327.5</td>\n",
       "      <td>83.14</td>\n",
       "      <td>0</td>\n",
       "      <td>0</td>\n",
       "    </tr>\n",
       "    <tr>\n",
       "      <th>36</th>\n",
       "      <td>97.0</td>\n",
       "      <td>89.0</td>\n",
       "      <td>36.80</td>\n",
       "      <td>110.0</td>\n",
       "      <td>72.00</td>\n",
       "      <td>NaN</td>\n",
       "      <td>29.0</td>\n",
       "      <td>20.7</td>\n",
       "      <td>46.5</td>\n",
       "      <td>0.3</td>\n",
       "      <td>...</td>\n",
       "      <td>NaN</td>\n",
       "      <td>36.7</td>\n",
       "      <td>12.3</td>\n",
       "      <td>NaN</td>\n",
       "      <td>10.2</td>\n",
       "      <td>NaN</td>\n",
       "      <td>327.5</td>\n",
       "      <td>83.14</td>\n",
       "      <td>0</td>\n",
       "      <td>0</td>\n",
       "    </tr>\n",
       "    <tr>\n",
       "      <th>37</th>\n",
       "      <td>110.0</td>\n",
       "      <td>89.0</td>\n",
       "      <td>36.80</td>\n",
       "      <td>108.0</td>\n",
       "      <td>90.67</td>\n",
       "      <td>NaN</td>\n",
       "      <td>24.0</td>\n",
       "      <td>20.7</td>\n",
       "      <td>46.5</td>\n",
       "      <td>0.3</td>\n",
       "      <td>...</td>\n",
       "      <td>NaN</td>\n",
       "      <td>36.7</td>\n",
       "      <td>12.3</td>\n",
       "      <td>NaN</td>\n",
       "      <td>10.2</td>\n",
       "      <td>NaN</td>\n",
       "      <td>327.5</td>\n",
       "      <td>83.14</td>\n",
       "      <td>0</td>\n",
       "      <td>0</td>\n",
       "    </tr>\n",
       "    <tr>\n",
       "      <th>38</th>\n",
       "      <td>108.0</td>\n",
       "      <td>89.0</td>\n",
       "      <td>36.80</td>\n",
       "      <td>139.0</td>\n",
       "      <td>102.33</td>\n",
       "      <td>NaN</td>\n",
       "      <td>26.0</td>\n",
       "      <td>20.0</td>\n",
       "      <td>46.5</td>\n",
       "      <td>0.3</td>\n",
       "      <td>...</td>\n",
       "      <td>NaN</td>\n",
       "      <td>36.7</td>\n",
       "      <td>12.3</td>\n",
       "      <td>NaN</td>\n",
       "      <td>10.2</td>\n",
       "      <td>NaN</td>\n",
       "      <td>327.5</td>\n",
       "      <td>83.14</td>\n",
       "      <td>0</td>\n",
       "      <td>0</td>\n",
       "    </tr>\n",
       "    <tr>\n",
       "      <th>...</th>\n",
       "      <td>...</td>\n",
       "      <td>...</td>\n",
       "      <td>...</td>\n",
       "      <td>...</td>\n",
       "      <td>...</td>\n",
       "      <td>...</td>\n",
       "      <td>...</td>\n",
       "      <td>...</td>\n",
       "      <td>...</td>\n",
       "      <td>...</td>\n",
       "      <td>...</td>\n",
       "      <td>...</td>\n",
       "      <td>...</td>\n",
       "      <td>...</td>\n",
       "      <td>...</td>\n",
       "      <td>...</td>\n",
       "      <td>...</td>\n",
       "      <td>...</td>\n",
       "      <td>...</td>\n",
       "      <td>...</td>\n",
       "      <td>...</td>\n",
       "    </tr>\n",
       "    <tr>\n",
       "      <th>783921</th>\n",
       "      <td>88.0</td>\n",
       "      <td>98.0</td>\n",
       "      <td>38.10</td>\n",
       "      <td>135.0</td>\n",
       "      <td>81.00</td>\n",
       "      <td>64.0</td>\n",
       "      <td>16.0</td>\n",
       "      <td>0.0</td>\n",
       "      <td>25.7</td>\n",
       "      <td>0.5</td>\n",
       "      <td>...</td>\n",
       "      <td>NaN</td>\n",
       "      <td>31.2</td>\n",
       "      <td>11.6</td>\n",
       "      <td>29.8</td>\n",
       "      <td>14.0</td>\n",
       "      <td>NaN</td>\n",
       "      <td>325.5</td>\n",
       "      <td>62.29</td>\n",
       "      <td>1</td>\n",
       "      <td>1</td>\n",
       "    </tr>\n",
       "    <tr>\n",
       "      <th>783922</th>\n",
       "      <td>96.0</td>\n",
       "      <td>98.0</td>\n",
       "      <td>38.72</td>\n",
       "      <td>174.0</td>\n",
       "      <td>97.00</td>\n",
       "      <td>72.0</td>\n",
       "      <td>16.0</td>\n",
       "      <td>2.0</td>\n",
       "      <td>25.7</td>\n",
       "      <td>0.5</td>\n",
       "      <td>...</td>\n",
       "      <td>NaN</td>\n",
       "      <td>27.8</td>\n",
       "      <td>11.6</td>\n",
       "      <td>29.8</td>\n",
       "      <td>14.0</td>\n",
       "      <td>NaN</td>\n",
       "      <td>325.5</td>\n",
       "      <td>62.29</td>\n",
       "      <td>1</td>\n",
       "      <td>1</td>\n",
       "    </tr>\n",
       "    <tr>\n",
       "      <th>783923</th>\n",
       "      <td>140.0</td>\n",
       "      <td>97.0</td>\n",
       "      <td>38.10</td>\n",
       "      <td>133.0</td>\n",
       "      <td>81.50</td>\n",
       "      <td>62.5</td>\n",
       "      <td>16.0</td>\n",
       "      <td>0.0</td>\n",
       "      <td>25.7</td>\n",
       "      <td>0.5</td>\n",
       "      <td>...</td>\n",
       "      <td>NaN</td>\n",
       "      <td>31.2</td>\n",
       "      <td>11.6</td>\n",
       "      <td>29.8</td>\n",
       "      <td>14.0</td>\n",
       "      <td>NaN</td>\n",
       "      <td>325.5</td>\n",
       "      <td>62.29</td>\n",
       "      <td>1</td>\n",
       "      <td>1</td>\n",
       "    </tr>\n",
       "    <tr>\n",
       "      <th>783924</th>\n",
       "      <td>120.0</td>\n",
       "      <td>96.0</td>\n",
       "      <td>38.10</td>\n",
       "      <td>154.0</td>\n",
       "      <td>118.00</td>\n",
       "      <td>105.0</td>\n",
       "      <td>16.0</td>\n",
       "      <td>0.0</td>\n",
       "      <td>25.7</td>\n",
       "      <td>0.5</td>\n",
       "      <td>...</td>\n",
       "      <td>NaN</td>\n",
       "      <td>31.2</td>\n",
       "      <td>11.6</td>\n",
       "      <td>29.8</td>\n",
       "      <td>14.0</td>\n",
       "      <td>NaN</td>\n",
       "      <td>325.5</td>\n",
       "      <td>62.29</td>\n",
       "      <td>1</td>\n",
       "      <td>1</td>\n",
       "    </tr>\n",
       "    <tr>\n",
       "      <th>783925</th>\n",
       "      <td>115.0</td>\n",
       "      <td>95.0</td>\n",
       "      <td>38.10</td>\n",
       "      <td>150.0</td>\n",
       "      <td>117.00</td>\n",
       "      <td>104.0</td>\n",
       "      <td>16.0</td>\n",
       "      <td>0.0</td>\n",
       "      <td>25.7</td>\n",
       "      <td>0.5</td>\n",
       "      <td>...</td>\n",
       "      <td>NaN</td>\n",
       "      <td>31.2</td>\n",
       "      <td>11.6</td>\n",
       "      <td>29.8</td>\n",
       "      <td>14.0</td>\n",
       "      <td>NaN</td>\n",
       "      <td>325.5</td>\n",
       "      <td>62.29</td>\n",
       "      <td>1</td>\n",
       "      <td>1</td>\n",
       "    </tr>\n",
       "  </tbody>\n",
       "</table>\n",
       "<p>351700 rows × 36 columns</p>\n",
       "</div>"
      ],
      "text/plain": [
       "           HR  O2Sat   Temp    SBP     MAP    DBP  Resp  BaseExcess  HCO3  \\\n",
       "34      102.0   91.5  36.80  103.0   75.67    NaN  24.0        20.7  46.5   \n",
       "35       99.0   89.0  37.11  113.0   96.33    NaN  26.0        20.7  46.5   \n",
       "36       97.0   89.0  36.80  110.0   72.00    NaN  29.0        20.7  46.5   \n",
       "37      110.0   89.0  36.80  108.0   90.67    NaN  24.0        20.7  46.5   \n",
       "38      108.0   89.0  36.80  139.0  102.33    NaN  26.0        20.0  46.5   \n",
       "...       ...    ...    ...    ...     ...    ...   ...         ...   ...   \n",
       "783921   88.0   98.0  38.10  135.0   81.00   64.0  16.0         0.0  25.7   \n",
       "783922   96.0   98.0  38.72  174.0   97.00   72.0  16.0         2.0  25.7   \n",
       "783923  140.0   97.0  38.10  133.0   81.50   62.5  16.0         0.0  25.7   \n",
       "783924  120.0   96.0  38.10  154.0  118.00  105.0  16.0         0.0  25.7   \n",
       "783925  115.0   95.0  38.10  150.0  117.00  104.0  16.0         0.0  25.7   \n",
       "\n",
       "        FiO2  ...  TroponinI   Hct   Hgb   PTT   WBC  Fibrinogen  Platelets  \\\n",
       "34       0.3  ...        NaN  36.7  12.3   NaN  10.2         NaN      327.5   \n",
       "35       0.3  ...        NaN  36.7  12.3   NaN  10.2         NaN      327.5   \n",
       "36       0.3  ...        NaN  36.7  12.3   NaN  10.2         NaN      327.5   \n",
       "37       0.3  ...        NaN  36.7  12.3   NaN  10.2         NaN      327.5   \n",
       "38       0.3  ...        NaN  36.7  12.3   NaN  10.2         NaN      327.5   \n",
       "...      ...  ...        ...   ...   ...   ...   ...         ...        ...   \n",
       "783921   0.5  ...        NaN  31.2  11.6  29.8  14.0         NaN      325.5   \n",
       "783922   0.5  ...        NaN  27.8  11.6  29.8  14.0         NaN      325.5   \n",
       "783923   0.5  ...        NaN  31.2  11.6  29.8  14.0         NaN      325.5   \n",
       "783924   0.5  ...        NaN  31.2  11.6  29.8  14.0         NaN      325.5   \n",
       "783925   0.5  ...        NaN  31.2  11.6  29.8  14.0         NaN      325.5   \n",
       "\n",
       "          Age  Gender  SepsisLabel  \n",
       "34      83.14       0            0  \n",
       "35      83.14       0            0  \n",
       "36      83.14       0            0  \n",
       "37      83.14       0            0  \n",
       "38      83.14       0            0  \n",
       "...       ...     ...          ...  \n",
       "783921  62.29       1            1  \n",
       "783922  62.29       1            1  \n",
       "783923  62.29       1            1  \n",
       "783924  62.29       1            1  \n",
       "783925  62.29       1            1  \n",
       "\n",
       "[351700 rows x 36 columns]"
      ]
     },
     "execution_count": 41,
     "metadata": {},
     "output_type": "execute_result"
    }
   ],
   "source": [
    "data_per_patient_for_20"
   ]
  },
  {
   "cell_type": "code",
   "execution_count": 51,
   "id": "92f28894",
   "metadata": {},
   "outputs": [
    {
     "data": {
      "text/plain": [
       "17585.0"
      ]
     },
     "execution_count": 51,
     "metadata": {},
     "output_type": "execute_result"
    }
   ],
   "source": [
    "people = int(data_per_patient_for_20.shape[0]/20)\n",
    "people"
   ]
  },
  {
   "cell_type": "code",
   "execution_count": 60,
   "id": "77d9a66a",
   "metadata": {},
   "outputs": [
    {
     "name": "stdout",
     "output_type": "stream",
     "text": [
      "20행 미만의 데이터 수 : 2584.0, 손실율: 12.8)\n"
     ]
    }
   ],
   "source": [
    "diff = (len(data_length_per_person_sum)-1) - data_per_patient_for_20.shape[0]/20\n",
    "loss = round(diff/(len(data_length_per_person_sum)-1)*100, 1)\n",
    "\n",
    "print(f'20행 미만의 데이터 수 : {diff}, 손실율: {loss})')"
   ]
  },
  {
   "cell_type": "markdown",
   "id": "78b4555c",
   "metadata": {},
   "source": [
    "### sepsis vs non_sepsis 추출"
   ]
  },
  {
   "cell_type": "code",
   "execution_count": 62,
   "id": "53cf37aa",
   "metadata": {},
   "outputs": [
    {
     "name": "stderr",
     "output_type": "stream",
     "text": [
      "100%|██████████| 17585/17585 [07:33<00:00, 38.79it/s]\n"
     ]
    }
   ],
   "source": [
    "# sepsis와 non sepsis 구분\n",
    "\n",
    "s = 0\n",
    "e = 20\n",
    "\n",
    "sepsis_df = pd.DataFrame(columns=cols)\n",
    "non_sepsis_df = pd.DataFrame(columns=cols)\n",
    "\n",
    "for _ in tqdm(range(people)):\n",
    "    if data_per_patient_for_20[s:e]['SepsisLabel'].sum() >= 1:\n",
    "        data = data_per_patient_for_20[s:e]\n",
    "        sepsis_df = pd.concat([sepsis_df, data])\n",
    "    else: \n",
    "        data = data_per_patient_for_20[s:e]\n",
    "        non_sepsis_df = pd.concat([non_sepsis_df, data])\n",
    "        \n",
    "    s += 20\n",
    "    e += 20"
   ]
  },
  {
   "cell_type": "code",
   "execution_count": 107,
   "id": "ba624f31",
   "metadata": {},
   "outputs": [
    {
     "data": {
      "text/plain": [
       "(24700, 36)"
      ]
     },
     "execution_count": 107,
     "metadata": {},
     "output_type": "execute_result"
    }
   ],
   "source": [
    "sepsis_df.shape"
   ]
  },
  {
   "cell_type": "code",
   "execution_count": 64,
   "id": "f54083de",
   "metadata": {},
   "outputs": [
    {
     "data": {
      "text/plain": [
       "(327000, 36)"
      ]
     },
     "execution_count": 64,
     "metadata": {},
     "output_type": "execute_result"
    }
   ],
   "source": [
    "non_sepsis_df.shape"
   ]
  },
  {
   "cell_type": "markdown",
   "id": "cd14718b",
   "metadata": {},
   "source": [
    "### 3시간의 데이터를 보고 6시간 후의 패혈증 발병 정도를 예측\n",
    "1환자당 12개의 데이터 추출가능"
   ]
  },
  {
   "cell_type": "code",
   "execution_count": 85,
   "id": "6ddff48b",
   "metadata": {},
   "outputs": [
    {
     "name": "stderr",
     "output_type": "stream",
     "text": [
      "100%|██████████| 1235/1235 [00:00<00:00, 14736.20it/s]\n"
     ]
    }
   ],
   "source": [
    "e = 20\n",
    "\n",
    "s_label = []\n",
    "for i in tqdm(range(int(sepsis_df.shape[0]/20))):\n",
    "    temp = sepsis_df[\"SepsisLabel\"][e-12:e]\n",
    "    s_label.append(list(temp))\n",
    "    \n",
    "    e += 20"
   ]
  },
  {
   "cell_type": "code",
   "execution_count": 92,
   "id": "b2851e75",
   "metadata": {},
   "outputs": [
    {
     "name": "stderr",
     "output_type": "stream",
     "text": [
      "100%|██████████| 16350/16350 [00:00<00:00, 16659.78it/s]\n"
     ]
    }
   ],
   "source": [
    "e = 20\n",
    "\n",
    "ns_label = []\n",
    "for i in tqdm(range(int(non_sepsis_df.shape[0]/20))):\n",
    "    temp = non_sepsis_df[\"SepsisLabel\"][e-12:e]\n",
    "    ns_label.append(list(temp))\n",
    "    \n",
    "    e += 20"
   ]
  },
  {
   "cell_type": "markdown",
   "id": "f17497fd",
   "metadata": {},
   "source": [
    "### 훈련, 검증, 테스트 세트 구성\n",
    "sepsis와 non_sepsis 데이터의 비율을 고려하지 않고 모든 데이터를 활용"
   ]
  },
  {
   "cell_type": "code",
   "execution_count": 96,
   "id": "462c21a5",
   "metadata": {},
   "outputs": [],
   "source": [
    "x_train, x_val, x_test = [], [], []\n",
    "y_train, y_val, y_test = [], [], []"
   ]
  },
  {
   "cell_type": "code",
   "execution_count": 104,
   "id": "b27e406f",
   "metadata": {},
   "outputs": [],
   "source": [
    "def ratio(li):\n",
    "    l = len(li)\n",
    "    train = l*0.8\n",
    "    val = train + int(l*0.1)\n",
    "    test = val + int(l*0.1)\n",
    "    return int(train), int(val), int(test)"
   ]
  },
  {
   "cell_type": "code",
   "execution_count": 105,
   "id": "f4de36df",
   "metadata": {},
   "outputs": [
    {
     "name": "stdout",
     "output_type": "stream",
     "text": [
      "988 1111 1234\n"
     ]
    }
   ],
   "source": [
    "tr, va, te = ratio(s_label)\n",
    "print(tr, va, te)"
   ]
  },
  {
   "cell_type": "code",
   "execution_count": 118,
   "id": "4f1b7122",
   "metadata": {},
   "outputs": [
    {
     "data": {
      "text/plain": [
       "(24700, 35)"
      ]
     },
     "execution_count": 118,
     "metadata": {},
     "output_type": "execute_result"
    }
   ],
   "source": [
    "sepsis_df_no_label = sepsis_df.drop(['SepsisLabel'], axis=1)\n",
    "sepsis_df_no_label.shape"
   ]
  },
  {
   "cell_type": "code",
   "execution_count": 119,
   "id": "836222dc",
   "metadata": {},
   "outputs": [
    {
     "data": {
      "text/plain": [
       "(327000, 35)"
      ]
     },
     "execution_count": 119,
     "metadata": {},
     "output_type": "execute_result"
    }
   ],
   "source": [
    "non_sepsis_df_no_label = non_sepsis_df.drop(['SepsisLabel'], axis=1)\n",
    "non_sepsis_df_no_label.shape"
   ]
  },
  {
   "cell_type": "markdown",
   "id": "7f4aed11",
   "metadata": {},
   "source": [
    "### 선형회귀법으로 결측치를 대치하고 남은 결측치는 현 상태의 평균대치법으로 적용"
   ]
  },
  {
   "cell_type": "code",
   "execution_count": 143,
   "id": "2a174612",
   "metadata": {},
   "outputs": [
    {
     "ename": "KeyError",
     "evalue": "'SepsisLabel'",
     "output_type": "error",
     "traceback": [
      "\u001b[1;31m---------------------------------------------------------------------------\u001b[0m",
      "\u001b[1;31mKeyError\u001b[0m                                  Traceback (most recent call last)",
      "\u001b[1;32m~\\Anaconda3\\envs\\ai\\lib\\site-packages\\pandas\\core\\indexes\\base.py\u001b[0m in \u001b[0;36mget_loc\u001b[1;34m(self, key, method, tolerance)\u001b[0m\n\u001b[0;32m   3360\u001b[0m             \u001b[1;32mtry\u001b[0m\u001b[1;33m:\u001b[0m\u001b[1;33m\u001b[0m\u001b[1;33m\u001b[0m\u001b[0m\n\u001b[1;32m-> 3361\u001b[1;33m                 \u001b[1;32mreturn\u001b[0m \u001b[0mself\u001b[0m\u001b[1;33m.\u001b[0m\u001b[0m_engine\u001b[0m\u001b[1;33m.\u001b[0m\u001b[0mget_loc\u001b[0m\u001b[1;33m(\u001b[0m\u001b[0mcasted_key\u001b[0m\u001b[1;33m)\u001b[0m\u001b[1;33m\u001b[0m\u001b[1;33m\u001b[0m\u001b[0m\n\u001b[0m\u001b[0;32m   3362\u001b[0m             \u001b[1;32mexcept\u001b[0m \u001b[0mKeyError\u001b[0m \u001b[1;32mas\u001b[0m \u001b[0merr\u001b[0m\u001b[1;33m:\u001b[0m\u001b[1;33m\u001b[0m\u001b[1;33m\u001b[0m\u001b[0m\n",
      "\u001b[1;32m~\\Anaconda3\\envs\\ai\\lib\\site-packages\\pandas\\_libs\\index.pyx\u001b[0m in \u001b[0;36mpandas._libs.index.IndexEngine.get_loc\u001b[1;34m()\u001b[0m\n",
      "\u001b[1;32m~\\Anaconda3\\envs\\ai\\lib\\site-packages\\pandas\\_libs\\index.pyx\u001b[0m in \u001b[0;36mpandas._libs.index.IndexEngine.get_loc\u001b[1;34m()\u001b[0m\n",
      "\u001b[1;32mpandas\\_libs\\hashtable_class_helper.pxi\u001b[0m in \u001b[0;36mpandas._libs.hashtable.PyObjectHashTable.get_item\u001b[1;34m()\u001b[0m\n",
      "\u001b[1;32mpandas\\_libs\\hashtable_class_helper.pxi\u001b[0m in \u001b[0;36mpandas._libs.hashtable.PyObjectHashTable.get_item\u001b[1;34m()\u001b[0m\n",
      "\u001b[1;31mKeyError\u001b[0m: 'SepsisLabel'",
      "\nThe above exception was the direct cause of the following exception:\n",
      "\u001b[1;31mKeyError\u001b[0m                                  Traceback (most recent call last)",
      "\u001b[1;32m~\\AppData\\Local\\Temp/ipykernel_17532/3633163227.py\u001b[0m in \u001b[0;36m<module>\u001b[1;34m\u001b[0m\n\u001b[0;32m      6\u001b[0m \u001b[1;33m\u001b[0m\u001b[0m\n\u001b[0;32m      7\u001b[0m \u001b[1;32mfor\u001b[0m \u001b[0mcol\u001b[0m \u001b[1;32min\u001b[0m \u001b[0mcols\u001b[0m\u001b[1;33m:\u001b[0m\u001b[1;33m\u001b[0m\u001b[1;33m\u001b[0m\u001b[0m\n\u001b[1;32m----> 8\u001b[1;33m     \u001b[0mtotal_mean\u001b[0m\u001b[1;33m.\u001b[0m\u001b[0mappend\u001b[0m\u001b[1;33m(\u001b[0m\u001b[0msepsis_df_no_label\u001b[0m\u001b[1;33m[\u001b[0m\u001b[0mcol\u001b[0m\u001b[1;33m]\u001b[0m\u001b[1;33m.\u001b[0m\u001b[0mmean\u001b[0m\u001b[1;33m(\u001b[0m\u001b[1;33m)\u001b[0m\u001b[1;33m)\u001b[0m\u001b[1;33m\u001b[0m\u001b[1;33m\u001b[0m\u001b[0m\n\u001b[0m\u001b[0;32m      9\u001b[0m \u001b[1;31m#     for _ in range(int(sepsis_df_no_label.shape[0]/20)):\u001b[0m\u001b[1;33m\u001b[0m\u001b[1;33m\u001b[0m\u001b[0m\n\u001b[0;32m     10\u001b[0m \u001b[1;31m#         person_mean.append(sepsis_df_no_label[col][s_i:e_I].mean())\u001b[0m\u001b[1;33m\u001b[0m\u001b[1;33m\u001b[0m\u001b[0m\n",
      "\u001b[1;32m~\\Anaconda3\\envs\\ai\\lib\\site-packages\\pandas\\core\\frame.py\u001b[0m in \u001b[0;36m__getitem__\u001b[1;34m(self, key)\u001b[0m\n\u001b[0;32m   3456\u001b[0m             \u001b[1;32mif\u001b[0m \u001b[0mself\u001b[0m\u001b[1;33m.\u001b[0m\u001b[0mcolumns\u001b[0m\u001b[1;33m.\u001b[0m\u001b[0mnlevels\u001b[0m \u001b[1;33m>\u001b[0m \u001b[1;36m1\u001b[0m\u001b[1;33m:\u001b[0m\u001b[1;33m\u001b[0m\u001b[1;33m\u001b[0m\u001b[0m\n\u001b[0;32m   3457\u001b[0m                 \u001b[1;32mreturn\u001b[0m \u001b[0mself\u001b[0m\u001b[1;33m.\u001b[0m\u001b[0m_getitem_multilevel\u001b[0m\u001b[1;33m(\u001b[0m\u001b[0mkey\u001b[0m\u001b[1;33m)\u001b[0m\u001b[1;33m\u001b[0m\u001b[1;33m\u001b[0m\u001b[0m\n\u001b[1;32m-> 3458\u001b[1;33m             \u001b[0mindexer\u001b[0m \u001b[1;33m=\u001b[0m \u001b[0mself\u001b[0m\u001b[1;33m.\u001b[0m\u001b[0mcolumns\u001b[0m\u001b[1;33m.\u001b[0m\u001b[0mget_loc\u001b[0m\u001b[1;33m(\u001b[0m\u001b[0mkey\u001b[0m\u001b[1;33m)\u001b[0m\u001b[1;33m\u001b[0m\u001b[1;33m\u001b[0m\u001b[0m\n\u001b[0m\u001b[0;32m   3459\u001b[0m             \u001b[1;32mif\u001b[0m \u001b[0mis_integer\u001b[0m\u001b[1;33m(\u001b[0m\u001b[0mindexer\u001b[0m\u001b[1;33m)\u001b[0m\u001b[1;33m:\u001b[0m\u001b[1;33m\u001b[0m\u001b[1;33m\u001b[0m\u001b[0m\n\u001b[0;32m   3460\u001b[0m                 \u001b[0mindexer\u001b[0m \u001b[1;33m=\u001b[0m \u001b[1;33m[\u001b[0m\u001b[0mindexer\u001b[0m\u001b[1;33m]\u001b[0m\u001b[1;33m\u001b[0m\u001b[1;33m\u001b[0m\u001b[0m\n",
      "\u001b[1;32m~\\Anaconda3\\envs\\ai\\lib\\site-packages\\pandas\\core\\indexes\\base.py\u001b[0m in \u001b[0;36mget_loc\u001b[1;34m(self, key, method, tolerance)\u001b[0m\n\u001b[0;32m   3361\u001b[0m                 \u001b[1;32mreturn\u001b[0m \u001b[0mself\u001b[0m\u001b[1;33m.\u001b[0m\u001b[0m_engine\u001b[0m\u001b[1;33m.\u001b[0m\u001b[0mget_loc\u001b[0m\u001b[1;33m(\u001b[0m\u001b[0mcasted_key\u001b[0m\u001b[1;33m)\u001b[0m\u001b[1;33m\u001b[0m\u001b[1;33m\u001b[0m\u001b[0m\n\u001b[0;32m   3362\u001b[0m             \u001b[1;32mexcept\u001b[0m \u001b[0mKeyError\u001b[0m \u001b[1;32mas\u001b[0m \u001b[0merr\u001b[0m\u001b[1;33m:\u001b[0m\u001b[1;33m\u001b[0m\u001b[1;33m\u001b[0m\u001b[0m\n\u001b[1;32m-> 3363\u001b[1;33m                 \u001b[1;32mraise\u001b[0m \u001b[0mKeyError\u001b[0m\u001b[1;33m(\u001b[0m\u001b[0mkey\u001b[0m\u001b[1;33m)\u001b[0m \u001b[1;32mfrom\u001b[0m \u001b[0merr\u001b[0m\u001b[1;33m\u001b[0m\u001b[1;33m\u001b[0m\u001b[0m\n\u001b[0m\u001b[0;32m   3364\u001b[0m \u001b[1;33m\u001b[0m\u001b[0m\n\u001b[0;32m   3365\u001b[0m         \u001b[1;32mif\u001b[0m \u001b[0mis_scalar\u001b[0m\u001b[1;33m(\u001b[0m\u001b[0mkey\u001b[0m\u001b[1;33m)\u001b[0m \u001b[1;32mand\u001b[0m \u001b[0misna\u001b[0m\u001b[1;33m(\u001b[0m\u001b[0mkey\u001b[0m\u001b[1;33m)\u001b[0m \u001b[1;32mand\u001b[0m \u001b[1;32mnot\u001b[0m \u001b[0mself\u001b[0m\u001b[1;33m.\u001b[0m\u001b[0mhasnans\u001b[0m\u001b[1;33m:\u001b[0m\u001b[1;33m\u001b[0m\u001b[1;33m\u001b[0m\u001b[0m\n",
      "\u001b[1;31mKeyError\u001b[0m: 'SepsisLabel'"
     ]
    }
   ],
   "source": [
    "total_mean = []\n",
    "person_mean = []\n",
    "\n",
    "s_i = 0\n",
    "e_i = 20\n",
    "\n",
    "for col in cols:\n",
    "    total_mean.append(sepsis_df_no_label[col].mean())\n",
    "#     for _ in range(int(sepsis_df_no_label.shape[0]/20)):\n",
    "#         person_mean.append(sepsis_df_no_label[col][s_i:e_I].mean())\n",
    "\n",
    "total_mean"
   ]
  },
  {
   "cell_type": "code",
   "execution_count": null,
   "id": "f20848ae",
   "metadata": {
    "collapsed": true
   },
   "outputs": [],
   "source": []
  },
  {
   "cell_type": "code",
   "execution_count": null,
   "id": "c642eb7a",
   "metadata": {},
   "outputs": [],
   "source": []
  },
  {
   "cell_type": "code",
   "execution_count": 142,
   "id": "32f38973",
   "metadata": {},
   "outputs": [
    {
     "data": {
      "text/plain": [
       "HR                       0\n",
       "O2Sat                   60\n",
       "Temp                  3120\n",
       "SBP                   2920\n",
       "MAP                      0\n",
       "DBP                 115680\n",
       "Resp                   220\n",
       "BaseExcess          121500\n",
       "HCO3                  3880\n",
       "FiO2                134100\n",
       "pH                  112320\n",
       "PaCO2               122560\n",
       "SaO2                195540\n",
       "AST                 234200\n",
       "BUN                   2280\n",
       "Alkalinephos        237400\n",
       "Calcium              55940\n",
       "Chloride              3960\n",
       "Creatinine            2480\n",
       "Bilirubin_direct    317800\n",
       "Glucose               2620\n",
       "Lactate             204680\n",
       "Magnesium            16740\n",
       "Phosphate            53660\n",
       "Potassium             2980\n",
       "Bilirubin_total     236120\n",
       "TroponinI           318440\n",
       "Hct                   1800\n",
       "Hgb                   3060\n",
       "PTT                  66480\n",
       "WBC                   4320\n",
       "Fibrinogen          285460\n",
       "Platelets             3780\n",
       "Age                      0\n",
       "Gender                   0\n",
       "dtype: int64"
      ]
     },
     "execution_count": 142,
     "metadata": {},
     "output_type": "execute_result"
    }
   ],
   "source": [
    "non_sepsis_df_no_label.isnull().sum()"
   ]
  },
  {
   "cell_type": "code",
   "execution_count": null,
   "id": "0b5163c5",
   "metadata": {},
   "outputs": [],
   "source": []
  },
  {
   "cell_type": "markdown",
   "id": "bd387753",
   "metadata": {},
   "source": [
    "### 1환자 데이터(20개)를 3개씩 묶어서 x_train 세트 구성"
   ]
  },
  {
   "cell_type": "code",
   "execution_count": 138,
   "id": "3f163190",
   "metadata": {},
   "outputs": [
    {
     "name": "stderr",
     "output_type": "stream",
     "text": [
      "100%|██████████| 1235/1235 [00:01<00:00, 623.57it/s]\n"
     ]
    }
   ],
   "source": [
    "s = 0\n",
    "x_train = []\n",
    "\n",
    "for _ in tqdm(range(int(sepsis_df_no_label.shape[0]/20))):\n",
    "    for i in range(12):\n",
    "        temp = sepsis_df_no_label[s+i : s+i+3].values.tolist()\n",
    "        x_train.append(temp)\n",
    "    s += 20"
   ]
  },
  {
   "cell_type": "code",
   "execution_count": 135,
   "id": "0e2594e5",
   "metadata": {},
   "outputs": [
    {
     "data": {
      "text/plain": [
       "[[118.0,\n",
       "  96.0,\n",
       "  37.6,\n",
       "  138.0,\n",
       "  108.0,\n",
       "  88.0,\n",
       "  26.0,\n",
       "  1.4,\n",
       "  27.5,\n",
       "  0.5,\n",
       "  7.4,\n",
       "  47.4,\n",
       "  91.0,\n",
       "  nan,\n",
       "  18.5,\n",
       "  nan,\n",
       "  7.9,\n",
       "  107.3,\n",
       "  1.0,\n",
       "  nan,\n",
       "  120.0,\n",
       "  2.2,\n",
       "  2.0,\n",
       "  3.2,\n",
       "  3.7,\n",
       "  nan,\n",
       "  nan,\n",
       "  28.8,\n",
       "  9.9,\n",
       "  32.1,\n",
       "  10.6,\n",
       "  341.8,\n",
       "  263.5,\n",
       "  27.92,\n",
       "  1],\n",
       " [111.0,\n",
       "  97.0,\n",
       "  37.39,\n",
       "  136.0,\n",
       "  106.0,\n",
       "  86.0,\n",
       "  26.0,\n",
       "  1.4,\n",
       "  27.5,\n",
       "  0.5,\n",
       "  7.4,\n",
       "  47.4,\n",
       "  91.0,\n",
       "  nan,\n",
       "  18.5,\n",
       "  nan,\n",
       "  7.9,\n",
       "  107.3,\n",
       "  1.0,\n",
       "  nan,\n",
       "  120.0,\n",
       "  2.2,\n",
       "  2.0,\n",
       "  3.2,\n",
       "  3.7,\n",
       "  nan,\n",
       "  nan,\n",
       "  28.8,\n",
       "  9.9,\n",
       "  32.1,\n",
       "  10.6,\n",
       "  341.8,\n",
       "  263.5,\n",
       "  27.92,\n",
       "  1],\n",
       " [116.0,\n",
       "  96.0,\n",
       "  37.72,\n",
       "  143.0,\n",
       "  109.0,\n",
       "  88.0,\n",
       "  30.0,\n",
       "  1.4,\n",
       "  27.5,\n",
       "  0.5,\n",
       "  7.4,\n",
       "  47.4,\n",
       "  91.0,\n",
       "  nan,\n",
       "  18.5,\n",
       "  nan,\n",
       "  7.9,\n",
       "  107.3,\n",
       "  1.0,\n",
       "  nan,\n",
       "  120.0,\n",
       "  2.2,\n",
       "  2.0,\n",
       "  3.2,\n",
       "  3.7,\n",
       "  nan,\n",
       "  nan,\n",
       "  28.8,\n",
       "  9.9,\n",
       "  32.1,\n",
       "  10.6,\n",
       "  341.8,\n",
       "  263.5,\n",
       "  27.92,\n",
       "  1]]"
      ]
     },
     "execution_count": 135,
     "metadata": {},
     "output_type": "execute_result"
    }
   ],
   "source": [
    "sepsis_df_no_label[s+i : s+i+3].values.tolist()"
   ]
  },
  {
   "cell_type": "code",
   "execution_count": null,
   "id": "018ca312",
   "metadata": {},
   "outputs": [],
   "source": []
  }
 ],
 "metadata": {
  "kernelspec": {
   "display_name": "ai",
   "language": "python",
   "name": "ai"
  },
  "language_info": {
   "codemirror_mode": {
    "name": "ipython",
    "version": 3
   },
   "file_extension": ".py",
   "mimetype": "text/x-python",
   "name": "python",
   "nbconvert_exporter": "python",
   "pygments_lexer": "ipython3",
   "version": "3.9.7"
  }
 },
 "nbformat": 4,
 "nbformat_minor": 5
}
