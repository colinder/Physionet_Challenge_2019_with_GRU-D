{
 "cells": [
  {
   "cell_type": "code",
   "execution_count": 1,
   "id": "f45e18df",
   "metadata": {},
   "outputs": [],
   "source": [
    "import pandas as pd\n",
    "import numpy as np\n",
    "import matplotlib.pyplot as plt\n",
    "import seaborn as sns\n",
    "\n",
    "import os\n",
    "import csv\n",
    "from tqdm import tqdm"
   ]
  },
  {
   "cell_type": "code",
   "execution_count": null,
   "id": "0c92c354",
   "metadata": {},
   "outputs": [],
   "source": [
    "# import data\n",
    "df = pd.read_csv('00_df.csv', index_col=0)\n",
    "pre_df = pd.read_csv('01_pre_df.csv', index_col=0)\n",
    "interpoltaed_mv_df = pd.read_csv('02_interpoltaed_mv_df.csv', index_col=0)"
   ]
  },
  {
   "cell_type": "code",
   "execution_count": null,
   "id": "7ed43377",
   "metadata": {},
   "outputs": [],
   "source": [
    "df.shape   # (783926, 41)"
   ]
  },
  {
   "cell_type": "code",
   "execution_count": null,
   "id": "ac0b3bf3",
   "metadata": {},
   "outputs": [],
   "source": [
    "pre_df.shape   # (783926, 37)"
   ]
  },
  {
   "cell_type": "code",
   "execution_count": null,
   "id": "dd4af8f4",
   "metadata": {},
   "outputs": [],
   "source": [
    "interpoltaed_mv_df.shape"
   ]
  },
  {
   "cell_type": "code",
   "execution_count": null,
   "id": "d9e3d7cb",
   "metadata": {},
   "outputs": [],
   "source": [
    "# import list data\n",
    "\n",
    "data_length_per_person = []\n",
    "data_length_per_person_sum = []\n",
    "\n",
    "with open('data_length_per_person.csv', 'r', encoding='utf-8') as f:\n",
    "    rdr = csv.reader(f)\n",
    "    for para in rdr:\n",
    "        for i in para:\n",
    "            data_length_per_person.append(int(i))\n",
    "\n",
    "\n",
    "with open('data_length_per_person_sum.csv', 'r', encoding='utf-8') as f:\n",
    "    rdr = csv.reader(f)\n",
    "    for para in rdr:\n",
    "        for i in para:\n",
    "            data_length_per_person_sum.append(int(i))"
   ]
  },
  {
   "cell_type": "code",
   "execution_count": null,
   "id": "87347e21",
   "metadata": {},
   "outputs": [],
   "source": [
    "len(data_length_per_person)   # 20169"
   ]
  },
  {
   "cell_type": "code",
   "execution_count": null,
   "id": "e4248d48",
   "metadata": {},
   "outputs": [],
   "source": [
    "len(data_length_per_person_sum)   # 20169"
   ]
  },
  {
   "cell_type": "markdown",
   "id": "c135ec0b",
   "metadata": {},
   "source": [
    "## interpoltaed_mv_df 기준 \n",
    "논적으로 필요없는 데이터와 선형회귀로 결측치가 대치된 데이터만 사용해서 테스트"
   ]
  },
  {
   "cell_type": "code",
   "execution_count": null,
   "id": "2f01dcf2",
   "metadata": {},
   "outputs": [],
   "source": [
    "interpoltaed_mv_df"
   ]
  },
  {
   "cell_type": "code",
   "execution_count": null,
   "id": "bb8284d0",
   "metadata": {},
   "outputs": [],
   "source": [
    "cols = interpoltaed_mv_df.columns\n",
    "cols"
   ]
  },
  {
   "cell_type": "code",
   "execution_count": null,
   "id": "c4d56327",
   "metadata": {},
   "outputs": [],
   "source": [
    "interpoltaed_mv_df.drop(['Unit1', 'Unit2', 'HospAdmTime', 'ICULOS'], axis=1, inplace=True)"
   ]
  },
  {
   "cell_type": "code",
   "execution_count": null,
   "id": "7b025527",
   "metadata": {},
   "outputs": [],
   "source": [
    "interpoltaed_mv_df.shape"
   ]
  },
  {
   "cell_type": "code",
   "execution_count": null,
   "id": "572150c0",
   "metadata": {},
   "outputs": [],
   "source": [
    "cols = interpoltaed_mv_df.columns\n",
    "len(cols)"
   ]
  },
  {
   "cell_type": "markdown",
   "id": "5927265f",
   "metadata": {},
   "source": [
    "## 환자별 20 row data를 추출\n",
    "20 row가 되지 않는다면 drop / 20 이상의 row를 가지고 있다면 뒤쪽 데이터부터 20을 추출"
   ]
  },
  {
   "cell_type": "code",
   "execution_count": null,
   "id": "a9ae0d59",
   "metadata": {},
   "outputs": [],
   "source": [
    "len(data_length_per_person_sum)"
   ]
  },
  {
   "cell_type": "code",
   "execution_count": null,
   "id": "005aa2d3",
   "metadata": {},
   "outputs": [],
   "source": [
    "data_length_per_person_sum.insert(0,0)"
   ]
  },
  {
   "cell_type": "code",
   "execution_count": null,
   "id": "b536f936",
   "metadata": {},
   "outputs": [],
   "source": [
    "len(data_length_per_person_sum)"
   ]
  },
  {
   "cell_type": "code",
   "execution_count": null,
   "id": "cb77f0fe",
   "metadata": {},
   "outputs": [],
   "source": [
    "s_i = 0\n",
    "e_i = 1\n",
    "\n",
    "data_per_patient_for_20 = pd.DataFrame(columns = cols)\n",
    "for i in tqdm(range(len(data_length_per_person_sum)-1)):\n",
    "    s = data_length_per_person_sum[s_i]\n",
    "    e = data_length_per_person_sum[e_i]\n",
    "    if e - s >= 20:\n",
    "        temp = interpoltaed_mv_df[e-20:e]\n",
    "        data_per_patient_for_20 = pd.concat([data_per_patient_for_20, temp])\n",
    "    \n",
    "    s_i += 1\n",
    "    e_i += 1"
   ]
  },
  {
   "cell_type": "code",
   "execution_count": null,
   "id": "cfc6b608",
   "metadata": {},
   "outputs": [],
   "source": [
    "data_per_patient_for_20"
   ]
  },
  {
   "cell_type": "code",
   "execution_count": null,
   "id": "56aa3ea8",
   "metadata": {},
   "outputs": [],
   "source": [
    "people = int(data_per_patient_for_20.shape[0]/20)\n",
    "people"
   ]
  },
  {
   "cell_type": "code",
   "execution_count": null,
   "id": "b9870b5a",
   "metadata": {},
   "outputs": [],
   "source": [
    "diff = (len(data_length_per_person_sum)-1) - data_per_patient_for_20.shape[0]/20\n",
    "loss = round(diff/(len(data_length_per_person_sum)-1)*100, 1)\n",
    "\n",
    "print(f'20행 미만의 데이터 수 : {diff}, 손실율: {loss})')"
   ]
  },
  {
   "cell_type": "markdown",
   "id": "9fc9b4aa",
   "metadata": {},
   "source": [
    "# 스케일링(정규화)"
   ]
  },
  {
   "cell_type": "markdown",
   "id": "4b7fa37c",
   "metadata": {},
   "source": [
    "라벨값 분리"
   ]
  },
  {
   "cell_type": "code",
   "execution_count": null,
   "id": "a9bb7376",
   "metadata": {},
   "outputs": [],
   "source": [
    "label = data_per_patient_for_20[\"SepsisLabel\"]\n",
    "label"
   ]
  },
  {
   "cell_type": "markdown",
   "id": "a94967f8",
   "metadata": {},
   "source": [
    "정규 분포 혹은 minmax스캐일링 진행"
   ]
  },
  {
   "cell_type": "code",
   "execution_count": null,
   "id": "e6cbb8e7",
   "metadata": {},
   "outputs": [],
   "source": [
    "# 정규 분포\n",
    "data_per_patient_for_20 = (data_per_patient_for_20 - data_per_patient_for_20.mean())/data_per_patient_for_20.std()\n",
    "data_per_patient_for_20.head()"
   ]
  },
  {
   "cell_type": "code",
   "execution_count": null,
   "id": "0181c248",
   "metadata": {},
   "outputs": [],
   "source": [
    "# minmax 스켈일링\n",
    "# normalized_df=(df-df.min())/(df.max()-df.min())"
   ]
  },
  {
   "cell_type": "markdown",
   "id": "4c25f557",
   "metadata": {},
   "source": [
    "라벨값 재부착"
   ]
  },
  {
   "cell_type": "code",
   "execution_count": null,
   "id": "c9fe7e4a",
   "metadata": {},
   "outputs": [],
   "source": [
    "data_per_patient_for_20[\"SepsisLabel\"] = label"
   ]
  },
  {
   "cell_type": "code",
   "execution_count": null,
   "id": "67736991",
   "metadata": {},
   "outputs": [],
   "source": [
    "data_per_patient_for_20"
   ]
  },
  {
   "cell_type": "markdown",
   "id": "4bd0e62a",
   "metadata": {},
   "source": [
    "### sepsis vs non_sepsis 추출"
   ]
  },
  {
   "cell_type": "code",
   "execution_count": null,
   "id": "23ce8479",
   "metadata": {},
   "outputs": [],
   "source": [
    "# sepsis와 non sepsis 구분\n",
    "\n",
    "s = 0\n",
    "e = 20\n",
    "\n",
    "sepsis_df = pd.DataFrame(columns=cols)\n",
    "non_sepsis_df = pd.DataFrame(columns=cols)\n",
    "\n",
    "for _ in tqdm(range(people)):\n",
    "    if data_per_patient_for_20[s:e]['SepsisLabel'].sum() >= 1:\n",
    "        data = data_per_patient_for_20[s:e]\n",
    "        sepsis_df = pd.concat([sepsis_df, data])\n",
    "    else: \n",
    "        data = data_per_patient_for_20[s:e]\n",
    "        non_sepsis_df = pd.concat([non_sepsis_df, data])\n",
    "        \n",
    "    s += 20\n",
    "    e += 20"
   ]
  },
  {
   "cell_type": "code",
   "execution_count": null,
   "id": "56542206",
   "metadata": {},
   "outputs": [],
   "source": [
    "sepsis_df.shape"
   ]
  },
  {
   "cell_type": "code",
   "execution_count": null,
   "id": "8a0edb04",
   "metadata": {},
   "outputs": [],
   "source": [
    "non_sepsis_df.shape"
   ]
  },
  {
   "cell_type": "markdown",
   "id": "a372c93d",
   "metadata": {},
   "source": [
    "## 3시간의 데이터를 보고 6시간 후의 패혈증 발병 정도를 예측\n",
    "### label 우선 추출\n",
    "1환자당 12개의 데이터 추출가능"
   ]
  },
  {
   "cell_type": "code",
   "execution_count": null,
   "id": "ad363ce4",
   "metadata": {},
   "outputs": [],
   "source": [
    "e = 20\n",
    "\n",
    "s_label = []\n",
    "for i in tqdm(range(int(sepsis_df.shape[0]/20))):\n",
    "    temp = sepsis_df[\"SepsisLabel\"][e-12:e]\n",
    "    s_label.append(list(temp))\n",
    "    \n",
    "    e += 20"
   ]
  },
  {
   "cell_type": "code",
   "execution_count": null,
   "id": "1cc9a986",
   "metadata": {},
   "outputs": [],
   "source": [
    "e = 20\n",
    "\n",
    "ns_label = []\n",
    "for i in tqdm(range(int(non_sepsis_df.shape[0]/20))):\n",
    "    temp = non_sepsis_df[\"SepsisLabel\"][e-12:e]\n",
    "    ns_label.append(list(temp))\n",
    "    \n",
    "    e += 20"
   ]
  },
  {
   "cell_type": "markdown",
   "id": "4ebc0666",
   "metadata": {},
   "source": [
    "### 훈련, 검증, 테스트 세트 구성\n",
    "sepsis와 non_sepsis 데이터의 비율을 고려하지 않고 모든 데이터를 활용"
   ]
  },
  {
   "cell_type": "code",
   "execution_count": null,
   "id": "1bd392f4",
   "metadata": {},
   "outputs": [],
   "source": [
    "sepsis_df_no_label = sepsis_df.drop(['SepsisLabel'], axis=1)\n",
    "sepsis_df_no_label.shape"
   ]
  },
  {
   "cell_type": "code",
   "execution_count": null,
   "id": "3a5a86de",
   "metadata": {},
   "outputs": [],
   "source": [
    "non_sepsis_df_no_label = non_sepsis_df.drop(['SepsisLabel'], axis=1)\n",
    "non_sepsis_df_no_label.shape"
   ]
  },
  {
   "cell_type": "markdown",
   "id": "fc8855f7",
   "metadata": {},
   "source": [
    "### 환자 별로 구성하여 선형회귀법으로 결측치를 대치하고 남은 결측치는 현 상태의 평균대치법으로 적용"
   ]
  },
  {
   "cell_type": "code",
   "execution_count": null,
   "id": "ae1173a2",
   "metadata": {},
   "outputs": [],
   "source": [
    "cols = sepsis_df_no_label.columns"
   ]
  },
  {
   "cell_type": "code",
   "execution_count": null,
   "id": "4d9ca6a2",
   "metadata": {},
   "outputs": [],
   "source": [
    "# # 전체 평균\n",
    "\n",
    "# total_mean = []\n",
    "\n",
    "# for col in cols:\n",
    "#     total_mean.append(round(sepsis_df_no_label[col].mean(), 1))\n",
    "\n",
    "# len(total_mean)"
   ]
  },
  {
   "cell_type": "code",
   "execution_count": null,
   "id": "de6ac3b5",
   "metadata": {},
   "outputs": [],
   "source": [
    "# 환자 별 평균\n",
    "person_mean = []\n",
    "\n",
    "s_i = 0\n",
    "e_i = 20\n",
    "\n",
    "for _ in tqdm(range(int(sepsis_df_no_label.shape[0]/20))):\n",
    "    temp = []\n",
    "    for col in cols:\n",
    "        temp.append(sepsis_df_no_label[col][s_i:e_i].mean())\n",
    "    person_mean.append(temp)\n",
    "    \n",
    "    s_i += 20\n",
    "    e_i += 20\n",
    "    \n",
    "len(person_mean)"
   ]
  },
  {
   "cell_type": "markdown",
   "id": "97797d30",
   "metadata": {},
   "source": [
    "### 환자별 평균 값으로 column을 채워도 결측인 값은 0으로 대치 / 이후 전체 평균으로 대치하는 방법도 시도"
   ]
  },
  {
   "cell_type": "code",
   "execution_count": null,
   "id": "460856f5",
   "metadata": {},
   "outputs": [],
   "source": [
    "# 환자별 평균을 정리한 리스트에 결측값을 0으로 변환\n",
    "\n",
    "for i in tqdm(range(len(person_mean))):\n",
    "    for j in range(len(person_mean[i])):\n",
    "        if str(person_mean[i][j]) == \"nan\":\n",
    "            person_mean[i][j] = 0\n",
    "        else:\n",
    "            person_mean[i][j] = round(person_mean[i][j], 1)"
   ]
  },
  {
   "cell_type": "code",
   "execution_count": null,
   "id": "7798e529",
   "metadata": {},
   "outputs": [],
   "source": [
    "# DP 생성 후 결측치 없는 데이터 세트 구성\n",
    "\n",
    "sepsis_df_no_label_mv = pd.DataFrame(columns = cols)\n",
    "\n",
    "s_i = 0\n",
    "e_i = 20\n",
    "\n",
    "for i in tqdm(range(int(sepsis_df_no_label.shape[0]/20))):\n",
    "    temp = pd.DataFrame()\n",
    "    for j, col in enumerate(cols):\n",
    "        temp[col] = sepsis_df_no_label[col][s_i:e_i].fillna(person_mean[i][j])\n",
    "        \n",
    "    sepsis_df_no_label_mv = pd.concat([sepsis_df_no_label_mv, temp])\n",
    "    s_i += 20\n",
    "    e_i += 20"
   ]
  },
  {
   "cell_type": "markdown",
   "id": "04379826",
   "metadata": {},
   "source": [
    "### 1환자 데이터(20개)를 3개씩 묶어서 x_train 세트 구성"
   ]
  },
  {
   "cell_type": "code",
   "execution_count": null,
   "id": "89eb3096",
   "metadata": {},
   "outputs": [],
   "source": [
    "def ratio(li):\n",
    "    l = len(li)\n",
    "    train = l*0.8\n",
    "    val = train + int(l*0.1)\n",
    "    return int(train), int(val)"
   ]
  },
  {
   "cell_type": "code",
   "execution_count": null,
   "id": "5191bf3d",
   "metadata": {},
   "outputs": [],
   "source": [
    "tr, va = ratio(s_label)\n",
    "print(tr, va)"
   ]
  },
  {
   "cell_type": "code",
   "execution_count": null,
   "id": "7d0579c9",
   "metadata": {},
   "outputs": [],
   "source": [
    "# sepsis 데이터 > x_train, x_val, x_test\n",
    "\n",
    "s = 0\n",
    "x_train = []\n",
    "x_val = []\n",
    "x_test = []\n",
    "\n",
    "for _ in tqdm(range(int(sepsis_df_no_label_mv.shape[0]/20))):\n",
    "    if _ < tr:\n",
    "        for i in range(12):     # 20개의 데이터 세트에서 12개의 데이터를 label에 달아 사용 가능\n",
    "            temp = sepsis_df_no_label_mv[s+i : s+i+3].values.tolist()\n",
    "            x_train.append(temp)\n",
    "    elif _ < va:\n",
    "        for i in range(12):     # 20개의 데이터 세트에서 12개의 데이터를 label에 달아 사용 가능\n",
    "            temp = sepsis_df_no_label_mv[s+i : s+i+3].values.tolist()\n",
    "            x_val.append(temp)\n",
    "    else: \n",
    "        for i in range(12):     # 20개의 데이터 세트에서 12개의 데이터를 label에 달아 사용 가능\n",
    "            temp = sepsis_df_no_label_mv[s+i : s+i+3].values.tolist()\n",
    "            x_test.append(temp)\n",
    "    s += 20"
   ]
  },
  {
   "cell_type": "code",
   "execution_count": null,
   "id": "630a7eea",
   "metadata": {},
   "outputs": [],
   "source": [
    "print(len(x_train)/12, len(x_val)/12, len(x_test)/12, len(x_train)//12 + len(x_val)//12 + len(x_test)//12)"
   ]
  },
  {
   "cell_type": "markdown",
   "id": "9d21ceee",
   "metadata": {},
   "source": [
    "### non_sepsis_df 에도 동일하게 수행"
   ]
  },
  {
   "cell_type": "code",
   "execution_count": null,
   "id": "d58de909",
   "metadata": {},
   "outputs": [],
   "source": [
    "# 환자 별 평균\n",
    "person_mean = []\n",
    "\n",
    "s_i = 0\n",
    "e_i = 20\n",
    "\n",
    "for _ in tqdm(range(int(non_sepsis_df_no_label.shape[0]/20))):\n",
    "    temp = []\n",
    "    for col in cols:\n",
    "        temp.append(non_sepsis_df_no_label[col][s_i:e_i].mean())\n",
    "    person_mean.append(temp)\n",
    "    \n",
    "    s_i += 20\n",
    "    e_i += 20\n",
    "    \n",
    "len(person_mean)"
   ]
  },
  {
   "cell_type": "code",
   "execution_count": null,
   "id": "eab0087a",
   "metadata": {},
   "outputs": [],
   "source": [
    "# 환자별 평균을 정리한 리스트에 결측값을 0으로 변환\n",
    "\n",
    "for i in tqdm(range(len(person_mean))):\n",
    "    for j in range(len(person_mean[i])):\n",
    "        if str(person_mean[i][j]) == \"nan\":\n",
    "            person_mean[i][j] = 0\n",
    "        else:\n",
    "            person_mean[i][j] = round(person_mean[i][j], 1)"
   ]
  },
  {
   "cell_type": "code",
   "execution_count": null,
   "id": "f0c35c78",
   "metadata": {},
   "outputs": [],
   "source": [
    "# DP 생성 후 결측치 없는 데이터 세트 구성\n",
    "\n",
    "non_sepsis_df_no_label_mv = pd.DataFrame(columns = cols)\n",
    "\n",
    "s_i = 0\n",
    "e_i = 20\n",
    "\n",
    "for i in tqdm(range(int(non_sepsis_df_no_label.shape[0]/20))):\n",
    "    temp = pd.DataFrame()\n",
    "    for j, col in enumerate(cols):\n",
    "        temp[col] = non_sepsis_df_no_label[col][s_i:e_i].fillna(person_mean[i][j])\n",
    "        \n",
    "    non_sepsis_df_no_label_mv = pd.concat([non_sepsis_df_no_label_mv, temp])\n",
    "    s_i += 20\n",
    "    e_i += 20"
   ]
  },
  {
   "cell_type": "code",
   "execution_count": null,
   "id": "b039e8f8",
   "metadata": {},
   "outputs": [],
   "source": [
    "# non_sepsis 데이터 > y_train, y_val, y_test\n",
    "\n",
    "s = 0\n",
    "\n",
    "for _ in tqdm(range(int(non_sepsis_df_no_label_mv.shape[0]/20))):\n",
    "    if _ < tr:\n",
    "        for i in range(12):     # 20개의 데이터 세트에서 12개의 데이터를 label에 달아 사용 가능\n",
    "            temp = non_sepsis_df_no_label_mv[s+i : s+i+3].values.tolist()\n",
    "            x_train.append(temp)\n",
    "    elif _ < va:\n",
    "        for i in range(12):     # 20개의 데이터 세트에서 12개의 데이터를 label에 달아 사용 가능\n",
    "            temp = non_sepsis_df_no_label_mv[s+i : s+i+3].values.tolist()\n",
    "            x_val.append(temp)\n",
    "    elif _ < 1235:\n",
    "        for i in range(12):     # 20개의 데이터 세트에서 12개의 데이터를 label에 달아 사용 가능\n",
    "            temp = non_sepsis_df_no_label_mv[s+i : s+i+3].values.tolist()\n",
    "            x_test.append(temp)\n",
    "    else:\n",
    "        break\n",
    "    s += 20"
   ]
  },
  {
   "cell_type": "code",
   "execution_count": null,
   "id": "e288ca8e",
   "metadata": {},
   "outputs": [],
   "source": [
    "print(len(x_train)/12, len(x_val)/12, len(x_test)/12, len(x_train)//12 + len(x_val)//12 + len(x_test)//12)"
   ]
  },
  {
   "cell_type": "code",
   "execution_count": null,
   "id": "bf2194a4",
   "metadata": {},
   "outputs": [],
   "source": [
    "print(len(x_train)/12, len(x_val)/12, len(x_test)/12, len(x_train)//12 + len(x_val)//12 + len(x_test)//12)"
   ]
  },
  {
   "cell_type": "code",
   "execution_count": null,
   "id": "b5c31ad9",
   "metadata": {},
   "outputs": [],
   "source": [
    "# sepsis label > train, val, test set 구성\n",
    "\n",
    "y_train = []\n",
    "y_val = []\n",
    "y_test = []   # 988 123 124 1235\n",
    "\n",
    "for _ in range(len(s_label)):\n",
    "    if _ < tr:\n",
    "        y_train += s_label[_]\n",
    "    elif _ < va:\n",
    "        y_val += s_label[_]\n",
    "    elif _ < 1235:\n",
    "        y_test += s_label[_]\n",
    "    else:\n",
    "        break"
   ]
  },
  {
   "cell_type": "code",
   "execution_count": null,
   "id": "c969d625",
   "metadata": {},
   "outputs": [],
   "source": [
    "print(len(y_train)/12, len(y_val)/12, len(y_test)/12, len(y_train)//12 + len(y_val)//12 + len(y_test)//12)"
   ]
  },
  {
   "cell_type": "code",
   "execution_count": null,
   "id": "8c7f0ff1",
   "metadata": {},
   "outputs": [],
   "source": [
    "y_train += [0] * len(y_train)\n",
    "y_val += [0] * len(y_val)\n",
    "y_test += [0] * len(y_test)"
   ]
  },
  {
   "cell_type": "code",
   "execution_count": null,
   "id": "7f272141",
   "metadata": {},
   "outputs": [],
   "source": [
    "print(len(y_train)/12, len(y_val)/12, len(y_test)/12, len(y_train)//12 + len(y_val)//12 + len(y_test)//12)"
   ]
  },
  {
   "cell_type": "markdown",
   "id": "f112c5bf",
   "metadata": {},
   "source": [
    "## 파이선 list로 되어있는 데이터 세트를 np.array로 변환"
   ]
  },
  {
   "cell_type": "code",
   "execution_count": null,
   "id": "f7c8e09f",
   "metadata": {},
   "outputs": [],
   "source": [
    "X_train = np.array(x_train)\n",
    "X_train"
   ]
  },
  {
   "cell_type": "code",
   "execution_count": null,
   "id": "dcd2abed",
   "metadata": {},
   "outputs": [],
   "source": [
    "X_train.shape"
   ]
  },
  {
   "cell_type": "code",
   "execution_count": null,
   "id": "b05877b5",
   "metadata": {},
   "outputs": [],
   "source": [
    "X_val = np.array(x_val)\n",
    "X_test = np.array(x_test)\n",
    "\n",
    "Y_train = np.array(y_train)\n",
    "Y_val = np.array(y_val)\n",
    "Y_test = np.array(y_test)"
   ]
  },
  {
   "cell_type": "markdown",
   "id": "efde2588",
   "metadata": {},
   "source": [
    "# 데이터 세트 구성 완료\n",
    "## 모델은 이전과 동일하게 구성"
   ]
  },
  {
   "cell_type": "code",
   "execution_count": null,
   "id": "e761c6b5",
   "metadata": {},
   "outputs": [],
   "source": [
    "import tensorflow as tf\n",
    "from tensorflow.keras.layers import Dense, LSTM, Dropout\n",
    "from tensorflow.keras.models import Sequential\n",
    "from tensorflow.keras.models import load_model\n",
    "from tensorflow.keras.callbacks import EarlyStopping, ModelCheckpoint"
   ]
  },
  {
   "cell_type": "code",
   "execution_count": null,
   "id": "fd1b82a9",
   "metadata": {},
   "outputs": [],
   "source": [
    "hidden_units = 128\n",
    "\n",
    "model = Sequential()\n",
    "model.add(LSTM(hidden_units, activation='relu', input_shape=(3, 35)))\n",
    "model.add(Dense(64, activation=\"relu\"))\n",
    "model.add(Dense(1, activation='sigmoid'))\n",
    "\n",
    "model.summary()"
   ]
  },
  {
   "cell_type": "code",
   "execution_count": null,
   "id": "d720f940",
   "metadata": {},
   "outputs": [],
   "source": [
    "model.compile(loss=tf.keras.losses.BinaryCrossentropy(from_logits=False), optimizer='SGD', metrics=['accuracy'])"
   ]
  },
  {
   "cell_type": "code",
   "execution_count": null,
   "id": "05d9365c",
   "metadata": {},
   "outputs": [],
   "source": [
    "model.compile(loss=tf.keras.losses.BinaryCrossentropy(from_logits=False), optimizer=tf.keras.optimizers.SGD(learning_rate=0.06), metrics=['accuracy'])"
   ]
  },
  {
   "cell_type": "code",
   "execution_count": null,
   "id": "d0c0393c",
   "metadata": {},
   "outputs": [],
   "source": [
    "hist = model.fit(X_train, Y_train, epochs=10, batch_size=32, validation_data=(X_val, Y_val))"
   ]
  },
  {
   "cell_type": "markdown",
   "id": "80d2aea2",
   "metadata": {},
   "source": [
    "학습 안됨. \n",
    "\n",
    "1. 초기 데이터 세트(df)에서 선형회귀 방법으로 결측치를 대치하고 변화되지 않는 결측값은 0으로 처리.\n",
    "2. sepsis와 non_sepsis군을 나누어 전처리를 진행하였고, 3시간의 데이터를 보고 6시간 후 sepsis 확률을 예측할 수 있는 모습으로 전처리\n",
    "3. sepsis 데이터량이 non_sepsis에 비해 많이 적어 sepsis 양에 맞게 non_sepsis 데이터를 제한하여 train, val, test를 구성 \n",
    "4. 기본적인 LSTM의 모델을 구성하여 학습을 진행\n",
    "5. 학습 안됨"
   ]
  },
  {
   "cell_type": "code",
   "execution_count": null,
   "id": "4ab6e403",
   "metadata": {},
   "outputs": [],
   "source": [
    "result = model.predict(X_test)\n",
    "print('## result ##')\n",
    "\n",
    "o = 0\n",
    "x = 0\n",
    "\n",
    "for y, r in zip(Y_test, result):\n",
    "    if y == r:\n",
    "        o += 1\n",
    "    else:\n",
    "        x += 1\n",
    "    \n",
    "print(o, x, o+x)"
   ]
  },
  {
   "cell_type": "code",
   "execution_count": null,
   "id": "c2e8457f",
   "metadata": {},
   "outputs": [],
   "source": [
    "print(o/(o+x), x/(o+x))"
   ]
  },
  {
   "cell_type": "markdown",
   "id": "78d1fd02",
   "metadata": {},
   "source": [
    "### 의문\n",
    ">혹시 인풋은 3차원인데 아웃풋은 2차원이라서 그런가?"
   ]
  },
  {
   "cell_type": "code",
   "execution_count": null,
   "id": "7451ca7d",
   "metadata": {},
   "outputs": [],
   "source": [
    "test = Y_train.reshape(-1, 1)\n",
    "test"
   ]
  },
  {
   "cell_type": "code",
   "execution_count": null,
   "id": "a423e3c6",
   "metadata": {},
   "outputs": [],
   "source": [
    "t_val = Y_val.reshape(-1, 1)"
   ]
  },
  {
   "cell_type": "code",
   "execution_count": null,
   "id": "2a59fb0b",
   "metadata": {},
   "outputs": [],
   "source": [
    "hist = model.fit(X_train, test, epochs=5, batch_size=128, validation_data=(X_val, t_val))"
   ]
  },
  {
   "cell_type": "markdown",
   "id": "6d2cd1f1",
   "metadata": {},
   "source": [
    "loss가 확인되지 않음."
   ]
  },
  {
   "cell_type": "markdown",
   "id": "3fad298f",
   "metadata": {},
   "source": [
    "### 의문\n",
    ">혹시 shuffle이 안되어서 학습이 안될 수 도 있기 때문에 shuffle 진행 후 다시 시도"
   ]
  },
  {
   "cell_type": "code",
   "execution_count": null,
   "id": "2af32db1",
   "metadata": {},
   "outputs": [],
   "source": [
    "## Shuffle 기능 확인\n",
    "\n",
    "import numpy as np\n",
    "\n",
    "# x = np.arange(10).reshape(-1, 1)\n",
    "# print (\"x: \", x)\n",
    "y = np.arange(10).reshape(-1, 1)\n",
    "# print (\"y: \", y)\n",
    "\n",
    "x = np.array([[0,1], [1,2], [2,3], [3,4], [4,5], [5,6], [6,7], [7,8], [8,9], [9,10]])\n",
    "\n",
    "s = np.arange(x.shape[0])\n",
    "print('s', s)\n",
    "np.random.shuffle(s)\n",
    "\n",
    "x = x[s]\n",
    "print (\"x: \", x)\n",
    "y = y[s]\n",
    "print (\"y: \", y)"
   ]
  },
  {
   "cell_type": "code",
   "execution_count": null,
   "id": "7886227e",
   "metadata": {},
   "outputs": [],
   "source": [
    "# Train, Test data 적용\n",
    "i = np.arange(X_train.shape[0])\n",
    "np.random.shuffle(i)\n",
    "\n",
    "train = X_train[i]\n",
    "test = Y_train[i]"
   ]
  },
  {
   "cell_type": "code",
   "execution_count": null,
   "id": "474e4c06",
   "metadata": {},
   "outputs": [],
   "source": [
    "# Val data 적용\n",
    "\n",
    "i = np.arange(X_val.shape[0])\n",
    "np.random.shuffle(i)\n",
    "\n",
    "sx_val = X_val[i]\n",
    "sy_val = Y_val[i]"
   ]
  },
  {
   "cell_type": "code",
   "execution_count": null,
   "id": "8186433e",
   "metadata": {},
   "outputs": [],
   "source": [
    "hist = model.fit(train, test, epochs=5, batch_size=128, validation_data=(sx_val, sy_val))"
   ]
  },
  {
   "cell_type": "markdown",
   "id": "c3e5f223",
   "metadata": {},
   "source": [
    "변화 없음"
   ]
  },
  {
   "cell_type": "markdown",
   "id": "b281d123",
   "metadata": {},
   "source": [
    "### 의문\n",
    "> 혹시 node가 너무 적어서 학습이 안되는지 확인"
   ]
  },
  {
   "cell_type": "code",
   "execution_count": null,
   "id": "c6039eb8",
   "metadata": {},
   "outputs": [],
   "source": [
    "hidden_units = 512\n",
    "\n",
    "model = Sequential()\n",
    "model.add(LSTM(hidden_units, activation='relu', input_shape=(3, 35)))\n",
    "model.add(Dense(64))\n",
    "model.add(Dense(1, activation='softmax'))\n",
    "\n",
    "model.summary()"
   ]
  },
  {
   "cell_type": "code",
   "execution_count": null,
   "id": "a8ea57d6",
   "metadata": {},
   "outputs": [],
   "source": [
    "model.compile(loss='categorical_crossentropy', optimizer='adam', metrics=['accuracy'])"
   ]
  },
  {
   "cell_type": "code",
   "execution_count": null,
   "id": "a6a9eedb",
   "metadata": {},
   "outputs": [],
   "source": [
    "hist = model.fit(train, test, epochs=5, batch_size=128, validation_data=(sx_val, sy_val))"
   ]
  },
  {
   "cell_type": "markdown",
   "id": "7110b5e7",
   "metadata": {},
   "source": [
    "변화 없음"
   ]
  },
  {
   "cell_type": "markdown",
   "id": "5263487c",
   "metadata": {},
   "source": [
    "### 의문\n",
    "> 혹시 epochs가 너무 적어서 학습이 안되는지 확인"
   ]
  },
  {
   "cell_type": "code",
   "execution_count": null,
   "id": "c1d458c0",
   "metadata": {
    "scrolled": true
   },
   "outputs": [],
   "source": [
    "hist = model.fit(train, test, epochs=20, batch_size=128, validation_data=(sx_val, sy_val))"
   ]
  },
  {
   "cell_type": "markdown",
   "id": "e5353543",
   "metadata": {},
   "source": [
    "변화 없음"
   ]
  },
  {
   "cell_type": "markdown",
   "id": "5439ddb2",
   "metadata": {},
   "source": [
    "## LSTM에 적합한 활성화 함수가 있음을 확인. tanh로 시도"
   ]
  },
  {
   "cell_type": "code",
   "execution_count": null,
   "id": "adf942a5",
   "metadata": {},
   "outputs": [],
   "source": [
    "hidden_units = 128\n",
    "\n",
    "model = Sequential()\n",
    "model.add(LSTM(hidden_units, activation='tanh', input_shape=(3, 35)))\n",
    "model.add(Dropout(0.2))\n",
    "model.add(Dense(64, activation=\"relu\"))\n",
    "model.add(Dropout(0.4))\n",
    "model.add(Dense(1, activation='sigmoid'))\n",
    "\n",
    "model.summary()"
   ]
  },
  {
   "cell_type": "code",
   "execution_count": null,
   "id": "6930ba71",
   "metadata": {},
   "outputs": [],
   "source": [
    "model.compile(loss=tf.keras.losses.BinaryCrossentropy(from_logits=False), optimizer=tf.keras.optimizers.SGD(learning_rate=0.04), metrics=['accuracy'])"
   ]
  },
  {
   "cell_type": "code",
   "execution_count": null,
   "id": "6ef05754",
   "metadata": {},
   "outputs": [],
   "source": [
    "hist = model.fit(train, test, epochs=20, batch_size=32, validation_data=(sx_val, sy_val))"
   ]
  },
  {
   "cell_type": "code",
   "execution_count": null,
   "id": "855e8045",
   "metadata": {},
   "outputs": [],
   "source": [
    "hist.history"
   ]
  },
  {
   "cell_type": "code",
   "execution_count": null,
   "id": "7137cfbd",
   "metadata": {},
   "outputs": [],
   "source": [
    "plt.plot(hist.history['loss'])\n",
    "plt.plot(hist.history['val_loss'])\n",
    "plt.title('Loss compare')\n",
    "# plt.legend(['loss','val_loss'], loc='upper left')\n",
    "plt.show()"
   ]
  },
  {
   "cell_type": "code",
   "execution_count": null,
   "id": "cec74903",
   "metadata": {},
   "outputs": [],
   "source": []
  }
 ],
 "metadata": {
  "kernelspec": {
   "display_name": "ai",
   "language": "python",
   "name": "ai"
  },
  "language_info": {
   "codemirror_mode": {
    "name": "ipython",
    "version": 3
   },
   "file_extension": ".py",
   "mimetype": "text/x-python",
   "name": "python",
   "nbconvert_exporter": "python",
   "pygments_lexer": "ipython3",
   "version": "3.9.7"
  }
 },
 "nbformat": 4,
 "nbformat_minor": 5
}
