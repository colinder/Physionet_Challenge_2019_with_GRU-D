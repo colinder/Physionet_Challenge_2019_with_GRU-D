{
 "cells": [
  {
   "cell_type": "code",
   "execution_count": 664,
   "id": "9a936284",
   "metadata": {},
   "outputs": [],
   "source": [
    "import pandas as pd\n",
    "import numpy as np\n",
    "import matplotlib.pyplot as plt\n",
    "import matplotlib.pyplot as plt\n",
    "\n",
    "import os\n",
    "import csv\n",
    "from tqdm import tqdm"
   ]
  },
  {
   "cell_type": "code",
   "execution_count": 665,
   "id": "bccf8a4d",
   "metadata": {},
   "outputs": [],
   "source": [
    "# import data\n",
    "df = pd.read_csv('00_df.csv', index_col=0)\n",
    "pre_df = pd.read_csv('01_pre_df.csv', index_col=0)\n",
    "interpolated_mv_df = pd.read_csv('02_interpolated_mv_df.csv', index_col=0)"
   ]
  },
  {
   "cell_type": "code",
   "execution_count": 666,
   "id": "7c4dfca1",
   "metadata": {},
   "outputs": [
    {
     "data": {
      "text/plain": [
       "(783926, 41)"
      ]
     },
     "execution_count": 666,
     "metadata": {},
     "output_type": "execute_result"
    }
   ],
   "source": [
    "df.shape"
   ]
  },
  {
   "cell_type": "code",
   "execution_count": 667,
   "id": "9b62926e",
   "metadata": {},
   "outputs": [
    {
     "data": {
      "text/plain": [
       "(783926, 37)"
      ]
     },
     "execution_count": 667,
     "metadata": {},
     "output_type": "execute_result"
    }
   ],
   "source": [
    "pre_df.shape"
   ]
  },
  {
   "cell_type": "code",
   "execution_count": 668,
   "id": "f95c7485",
   "metadata": {},
   "outputs": [
    {
     "data": {
      "text/plain": [
       "(783926, 40)"
      ]
     },
     "execution_count": 668,
     "metadata": {},
     "output_type": "execute_result"
    }
   ],
   "source": [
    "interpolated_mv_df.shape"
   ]
  },
  {
   "cell_type": "code",
   "execution_count": 669,
   "id": "fdd98afb",
   "metadata": {},
   "outputs": [],
   "source": [
    "# import list data\n",
    "\n",
    "data_length_per_person = []\n",
    "data_length_per_person_sum = []\n",
    "\n",
    "with open('data_length_per_person.csv', 'r', encoding='utf-8') as f:\n",
    "    rdr = csv.reader(f)\n",
    "    for para in rdr:\n",
    "        for i in para:\n",
    "            data_length_per_person.append(int(i))\n",
    "\n",
    "\n",
    "with open('data_length_per_person_sum.csv', 'r', encoding='utf-8') as f:\n",
    "    rdr = csv.reader(f)\n",
    "    for para in rdr:\n",
    "        for i in para:\n",
    "            data_length_per_person_sum.append(int(i))"
   ]
  },
  {
   "cell_type": "code",
   "execution_count": 670,
   "id": "dc26fe8c",
   "metadata": {},
   "outputs": [
    {
     "data": {
      "text/plain": [
       "20169"
      ]
     },
     "execution_count": 670,
     "metadata": {},
     "output_type": "execute_result"
    }
   ],
   "source": [
    "len(data_length_per_person)   # 20169"
   ]
  },
  {
   "cell_type": "code",
   "execution_count": 671,
   "id": "43f4fa23",
   "metadata": {},
   "outputs": [
    {
     "data": {
      "text/plain": [
       "20169"
      ]
     },
     "execution_count": 671,
     "metadata": {},
     "output_type": "execute_result"
    }
   ],
   "source": [
    "len(data_length_per_person_sum)   # 20169"
   ]
  },
  {
   "cell_type": "markdown",
   "id": "1dc8ee6f",
   "metadata": {},
   "source": [
    "# feature를 줄여서 학습를 시도 & 성능 분석"
   ]
  },
  {
   "cell_type": "code",
   "execution_count": 672,
   "id": "8072b275",
   "metadata": {},
   "outputs": [
    {
     "data": {
      "text/html": [
       "<div>\n",
       "<style scoped>\n",
       "    .dataframe tbody tr th:only-of-type {\n",
       "        vertical-align: middle;\n",
       "    }\n",
       "\n",
       "    .dataframe tbody tr th {\n",
       "        vertical-align: top;\n",
       "    }\n",
       "\n",
       "    .dataframe thead th {\n",
       "        text-align: right;\n",
       "    }\n",
       "</style>\n",
       "<table border=\"1\" class=\"dataframe\">\n",
       "  <thead>\n",
       "    <tr style=\"text-align: right;\">\n",
       "      <th></th>\n",
       "      <th>HR</th>\n",
       "      <th>O2Sat</th>\n",
       "      <th>Temp</th>\n",
       "      <th>SBP</th>\n",
       "      <th>MAP</th>\n",
       "      <th>DBP</th>\n",
       "      <th>Resp</th>\n",
       "      <th>BaseExcess</th>\n",
       "      <th>HCO3</th>\n",
       "      <th>FiO2</th>\n",
       "      <th>...</th>\n",
       "      <th>WBC</th>\n",
       "      <th>Fibrinogen</th>\n",
       "      <th>Platelets</th>\n",
       "      <th>Age</th>\n",
       "      <th>Gender</th>\n",
       "      <th>Unit1</th>\n",
       "      <th>Unit2</th>\n",
       "      <th>HospAdmTime</th>\n",
       "      <th>ICULOS</th>\n",
       "      <th>SepsisLabel</th>\n",
       "    </tr>\n",
       "  </thead>\n",
       "  <tbody>\n",
       "    <tr>\n",
       "      <th>0</th>\n",
       "      <td>101.6</td>\n",
       "      <td>91.5</td>\n",
       "      <td>36.80</td>\n",
       "      <td>126.8</td>\n",
       "      <td>87.30</td>\n",
       "      <td>NaN</td>\n",
       "      <td>24.8</td>\n",
       "      <td>20.7</td>\n",
       "      <td>46.5</td>\n",
       "      <td>0.30</td>\n",
       "      <td>...</td>\n",
       "      <td>10.2</td>\n",
       "      <td>NaN</td>\n",
       "      <td>327.5</td>\n",
       "      <td>83.14</td>\n",
       "      <td>0</td>\n",
       "      <td>NaN</td>\n",
       "      <td>NaN</td>\n",
       "      <td>-0.03</td>\n",
       "      <td>1</td>\n",
       "      <td>0</td>\n",
       "    </tr>\n",
       "    <tr>\n",
       "      <th>1</th>\n",
       "      <td>97.0</td>\n",
       "      <td>95.0</td>\n",
       "      <td>36.80</td>\n",
       "      <td>98.0</td>\n",
       "      <td>75.33</td>\n",
       "      <td>NaN</td>\n",
       "      <td>19.0</td>\n",
       "      <td>20.7</td>\n",
       "      <td>46.5</td>\n",
       "      <td>0.30</td>\n",
       "      <td>...</td>\n",
       "      <td>10.2</td>\n",
       "      <td>NaN</td>\n",
       "      <td>327.5</td>\n",
       "      <td>83.14</td>\n",
       "      <td>0</td>\n",
       "      <td>NaN</td>\n",
       "      <td>NaN</td>\n",
       "      <td>-0.03</td>\n",
       "      <td>2</td>\n",
       "      <td>0</td>\n",
       "    </tr>\n",
       "    <tr>\n",
       "      <th>2</th>\n",
       "      <td>89.0</td>\n",
       "      <td>99.0</td>\n",
       "      <td>36.80</td>\n",
       "      <td>122.0</td>\n",
       "      <td>86.00</td>\n",
       "      <td>NaN</td>\n",
       "      <td>22.0</td>\n",
       "      <td>20.7</td>\n",
       "      <td>46.5</td>\n",
       "      <td>0.30</td>\n",
       "      <td>...</td>\n",
       "      <td>10.2</td>\n",
       "      <td>NaN</td>\n",
       "      <td>327.5</td>\n",
       "      <td>83.14</td>\n",
       "      <td>0</td>\n",
       "      <td>NaN</td>\n",
       "      <td>NaN</td>\n",
       "      <td>-0.03</td>\n",
       "      <td>3</td>\n",
       "      <td>0</td>\n",
       "    </tr>\n",
       "    <tr>\n",
       "      <th>3</th>\n",
       "      <td>90.0</td>\n",
       "      <td>95.0</td>\n",
       "      <td>36.80</td>\n",
       "      <td>126.8</td>\n",
       "      <td>87.30</td>\n",
       "      <td>NaN</td>\n",
       "      <td>30.0</td>\n",
       "      <td>24.0</td>\n",
       "      <td>46.5</td>\n",
       "      <td>0.30</td>\n",
       "      <td>...</td>\n",
       "      <td>10.2</td>\n",
       "      <td>NaN</td>\n",
       "      <td>327.5</td>\n",
       "      <td>83.14</td>\n",
       "      <td>0</td>\n",
       "      <td>NaN</td>\n",
       "      <td>NaN</td>\n",
       "      <td>-0.03</td>\n",
       "      <td>4</td>\n",
       "      <td>0</td>\n",
       "    </tr>\n",
       "    <tr>\n",
       "      <th>4</th>\n",
       "      <td>103.0</td>\n",
       "      <td>88.5</td>\n",
       "      <td>36.80</td>\n",
       "      <td>122.0</td>\n",
       "      <td>91.33</td>\n",
       "      <td>NaN</td>\n",
       "      <td>24.5</td>\n",
       "      <td>20.7</td>\n",
       "      <td>46.5</td>\n",
       "      <td>0.28</td>\n",
       "      <td>...</td>\n",
       "      <td>10.2</td>\n",
       "      <td>NaN</td>\n",
       "      <td>327.5</td>\n",
       "      <td>83.14</td>\n",
       "      <td>0</td>\n",
       "      <td>NaN</td>\n",
       "      <td>NaN</td>\n",
       "      <td>-0.03</td>\n",
       "      <td>5</td>\n",
       "      <td>0</td>\n",
       "    </tr>\n",
       "    <tr>\n",
       "      <th>...</th>\n",
       "      <td>...</td>\n",
       "      <td>...</td>\n",
       "      <td>...</td>\n",
       "      <td>...</td>\n",
       "      <td>...</td>\n",
       "      <td>...</td>\n",
       "      <td>...</td>\n",
       "      <td>...</td>\n",
       "      <td>...</td>\n",
       "      <td>...</td>\n",
       "      <td>...</td>\n",
       "      <td>...</td>\n",
       "      <td>...</td>\n",
       "      <td>...</td>\n",
       "      <td>...</td>\n",
       "      <td>...</td>\n",
       "      <td>...</td>\n",
       "      <td>...</td>\n",
       "      <td>...</td>\n",
       "      <td>...</td>\n",
       "      <td>...</td>\n",
       "    </tr>\n",
       "    <tr>\n",
       "      <th>783921</th>\n",
       "      <td>88.0</td>\n",
       "      <td>98.0</td>\n",
       "      <td>38.10</td>\n",
       "      <td>135.0</td>\n",
       "      <td>81.00</td>\n",
       "      <td>64.0</td>\n",
       "      <td>16.0</td>\n",
       "      <td>0.0</td>\n",
       "      <td>25.7</td>\n",
       "      <td>0.50</td>\n",
       "      <td>...</td>\n",
       "      <td>14.0</td>\n",
       "      <td>NaN</td>\n",
       "      <td>325.5</td>\n",
       "      <td>62.29</td>\n",
       "      <td>1</td>\n",
       "      <td>NaN</td>\n",
       "      <td>NaN</td>\n",
       "      <td>-0.03</td>\n",
       "      <td>31</td>\n",
       "      <td>1</td>\n",
       "    </tr>\n",
       "    <tr>\n",
       "      <th>783922</th>\n",
       "      <td>96.0</td>\n",
       "      <td>98.0</td>\n",
       "      <td>38.72</td>\n",
       "      <td>174.0</td>\n",
       "      <td>97.00</td>\n",
       "      <td>72.0</td>\n",
       "      <td>16.0</td>\n",
       "      <td>2.0</td>\n",
       "      <td>25.7</td>\n",
       "      <td>0.50</td>\n",
       "      <td>...</td>\n",
       "      <td>14.0</td>\n",
       "      <td>NaN</td>\n",
       "      <td>325.5</td>\n",
       "      <td>62.29</td>\n",
       "      <td>1</td>\n",
       "      <td>NaN</td>\n",
       "      <td>NaN</td>\n",
       "      <td>-0.03</td>\n",
       "      <td>32</td>\n",
       "      <td>1</td>\n",
       "    </tr>\n",
       "    <tr>\n",
       "      <th>783923</th>\n",
       "      <td>140.0</td>\n",
       "      <td>97.0</td>\n",
       "      <td>38.10</td>\n",
       "      <td>133.0</td>\n",
       "      <td>81.50</td>\n",
       "      <td>62.5</td>\n",
       "      <td>16.0</td>\n",
       "      <td>0.0</td>\n",
       "      <td>25.7</td>\n",
       "      <td>0.50</td>\n",
       "      <td>...</td>\n",
       "      <td>14.0</td>\n",
       "      <td>NaN</td>\n",
       "      <td>325.5</td>\n",
       "      <td>62.29</td>\n",
       "      <td>1</td>\n",
       "      <td>NaN</td>\n",
       "      <td>NaN</td>\n",
       "      <td>-0.03</td>\n",
       "      <td>33</td>\n",
       "      <td>1</td>\n",
       "    </tr>\n",
       "    <tr>\n",
       "      <th>783924</th>\n",
       "      <td>120.0</td>\n",
       "      <td>96.0</td>\n",
       "      <td>38.10</td>\n",
       "      <td>154.0</td>\n",
       "      <td>118.00</td>\n",
       "      <td>105.0</td>\n",
       "      <td>16.0</td>\n",
       "      <td>0.0</td>\n",
       "      <td>25.7</td>\n",
       "      <td>0.50</td>\n",
       "      <td>...</td>\n",
       "      <td>14.0</td>\n",
       "      <td>NaN</td>\n",
       "      <td>325.5</td>\n",
       "      <td>62.29</td>\n",
       "      <td>1</td>\n",
       "      <td>NaN</td>\n",
       "      <td>NaN</td>\n",
       "      <td>-0.03</td>\n",
       "      <td>34</td>\n",
       "      <td>1</td>\n",
       "    </tr>\n",
       "    <tr>\n",
       "      <th>783925</th>\n",
       "      <td>115.0</td>\n",
       "      <td>95.0</td>\n",
       "      <td>38.10</td>\n",
       "      <td>150.0</td>\n",
       "      <td>117.00</td>\n",
       "      <td>104.0</td>\n",
       "      <td>16.0</td>\n",
       "      <td>0.0</td>\n",
       "      <td>25.7</td>\n",
       "      <td>0.50</td>\n",
       "      <td>...</td>\n",
       "      <td>14.0</td>\n",
       "      <td>NaN</td>\n",
       "      <td>325.5</td>\n",
       "      <td>62.29</td>\n",
       "      <td>1</td>\n",
       "      <td>NaN</td>\n",
       "      <td>NaN</td>\n",
       "      <td>-0.03</td>\n",
       "      <td>35</td>\n",
       "      <td>1</td>\n",
       "    </tr>\n",
       "  </tbody>\n",
       "</table>\n",
       "<p>783926 rows × 40 columns</p>\n",
       "</div>"
      ],
      "text/plain": [
       "           HR  O2Sat   Temp    SBP     MAP    DBP  Resp  BaseExcess  HCO3  \\\n",
       "0       101.6   91.5  36.80  126.8   87.30    NaN  24.8        20.7  46.5   \n",
       "1        97.0   95.0  36.80   98.0   75.33    NaN  19.0        20.7  46.5   \n",
       "2        89.0   99.0  36.80  122.0   86.00    NaN  22.0        20.7  46.5   \n",
       "3        90.0   95.0  36.80  126.8   87.30    NaN  30.0        24.0  46.5   \n",
       "4       103.0   88.5  36.80  122.0   91.33    NaN  24.5        20.7  46.5   \n",
       "...       ...    ...    ...    ...     ...    ...   ...         ...   ...   \n",
       "783921   88.0   98.0  38.10  135.0   81.00   64.0  16.0         0.0  25.7   \n",
       "783922   96.0   98.0  38.72  174.0   97.00   72.0  16.0         2.0  25.7   \n",
       "783923  140.0   97.0  38.10  133.0   81.50   62.5  16.0         0.0  25.7   \n",
       "783924  120.0   96.0  38.10  154.0  118.00  105.0  16.0         0.0  25.7   \n",
       "783925  115.0   95.0  38.10  150.0  117.00  104.0  16.0         0.0  25.7   \n",
       "\n",
       "        FiO2  ...   WBC  Fibrinogen  Platelets    Age  Gender  Unit1  Unit2  \\\n",
       "0       0.30  ...  10.2         NaN      327.5  83.14       0    NaN    NaN   \n",
       "1       0.30  ...  10.2         NaN      327.5  83.14       0    NaN    NaN   \n",
       "2       0.30  ...  10.2         NaN      327.5  83.14       0    NaN    NaN   \n",
       "3       0.30  ...  10.2         NaN      327.5  83.14       0    NaN    NaN   \n",
       "4       0.28  ...  10.2         NaN      327.5  83.14       0    NaN    NaN   \n",
       "...      ...  ...   ...         ...        ...    ...     ...    ...    ...   \n",
       "783921  0.50  ...  14.0         NaN      325.5  62.29       1    NaN    NaN   \n",
       "783922  0.50  ...  14.0         NaN      325.5  62.29       1    NaN    NaN   \n",
       "783923  0.50  ...  14.0         NaN      325.5  62.29       1    NaN    NaN   \n",
       "783924  0.50  ...  14.0         NaN      325.5  62.29       1    NaN    NaN   \n",
       "783925  0.50  ...  14.0         NaN      325.5  62.29       1    NaN    NaN   \n",
       "\n",
       "        HospAdmTime  ICULOS  SepsisLabel  \n",
       "0             -0.03       1            0  \n",
       "1             -0.03       2            0  \n",
       "2             -0.03       3            0  \n",
       "3             -0.03       4            0  \n",
       "4             -0.03       5            0  \n",
       "...             ...     ...          ...  \n",
       "783921        -0.03      31            1  \n",
       "783922        -0.03      32            1  \n",
       "783923        -0.03      33            1  \n",
       "783924        -0.03      34            1  \n",
       "783925        -0.03      35            1  \n",
       "\n",
       "[783926 rows x 40 columns]"
      ]
     },
     "execution_count": 672,
     "metadata": {},
     "output_type": "execute_result"
    }
   ],
   "source": [
    "interpolated_mv_df"
   ]
  },
  {
   "cell_type": "code",
   "execution_count": 673,
   "id": "eada6ab2",
   "metadata": {},
   "outputs": [
    {
     "data": {
      "text/plain": [
       "18.11"
      ]
     },
     "execution_count": 673,
     "metadata": {},
     "output_type": "execute_result"
    }
   ],
   "source": [
    "interpolated_mv_df[\"Age\"].min()"
   ]
  },
  {
   "cell_type": "code",
   "execution_count": 674,
   "id": "4e2121c6",
   "metadata": {},
   "outputs": [
    {
     "data": {
      "text/plain": [
       "89.0"
      ]
     },
     "execution_count": 674,
     "metadata": {},
     "output_type": "execute_result"
    }
   ],
   "source": [
    "interpolated_mv_df[\"Age\"].max()"
   ]
  },
  {
   "cell_type": "code",
   "execution_count": 675,
   "id": "2d13fe3b",
   "metadata": {},
   "outputs": [],
   "source": [
    "interpolated_mv_df.drop(['Unit1', 'Unit2', 'HospAdmTime', 'ICULOS'], axis=1, inplace=True)"
   ]
  },
  {
   "cell_type": "code",
   "execution_count": 676,
   "id": "43dfd765",
   "metadata": {},
   "outputs": [
    {
     "data": {
      "image/png": "[encoded data removed]",
      "text/plain": [
       "<Figure size 432x288 with 1 Axes>"
      ]
     },
     "metadata": {
      "needs_background": "light"
     },
     "output_type": "display_data"
    }
   ],
   "source": [
    "plt.hist(interpolated_mv_df.isnull().sum() / interpolated_mv_df.shape[0]*100)\n",
    "plt.show()"
   ]
  },
  {
   "cell_type": "code",
   "execution_count": 677,
   "id": "c9e7cf83",
   "metadata": {},
   "outputs": [
    {
     "data": {
      "text/plain": [
       "HR                   0.001148\n",
       "O2Sat                0.026916\n",
       "Temp                 0.858499\n",
       "SBP                  1.269125\n",
       "MAP                  0.003062\n",
       "DBP                 32.635733\n",
       "Resp                 0.089422\n",
       "BaseExcess          32.518631\n",
       "HCO3                 1.298464\n",
       "FiO2                36.225358\n",
       "pH                  29.944663\n",
       "PaCO2               32.828354\n",
       "SaO2                57.334238\n",
       "AST                 66.450277\n",
       "BUN                  0.933634\n",
       "Alkalinephos        67.339519\n",
       "Calcium             13.873121\n",
       "Chloride             1.309562\n",
       "Creatinine           1.020377\n",
       "Bilirubin_direct    96.241482\n",
       "Glucose              0.931721\n",
       "Lactate             56.030799\n",
       "Magnesium            4.114419\n",
       "Phosphate           13.209793\n",
       "Potassium            1.017443\n",
       "Bilirubin_total     66.958488\n",
       "TroponinI           97.348857\n",
       "Hct                  0.773542\n",
       "Hgb                  1.154956\n",
       "PTT                 17.837398\n",
       "WBC                  1.506647\n",
       "Fibrinogen          85.060962\n",
       "Platelets            1.387248\n",
       "Age                  0.000000\n",
       "Gender               0.000000\n",
       "SepsisLabel          0.000000\n",
       "dtype: float64"
      ]
     },
     "execution_count": 677,
     "metadata": {},
     "output_type": "execute_result"
    }
   ],
   "source": [
    "interpolated_mv_df.isnull().sum() / interpolated_mv_df.shape[0]*100"
   ]
  },
  {
   "cell_type": "code",
   "execution_count": 678,
   "id": "9058d5ed",
   "metadata": {},
   "outputs": [],
   "source": [
    "base = 17"
   ]
  },
  {
   "cell_type": "code",
   "execution_count": 679,
   "id": "f78703eb",
   "metadata": {},
   "outputs": [],
   "source": [
    "mv_cols = interpolated_mv_df.isnull().sum() / interpolated_mv_df.shape[0]*100 >= base"
   ]
  },
  {
   "cell_type": "code",
   "execution_count": 680,
   "id": "323d92bc",
   "metadata": {},
   "outputs": [],
   "source": [
    "drop_columns_list = interpolated_mv_df.columns[mv_cols]"
   ]
  },
  {
   "cell_type": "code",
   "execution_count": 681,
   "id": "0f32ac86",
   "metadata": {},
   "outputs": [],
   "source": [
    "interpolated_mv_df.drop(drop_columns_list, axis=1, inplace=True)"
   ]
  },
  {
   "cell_type": "code",
   "execution_count": 682,
   "id": "e22925c6",
   "metadata": {},
   "outputs": [
    {
     "data": {
      "text/plain": [
       "(783926, 22)"
      ]
     },
     "execution_count": 682,
     "metadata": {},
     "output_type": "execute_result"
    }
   ],
   "source": [
    "interpolated_mv_df.shape"
   ]
  },
  {
   "cell_type": "code",
   "execution_count": 683,
   "id": "dd1d2b9b",
   "metadata": {},
   "outputs": [
    {
     "data": {
      "text/plain": [
       "Index(['HR', 'O2Sat', 'Temp', 'SBP', 'MAP', 'Resp', 'HCO3', 'BUN', 'Calcium',\n",
       "       'Chloride', 'Creatinine', 'Glucose', 'Magnesium', 'Phosphate',\n",
       "       'Potassium', 'Hct', 'Hgb', 'WBC', 'Platelets', 'Age', 'Gender',\n",
       "       'SepsisLabel'],\n",
       "      dtype='object')"
      ]
     },
     "execution_count": 683,
     "metadata": {},
     "output_type": "execute_result"
    }
   ],
   "source": [
    "interpolated_mv_df.columns"
   ]
  },
  {
   "cell_type": "markdown",
   "id": "42c3d1ef",
   "metadata": {},
   "source": [
    "# base 보다 많은 결측치 포함 columns 제거 후 데이터 전처리 진행"
   ]
  },
  {
   "cell_type": "code",
   "execution_count": 684,
   "id": "ecfa23f2",
   "metadata": {},
   "outputs": [
    {
     "data": {
      "text/plain": [
       "Index(['HR', 'O2Sat', 'Temp', 'SBP', 'MAP', 'Resp', 'HCO3', 'BUN', 'Calcium',\n",
       "       'Chloride', 'Creatinine', 'Glucose', 'Magnesium', 'Phosphate',\n",
       "       'Potassium', 'Hct', 'Hgb', 'WBC', 'Platelets', 'Age', 'Gender',\n",
       "       'SepsisLabel'],\n",
       "      dtype='object')"
      ]
     },
     "execution_count": 684,
     "metadata": {},
     "output_type": "execute_result"
    }
   ],
   "source": [
    "cols = interpolated_mv_df.columns\n",
    "cols"
   ]
  },
  {
   "cell_type": "code",
   "execution_count": 685,
   "id": "1cfd3429",
   "metadata": {},
   "outputs": [],
   "source": [
    "data_length_per_person_sum.insert(0,0)"
   ]
  },
  {
   "cell_type": "code",
   "execution_count": 686,
   "id": "bedc933a",
   "metadata": {},
   "outputs": [],
   "source": [
    "L = len(data_length_per_person_sum)"
   ]
  },
  {
   "cell_type": "code",
   "execution_count": 687,
   "id": "b405f21d",
   "metadata": {},
   "outputs": [
    {
     "name": "stderr",
     "output_type": "stream",
     "text": [
      "100%|██████████| 20169/20169 [04:04<00:00, 82.64it/s]\n"
     ]
    }
   ],
   "source": [
    "s_i = 0\n",
    "e_i = 1\n",
    "\n",
    "df_patient_per_20 = pd.DataFrame(columns = cols)\n",
    "\n",
    "for i in tqdm(range(len(data_length_per_person_sum)-1)):\n",
    "    s = data_length_per_person_sum[s_i]\n",
    "    e = data_length_per_person_sum[e_i]\n",
    "    if e - s >= 20:\n",
    "        temp = interpolated_mv_df[e-20:e]\n",
    "        df_patient_per_20 = pd.concat([df_patient_per_20, temp])\n",
    "    \n",
    "    s_i += 1\n",
    "    e_i += 1"
   ]
  },
  {
   "cell_type": "code",
   "execution_count": 688,
   "id": "90de2dff",
   "metadata": {},
   "outputs": [
    {
     "data": {
      "text/html": [
       "<div>\n",
       "<style scoped>\n",
       "    .dataframe tbody tr th:only-of-type {\n",
       "        vertical-align: middle;\n",
       "    }\n",
       "\n",
       "    .dataframe tbody tr th {\n",
       "        vertical-align: top;\n",
       "    }\n",
       "\n",
       "    .dataframe thead th {\n",
       "        text-align: right;\n",
       "    }\n",
       "</style>\n",
       "<table border=\"1\" class=\"dataframe\">\n",
       "  <thead>\n",
       "    <tr style=\"text-align: right;\">\n",
       "      <th></th>\n",
       "      <th>HR</th>\n",
       "      <th>O2Sat</th>\n",
       "      <th>Temp</th>\n",
       "      <th>SBP</th>\n",
       "      <th>MAP</th>\n",
       "      <th>Resp</th>\n",
       "      <th>HCO3</th>\n",
       "      <th>BUN</th>\n",
       "      <th>Calcium</th>\n",
       "      <th>Chloride</th>\n",
       "      <th>...</th>\n",
       "      <th>Magnesium</th>\n",
       "      <th>Phosphate</th>\n",
       "      <th>Potassium</th>\n",
       "      <th>Hct</th>\n",
       "      <th>Hgb</th>\n",
       "      <th>WBC</th>\n",
       "      <th>Platelets</th>\n",
       "      <th>Age</th>\n",
       "      <th>Gender</th>\n",
       "      <th>SepsisLabel</th>\n",
       "    </tr>\n",
       "  </thead>\n",
       "  <tbody>\n",
       "    <tr>\n",
       "      <th>34</th>\n",
       "      <td>102.0</td>\n",
       "      <td>91.5</td>\n",
       "      <td>36.80</td>\n",
       "      <td>103.0</td>\n",
       "      <td>75.67</td>\n",
       "      <td>24.0</td>\n",
       "      <td>46.5</td>\n",
       "      <td>18.0</td>\n",
       "      <td>9.4</td>\n",
       "      <td>85.0</td>\n",
       "      <td>...</td>\n",
       "      <td>2.1</td>\n",
       "      <td>3.5</td>\n",
       "      <td>4.2</td>\n",
       "      <td>36.7</td>\n",
       "      <td>12.3</td>\n",
       "      <td>10.2</td>\n",
       "      <td>327.5</td>\n",
       "      <td>83.14</td>\n",
       "      <td>0</td>\n",
       "      <td>0</td>\n",
       "    </tr>\n",
       "    <tr>\n",
       "      <th>35</th>\n",
       "      <td>99.0</td>\n",
       "      <td>89.0</td>\n",
       "      <td>37.11</td>\n",
       "      <td>113.0</td>\n",
       "      <td>96.33</td>\n",
       "      <td>26.0</td>\n",
       "      <td>46.5</td>\n",
       "      <td>18.0</td>\n",
       "      <td>9.4</td>\n",
       "      <td>85.0</td>\n",
       "      <td>...</td>\n",
       "      <td>2.1</td>\n",
       "      <td>3.5</td>\n",
       "      <td>4.2</td>\n",
       "      <td>36.7</td>\n",
       "      <td>12.3</td>\n",
       "      <td>10.2</td>\n",
       "      <td>327.5</td>\n",
       "      <td>83.14</td>\n",
       "      <td>0</td>\n",
       "      <td>0</td>\n",
       "    </tr>\n",
       "    <tr>\n",
       "      <th>36</th>\n",
       "      <td>97.0</td>\n",
       "      <td>89.0</td>\n",
       "      <td>36.80</td>\n",
       "      <td>110.0</td>\n",
       "      <td>72.00</td>\n",
       "      <td>29.0</td>\n",
       "      <td>46.5</td>\n",
       "      <td>18.0</td>\n",
       "      <td>9.4</td>\n",
       "      <td>85.0</td>\n",
       "      <td>...</td>\n",
       "      <td>2.1</td>\n",
       "      <td>3.5</td>\n",
       "      <td>4.2</td>\n",
       "      <td>36.7</td>\n",
       "      <td>12.3</td>\n",
       "      <td>10.2</td>\n",
       "      <td>327.5</td>\n",
       "      <td>83.14</td>\n",
       "      <td>0</td>\n",
       "      <td>0</td>\n",
       "    </tr>\n",
       "    <tr>\n",
       "      <th>37</th>\n",
       "      <td>110.0</td>\n",
       "      <td>89.0</td>\n",
       "      <td>36.80</td>\n",
       "      <td>108.0</td>\n",
       "      <td>90.67</td>\n",
       "      <td>24.0</td>\n",
       "      <td>46.5</td>\n",
       "      <td>18.0</td>\n",
       "      <td>9.4</td>\n",
       "      <td>85.0</td>\n",
       "      <td>...</td>\n",
       "      <td>2.1</td>\n",
       "      <td>3.5</td>\n",
       "      <td>4.2</td>\n",
       "      <td>36.7</td>\n",
       "      <td>12.3</td>\n",
       "      <td>10.2</td>\n",
       "      <td>327.5</td>\n",
       "      <td>83.14</td>\n",
       "      <td>0</td>\n",
       "      <td>0</td>\n",
       "    </tr>\n",
       "    <tr>\n",
       "      <th>38</th>\n",
       "      <td>108.0</td>\n",
       "      <td>89.0</td>\n",
       "      <td>36.80</td>\n",
       "      <td>139.0</td>\n",
       "      <td>102.33</td>\n",
       "      <td>26.0</td>\n",
       "      <td>46.5</td>\n",
       "      <td>18.0</td>\n",
       "      <td>9.4</td>\n",
       "      <td>85.0</td>\n",
       "      <td>...</td>\n",
       "      <td>2.1</td>\n",
       "      <td>3.5</td>\n",
       "      <td>4.2</td>\n",
       "      <td>36.7</td>\n",
       "      <td>12.3</td>\n",
       "      <td>10.2</td>\n",
       "      <td>327.5</td>\n",
       "      <td>83.14</td>\n",
       "      <td>0</td>\n",
       "      <td>0</td>\n",
       "    </tr>\n",
       "    <tr>\n",
       "      <th>...</th>\n",
       "      <td>...</td>\n",
       "      <td>...</td>\n",
       "      <td>...</td>\n",
       "      <td>...</td>\n",
       "      <td>...</td>\n",
       "      <td>...</td>\n",
       "      <td>...</td>\n",
       "      <td>...</td>\n",
       "      <td>...</td>\n",
       "      <td>...</td>\n",
       "      <td>...</td>\n",
       "      <td>...</td>\n",
       "      <td>...</td>\n",
       "      <td>...</td>\n",
       "      <td>...</td>\n",
       "      <td>...</td>\n",
       "      <td>...</td>\n",
       "      <td>...</td>\n",
       "      <td>...</td>\n",
       "      <td>...</td>\n",
       "      <td>...</td>\n",
       "    </tr>\n",
       "    <tr>\n",
       "      <th>783921</th>\n",
       "      <td>88.0</td>\n",
       "      <td>98.0</td>\n",
       "      <td>38.10</td>\n",
       "      <td>135.0</td>\n",
       "      <td>81.00</td>\n",
       "      <td>16.0</td>\n",
       "      <td>25.7</td>\n",
       "      <td>20.5</td>\n",
       "      <td>8.2</td>\n",
       "      <td>103.7</td>\n",
       "      <td>...</td>\n",
       "      <td>2.1</td>\n",
       "      <td>4.0</td>\n",
       "      <td>3.8</td>\n",
       "      <td>31.2</td>\n",
       "      <td>11.6</td>\n",
       "      <td>14.0</td>\n",
       "      <td>325.5</td>\n",
       "      <td>62.29</td>\n",
       "      <td>1</td>\n",
       "      <td>1</td>\n",
       "    </tr>\n",
       "    <tr>\n",
       "      <th>783922</th>\n",
       "      <td>96.0</td>\n",
       "      <td>98.0</td>\n",
       "      <td>38.72</td>\n",
       "      <td>174.0</td>\n",
       "      <td>97.00</td>\n",
       "      <td>16.0</td>\n",
       "      <td>25.7</td>\n",
       "      <td>26.0</td>\n",
       "      <td>8.2</td>\n",
       "      <td>103.7</td>\n",
       "      <td>...</td>\n",
       "      <td>2.2</td>\n",
       "      <td>3.5</td>\n",
       "      <td>3.9</td>\n",
       "      <td>27.8</td>\n",
       "      <td>11.6</td>\n",
       "      <td>14.0</td>\n",
       "      <td>325.5</td>\n",
       "      <td>62.29</td>\n",
       "      <td>1</td>\n",
       "      <td>1</td>\n",
       "    </tr>\n",
       "    <tr>\n",
       "      <th>783923</th>\n",
       "      <td>140.0</td>\n",
       "      <td>97.0</td>\n",
       "      <td>38.10</td>\n",
       "      <td>133.0</td>\n",
       "      <td>81.50</td>\n",
       "      <td>16.0</td>\n",
       "      <td>25.7</td>\n",
       "      <td>20.5</td>\n",
       "      <td>8.2</td>\n",
       "      <td>103.7</td>\n",
       "      <td>...</td>\n",
       "      <td>2.1</td>\n",
       "      <td>4.0</td>\n",
       "      <td>3.8</td>\n",
       "      <td>31.2</td>\n",
       "      <td>11.6</td>\n",
       "      <td>14.0</td>\n",
       "      <td>325.5</td>\n",
       "      <td>62.29</td>\n",
       "      <td>1</td>\n",
       "      <td>1</td>\n",
       "    </tr>\n",
       "    <tr>\n",
       "      <th>783924</th>\n",
       "      <td>120.0</td>\n",
       "      <td>96.0</td>\n",
       "      <td>38.10</td>\n",
       "      <td>154.0</td>\n",
       "      <td>118.00</td>\n",
       "      <td>16.0</td>\n",
       "      <td>25.7</td>\n",
       "      <td>20.5</td>\n",
       "      <td>8.2</td>\n",
       "      <td>103.7</td>\n",
       "      <td>...</td>\n",
       "      <td>2.1</td>\n",
       "      <td>4.0</td>\n",
       "      <td>3.8</td>\n",
       "      <td>31.2</td>\n",
       "      <td>11.6</td>\n",
       "      <td>14.0</td>\n",
       "      <td>325.5</td>\n",
       "      <td>62.29</td>\n",
       "      <td>1</td>\n",
       "      <td>1</td>\n",
       "    </tr>\n",
       "    <tr>\n",
       "      <th>783925</th>\n",
       "      <td>115.0</td>\n",
       "      <td>95.0</td>\n",
       "      <td>38.10</td>\n",
       "      <td>150.0</td>\n",
       "      <td>117.00</td>\n",
       "      <td>16.0</td>\n",
       "      <td>25.7</td>\n",
       "      <td>20.5</td>\n",
       "      <td>8.2</td>\n",
       "      <td>103.7</td>\n",
       "      <td>...</td>\n",
       "      <td>2.1</td>\n",
       "      <td>4.0</td>\n",
       "      <td>3.8</td>\n",
       "      <td>31.2</td>\n",
       "      <td>11.6</td>\n",
       "      <td>14.0</td>\n",
       "      <td>325.5</td>\n",
       "      <td>62.29</td>\n",
       "      <td>1</td>\n",
       "      <td>1</td>\n",
       "    </tr>\n",
       "  </tbody>\n",
       "</table>\n",
       "<p>351700 rows × 22 columns</p>\n",
       "</div>"
      ],
      "text/plain": [
       "           HR  O2Sat   Temp    SBP     MAP  Resp  HCO3   BUN  Calcium  \\\n",
       "34      102.0   91.5  36.80  103.0   75.67  24.0  46.5  18.0      9.4   \n",
       "35       99.0   89.0  37.11  113.0   96.33  26.0  46.5  18.0      9.4   \n",
       "36       97.0   89.0  36.80  110.0   72.00  29.0  46.5  18.0      9.4   \n",
       "37      110.0   89.0  36.80  108.0   90.67  24.0  46.5  18.0      9.4   \n",
       "38      108.0   89.0  36.80  139.0  102.33  26.0  46.5  18.0      9.4   \n",
       "...       ...    ...    ...    ...     ...   ...   ...   ...      ...   \n",
       "783921   88.0   98.0  38.10  135.0   81.00  16.0  25.7  20.5      8.2   \n",
       "783922   96.0   98.0  38.72  174.0   97.00  16.0  25.7  26.0      8.2   \n",
       "783923  140.0   97.0  38.10  133.0   81.50  16.0  25.7  20.5      8.2   \n",
       "783924  120.0   96.0  38.10  154.0  118.00  16.0  25.7  20.5      8.2   \n",
       "783925  115.0   95.0  38.10  150.0  117.00  16.0  25.7  20.5      8.2   \n",
       "\n",
       "        Chloride  ...  Magnesium  Phosphate  Potassium   Hct   Hgb   WBC  \\\n",
       "34          85.0  ...        2.1        3.5        4.2  36.7  12.3  10.2   \n",
       "35          85.0  ...        2.1        3.5        4.2  36.7  12.3  10.2   \n",
       "36          85.0  ...        2.1        3.5        4.2  36.7  12.3  10.2   \n",
       "37          85.0  ...        2.1        3.5        4.2  36.7  12.3  10.2   \n",
       "38          85.0  ...        2.1        3.5        4.2  36.7  12.3  10.2   \n",
       "...          ...  ...        ...        ...        ...   ...   ...   ...   \n",
       "783921     103.7  ...        2.1        4.0        3.8  31.2  11.6  14.0   \n",
       "783922     103.7  ...        2.2        3.5        3.9  27.8  11.6  14.0   \n",
       "783923     103.7  ...        2.1        4.0        3.8  31.2  11.6  14.0   \n",
       "783924     103.7  ...        2.1        4.0        3.8  31.2  11.6  14.0   \n",
       "783925     103.7  ...        2.1        4.0        3.8  31.2  11.6  14.0   \n",
       "\n",
       "        Platelets    Age  Gender  SepsisLabel  \n",
       "34          327.5  83.14       0            0  \n",
       "35          327.5  83.14       0            0  \n",
       "36          327.5  83.14       0            0  \n",
       "37          327.5  83.14       0            0  \n",
       "38          327.5  83.14       0            0  \n",
       "...           ...    ...     ...          ...  \n",
       "783921      325.5  62.29       1            1  \n",
       "783922      325.5  62.29       1            1  \n",
       "783923      325.5  62.29       1            1  \n",
       "783924      325.5  62.29       1            1  \n",
       "783925      325.5  62.29       1            1  \n",
       "\n",
       "[351700 rows x 22 columns]"
      ]
     },
     "execution_count": 688,
     "metadata": {},
     "output_type": "execute_result"
    }
   ],
   "source": [
    "df_patient_per_20"
   ]
  },
  {
   "cell_type": "markdown",
   "id": "c6701e73",
   "metadata": {},
   "source": [
    "# 스케일링"
   ]
  },
  {
   "cell_type": "code",
   "execution_count": 26,
   "id": "025d4d1a",
   "metadata": {},
   "outputs": [],
   "source": [
    "label = df_patient_per_20[\"SepsisLabel\"]"
   ]
  },
  {
   "cell_type": "code",
   "execution_count": 27,
   "id": "d18e4872",
   "metadata": {},
   "outputs": [
    {
     "data": {
      "text/html": [
       "<div>\n",
       "<style scoped>\n",
       "    .dataframe tbody tr th:only-of-type {\n",
       "        vertical-align: middle;\n",
       "    }\n",
       "\n",
       "    .dataframe tbody tr th {\n",
       "        vertical-align: top;\n",
       "    }\n",
       "\n",
       "    .dataframe thead th {\n",
       "        text-align: right;\n",
       "    }\n",
       "</style>\n",
       "<table border=\"1\" class=\"dataframe\">\n",
       "  <thead>\n",
       "    <tr style=\"text-align: right;\">\n",
       "      <th></th>\n",
       "      <th>HR</th>\n",
       "      <th>O2Sat</th>\n",
       "      <th>Temp</th>\n",
       "      <th>SBP</th>\n",
       "      <th>MAP</th>\n",
       "      <th>Resp</th>\n",
       "      <th>HCO3</th>\n",
       "      <th>BUN</th>\n",
       "      <th>Calcium</th>\n",
       "      <th>Chloride</th>\n",
       "      <th>...</th>\n",
       "      <th>Magnesium</th>\n",
       "      <th>Phosphate</th>\n",
       "      <th>Potassium</th>\n",
       "      <th>Hct</th>\n",
       "      <th>Hgb</th>\n",
       "      <th>WBC</th>\n",
       "      <th>Platelets</th>\n",
       "      <th>Age</th>\n",
       "      <th>Gender</th>\n",
       "      <th>SepsisLabel</th>\n",
       "    </tr>\n",
       "  </thead>\n",
       "  <tbody>\n",
       "    <tr>\n",
       "      <th>34</th>\n",
       "      <td>1.066961</td>\n",
       "      <td>-1.862253</td>\n",
       "      <td>-0.239035</td>\n",
       "      <td>-0.880981</td>\n",
       "      <td>-0.211372</td>\n",
       "      <td>0.974005</td>\n",
       "      <td>5.647835</td>\n",
       "      <td>-0.256995</td>\n",
       "      <td>1.54313</td>\n",
       "      <td>-4.004401</td>\n",
       "      <td>...</td>\n",
       "      <td>0.247702</td>\n",
       "      <td>-0.029089</td>\n",
       "      <td>0.144512</td>\n",
       "      <td>1.131153</td>\n",
       "      <td>0.975539</td>\n",
       "      <td>-0.238756</td>\n",
       "      <td>1.110786</td>\n",
       "      <td>1.255027</td>\n",
       "      <td>-1.173589</td>\n",
       "      <td>-0.18765</td>\n",
       "    </tr>\n",
       "    <tr>\n",
       "      <th>35</th>\n",
       "      <td>0.883750</td>\n",
       "      <td>-2.714666</td>\n",
       "      <td>0.277930</td>\n",
       "      <td>-0.400239</td>\n",
       "      <td>1.200863</td>\n",
       "      <td>1.358281</td>\n",
       "      <td>5.647835</td>\n",
       "      <td>-0.256995</td>\n",
       "      <td>1.54313</td>\n",
       "      <td>-4.004401</td>\n",
       "      <td>...</td>\n",
       "      <td>0.247702</td>\n",
       "      <td>-0.029089</td>\n",
       "      <td>0.144512</td>\n",
       "      <td>1.131153</td>\n",
       "      <td>0.975539</td>\n",
       "      <td>-0.238756</td>\n",
       "      <td>1.110786</td>\n",
       "      <td>1.255027</td>\n",
       "      <td>-1.173589</td>\n",
       "      <td>-0.18765</td>\n",
       "    </tr>\n",
       "    <tr>\n",
       "      <th>36</th>\n",
       "      <td>0.761609</td>\n",
       "      <td>-2.714666</td>\n",
       "      <td>-0.239035</td>\n",
       "      <td>-0.544461</td>\n",
       "      <td>-0.462239</td>\n",
       "      <td>1.934695</td>\n",
       "      <td>5.647835</td>\n",
       "      <td>-0.256995</td>\n",
       "      <td>1.54313</td>\n",
       "      <td>-4.004401</td>\n",
       "      <td>...</td>\n",
       "      <td>0.247702</td>\n",
       "      <td>-0.029089</td>\n",
       "      <td>0.144512</td>\n",
       "      <td>1.131153</td>\n",
       "      <td>0.975539</td>\n",
       "      <td>-0.238756</td>\n",
       "      <td>1.110786</td>\n",
       "      <td>1.255027</td>\n",
       "      <td>-1.173589</td>\n",
       "      <td>-0.18765</td>\n",
       "    </tr>\n",
       "    <tr>\n",
       "      <th>37</th>\n",
       "      <td>1.555525</td>\n",
       "      <td>-2.714666</td>\n",
       "      <td>-0.239035</td>\n",
       "      <td>-0.640610</td>\n",
       "      <td>0.813968</td>\n",
       "      <td>0.974005</td>\n",
       "      <td>5.647835</td>\n",
       "      <td>-0.256995</td>\n",
       "      <td>1.54313</td>\n",
       "      <td>-4.004401</td>\n",
       "      <td>...</td>\n",
       "      <td>0.247702</td>\n",
       "      <td>-0.029089</td>\n",
       "      <td>0.144512</td>\n",
       "      <td>1.131153</td>\n",
       "      <td>0.975539</td>\n",
       "      <td>-0.238756</td>\n",
       "      <td>1.110786</td>\n",
       "      <td>1.255027</td>\n",
       "      <td>-1.173589</td>\n",
       "      <td>-0.18765</td>\n",
       "    </tr>\n",
       "    <tr>\n",
       "      <th>38</th>\n",
       "      <td>1.433384</td>\n",
       "      <td>-2.714666</td>\n",
       "      <td>-0.239035</td>\n",
       "      <td>0.849690</td>\n",
       "      <td>1.611000</td>\n",
       "      <td>1.358281</td>\n",
       "      <td>5.647835</td>\n",
       "      <td>-0.256995</td>\n",
       "      <td>1.54313</td>\n",
       "      <td>-4.004401</td>\n",
       "      <td>...</td>\n",
       "      <td>0.247702</td>\n",
       "      <td>-0.029089</td>\n",
       "      <td>0.144512</td>\n",
       "      <td>1.131153</td>\n",
       "      <td>0.975539</td>\n",
       "      <td>-0.238756</td>\n",
       "      <td>1.110786</td>\n",
       "      <td>1.255027</td>\n",
       "      <td>-1.173589</td>\n",
       "      <td>-0.18765</td>\n",
       "    </tr>\n",
       "  </tbody>\n",
       "</table>\n",
       "<p>5 rows × 22 columns</p>\n",
       "</div>"
      ],
      "text/plain": [
       "          HR     O2Sat      Temp       SBP       MAP      Resp      HCO3  \\\n",
       "34  1.066961 -1.862253 -0.239035 -0.880981 -0.211372  0.974005  5.647835   \n",
       "35  0.883750 -2.714666  0.277930 -0.400239  1.200863  1.358281  5.647835   \n",
       "36  0.761609 -2.714666 -0.239035 -0.544461 -0.462239  1.934695  5.647835   \n",
       "37  1.555525 -2.714666 -0.239035 -0.640610  0.813968  0.974005  5.647835   \n",
       "38  1.433384 -2.714666 -0.239035  0.849690  1.611000  1.358281  5.647835   \n",
       "\n",
       "         BUN  Calcium  Chloride  ...  Magnesium  Phosphate  Potassium  \\\n",
       "34 -0.256995  1.54313 -4.004401  ...   0.247702  -0.029089   0.144512   \n",
       "35 -0.256995  1.54313 -4.004401  ...   0.247702  -0.029089   0.144512   \n",
       "36 -0.256995  1.54313 -4.004401  ...   0.247702  -0.029089   0.144512   \n",
       "37 -0.256995  1.54313 -4.004401  ...   0.247702  -0.029089   0.144512   \n",
       "38 -0.256995  1.54313 -4.004401  ...   0.247702  -0.029089   0.144512   \n",
       "\n",
       "         Hct       Hgb       WBC  Platelets       Age    Gender  SepsisLabel  \n",
       "34  1.131153  0.975539 -0.238756   1.110786  1.255027 -1.173589     -0.18765  \n",
       "35  1.131153  0.975539 -0.238756   1.110786  1.255027 -1.173589     -0.18765  \n",
       "36  1.131153  0.975539 -0.238756   1.110786  1.255027 -1.173589     -0.18765  \n",
       "37  1.131153  0.975539 -0.238756   1.110786  1.255027 -1.173589     -0.18765  \n",
       "38  1.131153  0.975539 -0.238756   1.110786  1.255027 -1.173589     -0.18765  \n",
       "\n",
       "[5 rows x 22 columns]"
      ]
     },
     "execution_count": 27,
     "metadata": {},
     "output_type": "execute_result"
    }
   ],
   "source": [
    "# 정규 분포\n",
    "df_patient_per_20 = (df_patient_per_20 - df_patient_per_20.mean())/df_patient_per_20.std()\n",
    "df_patient_per_20.head()"
   ]
  },
  {
   "cell_type": "code",
   "execution_count": 28,
   "id": "6f399139",
   "metadata": {},
   "outputs": [],
   "source": [
    "df_patient_per_20[\"SepsisLabel\"] = label"
   ]
  },
  {
   "cell_type": "code",
   "execution_count": 29,
   "id": "becd676d",
   "metadata": {},
   "outputs": [
    {
     "data": {
      "text/plain": [
       "(351700, 22)"
      ]
     },
     "execution_count": 29,
     "metadata": {},
     "output_type": "execute_result"
    }
   ],
   "source": [
    "df_patient_per_20.shape"
   ]
  },
  {
   "cell_type": "code",
   "execution_count": 30,
   "id": "47083fdb",
   "metadata": {},
   "outputs": [
    {
     "data": {
      "text/html": [
       "<div>\n",
       "<style scoped>\n",
       "    .dataframe tbody tr th:only-of-type {\n",
       "        vertical-align: middle;\n",
       "    }\n",
       "\n",
       "    .dataframe tbody tr th {\n",
       "        vertical-align: top;\n",
       "    }\n",
       "\n",
       "    .dataframe thead th {\n",
       "        text-align: right;\n",
       "    }\n",
       "</style>\n",
       "<table border=\"1\" class=\"dataframe\">\n",
       "  <thead>\n",
       "    <tr style=\"text-align: right;\">\n",
       "      <th></th>\n",
       "      <th>HR</th>\n",
       "      <th>O2Sat</th>\n",
       "      <th>Temp</th>\n",
       "      <th>SBP</th>\n",
       "      <th>MAP</th>\n",
       "      <th>Resp</th>\n",
       "      <th>HCO3</th>\n",
       "      <th>BUN</th>\n",
       "      <th>Calcium</th>\n",
       "      <th>Chloride</th>\n",
       "      <th>...</th>\n",
       "      <th>Magnesium</th>\n",
       "      <th>Phosphate</th>\n",
       "      <th>Potassium</th>\n",
       "      <th>Hct</th>\n",
       "      <th>Hgb</th>\n",
       "      <th>WBC</th>\n",
       "      <th>Platelets</th>\n",
       "      <th>Age</th>\n",
       "      <th>Gender</th>\n",
       "      <th>SepsisLabel</th>\n",
       "    </tr>\n",
       "  </thead>\n",
       "  <tbody>\n",
       "    <tr>\n",
       "      <th>34</th>\n",
       "      <td>1.066961</td>\n",
       "      <td>-1.862253</td>\n",
       "      <td>-0.239035</td>\n",
       "      <td>-0.880981</td>\n",
       "      <td>-0.211372</td>\n",
       "      <td>0.974005</td>\n",
       "      <td>5.647835</td>\n",
       "      <td>-0.256995</td>\n",
       "      <td>1.543130</td>\n",
       "      <td>-4.004401</td>\n",
       "      <td>...</td>\n",
       "      <td>0.247702</td>\n",
       "      <td>-0.029089</td>\n",
       "      <td>0.144512</td>\n",
       "      <td>1.131153</td>\n",
       "      <td>0.975539</td>\n",
       "      <td>-0.238756</td>\n",
       "      <td>1.110786</td>\n",
       "      <td>1.255027</td>\n",
       "      <td>-1.173589</td>\n",
       "      <td>0</td>\n",
       "    </tr>\n",
       "    <tr>\n",
       "      <th>35</th>\n",
       "      <td>0.883750</td>\n",
       "      <td>-2.714666</td>\n",
       "      <td>0.277930</td>\n",
       "      <td>-0.400239</td>\n",
       "      <td>1.200863</td>\n",
       "      <td>1.358281</td>\n",
       "      <td>5.647835</td>\n",
       "      <td>-0.256995</td>\n",
       "      <td>1.543130</td>\n",
       "      <td>-4.004401</td>\n",
       "      <td>...</td>\n",
       "      <td>0.247702</td>\n",
       "      <td>-0.029089</td>\n",
       "      <td>0.144512</td>\n",
       "      <td>1.131153</td>\n",
       "      <td>0.975539</td>\n",
       "      <td>-0.238756</td>\n",
       "      <td>1.110786</td>\n",
       "      <td>1.255027</td>\n",
       "      <td>-1.173589</td>\n",
       "      <td>0</td>\n",
       "    </tr>\n",
       "    <tr>\n",
       "      <th>36</th>\n",
       "      <td>0.761609</td>\n",
       "      <td>-2.714666</td>\n",
       "      <td>-0.239035</td>\n",
       "      <td>-0.544461</td>\n",
       "      <td>-0.462239</td>\n",
       "      <td>1.934695</td>\n",
       "      <td>5.647835</td>\n",
       "      <td>-0.256995</td>\n",
       "      <td>1.543130</td>\n",
       "      <td>-4.004401</td>\n",
       "      <td>...</td>\n",
       "      <td>0.247702</td>\n",
       "      <td>-0.029089</td>\n",
       "      <td>0.144512</td>\n",
       "      <td>1.131153</td>\n",
       "      <td>0.975539</td>\n",
       "      <td>-0.238756</td>\n",
       "      <td>1.110786</td>\n",
       "      <td>1.255027</td>\n",
       "      <td>-1.173589</td>\n",
       "      <td>0</td>\n",
       "    </tr>\n",
       "    <tr>\n",
       "      <th>37</th>\n",
       "      <td>1.555525</td>\n",
       "      <td>-2.714666</td>\n",
       "      <td>-0.239035</td>\n",
       "      <td>-0.640610</td>\n",
       "      <td>0.813968</td>\n",
       "      <td>0.974005</td>\n",
       "      <td>5.647835</td>\n",
       "      <td>-0.256995</td>\n",
       "      <td>1.543130</td>\n",
       "      <td>-4.004401</td>\n",
       "      <td>...</td>\n",
       "      <td>0.247702</td>\n",
       "      <td>-0.029089</td>\n",
       "      <td>0.144512</td>\n",
       "      <td>1.131153</td>\n",
       "      <td>0.975539</td>\n",
       "      <td>-0.238756</td>\n",
       "      <td>1.110786</td>\n",
       "      <td>1.255027</td>\n",
       "      <td>-1.173589</td>\n",
       "      <td>0</td>\n",
       "    </tr>\n",
       "    <tr>\n",
       "      <th>38</th>\n",
       "      <td>1.433384</td>\n",
       "      <td>-2.714666</td>\n",
       "      <td>-0.239035</td>\n",
       "      <td>0.849690</td>\n",
       "      <td>1.611000</td>\n",
       "      <td>1.358281</td>\n",
       "      <td>5.647835</td>\n",
       "      <td>-0.256995</td>\n",
       "      <td>1.543130</td>\n",
       "      <td>-4.004401</td>\n",
       "      <td>...</td>\n",
       "      <td>0.247702</td>\n",
       "      <td>-0.029089</td>\n",
       "      <td>0.144512</td>\n",
       "      <td>1.131153</td>\n",
       "      <td>0.975539</td>\n",
       "      <td>-0.238756</td>\n",
       "      <td>1.110786</td>\n",
       "      <td>1.255027</td>\n",
       "      <td>-1.173589</td>\n",
       "      <td>0</td>\n",
       "    </tr>\n",
       "    <tr>\n",
       "      <th>...</th>\n",
       "      <td>...</td>\n",
       "      <td>...</td>\n",
       "      <td>...</td>\n",
       "      <td>...</td>\n",
       "      <td>...</td>\n",
       "      <td>...</td>\n",
       "      <td>...</td>\n",
       "      <td>...</td>\n",
       "      <td>...</td>\n",
       "      <td>...</td>\n",
       "      <td>...</td>\n",
       "      <td>...</td>\n",
       "      <td>...</td>\n",
       "      <td>...</td>\n",
       "      <td>...</td>\n",
       "      <td>...</td>\n",
       "      <td>...</td>\n",
       "      <td>...</td>\n",
       "      <td>...</td>\n",
       "      <td>...</td>\n",
       "      <td>...</td>\n",
       "    </tr>\n",
       "    <tr>\n",
       "      <th>783921</th>\n",
       "      <td>0.211975</td>\n",
       "      <td>0.354021</td>\n",
       "      <td>1.928884</td>\n",
       "      <td>0.657393</td>\n",
       "      <td>0.152965</td>\n",
       "      <td>-0.563099</td>\n",
       "      <td>0.310561</td>\n",
       "      <td>-0.119977</td>\n",
       "      <td>-0.213667</td>\n",
       "      <td>-0.347354</td>\n",
       "      <td>...</td>\n",
       "      <td>0.247702</td>\n",
       "      <td>0.390903</td>\n",
       "      <td>-0.682452</td>\n",
       "      <td>-0.067349</td>\n",
       "      <td>0.544034</td>\n",
       "      <td>0.348151</td>\n",
       "      <td>1.091695</td>\n",
       "      <td>-0.036595</td>\n",
       "      <td>0.852085</td>\n",
       "      <td>1</td>\n",
       "    </tr>\n",
       "    <tr>\n",
       "      <th>783922</th>\n",
       "      <td>0.700538</td>\n",
       "      <td>0.354021</td>\n",
       "      <td>2.962814</td>\n",
       "      <td>2.532286</td>\n",
       "      <td>1.246662</td>\n",
       "      <td>-0.563099</td>\n",
       "      <td>0.310561</td>\n",
       "      <td>0.181463</td>\n",
       "      <td>-0.213667</td>\n",
       "      <td>-0.347354</td>\n",
       "      <td>...</td>\n",
       "      <td>0.569201</td>\n",
       "      <td>-0.029089</td>\n",
       "      <td>-0.475711</td>\n",
       "      <td>-0.808241</td>\n",
       "      <td>0.544034</td>\n",
       "      <td>0.348151</td>\n",
       "      <td>1.091695</td>\n",
       "      <td>-0.036595</td>\n",
       "      <td>0.852085</td>\n",
       "      <td>1</td>\n",
       "    </tr>\n",
       "    <tr>\n",
       "      <th>783923</th>\n",
       "      <td>3.387639</td>\n",
       "      <td>0.013056</td>\n",
       "      <td>1.928884</td>\n",
       "      <td>0.561245</td>\n",
       "      <td>0.187143</td>\n",
       "      <td>-0.563099</td>\n",
       "      <td>0.310561</td>\n",
       "      <td>-0.119977</td>\n",
       "      <td>-0.213667</td>\n",
       "      <td>-0.347354</td>\n",
       "      <td>...</td>\n",
       "      <td>0.247702</td>\n",
       "      <td>0.390903</td>\n",
       "      <td>-0.682452</td>\n",
       "      <td>-0.067349</td>\n",
       "      <td>0.544034</td>\n",
       "      <td>0.348151</td>\n",
       "      <td>1.091695</td>\n",
       "      <td>-0.036595</td>\n",
       "      <td>0.852085</td>\n",
       "      <td>1</td>\n",
       "    </tr>\n",
       "    <tr>\n",
       "      <th>783924</th>\n",
       "      <td>2.166230</td>\n",
       "      <td>-0.327910</td>\n",
       "      <td>1.928884</td>\n",
       "      <td>1.570802</td>\n",
       "      <td>2.682139</td>\n",
       "      <td>-0.563099</td>\n",
       "      <td>0.310561</td>\n",
       "      <td>-0.119977</td>\n",
       "      <td>-0.213667</td>\n",
       "      <td>-0.347354</td>\n",
       "      <td>...</td>\n",
       "      <td>0.247702</td>\n",
       "      <td>0.390903</td>\n",
       "      <td>-0.682452</td>\n",
       "      <td>-0.067349</td>\n",
       "      <td>0.544034</td>\n",
       "      <td>0.348151</td>\n",
       "      <td>1.091695</td>\n",
       "      <td>-0.036595</td>\n",
       "      <td>0.852085</td>\n",
       "      <td>1</td>\n",
       "    </tr>\n",
       "    <tr>\n",
       "      <th>783925</th>\n",
       "      <td>1.860877</td>\n",
       "      <td>-0.668875</td>\n",
       "      <td>1.928884</td>\n",
       "      <td>1.378506</td>\n",
       "      <td>2.613783</td>\n",
       "      <td>-0.563099</td>\n",
       "      <td>0.310561</td>\n",
       "      <td>-0.119977</td>\n",
       "      <td>-0.213667</td>\n",
       "      <td>-0.347354</td>\n",
       "      <td>...</td>\n",
       "      <td>0.247702</td>\n",
       "      <td>0.390903</td>\n",
       "      <td>-0.682452</td>\n",
       "      <td>-0.067349</td>\n",
       "      <td>0.544034</td>\n",
       "      <td>0.348151</td>\n",
       "      <td>1.091695</td>\n",
       "      <td>-0.036595</td>\n",
       "      <td>0.852085</td>\n",
       "      <td>1</td>\n",
       "    </tr>\n",
       "  </tbody>\n",
       "</table>\n",
       "<p>351700 rows × 22 columns</p>\n",
       "</div>"
      ],
      "text/plain": [
       "              HR     O2Sat      Temp       SBP       MAP      Resp      HCO3  \\\n",
       "34      1.066961 -1.862253 -0.239035 -0.880981 -0.211372  0.974005  5.647835   \n",
       "35      0.883750 -2.714666  0.277930 -0.400239  1.200863  1.358281  5.647835   \n",
       "36      0.761609 -2.714666 -0.239035 -0.544461 -0.462239  1.934695  5.647835   \n",
       "37      1.555525 -2.714666 -0.239035 -0.640610  0.813968  0.974005  5.647835   \n",
       "38      1.433384 -2.714666 -0.239035  0.849690  1.611000  1.358281  5.647835   \n",
       "...          ...       ...       ...       ...       ...       ...       ...   \n",
       "783921  0.211975  0.354021  1.928884  0.657393  0.152965 -0.563099  0.310561   \n",
       "783922  0.700538  0.354021  2.962814  2.532286  1.246662 -0.563099  0.310561   \n",
       "783923  3.387639  0.013056  1.928884  0.561245  0.187143 -0.563099  0.310561   \n",
       "783924  2.166230 -0.327910  1.928884  1.570802  2.682139 -0.563099  0.310561   \n",
       "783925  1.860877 -0.668875  1.928884  1.378506  2.613783 -0.563099  0.310561   \n",
       "\n",
       "             BUN   Calcium  Chloride  ...  Magnesium  Phosphate  Potassium  \\\n",
       "34     -0.256995  1.543130 -4.004401  ...   0.247702  -0.029089   0.144512   \n",
       "35     -0.256995  1.543130 -4.004401  ...   0.247702  -0.029089   0.144512   \n",
       "36     -0.256995  1.543130 -4.004401  ...   0.247702  -0.029089   0.144512   \n",
       "37     -0.256995  1.543130 -4.004401  ...   0.247702  -0.029089   0.144512   \n",
       "38     -0.256995  1.543130 -4.004401  ...   0.247702  -0.029089   0.144512   \n",
       "...          ...       ...       ...  ...        ...        ...        ...   \n",
       "783921 -0.119977 -0.213667 -0.347354  ...   0.247702   0.390903  -0.682452   \n",
       "783922  0.181463 -0.213667 -0.347354  ...   0.569201  -0.029089  -0.475711   \n",
       "783923 -0.119977 -0.213667 -0.347354  ...   0.247702   0.390903  -0.682452   \n",
       "783924 -0.119977 -0.213667 -0.347354  ...   0.247702   0.390903  -0.682452   \n",
       "783925 -0.119977 -0.213667 -0.347354  ...   0.247702   0.390903  -0.682452   \n",
       "\n",
       "             Hct       Hgb       WBC  Platelets       Age    Gender  \\\n",
       "34      1.131153  0.975539 -0.238756   1.110786  1.255027 -1.173589   \n",
       "35      1.131153  0.975539 -0.238756   1.110786  1.255027 -1.173589   \n",
       "36      1.131153  0.975539 -0.238756   1.110786  1.255027 -1.173589   \n",
       "37      1.131153  0.975539 -0.238756   1.110786  1.255027 -1.173589   \n",
       "38      1.131153  0.975539 -0.238756   1.110786  1.255027 -1.173589   \n",
       "...          ...       ...       ...        ...       ...       ...   \n",
       "783921 -0.067349  0.544034  0.348151   1.091695 -0.036595  0.852085   \n",
       "783922 -0.808241  0.544034  0.348151   1.091695 -0.036595  0.852085   \n",
       "783923 -0.067349  0.544034  0.348151   1.091695 -0.036595  0.852085   \n",
       "783924 -0.067349  0.544034  0.348151   1.091695 -0.036595  0.852085   \n",
       "783925 -0.067349  0.544034  0.348151   1.091695 -0.036595  0.852085   \n",
       "\n",
       "        SepsisLabel  \n",
       "34                0  \n",
       "35                0  \n",
       "36                0  \n",
       "37                0  \n",
       "38                0  \n",
       "...             ...  \n",
       "783921            1  \n",
       "783922            1  \n",
       "783923            1  \n",
       "783924            1  \n",
       "783925            1  \n",
       "\n",
       "[351700 rows x 22 columns]"
      ]
     },
     "execution_count": 30,
     "metadata": {},
     "output_type": "execute_result"
    }
   ],
   "source": [
    "df_patient_per_20"
   ]
  },
  {
   "cell_type": "code",
   "execution_count": 651,
   "id": "e77c89fd",
   "metadata": {},
   "outputs": [
    {
     "data": {
      "text/plain": [
       "351700"
      ]
     },
     "execution_count": 651,
     "metadata": {},
     "output_type": "execute_result"
    }
   ],
   "source": [
    "people = df_patient_per_20.shape[0]\n",
    "people"
   ]
  },
  {
   "cell_type": "markdown",
   "id": "003c1925",
   "metadata": {},
   "source": [
    "# Sepsis와 non_sepsis 구분"
   ]
  },
  {
   "cell_type": "code",
   "execution_count": null,
   "id": "5770e2f7",
   "metadata": {},
   "outputs": [
    {
     "name": "stderr",
     "output_type": "stream",
     "text": [
      "  4%|▎         | 12492/351700 [47:36<43:49:20,  2.15it/s]"
     ]
    }
   ],
   "source": [
    "# sepsis와 non sepsis 구분\n",
    "\n",
    "s = 0\n",
    "e = 20\n",
    "\n",
    "sepsis_df = pd.DataFrame(columns=cols)\n",
    "non_sepsis_df = pd.DataFrame(columns=cols)\n",
    "\n",
    "for _ in tqdm(range(people)):\n",
    "    for i in range(17):\n",
    "        is_sepsis = df_patient_per_20[s+i:s+i+3]['SepsisLabel'].sum()\n",
    "        Null_count = sum(df_patient_per_20[s+i:s+i+3].isnull().sum())\n",
    "        \n",
    "        if is_sepsis >= 1 and Null_count == 0:\n",
    "            # new DF creat\n",
    "            data = df_patient_per_20[s+i:s+i+3]\n",
    "            sepsis_df = pd.concat([sepsis_df, data])\n",
    "            \n",
    "        elif is_sepsis == 0 and Null_count == 0:\n",
    "            # new DF creat\n",
    "            data = df_patient_per_20[s+i:s+i+3]\n",
    "            non_sepsis_df = pd.concat([non_sepsis_df, data])\n",
    "        \n",
    "    s += 20\n",
    "    e += 20"
   ]
  },
  {
   "cell_type": "code",
   "execution_count": 101,
   "id": "1a76f7c1",
   "metadata": {},
   "outputs": [],
   "source": [
    "# sepsis_df.to_csv(\"03_sepsis_df_no_mv.csv\", mode='w')\n",
    "# non_sepsis_df.to_csv(\"04_non_sepsis_df_no_mv.csv\", mode='w')"
   ]
  },
  {
   "cell_type": "code",
   "execution_count": 121,
   "id": "79dd0c18",
   "metadata": {},
   "outputs": [],
   "source": [
    "sepsis_df_no_mv = sepsis_df.drop('SepsisLabel', axis=1)\n",
    "non_sepsis_df_no_mv = non_sepsis_df.drop('SepsisLabel', axis=1)"
   ]
  },
  {
   "cell_type": "code",
   "execution_count": 645,
   "id": "693d49bb",
   "metadata": {},
   "outputs": [
    {
     "data": {
      "text/plain": [
       "(29100, 21)"
      ]
     },
     "execution_count": 645,
     "metadata": {},
     "output_type": "execute_result"
    }
   ],
   "source": [
    "sepsis_df_no_mv.shape"
   ]
  },
  {
   "cell_type": "markdown",
   "id": "9e94639f",
   "metadata": {},
   "source": [
    "# sepsis vs non_sepsis 데이터 수 비교"
   ]
  },
  {
   "cell_type": "code",
   "execution_count": 125,
   "id": "d25b2113",
   "metadata": {},
   "outputs": [
    {
     "name": "stdout",
     "output_type": "stream",
     "text": [
      "sepsis: 9700(0.04) / non_sepsis: 229065(0.96)\n"
     ]
    }
   ],
   "source": [
    "s_count = sepsis_df_no_mv.shape[0]//3\n",
    "ns_count = non_sepsis_df_no_mv.shape[0]//3\n",
    "\n",
    "total = s_count + ns_count\n",
    "\n",
    "print(f'sepsis: {s_count}({round(s_count/total, 2)}) / non_sepsis: {ns_count}({round(ns_count/total, 2)})')"
   ]
  },
  {
   "cell_type": "markdown",
   "id": "5dbb5091",
   "metadata": {},
   "source": [
    "# Sepsis 훈련, 테스트 세트로 분리"
   ]
  },
  {
   "cell_type": "code",
   "execution_count": 237,
   "id": "46b511c3",
   "metadata": {},
   "outputs": [
    {
     "data": {
      "text/plain": [
       "23280.0"
      ]
     },
     "execution_count": 237,
     "metadata": {},
     "output_type": "execute_result"
    }
   ],
   "source": [
    "stan = sepsis_df_no_mv.shape[0] * 0.8\n",
    "stan"
   ]
  },
  {
   "cell_type": "code",
   "execution_count": 238,
   "id": "98406127",
   "metadata": {},
   "outputs": [],
   "source": [
    "x_train = []\n",
    "x_test = []\n",
    "\n",
    "for i in range(0, sepsis_df_no_mv.shape[0], 3):\n",
    "    if i <= stan:\n",
    "        temp = sepsis_df_no_mv[i: i+3].values.tolist()\n",
    "        x_train.append(temp)\n",
    "    else:\n",
    "        temp = sepsis_df_no_mv[i: i+3].values.tolist()\n",
    "        x_test.append(temp)"
   ]
  },
  {
   "cell_type": "code",
   "execution_count": 239,
   "id": "808fa1e0",
   "metadata": {},
   "outputs": [
    {
     "name": "stdout",
     "output_type": "stream",
     "text": [
      "7761 1939 9700\n"
     ]
    }
   ],
   "source": [
    "print(len(x_train), len(x_test), len(x_train) + len(x_test))"
   ]
  },
  {
   "cell_type": "code",
   "execution_count": 240,
   "id": "6b55a845",
   "metadata": {},
   "outputs": [],
   "source": [
    "y_train = [1] * len(x_train) + [0] * len(x_train)\n",
    "y_test = [1] * len(x_test) + [0] * len(x_test) "
   ]
  },
  {
   "cell_type": "code",
   "execution_count": 241,
   "id": "ba4b4204",
   "metadata": {},
   "outputs": [],
   "source": [
    "for i in range(0, sepsis_df_no_mv.shape[0], 3):\n",
    "    if i <= stan:\n",
    "        temp = non_sepsis_df_no_mv[i: i+3].values.tolist()\n",
    "        x_train.append(temp)\n",
    "    else:\n",
    "        temp = non_sepsis_df_no_mv[i: i+3].values.tolist()\n",
    "        x_test.append(temp)"
   ]
  },
  {
   "cell_type": "code",
   "execution_count": 242,
   "id": "10d407ed",
   "metadata": {},
   "outputs": [
    {
     "name": "stdout",
     "output_type": "stream",
     "text": [
      "15522 3878 19400\n"
     ]
    }
   ],
   "source": [
    "print(len(x_train), len(x_test), len(x_train) + len(x_test))"
   ]
  },
  {
   "cell_type": "code",
   "execution_count": 243,
   "id": "f4dbc6bc",
   "metadata": {},
   "outputs": [
    {
     "name": "stdout",
     "output_type": "stream",
     "text": [
      "15522 3878 19400\n"
     ]
    }
   ],
   "source": [
    "print(len(y_train), len(y_test), len(y_train) + len(y_test))"
   ]
  },
  {
   "cell_type": "code",
   "execution_count": 649,
   "id": "1ca07b68",
   "metadata": {},
   "outputs": [
    {
     "data": {
      "text/plain": [
       "Index(['HR', 'O2Sat', 'Temp', 'SBP', 'MAP', 'Resp', 'HCO3', 'BUN', 'Calcium',\n",
       "       'Chloride', 'Creatinine', 'Glucose', 'Magnesium', 'Phosphate',\n",
       "       'Potassium', 'Hct', 'Hgb', 'WBC', 'Platelets', 'Age', 'Gender'],\n",
       "      dtype='object')"
      ]
     },
     "execution_count": 649,
     "metadata": {},
     "output_type": "execute_result"
    }
   ],
   "source": [
    "cols = sepsis_df_no_mv.columns\n",
    "cols"
   ]
  },
  {
   "cell_type": "markdown",
   "id": "d16ece52",
   "metadata": {},
   "source": [
    "# Numpy로 변환"
   ]
  },
  {
   "cell_type": "code",
   "execution_count": 244,
   "id": "0d24fca5",
   "metadata": {},
   "outputs": [],
   "source": [
    "X_train = np.array(x_train)\n",
    "X_test = np.array(x_test)\n",
    "\n",
    "Y_train = np.array(y_train)\n",
    "Y_test = np.array(y_test)"
   ]
  },
  {
   "cell_type": "code",
   "execution_count": 245,
   "id": "bbacc3d9",
   "metadata": {},
   "outputs": [
    {
     "data": {
      "text/plain": [
       "(15522, 3, 21)"
      ]
     },
     "execution_count": 245,
     "metadata": {},
     "output_type": "execute_result"
    }
   ],
   "source": [
    "X_train.shape"
   ]
  },
  {
   "cell_type": "code",
   "execution_count": 565,
   "id": "f0b5eada",
   "metadata": {},
   "outputs": [
    {
     "data": {
      "text/plain": [
       "3878"
      ]
     },
     "execution_count": 565,
     "metadata": {},
     "output_type": "execute_result"
    }
   ],
   "source": [
    "len(Y_test)"
   ]
  },
  {
   "cell_type": "markdown",
   "id": "fdc96b40",
   "metadata": {},
   "source": [
    "# 셔플 적용"
   ]
  },
  {
   "cell_type": "code",
   "execution_count": 289,
   "id": "1ab7cd2b",
   "metadata": {},
   "outputs": [],
   "source": [
    "# Train, Test data 적용\n",
    "i = np.arange(X_train.shape[0])\n",
    "np.random.shuffle(i)\n",
    "\n",
    "X_train = X_train[i]\n",
    "Y_train = Y_train[i]"
   ]
  },
  {
   "cell_type": "code",
   "execution_count": 566,
   "id": "5ece5395",
   "metadata": {},
   "outputs": [],
   "source": [
    "# Train, Test data 적용\n",
    "i = np.arange(X_test.shape[0])\n",
    "np.random.shuffle(i)\n",
    "\n",
    "X_test = X_test[i]\n",
    "Y_test = Y_test[i]"
   ]
  },
  {
   "cell_type": "markdown",
   "id": "f66bcd15",
   "metadata": {},
   "source": [
    "# 모델 구성"
   ]
  },
  {
   "cell_type": "code",
   "execution_count": 656,
   "id": "81dce6e4",
   "metadata": {},
   "outputs": [],
   "source": [
    "import tensorflow as tf\n",
    "from tensorflow.keras.layers import Dense, LSTM, Dropout, GRU, SimpleRNN\n",
    "from tensorflow.keras.models import Sequential\n",
    "from tensorflow.keras.callbacks import EarlyStopping"
   ]
  },
  {
   "cell_type": "code",
   "execution_count": 657,
   "id": "4b94180b",
   "metadata": {},
   "outputs": [
    {
     "name": "stdout",
     "output_type": "stream",
     "text": [
      "Model: \"sequential_32\"\n",
      "_________________________________________________________________\n",
      " Layer (type)                Output Shape              Param #   \n",
      "=================================================================\n",
      " lstm_29 (LSTM)              (None, 64)                22016     \n",
      "                                                                 \n",
      " dense_64 (Dense)            (None, 32)                2080      \n",
      "                                                                 \n",
      " dense_65 (Dense)            (None, 4)                 132       \n",
      "                                                                 \n",
      " dense_66 (Dense)            (None, 1)                 5         \n",
      "                                                                 \n",
      "=================================================================\n",
      "Total params: 24,233\n",
      "Trainable params: 24,233\n",
      "Non-trainable params: 0\n",
      "_________________________________________________________________\n"
     ]
    }
   ],
   "source": [
    "hidden_units = 64\n",
    "\n",
    "model = Sequential()\n",
    "model.add(LSTM(hidden_units, activation='tanh', input_shape=(3, 21)))\n",
    "model.add(Dense(32, activation=\"relu\"))\n",
    "model.add(Dense(4))\n",
    "model.add(Dense(1, activation='sigmoid'))\n",
    "\n",
    "model.summary()"
   ]
  },
  {
   "cell_type": "code",
   "execution_count": 658,
   "id": "8ca9ccea",
   "metadata": {},
   "outputs": [],
   "source": [
    "SGD = tf.keras.optimizers.SGD(learning_rate=0.04)\n",
    "\n",
    "model.compile(loss=tf.keras.losses.BinaryCrossentropy(), optimizer=SGD, metrics=['accuracy'])"
   ]
  },
  {
   "cell_type": "code",
   "execution_count": 659,
   "id": "42105b64",
   "metadata": {},
   "outputs": [],
   "source": [
    "callback = tf.keras.callbacks.EarlyStopping(monitor=\"val_loss\", patience=1)"
   ]
  },
  {
   "cell_type": "code",
   "execution_count": 660,
   "id": "0d096fef",
   "metadata": {},
   "outputs": [
    {
     "name": "stdout",
     "output_type": "stream",
     "text": [
      "Epoch 1/100\n",
      "437/437 [==============================] - 3s 4ms/step - loss: 0.6114 - accuracy: 0.6658 - val_loss: 0.5520 - val_accuracy: 0.7160\n",
      "Epoch 2/100\n",
      "437/437 [==============================] - 1s 3ms/step - loss: 0.5528 - accuracy: 0.7142 - val_loss: 0.5127 - val_accuracy: 0.7424\n",
      "Epoch 3/100\n",
      "437/437 [==============================] - 1s 3ms/step - loss: 0.5067 - accuracy: 0.7440 - val_loss: 0.4700 - val_accuracy: 0.7637\n",
      "Epoch 4/100\n",
      "437/437 [==============================] - 1s 3ms/step - loss: 0.4603 - accuracy: 0.7788 - val_loss: 0.4323 - val_accuracy: 0.7939\n",
      "Epoch 5/100\n",
      "437/437 [==============================] - 1s 3ms/step - loss: 0.4100 - accuracy: 0.8118 - val_loss: 0.4015 - val_accuracy: 0.8030\n",
      "Epoch 6/100\n",
      "437/437 [==============================] - 1s 3ms/step - loss: 0.3561 - accuracy: 0.8449 - val_loss: 0.3349 - val_accuracy: 0.8564\n",
      "Epoch 7/100\n",
      "437/437 [==============================] - 1s 3ms/step - loss: 0.3050 - accuracy: 0.8742 - val_loss: 0.3428 - val_accuracy: 0.8571\n"
     ]
    }
   ],
   "source": [
    "hist = model.fit(X_train, Y_train, epochs=100, batch_size=32, validation_split=0.1, callbacks=callback)"
   ]
  },
  {
   "cell_type": "code",
   "execution_count": 661,
   "id": "86d7501c",
   "metadata": {},
   "outputs": [
    {
     "data": {
      "image/png": "[encoded data removed]",
      "text/plain": [
       "<Figure size 432x288 with 1 Axes>"
      ]
     },
     "metadata": {
      "needs_background": "light"
     },
     "output_type": "display_data"
    }
   ],
   "source": [
    "plt.plot(hist.history['loss'], label='loss')\n",
    "plt.plot(hist.history['val_loss'], label='val_loss')\n",
    "plt.legend()\n",
    "plt.xlabel(\"Epochs\")\n",
    "plt.show()"
   ]
  },
  {
   "cell_type": "code",
   "execution_count": 662,
   "id": "192e26d4",
   "metadata": {},
   "outputs": [
    {
     "data": {
      "image/png": "[encoded data removed]",
      "text/plain": [
       "<Figure size 432x288 with 1 Axes>"
      ]
     },
     "metadata": {
      "needs_background": "light"
     },
     "output_type": "display_data"
    }
   ],
   "source": [
    "plt.plot(hist.history['accuracy'], label='accuracy')\n",
    "plt.plot(hist.history['val_accuracy'], label='val_accuracy')\n",
    "plt.legend()\n",
    "plt.xlabel(\"Epochs\")\n",
    "plt.show()"
   ]
  },
  {
   "cell_type": "markdown",
   "id": "41f4d1a9",
   "metadata": {},
   "source": [
    "# 성능 평가"
   ]
  },
  {
   "cell_type": "markdown",
   "id": "bce67f1b",
   "metadata": {},
   "source": [
    "## confusion_matrix 기준"
   ]
  },
  {
   "cell_type": "code",
   "execution_count": 652,
   "id": "f81586ea",
   "metadata": {},
   "outputs": [],
   "source": [
    "from sklearn.metrics import accuracy_score, precision_score, recall_score, confusion_matrix\n",
    "\n",
    "def get_clf_eval(y_test, pred):\n",
    "    confusion = confusion_matrix(y_test, pred)\n",
    "    accuracy = accuracy_score(y_test, pred)\n",
    "    precision = precision_score(y_test, pred)\n",
    "    recall = recall_score(y_test, pred)\n",
    "    f1_score = 2 / (1/recall + 1/precision)\n",
    "    print('Confusion Matrix')\n",
    "    print(confusion)\n",
    "    print('정확도:{}, 정밀도:{}, 재현율:{}, f1score:{}'.format(accuracy, precision, recall, f1_score))"
   ]
  },
  {
   "cell_type": "code",
   "execution_count": 653,
   "id": "3516b0a4",
   "metadata": {},
   "outputs": [],
   "source": [
    "a = model.predict(x_test)"
   ]
  },
  {
   "cell_type": "code",
   "execution_count": 654,
   "id": "5047ece2",
   "metadata": {},
   "outputs": [],
   "source": [
    "threshold = 0.5\n",
    "b= np.where(a < threshold, 0, np.where(a > threshold, 1, a))"
   ]
  },
  {
   "cell_type": "code",
   "execution_count": 655,
   "id": "4da7540a",
   "metadata": {},
   "outputs": [
    {
     "name": "stdout",
     "output_type": "stream",
     "text": [
      "Confusion Matrix\n",
      "[[ 921 1018]\n",
      " [ 448 1491]]\n",
      "정확도:0.6219700876740588, 정밀도:0.5942606616181746, 재현율:0.7689530685920578, f1score:0.6704136690647482\n"
     ]
    }
   ],
   "source": [
    "get_clf_eval(y_test, b)"
   ]
  },
  {
   "cell_type": "code",
   "execution_count": null,
   "id": "ac57eeff",
   "metadata": {},
   "outputs": [],
   "source": []
  },
  {
   "cell_type": "code",
   "execution_count": null,
   "id": "3a9f4503",
   "metadata": {},
   "outputs": [],
   "source": []
  },
  {
   "cell_type": "code",
   "execution_count": 650,
   "id": "22ebdfc9",
   "metadata": {},
   "outputs": [
    {
     "name": "stdout",
     "output_type": "stream",
     "text": [
      "2.7.0\n"
     ]
    }
   ],
   "source": [
    "print(tf.__version__)"
   ]
  },
  {
   "cell_type": "markdown",
   "id": "d2eac60f",
   "metadata": {},
   "source": [
    "# 모델 저장하기"
   ]
  },
  {
   "cell_type": "code",
   "execution_count": 637,
   "id": "1a98be40",
   "metadata": {},
   "outputs": [],
   "source": [
    "from keras.models import load_model\n",
    "\n",
    "model.save('labsepsis_predict.h5')"
   ]
  },
  {
   "cell_type": "markdown",
   "id": "5127fae7",
   "metadata": {},
   "source": [
    "# 모델 불러오기"
   ]
  },
  {
   "cell_type": "code",
   "execution_count": 638,
   "id": "b86a0033",
   "metadata": {},
   "outputs": [],
   "source": [
    "from keras.models import load_model\n",
    "modell = load_model('labsepsis_predict.h5')"
   ]
  },
  {
   "cell_type": "code",
   "execution_count": 639,
   "id": "6e628aac",
   "metadata": {},
   "outputs": [],
   "source": [
    "c= modell.predict(x_test)"
   ]
  },
  {
   "cell_type": "code",
   "execution_count": 640,
   "id": "8e664ccb",
   "metadata": {},
   "outputs": [],
   "source": [
    "threshold = 0.5\n",
    "d = np.where(c < threshold, 0, np.where(c > threshold, 1, c))"
   ]
  },
  {
   "cell_type": "code",
   "execution_count": 641,
   "id": "b4aae971",
   "metadata": {},
   "outputs": [
    {
     "name": "stdout",
     "output_type": "stream",
     "text": [
      "Confusion Matrix\n",
      "[[ 921 1018]\n",
      " [ 448 1491]]\n",
      "정확도:0.6219700876740588, 정밀도:0.5942606616181746, 재현율:0.7689530685920578, f1score:0.6704136690647482\n"
     ]
    }
   ],
   "source": [
    "get_clf_eval(y_test, d)"
   ]
  },
  {
   "cell_type": "markdown",
   "id": "ed10b00d",
   "metadata": {},
   "source": [
    "# 모델 아키텍처 보기"
   ]
  },
  {
   "cell_type": "code",
   "execution_count": 561,
   "id": "f787ce12",
   "metadata": {},
   "outputs": [
    {
     "name": "stdout",
     "output_type": "stream",
     "text": [
      "('You must install pydot (`pip install pydot`) and install graphviz (see instructions at https://graphviz.gitlab.io/download/) ', 'for plot_model/model_to_dot to work.')\n"
     ]
    },
    {
     "ename": "AttributeError",
     "evalue": "'NoneType' object has no attribute 'create'",
     "output_type": "error",
     "traceback": [
      "\u001b[1;31m---------------------------------------------------------------------------\u001b[0m",
      "\u001b[1;31mAttributeError\u001b[0m                            Traceback (most recent call last)",
      "\u001b[1;32m~\\AppData\\Local\\Temp/ipykernel_29400/1070397619.py\u001b[0m in \u001b[0;36m<module>\u001b[1;34m\u001b[0m\n\u001b[0;32m      2\u001b[0m \u001b[1;32mfrom\u001b[0m \u001b[0mkeras\u001b[0m\u001b[1;33m.\u001b[0m\u001b[0mutils\u001b[0m\u001b[1;33m.\u001b[0m\u001b[0mvis_utils\u001b[0m \u001b[1;32mimport\u001b[0m \u001b[0mmodel_to_dot\u001b[0m\u001b[1;33m\u001b[0m\u001b[1;33m\u001b[0m\u001b[0m\n\u001b[0;32m      3\u001b[0m \u001b[1;33m\u001b[0m\u001b[0m\n\u001b[1;32m----> 4\u001b[1;33m \u001b[0mSVG\u001b[0m\u001b[1;33m(\u001b[0m\u001b[0mmodel_to_dot\u001b[0m\u001b[1;33m(\u001b[0m\u001b[0mmodel\u001b[0m\u001b[1;33m,\u001b[0m \u001b[0mshow_shapes\u001b[0m\u001b[1;33m=\u001b[0m\u001b[1;32mTrue\u001b[0m\u001b[1;33m)\u001b[0m\u001b[1;33m.\u001b[0m\u001b[0mcreate\u001b[0m\u001b[1;33m(\u001b[0m\u001b[0mprog\u001b[0m\u001b[1;33m=\u001b[0m\u001b[1;34m'dot'\u001b[0m\u001b[1;33m,\u001b[0m \u001b[0mformat\u001b[0m\u001b[1;33m=\u001b[0m\u001b[1;34m'svg'\u001b[0m\u001b[1;33m)\u001b[0m\u001b[1;33m)\u001b[0m\u001b[1;33m\u001b[0m\u001b[1;33m\u001b[0m\u001b[0m\n\u001b[0m",
      "\u001b[1;31mAttributeError\u001b[0m: 'NoneType' object has no attribute 'create'"
     ]
    }
   ],
   "source": [
    "from IPython.display import SVG\n",
    "from keras.utils.vis_utils import model_to_dot\n",
    "\n",
    "SVG(model_to_dot(model, show_shapes=True).create(prog='dot', format='svg'))"
   ]
  },
  {
   "cell_type": "code",
   "execution_count": null,
   "id": "04f67462",
   "metadata": {},
   "outputs": [],
   "source": []
  }
 ],
 "metadata": {
  "kernelspec": {
   "display_name": "ai",
   "language": "python",
   "name": "ai"
  },
  "language_info": {
   "codemirror_mode": {
    "name": "ipython",
    "version": 3
   },
   "file_extension": ".py",
   "mimetype": "text/x-python",
   "name": "python",
   "nbconvert_exporter": "python",
   "pygments_lexer": "ipython3",
   "version": "3.9.7"
  }
 },
 "nbformat": 4,
 "nbformat_minor": 5
}
