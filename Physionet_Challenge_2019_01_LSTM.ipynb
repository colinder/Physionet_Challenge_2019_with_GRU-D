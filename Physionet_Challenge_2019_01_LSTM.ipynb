{
 "cells": [
  {
   "cell_type": "markdown",
   "id": "e7e4bbdf",
   "metadata": {},
   "source": [
    "# GRU-D를 사용해보기 전 LSTM으로 우선 모델링 테스트\n",
    "- 결측치 대체방법에 따라 LSTM 성능 비교"
   ]
  },
  {
   "cell_type": "code",
   "execution_count": 1,
   "id": "ccdcd073",
   "metadata": {},
   "outputs": [],
   "source": [
    "import pandas as pd\n",
    "import numpy as np\n",
    "import matplotlib.pyplot as plt\n",
    "import seaborn as sns\n",
    "\n",
    "import os\n",
    "import csv\n",
    "from tqdm import tqdm"
   ]
  },
  {
   "cell_type": "code",
   "execution_count": 2,
   "id": "8a3c13c2",
   "metadata": {},
   "outputs": [],
   "source": [
    "# import data\n",
    "df = pd.read_csv('00_df.csv', index_col=0)\n",
    "pre_df = pd.read_csv('01_pre_df.csv', index_col=0)"
   ]
  },
  {
   "cell_type": "code",
   "execution_count": 3,
   "id": "1672782b",
   "metadata": {},
   "outputs": [
    {
     "data": {
      "text/plain": [
       "(783926, 41)"
      ]
     },
     "execution_count": 3,
     "metadata": {},
     "output_type": "execute_result"
    }
   ],
   "source": [
    "df.shape   # (783926, 41)"
   ]
  },
  {
   "cell_type": "code",
   "execution_count": 4,
   "id": "1cd18b7e",
   "metadata": {},
   "outputs": [
    {
     "data": {
      "text/plain": [
       "(783926, 37)"
      ]
     },
     "execution_count": 4,
     "metadata": {},
     "output_type": "execute_result"
    }
   ],
   "source": [
    "pre_df.shape   # (783926, 37)"
   ]
  },
  {
   "cell_type": "code",
   "execution_count": 5,
   "id": "ed539ac6",
   "metadata": {},
   "outputs": [],
   "source": [
    "# import list data\n",
    "\n",
    "data_length_per_person = []\n",
    "data_length_per_person_sum = []\n",
    "\n",
    "with open('data_length_per_person.csv', 'r', encoding='utf-8') as f:\n",
    "    rdr = csv.reader(f)\n",
    "    for para in rdr:\n",
    "        for i in para:\n",
    "            data_length_per_person.append(int(i))\n",
    "\n",
    "\n",
    "with open('data_length_per_person_sum.csv', 'r', encoding='utf-8') as f:\n",
    "    rdr = csv.reader(f)\n",
    "    for para in rdr:\n",
    "        for i in para:\n",
    "            data_length_per_person_sum.append(int(i))"
   ]
  },
  {
   "cell_type": "code",
   "execution_count": 6,
   "id": "2181d8e2",
   "metadata": {},
   "outputs": [
    {
     "data": {
      "text/plain": [
       "20169"
      ]
     },
     "execution_count": 6,
     "metadata": {},
     "output_type": "execute_result"
    }
   ],
   "source": [
    "len(data_length_per_person)   # 20169"
   ]
  },
  {
   "cell_type": "code",
   "execution_count": 7,
   "id": "fd8448e2",
   "metadata": {},
   "outputs": [
    {
     "data": {
      "text/plain": [
       "20169"
      ]
     },
     "execution_count": 7,
     "metadata": {},
     "output_type": "execute_result"
    }
   ],
   "source": [
    "len(data_length_per_person_sum)   # 20169"
   ]
  },
  {
   "cell_type": "markdown",
   "id": "75230074",
   "metadata": {},
   "source": [
    "## 결측치는 *1차적으로 통계적인 선형 모델로 대치*하고, <br>선형대치가 불가능한 column은 *2차로 전체 변수별 전체 평균값으로 대치*하여 진행"
   ]
  },
  {
   "cell_type": "markdown",
   "id": "652becd5",
   "metadata": {},
   "source": [
    "- 각 column의 평균 계산"
   ]
  },
  {
   "cell_type": "markdown",
   "id": "13bd44d1",
   "metadata": {},
   "source": [
    "우선 결측률 100% column(EtCO2)은 제거 하고 시작"
   ]
  },
  {
   "cell_type": "code",
   "execution_count": 68,
   "id": "08305401",
   "metadata": {},
   "outputs": [
    {
     "data": {
      "text/plain": [
       "(783926, 40)"
      ]
     },
     "execution_count": 68,
     "metadata": {},
     "output_type": "execute_result"
    }
   ],
   "source": [
    "df = df.drop('EtCO2', axis=1)\n",
    "df.shape"
   ]
  },
  {
   "cell_type": "code",
   "execution_count": 69,
   "id": "ef6eb9f1",
   "metadata": {},
   "outputs": [
    {
     "data": {
      "text/plain": [
       "(40,)"
      ]
     },
     "execution_count": 69,
     "metadata": {},
     "output_type": "execute_result"
    }
   ],
   "source": [
    "cols = df.columns\n",
    "cols.shape"
   ]
  },
  {
   "cell_type": "code",
   "execution_count": 130,
   "id": "3dff070c",
   "metadata": {},
   "outputs": [],
   "source": [
    "# 편한 계산을 위해 0 추가\n",
    "data_length_per_person_sum.insert(0, 0)"
   ]
  },
  {
   "cell_type": "code",
   "execution_count": 92,
   "id": "3a3b3474",
   "metadata": {},
   "outputs": [
    {
     "name": "stdout",
     "output_type": "stream",
     "text": [
      "정상적으로 columns 별 전체 평균이 추출되었습니다.\n"
     ]
    }
   ],
   "source": [
    "# 전체 columns 별 평균 \n",
    "mean_list = []\n",
    "\n",
    "for col in cols:\n",
    "    a = round(df[col].mean(), 1)\n",
    "    mean_list.append(a)\n",
    "    \n",
    "if len(mean_list) == cols.shape[0]:\n",
    "    print('정상적으로 columns 별 전체 평균이 추출되었습니다.')\n",
    "else:\n",
    "    print('error')"
   ]
  },
  {
   "cell_type": "code",
   "execution_count": 93,
   "id": "7dcb2dd4",
   "metadata": {},
   "outputs": [
    {
     "name": "stderr",
     "output_type": "stream",
     "text": [
      "100%|██████████| 20168/20168 [01:01<00:00, 327.59it/s]\n"
     ]
    }
   ],
   "source": [
    "# 환자별, columns 별 평균 \n",
    "mean_list_per_person = []\n",
    "\n",
    "s_i = 0\n",
    "e_i = 1\n",
    "for _ in tqdm(range(len(data_length_per_person_sum)-1)):\n",
    "    s = data_length_per_person_sum[s_i]      # 0, 54, 77\n",
    "    e = data_length_per_person_sum[e_i]      # 54, 77, 125\n",
    "\n",
    "    temporary = []\n",
    "    for col in cols:    \n",
    "        temporary.append(round(df[col][s:e].mean(), 1))\n",
    "    mean_list_per_person.append(temporary)\n",
    "        \n",
    "    s_i += 1\n",
    "    e_i += 1"
   ]
  },
  {
   "cell_type": "markdown",
   "id": "25da898f",
   "metadata": {},
   "source": [
    "## 결측치 선행대치법 적용"
   ]
  },
  {
   "cell_type": "code",
   "execution_count": 94,
   "id": "6e99e272",
   "metadata": {},
   "outputs": [],
   "source": [
    "# lstm_df 라는 결측 방법 적용 확인 대조군 전용 데이터 세트를 제작\n",
    "# lstm_df = pd.DataFrame()\n",
    "\n",
    "# s_i = 0\n",
    "# e_i = 1\n",
    "\n",
    "# for _ in tqdm(range(len(data_length_per_person_sum)-1)):\n",
    "#     s = data_length_per_person_sum[s_i]      # 0, 54, 77\n",
    "#     e = data_length_per_person_sum[e_i]      # 54, 77, 125\n",
    "    \n",
    "    \n",
    "#     temp = pd.DataFrame(columns=cols)\n",
    "#     for col in cols:\n",
    "#         data = df[col][s:e]\n",
    "#         data = data.interpolate(method=\"linear\", limit_direction=\"both\")\n",
    "#         temp[col] = data\n",
    "\n",
    "#     lstm_df = pd.concat([lstm_df, temp])\n",
    "    \n",
    "#     s_i += 1\n",
    "#     e_i += 1"
   ]
  },
  {
   "cell_type": "code",
   "execution_count": 142,
   "id": "f8febf78",
   "metadata": {},
   "outputs": [
    {
     "data": {
      "text/plain": [
       "(783926, 40)"
      ]
     },
     "execution_count": 142,
     "metadata": {},
     "output_type": "execute_result"
    }
   ],
   "source": [
    "lstm_df.shape   # (783926, 40)"
   ]
  },
  {
   "cell_type": "code",
   "execution_count": null,
   "id": "10692548",
   "metadata": {},
   "outputs": [],
   "source": [
    "# 결측치 변동 내역을 확인하기 위해 저장\n",
    "a = lstm_df.isnull().sum()"
   ]
  },
  {
   "cell_type": "code",
   "execution_count": null,
   "id": "6d00d17c",
   "metadata": {},
   "outputs": [],
   "source": [
    "# 결측치 여부 확인\n",
    "lstm_df.loc[lstm_df[\"HR\"].isnull()]"
   ]
  },
  {
   "cell_type": "code",
   "execution_count": 178,
   "id": "0a46ea5d",
   "metadata": {},
   "outputs": [
    {
     "name": "stderr",
     "output_type": "stream",
     "text": [
      "100%|██████████| 20169/20169 [19:32<00:00, 17.20it/s]\n"
     ]
    }
   ],
   "source": [
    "# 선행 대치법 적용\n",
    "\n",
    "s_i = 0\n",
    "e_i = 1\n",
    "\n",
    "interpolated_mv_df = pd.DataFrame() \n",
    "    \n",
    "for _ in tqdm(range(len(data_length_per_person_sum)-1)):\n",
    "    s = data_length_per_person_sum[s_i]      # 0, 54, 77\n",
    "    e = data_length_per_person_sum[e_i]      # 54, 77, 125\n",
    "    \n",
    "    temp = pd.DataFrame(columns=cols)\n",
    "    for i, col in  enumerate(cols):\n",
    "        data = df[col][s:e].fillna(mean_list_per_person[_][i])\n",
    "        temp[col] = data\n",
    "    \n",
    "    interpolated_mv_df = pd.concat([interpolated_mv_df, temp])\n",
    "    \n",
    "    s_i += 1\n",
    "    e_i += 1"
   ]
  },
  {
   "cell_type": "code",
   "execution_count": 188,
   "id": "b81f75da",
   "metadata": {},
   "outputs": [
    {
     "data": {
      "text/html": [
       "<div>\n",
       "<style scoped>\n",
       "    .dataframe tbody tr th:only-of-type {\n",
       "        vertical-align: middle;\n",
       "    }\n",
       "\n",
       "    .dataframe tbody tr th {\n",
       "        vertical-align: top;\n",
       "    }\n",
       "\n",
       "    .dataframe thead th {\n",
       "        text-align: right;\n",
       "    }\n",
       "</style>\n",
       "<table border=\"1\" class=\"dataframe\">\n",
       "  <thead>\n",
       "    <tr style=\"text-align: right;\">\n",
       "      <th></th>\n",
       "      <th>HR</th>\n",
       "      <th>O2Sat</th>\n",
       "      <th>Temp</th>\n",
       "      <th>SBP</th>\n",
       "      <th>MAP</th>\n",
       "      <th>DBP</th>\n",
       "      <th>Resp</th>\n",
       "      <th>BaseExcess</th>\n",
       "      <th>HCO3</th>\n",
       "      <th>FiO2</th>\n",
       "      <th>...</th>\n",
       "      <th>WBC</th>\n",
       "      <th>Fibrinogen</th>\n",
       "      <th>Platelets</th>\n",
       "      <th>Age</th>\n",
       "      <th>Gender</th>\n",
       "      <th>Unit1</th>\n",
       "      <th>Unit2</th>\n",
       "      <th>HospAdmTime</th>\n",
       "      <th>ICULOS</th>\n",
       "      <th>SepsisLabel</th>\n",
       "    </tr>\n",
       "  </thead>\n",
       "  <tbody>\n",
       "    <tr>\n",
       "      <th>0</th>\n",
       "      <td>101.6</td>\n",
       "      <td>91.5</td>\n",
       "      <td>36.80</td>\n",
       "      <td>126.8</td>\n",
       "      <td>87.30</td>\n",
       "      <td>NaN</td>\n",
       "      <td>24.8</td>\n",
       "      <td>20.7</td>\n",
       "      <td>46.5</td>\n",
       "      <td>0.30</td>\n",
       "      <td>...</td>\n",
       "      <td>10.2</td>\n",
       "      <td>NaN</td>\n",
       "      <td>327.5</td>\n",
       "      <td>83.14</td>\n",
       "      <td>0</td>\n",
       "      <td>NaN</td>\n",
       "      <td>NaN</td>\n",
       "      <td>-0.03</td>\n",
       "      <td>1</td>\n",
       "      <td>0</td>\n",
       "    </tr>\n",
       "    <tr>\n",
       "      <th>1</th>\n",
       "      <td>97.0</td>\n",
       "      <td>95.0</td>\n",
       "      <td>36.80</td>\n",
       "      <td>98.0</td>\n",
       "      <td>75.33</td>\n",
       "      <td>NaN</td>\n",
       "      <td>19.0</td>\n",
       "      <td>20.7</td>\n",
       "      <td>46.5</td>\n",
       "      <td>0.30</td>\n",
       "      <td>...</td>\n",
       "      <td>10.2</td>\n",
       "      <td>NaN</td>\n",
       "      <td>327.5</td>\n",
       "      <td>83.14</td>\n",
       "      <td>0</td>\n",
       "      <td>NaN</td>\n",
       "      <td>NaN</td>\n",
       "      <td>-0.03</td>\n",
       "      <td>2</td>\n",
       "      <td>0</td>\n",
       "    </tr>\n",
       "    <tr>\n",
       "      <th>2</th>\n",
       "      <td>89.0</td>\n",
       "      <td>99.0</td>\n",
       "      <td>36.80</td>\n",
       "      <td>122.0</td>\n",
       "      <td>86.00</td>\n",
       "      <td>NaN</td>\n",
       "      <td>22.0</td>\n",
       "      <td>20.7</td>\n",
       "      <td>46.5</td>\n",
       "      <td>0.30</td>\n",
       "      <td>...</td>\n",
       "      <td>10.2</td>\n",
       "      <td>NaN</td>\n",
       "      <td>327.5</td>\n",
       "      <td>83.14</td>\n",
       "      <td>0</td>\n",
       "      <td>NaN</td>\n",
       "      <td>NaN</td>\n",
       "      <td>-0.03</td>\n",
       "      <td>3</td>\n",
       "      <td>0</td>\n",
       "    </tr>\n",
       "    <tr>\n",
       "      <th>3</th>\n",
       "      <td>90.0</td>\n",
       "      <td>95.0</td>\n",
       "      <td>36.80</td>\n",
       "      <td>126.8</td>\n",
       "      <td>87.30</td>\n",
       "      <td>NaN</td>\n",
       "      <td>30.0</td>\n",
       "      <td>24.0</td>\n",
       "      <td>46.5</td>\n",
       "      <td>0.30</td>\n",
       "      <td>...</td>\n",
       "      <td>10.2</td>\n",
       "      <td>NaN</td>\n",
       "      <td>327.5</td>\n",
       "      <td>83.14</td>\n",
       "      <td>0</td>\n",
       "      <td>NaN</td>\n",
       "      <td>NaN</td>\n",
       "      <td>-0.03</td>\n",
       "      <td>4</td>\n",
       "      <td>0</td>\n",
       "    </tr>\n",
       "    <tr>\n",
       "      <th>4</th>\n",
       "      <td>103.0</td>\n",
       "      <td>88.5</td>\n",
       "      <td>36.80</td>\n",
       "      <td>122.0</td>\n",
       "      <td>91.33</td>\n",
       "      <td>NaN</td>\n",
       "      <td>24.5</td>\n",
       "      <td>20.7</td>\n",
       "      <td>46.5</td>\n",
       "      <td>0.28</td>\n",
       "      <td>...</td>\n",
       "      <td>10.2</td>\n",
       "      <td>NaN</td>\n",
       "      <td>327.5</td>\n",
       "      <td>83.14</td>\n",
       "      <td>0</td>\n",
       "      <td>NaN</td>\n",
       "      <td>NaN</td>\n",
       "      <td>-0.03</td>\n",
       "      <td>5</td>\n",
       "      <td>0</td>\n",
       "    </tr>\n",
       "    <tr>\n",
       "      <th>...</th>\n",
       "      <td>...</td>\n",
       "      <td>...</td>\n",
       "      <td>...</td>\n",
       "      <td>...</td>\n",
       "      <td>...</td>\n",
       "      <td>...</td>\n",
       "      <td>...</td>\n",
       "      <td>...</td>\n",
       "      <td>...</td>\n",
       "      <td>...</td>\n",
       "      <td>...</td>\n",
       "      <td>...</td>\n",
       "      <td>...</td>\n",
       "      <td>...</td>\n",
       "      <td>...</td>\n",
       "      <td>...</td>\n",
       "      <td>...</td>\n",
       "      <td>...</td>\n",
       "      <td>...</td>\n",
       "      <td>...</td>\n",
       "      <td>...</td>\n",
       "    </tr>\n",
       "    <tr>\n",
       "      <th>783921</th>\n",
       "      <td>88.0</td>\n",
       "      <td>98.0</td>\n",
       "      <td>38.10</td>\n",
       "      <td>135.0</td>\n",
       "      <td>81.00</td>\n",
       "      <td>64.0</td>\n",
       "      <td>16.0</td>\n",
       "      <td>0.0</td>\n",
       "      <td>25.7</td>\n",
       "      <td>0.50</td>\n",
       "      <td>...</td>\n",
       "      <td>14.0</td>\n",
       "      <td>NaN</td>\n",
       "      <td>325.5</td>\n",
       "      <td>62.29</td>\n",
       "      <td>1</td>\n",
       "      <td>NaN</td>\n",
       "      <td>NaN</td>\n",
       "      <td>-0.03</td>\n",
       "      <td>31</td>\n",
       "      <td>1</td>\n",
       "    </tr>\n",
       "    <tr>\n",
       "      <th>783922</th>\n",
       "      <td>96.0</td>\n",
       "      <td>98.0</td>\n",
       "      <td>38.72</td>\n",
       "      <td>174.0</td>\n",
       "      <td>97.00</td>\n",
       "      <td>72.0</td>\n",
       "      <td>16.0</td>\n",
       "      <td>2.0</td>\n",
       "      <td>25.7</td>\n",
       "      <td>0.50</td>\n",
       "      <td>...</td>\n",
       "      <td>14.0</td>\n",
       "      <td>NaN</td>\n",
       "      <td>325.5</td>\n",
       "      <td>62.29</td>\n",
       "      <td>1</td>\n",
       "      <td>NaN</td>\n",
       "      <td>NaN</td>\n",
       "      <td>-0.03</td>\n",
       "      <td>32</td>\n",
       "      <td>1</td>\n",
       "    </tr>\n",
       "    <tr>\n",
       "      <th>783923</th>\n",
       "      <td>140.0</td>\n",
       "      <td>97.0</td>\n",
       "      <td>38.10</td>\n",
       "      <td>133.0</td>\n",
       "      <td>81.50</td>\n",
       "      <td>62.5</td>\n",
       "      <td>16.0</td>\n",
       "      <td>0.0</td>\n",
       "      <td>25.7</td>\n",
       "      <td>0.50</td>\n",
       "      <td>...</td>\n",
       "      <td>14.0</td>\n",
       "      <td>NaN</td>\n",
       "      <td>325.5</td>\n",
       "      <td>62.29</td>\n",
       "      <td>1</td>\n",
       "      <td>NaN</td>\n",
       "      <td>NaN</td>\n",
       "      <td>-0.03</td>\n",
       "      <td>33</td>\n",
       "      <td>1</td>\n",
       "    </tr>\n",
       "    <tr>\n",
       "      <th>783924</th>\n",
       "      <td>120.0</td>\n",
       "      <td>96.0</td>\n",
       "      <td>38.10</td>\n",
       "      <td>154.0</td>\n",
       "      <td>118.00</td>\n",
       "      <td>105.0</td>\n",
       "      <td>16.0</td>\n",
       "      <td>0.0</td>\n",
       "      <td>25.7</td>\n",
       "      <td>0.50</td>\n",
       "      <td>...</td>\n",
       "      <td>14.0</td>\n",
       "      <td>NaN</td>\n",
       "      <td>325.5</td>\n",
       "      <td>62.29</td>\n",
       "      <td>1</td>\n",
       "      <td>NaN</td>\n",
       "      <td>NaN</td>\n",
       "      <td>-0.03</td>\n",
       "      <td>34</td>\n",
       "      <td>1</td>\n",
       "    </tr>\n",
       "    <tr>\n",
       "      <th>783925</th>\n",
       "      <td>115.0</td>\n",
       "      <td>95.0</td>\n",
       "      <td>38.10</td>\n",
       "      <td>150.0</td>\n",
       "      <td>117.00</td>\n",
       "      <td>104.0</td>\n",
       "      <td>16.0</td>\n",
       "      <td>0.0</td>\n",
       "      <td>25.7</td>\n",
       "      <td>0.50</td>\n",
       "      <td>...</td>\n",
       "      <td>14.0</td>\n",
       "      <td>NaN</td>\n",
       "      <td>325.5</td>\n",
       "      <td>62.29</td>\n",
       "      <td>1</td>\n",
       "      <td>NaN</td>\n",
       "      <td>NaN</td>\n",
       "      <td>-0.03</td>\n",
       "      <td>35</td>\n",
       "      <td>1</td>\n",
       "    </tr>\n",
       "  </tbody>\n",
       "</table>\n",
       "<p>783926 rows × 40 columns</p>\n",
       "</div>"
      ],
      "text/plain": [
       "           HR  O2Sat   Temp    SBP     MAP    DBP  Resp  BaseExcess  HCO3  \\\n",
       "0       101.6   91.5  36.80  126.8   87.30    NaN  24.8        20.7  46.5   \n",
       "1        97.0   95.0  36.80   98.0   75.33    NaN  19.0        20.7  46.5   \n",
       "2        89.0   99.0  36.80  122.0   86.00    NaN  22.0        20.7  46.5   \n",
       "3        90.0   95.0  36.80  126.8   87.30    NaN  30.0        24.0  46.5   \n",
       "4       103.0   88.5  36.80  122.0   91.33    NaN  24.5        20.7  46.5   \n",
       "...       ...    ...    ...    ...     ...    ...   ...         ...   ...   \n",
       "783921   88.0   98.0  38.10  135.0   81.00   64.0  16.0         0.0  25.7   \n",
       "783922   96.0   98.0  38.72  174.0   97.00   72.0  16.0         2.0  25.7   \n",
       "783923  140.0   97.0  38.10  133.0   81.50   62.5  16.0         0.0  25.7   \n",
       "783924  120.0   96.0  38.10  154.0  118.00  105.0  16.0         0.0  25.7   \n",
       "783925  115.0   95.0  38.10  150.0  117.00  104.0  16.0         0.0  25.7   \n",
       "\n",
       "        FiO2  ...   WBC  Fibrinogen  Platelets    Age  Gender  Unit1  Unit2  \\\n",
       "0       0.30  ...  10.2         NaN      327.5  83.14       0    NaN    NaN   \n",
       "1       0.30  ...  10.2         NaN      327.5  83.14       0    NaN    NaN   \n",
       "2       0.30  ...  10.2         NaN      327.5  83.14       0    NaN    NaN   \n",
       "3       0.30  ...  10.2         NaN      327.5  83.14       0    NaN    NaN   \n",
       "4       0.28  ...  10.2         NaN      327.5  83.14       0    NaN    NaN   \n",
       "...      ...  ...   ...         ...        ...    ...     ...    ...    ...   \n",
       "783921  0.50  ...  14.0         NaN      325.5  62.29       1    NaN    NaN   \n",
       "783922  0.50  ...  14.0         NaN      325.5  62.29       1    NaN    NaN   \n",
       "783923  0.50  ...  14.0         NaN      325.5  62.29       1    NaN    NaN   \n",
       "783924  0.50  ...  14.0         NaN      325.5  62.29       1    NaN    NaN   \n",
       "783925  0.50  ...  14.0         NaN      325.5  62.29       1    NaN    NaN   \n",
       "\n",
       "        HospAdmTime  ICULOS  SepsisLabel  \n",
       "0             -0.03       1            0  \n",
       "1             -0.03       2            0  \n",
       "2             -0.03       3            0  \n",
       "3             -0.03       4            0  \n",
       "4             -0.03       5            0  \n",
       "...             ...     ...          ...  \n",
       "783921        -0.03      31            1  \n",
       "783922        -0.03      32            1  \n",
       "783923        -0.03      33            1  \n",
       "783924        -0.03      34            1  \n",
       "783925        -0.03      35            1  \n",
       "\n",
       "[783926 rows x 40 columns]"
      ]
     },
     "execution_count": 188,
     "metadata": {},
     "output_type": "execute_result"
    }
   ],
   "source": [
    "interpolated_mv_df"
   ]
  },
  {
   "cell_type": "code",
   "execution_count": 74,
   "id": "f6b5f813",
   "metadata": {},
   "outputs": [],
   "source": [
    "# 초기 interpolated_mv_df 저장\n",
    "# interpolated_mv_df.to_csv(\"02_interpolated_mv_df.csv\", mode='w')"
   ]
  },
  {
   "cell_type": "code",
   "execution_count": 78,
   "id": "d3ebfe04",
   "metadata": {},
   "outputs": [],
   "source": [
    "# import interpolated_mv_df\n",
    "interpolated_mv_df = pd.read_csv('02_interpolated_mv_df.csv', index_col=0)"
   ]
  },
  {
   "cell_type": "code",
   "execution_count": 79,
   "id": "58435062",
   "metadata": {},
   "outputs": [],
   "source": [
    "b = interpolated_mv_df.isnull().sum()"
   ]
  },
  {
   "cell_type": "code",
   "execution_count": 80,
   "id": "85e5e796",
   "metadata": {},
   "outputs": [
    {
     "ename": "NameError",
     "evalue": "name 'a' is not defined",
     "output_type": "error",
     "traceback": [
      "\u001b[1;31m---------------------------------------------------------------------------\u001b[0m",
      "\u001b[1;31mNameError\u001b[0m                                 Traceback (most recent call last)",
      "\u001b[1;32m~\\AppData\\Local\\Temp/ipykernel_27864/1725622970.py\u001b[0m in \u001b[0;36m<module>\u001b[1;34m\u001b[0m\n\u001b[0;32m      1\u001b[0m \u001b[1;31m# 환자별 평균. 결측치에 대치한 후 변화 확인\u001b[0m\u001b[1;33m\u001b[0m\u001b[1;33m\u001b[0m\u001b[0m\n\u001b[1;32m----> 2\u001b[1;33m \u001b[1;32mfor\u001b[0m \u001b[0mx\u001b[0m\u001b[1;33m,\u001b[0m \u001b[0my\u001b[0m \u001b[1;32min\u001b[0m \u001b[0mzip\u001b[0m\u001b[1;33m(\u001b[0m\u001b[0ma\u001b[0m\u001b[1;33m,\u001b[0m \u001b[0mb\u001b[0m\u001b[1;33m)\u001b[0m\u001b[1;33m:\u001b[0m\u001b[1;33m\u001b[0m\u001b[1;33m\u001b[0m\u001b[0m\n\u001b[0m\u001b[0;32m      3\u001b[0m     \u001b[1;32mif\u001b[0m \u001b[0mx\u001b[0m \u001b[1;33m!=\u001b[0m \u001b[0my\u001b[0m\u001b[1;33m:\u001b[0m\u001b[1;33m\u001b[0m\u001b[1;33m\u001b[0m\u001b[0m\n\u001b[0;32m      4\u001b[0m         \u001b[0mprint\u001b[0m\u001b[1;33m(\u001b[0m\u001b[1;34mf'{x}에서 변화가 있습니다.'\u001b[0m\u001b[1;33m)\u001b[0m\u001b[1;33m\u001b[0m\u001b[1;33m\u001b[0m\u001b[0m\n\u001b[0;32m      5\u001b[0m \u001b[1;33m\u001b[0m\u001b[0m\n",
      "\u001b[1;31mNameError\u001b[0m: name 'a' is not defined"
     ]
    }
   ],
   "source": [
    "# 환자별 평균. 결측치에 대치한 후 변화 확인\n",
    "for x, y in zip(a, b):\n",
    "    if x != y:\n",
    "        print(f'{x}에서 변화가 있습니다.')\n",
    "        \n",
    "# 변화 없음. 확인"
   ]
  },
  {
   "cell_type": "code",
   "execution_count": 95,
   "id": "b1392c19",
   "metadata": {},
   "outputs": [],
   "source": [
    "non_mv_df = pd.DataFrame(columns=cols)\n",
    "\n",
    "for i, col in enumerate(cols):\n",
    "    data = interpolated_mv_df[col].fillna(mean_list[i])\n",
    "    non_mv_df[col] = data"
   ]
  },
  {
   "cell_type": "code",
   "execution_count": 96,
   "id": "75896924",
   "metadata": {},
   "outputs": [
    {
     "data": {
      "text/html": [
       "<div>\n",
       "<style scoped>\n",
       "    .dataframe tbody tr th:only-of-type {\n",
       "        vertical-align: middle;\n",
       "    }\n",
       "\n",
       "    .dataframe tbody tr th {\n",
       "        vertical-align: top;\n",
       "    }\n",
       "\n",
       "    .dataframe thead th {\n",
       "        text-align: right;\n",
       "    }\n",
       "</style>\n",
       "<table border=\"1\" class=\"dataframe\">\n",
       "  <thead>\n",
       "    <tr style=\"text-align: right;\">\n",
       "      <th></th>\n",
       "      <th>HR</th>\n",
       "      <th>O2Sat</th>\n",
       "      <th>Temp</th>\n",
       "      <th>SBP</th>\n",
       "      <th>MAP</th>\n",
       "      <th>DBP</th>\n",
       "      <th>Resp</th>\n",
       "      <th>BaseExcess</th>\n",
       "      <th>HCO3</th>\n",
       "      <th>FiO2</th>\n",
       "      <th>...</th>\n",
       "      <th>WBC</th>\n",
       "      <th>Fibrinogen</th>\n",
       "      <th>Platelets</th>\n",
       "      <th>Age</th>\n",
       "      <th>Gender</th>\n",
       "      <th>Unit1</th>\n",
       "      <th>Unit2</th>\n",
       "      <th>HospAdmTime</th>\n",
       "      <th>ICULOS</th>\n",
       "      <th>SepsisLabel</th>\n",
       "    </tr>\n",
       "  </thead>\n",
       "  <tbody>\n",
       "    <tr>\n",
       "      <th>0</th>\n",
       "      <td>101.6</td>\n",
       "      <td>91.5</td>\n",
       "      <td>36.80</td>\n",
       "      <td>126.8</td>\n",
       "      <td>87.30</td>\n",
       "      <td>60.0</td>\n",
       "      <td>24.8</td>\n",
       "      <td>20.7</td>\n",
       "      <td>46.5</td>\n",
       "      <td>0.30</td>\n",
       "      <td>...</td>\n",
       "      <td>10.2</td>\n",
       "      <td>292.3</td>\n",
       "      <td>327.5</td>\n",
       "      <td>83.14</td>\n",
       "      <td>0</td>\n",
       "      <td>0.5</td>\n",
       "      <td>0.5</td>\n",
       "      <td>-0.03</td>\n",
       "      <td>1</td>\n",
       "      <td>0</td>\n",
       "    </tr>\n",
       "    <tr>\n",
       "      <th>1</th>\n",
       "      <td>97.0</td>\n",
       "      <td>95.0</td>\n",
       "      <td>36.80</td>\n",
       "      <td>98.0</td>\n",
       "      <td>75.33</td>\n",
       "      <td>60.0</td>\n",
       "      <td>19.0</td>\n",
       "      <td>20.7</td>\n",
       "      <td>46.5</td>\n",
       "      <td>0.30</td>\n",
       "      <td>...</td>\n",
       "      <td>10.2</td>\n",
       "      <td>292.3</td>\n",
       "      <td>327.5</td>\n",
       "      <td>83.14</td>\n",
       "      <td>0</td>\n",
       "      <td>0.5</td>\n",
       "      <td>0.5</td>\n",
       "      <td>-0.03</td>\n",
       "      <td>2</td>\n",
       "      <td>0</td>\n",
       "    </tr>\n",
       "    <tr>\n",
       "      <th>2</th>\n",
       "      <td>89.0</td>\n",
       "      <td>99.0</td>\n",
       "      <td>36.80</td>\n",
       "      <td>122.0</td>\n",
       "      <td>86.00</td>\n",
       "      <td>60.0</td>\n",
       "      <td>22.0</td>\n",
       "      <td>20.7</td>\n",
       "      <td>46.5</td>\n",
       "      <td>0.30</td>\n",
       "      <td>...</td>\n",
       "      <td>10.2</td>\n",
       "      <td>292.3</td>\n",
       "      <td>327.5</td>\n",
       "      <td>83.14</td>\n",
       "      <td>0</td>\n",
       "      <td>0.5</td>\n",
       "      <td>0.5</td>\n",
       "      <td>-0.03</td>\n",
       "      <td>3</td>\n",
       "      <td>0</td>\n",
       "    </tr>\n",
       "    <tr>\n",
       "      <th>3</th>\n",
       "      <td>90.0</td>\n",
       "      <td>95.0</td>\n",
       "      <td>36.80</td>\n",
       "      <td>126.8</td>\n",
       "      <td>87.30</td>\n",
       "      <td>60.0</td>\n",
       "      <td>30.0</td>\n",
       "      <td>24.0</td>\n",
       "      <td>46.5</td>\n",
       "      <td>0.30</td>\n",
       "      <td>...</td>\n",
       "      <td>10.2</td>\n",
       "      <td>292.3</td>\n",
       "      <td>327.5</td>\n",
       "      <td>83.14</td>\n",
       "      <td>0</td>\n",
       "      <td>0.5</td>\n",
       "      <td>0.5</td>\n",
       "      <td>-0.03</td>\n",
       "      <td>4</td>\n",
       "      <td>0</td>\n",
       "    </tr>\n",
       "    <tr>\n",
       "      <th>4</th>\n",
       "      <td>103.0</td>\n",
       "      <td>88.5</td>\n",
       "      <td>36.80</td>\n",
       "      <td>122.0</td>\n",
       "      <td>91.33</td>\n",
       "      <td>60.0</td>\n",
       "      <td>24.5</td>\n",
       "      <td>20.7</td>\n",
       "      <td>46.5</td>\n",
       "      <td>0.28</td>\n",
       "      <td>...</td>\n",
       "      <td>10.2</td>\n",
       "      <td>292.3</td>\n",
       "      <td>327.5</td>\n",
       "      <td>83.14</td>\n",
       "      <td>0</td>\n",
       "      <td>0.5</td>\n",
       "      <td>0.5</td>\n",
       "      <td>-0.03</td>\n",
       "      <td>5</td>\n",
       "      <td>0</td>\n",
       "    </tr>\n",
       "    <tr>\n",
       "      <th>...</th>\n",
       "      <td>...</td>\n",
       "      <td>...</td>\n",
       "      <td>...</td>\n",
       "      <td>...</td>\n",
       "      <td>...</td>\n",
       "      <td>...</td>\n",
       "      <td>...</td>\n",
       "      <td>...</td>\n",
       "      <td>...</td>\n",
       "      <td>...</td>\n",
       "      <td>...</td>\n",
       "      <td>...</td>\n",
       "      <td>...</td>\n",
       "      <td>...</td>\n",
       "      <td>...</td>\n",
       "      <td>...</td>\n",
       "      <td>...</td>\n",
       "      <td>...</td>\n",
       "      <td>...</td>\n",
       "      <td>...</td>\n",
       "      <td>...</td>\n",
       "    </tr>\n",
       "    <tr>\n",
       "      <th>783921</th>\n",
       "      <td>88.0</td>\n",
       "      <td>98.0</td>\n",
       "      <td>38.10</td>\n",
       "      <td>135.0</td>\n",
       "      <td>81.00</td>\n",
       "      <td>64.0</td>\n",
       "      <td>16.0</td>\n",
       "      <td>0.0</td>\n",
       "      <td>25.7</td>\n",
       "      <td>0.50</td>\n",
       "      <td>...</td>\n",
       "      <td>14.0</td>\n",
       "      <td>292.3</td>\n",
       "      <td>325.5</td>\n",
       "      <td>62.29</td>\n",
       "      <td>1</td>\n",
       "      <td>0.5</td>\n",
       "      <td>0.5</td>\n",
       "      <td>-0.03</td>\n",
       "      <td>31</td>\n",
       "      <td>1</td>\n",
       "    </tr>\n",
       "    <tr>\n",
       "      <th>783922</th>\n",
       "      <td>96.0</td>\n",
       "      <td>98.0</td>\n",
       "      <td>38.72</td>\n",
       "      <td>174.0</td>\n",
       "      <td>97.00</td>\n",
       "      <td>72.0</td>\n",
       "      <td>16.0</td>\n",
       "      <td>2.0</td>\n",
       "      <td>25.7</td>\n",
       "      <td>0.50</td>\n",
       "      <td>...</td>\n",
       "      <td>14.0</td>\n",
       "      <td>292.3</td>\n",
       "      <td>325.5</td>\n",
       "      <td>62.29</td>\n",
       "      <td>1</td>\n",
       "      <td>0.5</td>\n",
       "      <td>0.5</td>\n",
       "      <td>-0.03</td>\n",
       "      <td>32</td>\n",
       "      <td>1</td>\n",
       "    </tr>\n",
       "    <tr>\n",
       "      <th>783923</th>\n",
       "      <td>140.0</td>\n",
       "      <td>97.0</td>\n",
       "      <td>38.10</td>\n",
       "      <td>133.0</td>\n",
       "      <td>81.50</td>\n",
       "      <td>62.5</td>\n",
       "      <td>16.0</td>\n",
       "      <td>0.0</td>\n",
       "      <td>25.7</td>\n",
       "      <td>0.50</td>\n",
       "      <td>...</td>\n",
       "      <td>14.0</td>\n",
       "      <td>292.3</td>\n",
       "      <td>325.5</td>\n",
       "      <td>62.29</td>\n",
       "      <td>1</td>\n",
       "      <td>0.5</td>\n",
       "      <td>0.5</td>\n",
       "      <td>-0.03</td>\n",
       "      <td>33</td>\n",
       "      <td>1</td>\n",
       "    </tr>\n",
       "    <tr>\n",
       "      <th>783924</th>\n",
       "      <td>120.0</td>\n",
       "      <td>96.0</td>\n",
       "      <td>38.10</td>\n",
       "      <td>154.0</td>\n",
       "      <td>118.00</td>\n",
       "      <td>105.0</td>\n",
       "      <td>16.0</td>\n",
       "      <td>0.0</td>\n",
       "      <td>25.7</td>\n",
       "      <td>0.50</td>\n",
       "      <td>...</td>\n",
       "      <td>14.0</td>\n",
       "      <td>292.3</td>\n",
       "      <td>325.5</td>\n",
       "      <td>62.29</td>\n",
       "      <td>1</td>\n",
       "      <td>0.5</td>\n",
       "      <td>0.5</td>\n",
       "      <td>-0.03</td>\n",
       "      <td>34</td>\n",
       "      <td>1</td>\n",
       "    </tr>\n",
       "    <tr>\n",
       "      <th>783925</th>\n",
       "      <td>115.0</td>\n",
       "      <td>95.0</td>\n",
       "      <td>38.10</td>\n",
       "      <td>150.0</td>\n",
       "      <td>117.00</td>\n",
       "      <td>104.0</td>\n",
       "      <td>16.0</td>\n",
       "      <td>0.0</td>\n",
       "      <td>25.7</td>\n",
       "      <td>0.50</td>\n",
       "      <td>...</td>\n",
       "      <td>14.0</td>\n",
       "      <td>292.3</td>\n",
       "      <td>325.5</td>\n",
       "      <td>62.29</td>\n",
       "      <td>1</td>\n",
       "      <td>0.5</td>\n",
       "      <td>0.5</td>\n",
       "      <td>-0.03</td>\n",
       "      <td>35</td>\n",
       "      <td>1</td>\n",
       "    </tr>\n",
       "  </tbody>\n",
       "</table>\n",
       "<p>783926 rows × 40 columns</p>\n",
       "</div>"
      ],
      "text/plain": [
       "           HR  O2Sat   Temp    SBP     MAP    DBP  Resp  BaseExcess  HCO3  \\\n",
       "0       101.6   91.5  36.80  126.8   87.30   60.0  24.8        20.7  46.5   \n",
       "1        97.0   95.0  36.80   98.0   75.33   60.0  19.0        20.7  46.5   \n",
       "2        89.0   99.0  36.80  122.0   86.00   60.0  22.0        20.7  46.5   \n",
       "3        90.0   95.0  36.80  126.8   87.30   60.0  30.0        24.0  46.5   \n",
       "4       103.0   88.5  36.80  122.0   91.33   60.0  24.5        20.7  46.5   \n",
       "...       ...    ...    ...    ...     ...    ...   ...         ...   ...   \n",
       "783921   88.0   98.0  38.10  135.0   81.00   64.0  16.0         0.0  25.7   \n",
       "783922   96.0   98.0  38.72  174.0   97.00   72.0  16.0         2.0  25.7   \n",
       "783923  140.0   97.0  38.10  133.0   81.50   62.5  16.0         0.0  25.7   \n",
       "783924  120.0   96.0  38.10  154.0  118.00  105.0  16.0         0.0  25.7   \n",
       "783925  115.0   95.0  38.10  150.0  117.00  104.0  16.0         0.0  25.7   \n",
       "\n",
       "        FiO2  ...   WBC  Fibrinogen  Platelets    Age  Gender  Unit1  Unit2  \\\n",
       "0       0.30  ...  10.2       292.3      327.5  83.14       0    0.5    0.5   \n",
       "1       0.30  ...  10.2       292.3      327.5  83.14       0    0.5    0.5   \n",
       "2       0.30  ...  10.2       292.3      327.5  83.14       0    0.5    0.5   \n",
       "3       0.30  ...  10.2       292.3      327.5  83.14       0    0.5    0.5   \n",
       "4       0.28  ...  10.2       292.3      327.5  83.14       0    0.5    0.5   \n",
       "...      ...  ...   ...         ...        ...    ...     ...    ...    ...   \n",
       "783921  0.50  ...  14.0       292.3      325.5  62.29       1    0.5    0.5   \n",
       "783922  0.50  ...  14.0       292.3      325.5  62.29       1    0.5    0.5   \n",
       "783923  0.50  ...  14.0       292.3      325.5  62.29       1    0.5    0.5   \n",
       "783924  0.50  ...  14.0       292.3      325.5  62.29       1    0.5    0.5   \n",
       "783925  0.50  ...  14.0       292.3      325.5  62.29       1    0.5    0.5   \n",
       "\n",
       "        HospAdmTime  ICULOS  SepsisLabel  \n",
       "0             -0.03       1            0  \n",
       "1             -0.03       2            0  \n",
       "2             -0.03       3            0  \n",
       "3             -0.03       4            0  \n",
       "4             -0.03       5            0  \n",
       "...             ...     ...          ...  \n",
       "783921        -0.03      31            1  \n",
       "783922        -0.03      32            1  \n",
       "783923        -0.03      33            1  \n",
       "783924        -0.03      34            1  \n",
       "783925        -0.03      35            1  \n",
       "\n",
       "[783926 rows x 40 columns]"
      ]
     },
     "execution_count": 96,
     "metadata": {},
     "output_type": "execute_result"
    }
   ],
   "source": [
    "non_mv_df"
   ]
  },
  {
   "cell_type": "markdown",
   "id": "9007e5a6",
   "metadata": {},
   "source": [
    "## > 결측치 없는 data_set 구성 완료"
   ]
  },
  {
   "cell_type": "markdown",
   "id": "b6811e26",
   "metadata": {},
   "source": [
    "추가로 해줘야 하는 일이 있다. <br>LSTM 등 여러 시퀀스 모델에 데이터를 넣을 때에는 데이터의 규격을 동일하게 일치해주어야 한다. 물론 아닌 모델도 있을 것이다. 하지만 LSTM은 규격이 일정해야 함으로 최적의 규격을 찾아 반영한다."
   ]
  },
  {
   "cell_type": "code",
   "execution_count": 104,
   "id": "c86f53ac",
   "metadata": {},
   "outputs": [
    {
     "name": "stdout",
     "output_type": "stream",
     "text": [
      "최단 데이터 길이: 8\n",
      "최장 데이터 길이: 336\n"
     ]
    }
   ],
   "source": [
    "print('최단 데이터 길이:',min(data_length_per_person))\n",
    "print('최장 데이터 길이:',max(data_length_per_person))"
   ]
  },
  {
   "cell_type": "code",
   "execution_count": 114,
   "id": "c77dfad4",
   "metadata": {},
   "outputs": [
    {
     "data": {
      "image/png": "[encoded data removed]",
      "text/plain": [
       "<Figure size 1008x576 with 1 Axes>"
      ]
     },
     "metadata": {
      "needs_background": "light"
     },
     "output_type": "display_data"
    }
   ],
   "source": [
    "# fig, ax = plt.subplots(1,1, figsize=(15, 8))\n",
    "\n",
    "plt.figure(figsize=(14, 8))\n",
    "plt.hist(data_length_per_person, bins=200)\n",
    "plt.grid()\n",
    "plt.show()"
   ]
  },
  {
   "cell_type": "markdown",
   "id": "5b93faed",
   "metadata": {},
   "source": [
    "# 여기서 중요한 관점!\n",
    "입력되는 데이터의 길이를 설정할 것이다. 예를 들어 10개의 데이터를 기준으로 학습을 한다.는 것은 10시간 동안의 환자 정보를 기준으로 모델이 학습하게 된다는 것.\n",
    "    \n",
    "10시간동안의 환자 데이터를 분석한 모델을 가지고 예후를 예측하는데, 만약 2시간의 환자 데이터 밖에 없다면? 만약 5시간의 환자 데이터 밖에 없다면? 예측으 정확도에 영향을 미칠 것이다. \n",
    "\n",
    "그래프상 20 정도로 데이터로 자른다면 대부분을 포함할 수 있을 것 같아 비율을 확인."
   ]
  },
  {
   "cell_type": "code",
   "execution_count": 122,
   "id": "56620bbc",
   "metadata": {},
   "outputs": [
    {
     "name": "stdout",
     "output_type": "stream",
     "text": [
      "17585\n",
      "데이터 비율: 0.87\n"
     ]
    }
   ],
   "source": [
    "count = 0\n",
    "time = 20\n",
    "for i in data_length_per_person:\n",
    "    if i >= time:\n",
    "        count += 1\n",
    "        \n",
    "print(count)\n",
    "print(f'데이터 비율: {round(count/len(data_length_per_person), 2)}')"
   ]
  },
  {
   "cell_type": "markdown",
   "id": "88ae0aac",
   "metadata": {},
   "source": [
    "꽤 많은 데이터를 포함할 수 있음을 확인\n",
    "\n",
    "초기 3시간의 데이터를 보고 6시간 후의 패혈증 예측을 시도\n",
    "time = 20의 데이터를 가지고 위의 예측을 시도한다면\n",
    ">1. 1환자당 20시간(개)의 데이터만을 다루고\n",
    ">2. 20시간에서 3시간의 데이터를 하나로 묶고 이후 6시간의 패혈증 예측을 시도한다면\n",
    ">3. 1환자당 12개의 데이터를 학습할 수 있음"
   ]
  },
  {
   "cell_type": "code",
   "execution_count": 146,
   "id": "607d5973",
   "metadata": {},
   "outputs": [
    {
     "name": "stderr",
     "output_type": "stream",
     "text": [
      "100%|██████████| 20169/20169 [09:07<00:00, 36.87it/s]\n"
     ]
    }
   ],
   "source": [
    "# 환자 1당 데이터의 개수를 20개로 제한 \n",
    "# 20 이상의 데이터를 가지고 있는 환자는 일단 -1 인덱스부터 추출해 20개의 데이터로 제한\n",
    "# > 데이터의 분포를 보면 패혈증이 아니다가, 발병했다고 체크되는 경우가 있음으로 \n",
    "# > 데이터의 앞부분을 사용하게 된다면 패혈증이 아닌 상태의 데이터만 너무 많아 질 수 있기 때문에\n",
    "\n",
    "# > 20개 미만의 데이터 세트(0.13%)는 drop\n",
    "\n",
    "\n",
    "time = 20\n",
    "s_i = 0\n",
    "e_i = 1\n",
    "\n",
    "equal_len_non_mv_df = pd.DataFrame(columns=cols)\n",
    "    \n",
    "for _ in tqdm(range(len(data_length_per_person_sum)-1)):\n",
    "    s = data_length_per_person_sum[s_i]      # 0, 54, 77\n",
    "    e = data_length_per_person_sum[e_i]      # 54, 77, 125\n",
    "\n",
    "    if e - s + 1 > time:\n",
    "        data = non_mv_df[e-time:e]\n",
    "\n",
    "    equal_len_non_mv_df = pd.concat([equal_len_non_mv_df, data])\n",
    "    \n",
    "    s_i += 1\n",
    "    e_i += 1"
   ]
  },
  {
   "cell_type": "code",
   "execution_count": 147,
   "id": "a87bafdd",
   "metadata": {},
   "outputs": [
    {
     "data": {
      "text/html": [
       "<div>\n",
       "<style scoped>\n",
       "    .dataframe tbody tr th:only-of-type {\n",
       "        vertical-align: middle;\n",
       "    }\n",
       "\n",
       "    .dataframe tbody tr th {\n",
       "        vertical-align: top;\n",
       "    }\n",
       "\n",
       "    .dataframe thead th {\n",
       "        text-align: right;\n",
       "    }\n",
       "</style>\n",
       "<table border=\"1\" class=\"dataframe\">\n",
       "  <thead>\n",
       "    <tr style=\"text-align: right;\">\n",
       "      <th></th>\n",
       "      <th>HR</th>\n",
       "      <th>O2Sat</th>\n",
       "      <th>Temp</th>\n",
       "      <th>SBP</th>\n",
       "      <th>MAP</th>\n",
       "      <th>DBP</th>\n",
       "      <th>Resp</th>\n",
       "      <th>BaseExcess</th>\n",
       "      <th>HCO3</th>\n",
       "      <th>FiO2</th>\n",
       "      <th>...</th>\n",
       "      <th>WBC</th>\n",
       "      <th>Fibrinogen</th>\n",
       "      <th>Platelets</th>\n",
       "      <th>Age</th>\n",
       "      <th>Gender</th>\n",
       "      <th>Unit1</th>\n",
       "      <th>Unit2</th>\n",
       "      <th>HospAdmTime</th>\n",
       "      <th>ICULOS</th>\n",
       "      <th>SepsisLabel</th>\n",
       "    </tr>\n",
       "  </thead>\n",
       "  <tbody>\n",
       "    <tr>\n",
       "      <th>34</th>\n",
       "      <td>102.0</td>\n",
       "      <td>91.5</td>\n",
       "      <td>36.80</td>\n",
       "      <td>103.0</td>\n",
       "      <td>75.67</td>\n",
       "      <td>60.0</td>\n",
       "      <td>24.0</td>\n",
       "      <td>20.7</td>\n",
       "      <td>46.5</td>\n",
       "      <td>0.3</td>\n",
       "      <td>...</td>\n",
       "      <td>10.2</td>\n",
       "      <td>292.3</td>\n",
       "      <td>327.5</td>\n",
       "      <td>83.14</td>\n",
       "      <td>0</td>\n",
       "      <td>0.5</td>\n",
       "      <td>0.5</td>\n",
       "      <td>-0.03</td>\n",
       "      <td>35</td>\n",
       "      <td>0</td>\n",
       "    </tr>\n",
       "    <tr>\n",
       "      <th>35</th>\n",
       "      <td>99.0</td>\n",
       "      <td>89.0</td>\n",
       "      <td>37.11</td>\n",
       "      <td>113.0</td>\n",
       "      <td>96.33</td>\n",
       "      <td>60.0</td>\n",
       "      <td>26.0</td>\n",
       "      <td>20.7</td>\n",
       "      <td>46.5</td>\n",
       "      <td>0.3</td>\n",
       "      <td>...</td>\n",
       "      <td>10.2</td>\n",
       "      <td>292.3</td>\n",
       "      <td>327.5</td>\n",
       "      <td>83.14</td>\n",
       "      <td>0</td>\n",
       "      <td>0.5</td>\n",
       "      <td>0.5</td>\n",
       "      <td>-0.03</td>\n",
       "      <td>36</td>\n",
       "      <td>0</td>\n",
       "    </tr>\n",
       "    <tr>\n",
       "      <th>36</th>\n",
       "      <td>97.0</td>\n",
       "      <td>89.0</td>\n",
       "      <td>36.80</td>\n",
       "      <td>110.0</td>\n",
       "      <td>72.00</td>\n",
       "      <td>60.0</td>\n",
       "      <td>29.0</td>\n",
       "      <td>20.7</td>\n",
       "      <td>46.5</td>\n",
       "      <td>0.3</td>\n",
       "      <td>...</td>\n",
       "      <td>10.2</td>\n",
       "      <td>292.3</td>\n",
       "      <td>327.5</td>\n",
       "      <td>83.14</td>\n",
       "      <td>0</td>\n",
       "      <td>0.5</td>\n",
       "      <td>0.5</td>\n",
       "      <td>-0.03</td>\n",
       "      <td>37</td>\n",
       "      <td>0</td>\n",
       "    </tr>\n",
       "    <tr>\n",
       "      <th>37</th>\n",
       "      <td>110.0</td>\n",
       "      <td>89.0</td>\n",
       "      <td>36.80</td>\n",
       "      <td>108.0</td>\n",
       "      <td>90.67</td>\n",
       "      <td>60.0</td>\n",
       "      <td>24.0</td>\n",
       "      <td>20.7</td>\n",
       "      <td>46.5</td>\n",
       "      <td>0.3</td>\n",
       "      <td>...</td>\n",
       "      <td>10.2</td>\n",
       "      <td>292.3</td>\n",
       "      <td>327.5</td>\n",
       "      <td>83.14</td>\n",
       "      <td>0</td>\n",
       "      <td>0.5</td>\n",
       "      <td>0.5</td>\n",
       "      <td>-0.03</td>\n",
       "      <td>38</td>\n",
       "      <td>0</td>\n",
       "    </tr>\n",
       "    <tr>\n",
       "      <th>38</th>\n",
       "      <td>108.0</td>\n",
       "      <td>89.0</td>\n",
       "      <td>36.80</td>\n",
       "      <td>139.0</td>\n",
       "      <td>102.33</td>\n",
       "      <td>60.0</td>\n",
       "      <td>26.0</td>\n",
       "      <td>20.0</td>\n",
       "      <td>46.5</td>\n",
       "      <td>0.3</td>\n",
       "      <td>...</td>\n",
       "      <td>10.2</td>\n",
       "      <td>292.3</td>\n",
       "      <td>327.5</td>\n",
       "      <td>83.14</td>\n",
       "      <td>0</td>\n",
       "      <td>0.5</td>\n",
       "      <td>0.5</td>\n",
       "      <td>-0.03</td>\n",
       "      <td>39</td>\n",
       "      <td>0</td>\n",
       "    </tr>\n",
       "    <tr>\n",
       "      <th>...</th>\n",
       "      <td>...</td>\n",
       "      <td>...</td>\n",
       "      <td>...</td>\n",
       "      <td>...</td>\n",
       "      <td>...</td>\n",
       "      <td>...</td>\n",
       "      <td>...</td>\n",
       "      <td>...</td>\n",
       "      <td>...</td>\n",
       "      <td>...</td>\n",
       "      <td>...</td>\n",
       "      <td>...</td>\n",
       "      <td>...</td>\n",
       "      <td>...</td>\n",
       "      <td>...</td>\n",
       "      <td>...</td>\n",
       "      <td>...</td>\n",
       "      <td>...</td>\n",
       "      <td>...</td>\n",
       "      <td>...</td>\n",
       "      <td>...</td>\n",
       "    </tr>\n",
       "    <tr>\n",
       "      <th>783921</th>\n",
       "      <td>88.0</td>\n",
       "      <td>98.0</td>\n",
       "      <td>38.10</td>\n",
       "      <td>135.0</td>\n",
       "      <td>81.00</td>\n",
       "      <td>64.0</td>\n",
       "      <td>16.0</td>\n",
       "      <td>0.0</td>\n",
       "      <td>25.7</td>\n",
       "      <td>0.5</td>\n",
       "      <td>...</td>\n",
       "      <td>14.0</td>\n",
       "      <td>292.3</td>\n",
       "      <td>325.5</td>\n",
       "      <td>62.29</td>\n",
       "      <td>1</td>\n",
       "      <td>0.5</td>\n",
       "      <td>0.5</td>\n",
       "      <td>-0.03</td>\n",
       "      <td>31</td>\n",
       "      <td>1</td>\n",
       "    </tr>\n",
       "    <tr>\n",
       "      <th>783922</th>\n",
       "      <td>96.0</td>\n",
       "      <td>98.0</td>\n",
       "      <td>38.72</td>\n",
       "      <td>174.0</td>\n",
       "      <td>97.00</td>\n",
       "      <td>72.0</td>\n",
       "      <td>16.0</td>\n",
       "      <td>2.0</td>\n",
       "      <td>25.7</td>\n",
       "      <td>0.5</td>\n",
       "      <td>...</td>\n",
       "      <td>14.0</td>\n",
       "      <td>292.3</td>\n",
       "      <td>325.5</td>\n",
       "      <td>62.29</td>\n",
       "      <td>1</td>\n",
       "      <td>0.5</td>\n",
       "      <td>0.5</td>\n",
       "      <td>-0.03</td>\n",
       "      <td>32</td>\n",
       "      <td>1</td>\n",
       "    </tr>\n",
       "    <tr>\n",
       "      <th>783923</th>\n",
       "      <td>140.0</td>\n",
       "      <td>97.0</td>\n",
       "      <td>38.10</td>\n",
       "      <td>133.0</td>\n",
       "      <td>81.50</td>\n",
       "      <td>62.5</td>\n",
       "      <td>16.0</td>\n",
       "      <td>0.0</td>\n",
       "      <td>25.7</td>\n",
       "      <td>0.5</td>\n",
       "      <td>...</td>\n",
       "      <td>14.0</td>\n",
       "      <td>292.3</td>\n",
       "      <td>325.5</td>\n",
       "      <td>62.29</td>\n",
       "      <td>1</td>\n",
       "      <td>0.5</td>\n",
       "      <td>0.5</td>\n",
       "      <td>-0.03</td>\n",
       "      <td>33</td>\n",
       "      <td>1</td>\n",
       "    </tr>\n",
       "    <tr>\n",
       "      <th>783924</th>\n",
       "      <td>120.0</td>\n",
       "      <td>96.0</td>\n",
       "      <td>38.10</td>\n",
       "      <td>154.0</td>\n",
       "      <td>118.00</td>\n",
       "      <td>105.0</td>\n",
       "      <td>16.0</td>\n",
       "      <td>0.0</td>\n",
       "      <td>25.7</td>\n",
       "      <td>0.5</td>\n",
       "      <td>...</td>\n",
       "      <td>14.0</td>\n",
       "      <td>292.3</td>\n",
       "      <td>325.5</td>\n",
       "      <td>62.29</td>\n",
       "      <td>1</td>\n",
       "      <td>0.5</td>\n",
       "      <td>0.5</td>\n",
       "      <td>-0.03</td>\n",
       "      <td>34</td>\n",
       "      <td>1</td>\n",
       "    </tr>\n",
       "    <tr>\n",
       "      <th>783925</th>\n",
       "      <td>115.0</td>\n",
       "      <td>95.0</td>\n",
       "      <td>38.10</td>\n",
       "      <td>150.0</td>\n",
       "      <td>117.00</td>\n",
       "      <td>104.0</td>\n",
       "      <td>16.0</td>\n",
       "      <td>0.0</td>\n",
       "      <td>25.7</td>\n",
       "      <td>0.5</td>\n",
       "      <td>...</td>\n",
       "      <td>14.0</td>\n",
       "      <td>292.3</td>\n",
       "      <td>325.5</td>\n",
       "      <td>62.29</td>\n",
       "      <td>1</td>\n",
       "      <td>0.5</td>\n",
       "      <td>0.5</td>\n",
       "      <td>-0.03</td>\n",
       "      <td>35</td>\n",
       "      <td>1</td>\n",
       "    </tr>\n",
       "  </tbody>\n",
       "</table>\n",
       "<p>403380 rows × 40 columns</p>\n",
       "</div>"
      ],
      "text/plain": [
       "           HR  O2Sat   Temp    SBP     MAP    DBP  Resp  BaseExcess  HCO3  \\\n",
       "34      102.0   91.5  36.80  103.0   75.67   60.0  24.0        20.7  46.5   \n",
       "35       99.0   89.0  37.11  113.0   96.33   60.0  26.0        20.7  46.5   \n",
       "36       97.0   89.0  36.80  110.0   72.00   60.0  29.0        20.7  46.5   \n",
       "37      110.0   89.0  36.80  108.0   90.67   60.0  24.0        20.7  46.5   \n",
       "38      108.0   89.0  36.80  139.0  102.33   60.0  26.0        20.0  46.5   \n",
       "...       ...    ...    ...    ...     ...    ...   ...         ...   ...   \n",
       "783921   88.0   98.0  38.10  135.0   81.00   64.0  16.0         0.0  25.7   \n",
       "783922   96.0   98.0  38.72  174.0   97.00   72.0  16.0         2.0  25.7   \n",
       "783923  140.0   97.0  38.10  133.0   81.50   62.5  16.0         0.0  25.7   \n",
       "783924  120.0   96.0  38.10  154.0  118.00  105.0  16.0         0.0  25.7   \n",
       "783925  115.0   95.0  38.10  150.0  117.00  104.0  16.0         0.0  25.7   \n",
       "\n",
       "        FiO2  ...   WBC  Fibrinogen  Platelets    Age  Gender  Unit1  Unit2  \\\n",
       "34       0.3  ...  10.2       292.3      327.5  83.14       0    0.5    0.5   \n",
       "35       0.3  ...  10.2       292.3      327.5  83.14       0    0.5    0.5   \n",
       "36       0.3  ...  10.2       292.3      327.5  83.14       0    0.5    0.5   \n",
       "37       0.3  ...  10.2       292.3      327.5  83.14       0    0.5    0.5   \n",
       "38       0.3  ...  10.2       292.3      327.5  83.14       0    0.5    0.5   \n",
       "...      ...  ...   ...         ...        ...    ...     ...    ...    ...   \n",
       "783921   0.5  ...  14.0       292.3      325.5  62.29       1    0.5    0.5   \n",
       "783922   0.5  ...  14.0       292.3      325.5  62.29       1    0.5    0.5   \n",
       "783923   0.5  ...  14.0       292.3      325.5  62.29       1    0.5    0.5   \n",
       "783924   0.5  ...  14.0       292.3      325.5  62.29       1    0.5    0.5   \n",
       "783925   0.5  ...  14.0       292.3      325.5  62.29       1    0.5    0.5   \n",
       "\n",
       "        HospAdmTime  ICULOS  SepsisLabel  \n",
       "34            -0.03      35            0  \n",
       "35            -0.03      36            0  \n",
       "36            -0.03      37            0  \n",
       "37            -0.03      38            0  \n",
       "38            -0.03      39            0  \n",
       "...             ...     ...          ...  \n",
       "783921        -0.03      31            1  \n",
       "783922        -0.03      32            1  \n",
       "783923        -0.03      33            1  \n",
       "783924        -0.03      34            1  \n",
       "783925        -0.03      35            1  \n",
       "\n",
       "[403380 rows x 40 columns]"
      ]
     },
     "execution_count": 147,
     "metadata": {},
     "output_type": "execute_result"
    }
   ],
   "source": [
    "equal_len_non_mv_df"
   ]
  },
  {
   "cell_type": "markdown",
   "id": "6a9cd420",
   "metadata": {},
   "source": [
    "# LSTM 테스트를 위한 모델 구성"
   ]
  },
  {
   "cell_type": "markdown",
   "id": "634ba9b1",
   "metadata": {},
   "source": [
    "모델 학습"
   ]
  },
  {
   "cell_type": "markdown",
   "id": "2594792f",
   "metadata": {},
   "source": [
    "을 위한 데이터 세트 나누기 전 데이터 세트의 구성 파악"
   ]
  },
  {
   "cell_type": "code",
   "execution_count": 187,
   "id": "95733035",
   "metadata": {},
   "outputs": [],
   "source": [
    "s = 0\n",
    "e = 20\n",
    "\n",
    "sepsis = 0\n",
    "non_sepsis = 0\n",
    "person_n = 0\n",
    "\n",
    "while s < len(equal_len_non_mv_df):\n",
    "    if equal_len_non_mv_df[s:e]['SepsisLabel'].sum() >= 1:\n",
    "        sepsis += 1\n",
    "    else: \n",
    "        non_sepsis += 1\n",
    "        \n",
    "    person_n += 1\n",
    "    s += 20\n",
    "    e += 20"
   ]
  },
  {
   "cell_type": "code",
   "execution_count": 188,
   "id": "3d1bb7bb",
   "metadata": {},
   "outputs": [
    {
     "name": "stdout",
     "output_type": "stream",
     "text": [
      "20169 /  패혈증 데이터 : 1415 /  non_패혈증 데이터 : 18754\n"
     ]
    }
   ],
   "source": [
    "print(sepsis + non_sepsis, '/  패혈증 데이터 :', sepsis, '/  non_패혈증 데이터 :', non_sepsis)"
   ]
  },
  {
   "cell_type": "markdown",
   "id": "bb76a429",
   "metadata": {},
   "source": [
    "time 20 미만의 데이터를 제외하였음에도 원본 데이터의 비율에 비슷한 데이터 세트 구축 확인"
   ]
  },
  {
   "cell_type": "code",
   "execution_count": 189,
   "id": "d5120c6f",
   "metadata": {},
   "outputs": [
    {
     "name": "stderr",
     "output_type": "stream",
     "text": [
      "100%|██████████| 20169/20169 [07:50<00:00, 42.84it/s]\n"
     ]
    }
   ],
   "source": [
    "# sepsis와 non sepsis 구분\n",
    "\n",
    "s = 0\n",
    "e = 20\n",
    "\n",
    "sepsis_df = pd.DataFrame(columns=cols)\n",
    "non_sepsis_df = pd.DataFrame(columns=cols)\n",
    "\n",
    "for _ in tqdm(range(person_n)):\n",
    "    if equal_len_non_mv_df[s:e]['SepsisLabel'].sum() >= 1:\n",
    "        data = equal_len_non_mv_df[s:e]\n",
    "        sepsis_df = pd.concat([sepsis_df, data])\n",
    "    else: \n",
    "        data = equal_len_non_mv_df[s:e]\n",
    "        non_sepsis_df = pd.concat([non_sepsis_df, data])\n",
    "        \n",
    "    s += 20\n",
    "    e += 20"
   ]
  },
  {
   "cell_type": "code",
   "execution_count": 586,
   "id": "9dad8063",
   "metadata": {},
   "outputs": [
    {
     "name": "stdout",
     "output_type": "stream",
     "text": [
      "sepsis:  1415 / non_sepsis : 18754\n"
     ]
    }
   ],
   "source": [
    "print('sepsis: ', len(sepsis_df)//20 , \"/ non_sepsis :\", len(non_sepsis_df)//20)"
   ]
  },
  {
   "cell_type": "code",
   "execution_count": 476,
   "id": "38cccc32",
   "metadata": {},
   "outputs": [],
   "source": [
    "s_df = sepsis_df[['HR', 'O2Sat', 'Temp', 'SBP', 'MAP', 'DBP', 'Resp', 'BaseExcess',\n",
    "       'HCO3', 'FiO2', 'pH', 'PaCO2', 'SaO2', 'AST', 'BUN', 'Alkalinephos',\n",
    "       'Calcium', 'Chloride', 'Creatinine', 'Bilirubin_direct', 'Glucose',\n",
    "       'Lactate', 'Magnesium', 'Phosphate', 'Potassium', 'Bilirubin_total',\n",
    "       'TroponinI', 'Hct', 'Hgb', 'PTT', 'WBC', 'Fibrinogen', 'Platelets',\n",
    "       'Age', 'Gender', 'Unit1', 'Unit2', 'HospAdmTime', 'ICULOS']]\n",
    "\n",
    "ns_df = non_sepsis_df[['HR', 'O2Sat', 'Temp', 'SBP', 'MAP', 'DBP', 'Resp', 'BaseExcess',\n",
    "       'HCO3', 'FiO2', 'pH', 'PaCO2', 'SaO2', 'AST', 'BUN', 'Alkalinephos',\n",
    "       'Calcium', 'Chloride', 'Creatinine', 'Bilirubin_direct', 'Glucose',\n",
    "       'Lactate', 'Magnesium', 'Phosphate', 'Potassium', 'Bilirubin_total',\n",
    "       'TroponinI', 'Hct', 'Hgb', 'PTT', 'WBC', 'Fibrinogen', 'Platelets',\n",
    "       'Age', 'Gender', 'Unit1', 'Unit2', 'HospAdmTime', 'ICULOS']]"
   ]
  },
  {
   "cell_type": "code",
   "execution_count": 592,
   "id": "ef855c0c",
   "metadata": {},
   "outputs": [
    {
     "name": "stdout",
     "output_type": "stream",
     "text": [
      "HR 192.0 33.0 // 159.0\n",
      "O2Sat 100.0 20.0 // 80.0\n",
      "Temp 40.56 32.3 // 8.260000000000005\n",
      "SBP 241.0 41.0 // 200.0\n",
      "MAP 298.0 22.0 // 276.0\n",
      "DBP 189.0 24.0 // 165.0\n",
      "Resp 66.0 2.5 // 63.5\n",
      "BaseExcess 21.0 -18.0 // 39.0\n",
      "HCO3 45.0 7.0 // 38.0\n",
      "FiO2 1.0 0.2 // 0.8\n",
      "pH 7.73 6.98 // 0.75\n",
      "PaCO2 100.0 16.0 // 84.0\n",
      "SaO2 100.0 29.0 // 71.0\n",
      "AST 9507.0 4.0 // 9503.0\n",
      "BUN 170.5 1.5 // 169.0\n",
      "Alkalinephos 1117.0 7.0 // 1110.0\n",
      "Calcium 15.6 4.2 // 11.399999999999999\n",
      "Chloride 133.0 82.0 // 51.0\n",
      "Creatinine 14.2 0.1 // 14.1\n",
      "Bilirubin_direct 26.0 0.1 // 25.9\n",
      "Glucose 753.0 35.0 // 718.0\n",
      "Lactate 21.4 0.4 // 21.0\n",
      "Magnesium 9.6 0.7 // 8.9\n",
      "Phosphate 14.2 0.7 // 13.5\n",
      "Potassium 8.8 2.4 // 6.4\n",
      "Bilirubin_total 40.8 0.1 // 40.699999999999996\n",
      "TroponinI 34.3 0.3 // 34.0\n",
      "Hct 64.6 14.0 // 50.599999999999994\n",
      "Hgb 20.3 4.8 // 15.5\n",
      "PTT 150.0 18.8 // 131.2\n",
      "WBC 174.7 0.1 // 174.6\n",
      "Fibrinogen 1383.0 76.0 // 1307.0\n",
      "Platelets 932.0 8.0 // 924.0\n",
      "Age 88.9 18.44 // 70.46000000000001\n",
      "Gender 1 0 // 1\n",
      "Unit1 1.0 0.0 // 1.0\n",
      "Unit2 1.0 0.0 // 1.0\n",
      "HospAdmTime 0.79 -3141.55 // 3142.34\n",
      "ICULOS 336 1 // 335\n"
     ]
    }
   ],
   "source": [
    "for col in ['HR', 'O2Sat', 'Temp', 'SBP', 'MAP', 'DBP', 'Resp', 'BaseExcess',\n",
    "       'HCO3', 'FiO2', 'pH', 'PaCO2', 'SaO2', 'AST', 'BUN', 'Alkalinephos',\n",
    "       'Calcium', 'Chloride', 'Creatinine', 'Bilirubin_direct', 'Glucose',\n",
    "       'Lactate', 'Magnesium', 'Phosphate', 'Potassium', 'Bilirubin_total',\n",
    "       'TroponinI', 'Hct', 'Hgb', 'PTT', 'WBC', 'Fibrinogen', 'Platelets',\n",
    "       'Age', 'Gender', 'Unit1', 'Unit2', 'HospAdmTime', 'ICULOS']:\n",
    "    print(col, max(s_df[col]), min(s_df[col]), \"//\", max(s_df[col])-min(s_df[col]))"
   ]
  },
  {
   "cell_type": "code",
   "execution_count": 477,
   "id": "dd77cccd",
   "metadata": {},
   "outputs": [
    {
     "data": {
      "text/plain": [
       "1415.0"
      ]
     },
     "execution_count": 477,
     "metadata": {},
     "output_type": "execute_result"
    }
   ],
   "source": [
    "len(a)/20"
   ]
  },
  {
   "cell_type": "code",
   "execution_count": 478,
   "id": "2aaa933c",
   "metadata": {},
   "outputs": [
    {
     "data": {
      "text/plain": [
       "1415.0"
      ]
     },
     "execution_count": 478,
     "metadata": {},
     "output_type": "execute_result"
    }
   ],
   "source": [
    "a = s_df.values.tolist()\n",
    "len(a)/20"
   ]
  },
  {
   "cell_type": "code",
   "execution_count": 479,
   "id": "5fffd2aa",
   "metadata": {},
   "outputs": [
    {
     "name": "stderr",
     "output_type": "stream",
     "text": [
      "100%|██████████| 1415/1415 [00:00<00:00, 95070.08it/s]\n"
     ]
    }
   ],
   "source": [
    "s = 0\n",
    "e = 20\n",
    "\n",
    "s_temp = []\n",
    "for _ in tqdm(range(int(len(a)/20))):\n",
    "    for i in range(12):\n",
    "        s_temp.append(a[s+i:s+i+3])\n",
    "        \n",
    "    s += 20\n",
    "    e += 20        "
   ]
  },
  {
   "cell_type": "code",
   "execution_count": 480,
   "id": "ae587e1c",
   "metadata": {},
   "outputs": [
    {
     "data": {
      "text/plain": [
       "16980"
      ]
     },
     "execution_count": 480,
     "metadata": {},
     "output_type": "execute_result"
    }
   ],
   "source": [
    "len(s_temp)"
   ]
  },
  {
   "cell_type": "code",
   "execution_count": 481,
   "id": "72055248",
   "metadata": {},
   "outputs": [
    {
     "data": {
      "text/plain": [
       "18754.0"
      ]
     },
     "execution_count": 481,
     "metadata": {},
     "output_type": "execute_result"
    }
   ],
   "source": [
    "b = ns_df.values.tolist()\n",
    "len(b)/20"
   ]
  },
  {
   "cell_type": "code",
   "execution_count": 482,
   "id": "73d6819a",
   "metadata": {},
   "outputs": [
    {
     "name": "stderr",
     "output_type": "stream",
     "text": [
      "100%|██████████| 18754/18754 [00:01<00:00, 17155.00it/s]\n"
     ]
    }
   ],
   "source": [
    "s = 0\n",
    "e = 20\n",
    "\n",
    "ns_temp = []\n",
    "for _ in tqdm(range(int(len(b)/20))):\n",
    "    for i in range(12):\n",
    "        ns_temp.append(b[s+i:s+i+3])\n",
    "        \n",
    "    s += 20\n",
    "    e += 20        "
   ]
  },
  {
   "cell_type": "code",
   "execution_count": 558,
   "id": "7f78add3",
   "metadata": {},
   "outputs": [
    {
     "data": {
      "text/plain": [
       "225048"
      ]
     },
     "execution_count": 558,
     "metadata": {},
     "output_type": "execute_result"
    }
   ],
   "source": [
    "len(ns_temp)"
   ]
  },
  {
   "cell_type": "code",
   "execution_count": 559,
   "id": "b092056a",
   "metadata": {},
   "outputs": [
    {
     "name": "stdout",
     "output_type": "stream",
     "text": [
      "sepsis + nonSepsis: 242028\n"
     ]
    }
   ],
   "source": [
    "print(f'sepsis + nonSepsis: {len(s_temp)+len(ns_temp)}')"
   ]
  },
  {
   "cell_type": "code",
   "execution_count": 564,
   "id": "49111fd4",
   "metadata": {},
   "outputs": [
    {
     "name": "stdout",
     "output_type": "stream",
     "text": [
      "180038 22505 22505 225048\n"
     ]
    }
   ],
   "source": [
    "nx_train = ns_temp[:180038]\n",
    "nx_val = ns_temp[180038:202543]\n",
    "nx_test = ns_temp[202543:225048]\n",
    "\n",
    "print(len(nx_train), len(nx_val), len(nx_test), len(nx_val) + len(nx_test)+ len(nx_train))"
   ]
  },
  {
   "cell_type": "code",
   "execution_count": 565,
   "id": "a365749f",
   "metadata": {},
   "outputs": [
    {
     "name": "stdout",
     "output_type": "stream",
     "text": [
      "13584 1698 1698 16980\n"
     ]
    }
   ],
   "source": [
    "x_train = s_temp[:13584]\n",
    "x_val = s_temp[13584: 15282]\n",
    "x_test = s_temp[15282:16980]\n",
    "\n",
    "print( len(x_train), len(x_val), len(x_test), len(x_val) + len(x_test)+ len(x_train))"
   ]
  },
  {
   "cell_type": "code",
   "execution_count": 566,
   "id": "868e632d",
   "metadata": {},
   "outputs": [
    {
     "name": "stdout",
     "output_type": "stream",
     "text": [
      "193622 24203 24203 242028\n"
     ]
    }
   ],
   "source": [
    "y_train = [1]*len(x_train) + [0]*len(nx_train)\n",
    "y_val = [1]*len(x_val) + [0]*len(nx_val)\n",
    "y_test = [1]*len(x_test) + [0]*len(nx_test)\n",
    "\n",
    "print(len(y_train), len(y_val), len(y_test), len(y_val) + len(y_test)+ len(y_train))"
   ]
  },
  {
   "cell_type": "code",
   "execution_count": 518,
   "id": "6cb99114",
   "metadata": {},
   "outputs": [
    {
     "name": "stdout",
     "output_type": "stream",
     "text": [
      "193622 24203 24203 242028\n"
     ]
    }
   ],
   "source": [
    "x_train = x_train + nx_train\n",
    "x_val = x_val + nx_val\n",
    "x_test = x_test + nx_test\n",
    "\n",
    "print(len(x_train), len(x_val), len(x_test), len(x_val) + len(x_test)+ len(x_train))"
   ]
  },
  {
   "cell_type": "code",
   "execution_count": 549,
   "id": "6a822846",
   "metadata": {},
   "outputs": [
    {
     "name": "stdout",
     "output_type": "stream",
     "text": [
      "(193622, 3, 39) (193622,)\n",
      "(24203, 3, 39) (24203,)\n",
      "(24203, 3, 39) (24203,)\n"
     ]
    }
   ],
   "source": [
    "x_train = np.array(x_train)\n",
    "x_val = np.array(x_val)\n",
    "x_test = np.array(x_test)\n",
    "\n",
    "\n",
    "y_train = np.array(y_train)\n",
    "y_val = np.array(y_val)\n",
    "y_test = np.array(y_test)\n",
    "\n",
    "\n",
    "print(x_train.shape, y_train.shape)\n",
    "print(x_val.shape, y_val.shape)\n",
    "print(x_test.shape, y_test.shape)"
   ]
  },
  {
   "cell_type": "markdown",
   "id": "4ac4ed72",
   "metadata": {},
   "source": [
    "## 데이터 세트 구성 완료"
   ]
  },
  {
   "cell_type": "code",
   "execution_count": 523,
   "id": "53490c20",
   "metadata": {},
   "outputs": [],
   "source": [
    "from tensorflow.keras.layers import Embedding, Dense, LSTM\n",
    "from tensorflow.keras.models import Sequential\n",
    "from tensorflow.keras.models import load_model\n",
    "from tensorflow.keras.callbacks import EarlyStopping, ModelCheckpoint"
   ]
  },
  {
   "cell_type": "code",
   "execution_count": 583,
   "id": "41f531a6",
   "metadata": {},
   "outputs": [
    {
     "name": "stdout",
     "output_type": "stream",
     "text": [
      "Model: \"sequential_10\"\n",
      "_________________________________________________________________\n",
      " Layer (type)                Output Shape              Param #   \n",
      "=================================================================\n",
      " lstm_10 (LSTM)              (None, 128)               86016     \n",
      "                                                                 \n",
      " dense_18 (Dense)            (None, 64)                8256      \n",
      "                                                                 \n",
      " dense_19 (Dense)            (None, 1)                 65        \n",
      "                                                                 \n",
      "=================================================================\n",
      "Total params: 94,337\n",
      "Trainable params: 94,337\n",
      "Non-trainable params: 0\n",
      "_________________________________________________________________\n"
     ]
    }
   ],
   "source": [
    "hidden_units = 128\n",
    "\n",
    "model = Sequential()\n",
    "model.add(LSTM(hidden_units, activation='relu', input_shape=(3, 39)))\n",
    "model.add(Dense(64))\n",
    "model.add(Dense(1, activation='softmax'))\n",
    "\n",
    "model.summary()\n",
    "\n",
    "# es = EarlyStopping(monitor='val_loss', mode='min', verbose=1, patience=4)"
   ]
  },
  {
   "cell_type": "markdown",
   "id": "a1a6fdd1",
   "metadata": {},
   "source": [
    "모델을 구성하였으니 학습과정을 설정\n",
    "\n",
    "컴파일\n",
    "\n",
    "모델을 학습시키기 이전에, compile 메소드를 통해서 학습 방식에 대한 환경설정을 해야 합니다. 다음의 세 개의 인자를 입력으로 받습니다.\n",
    "\n",
    "- 정규화기 (optimizer). rmsprp나 adagrad와 같은 기존의 정규화기에 대한 문자열 식별자 또는 Optimizer 클래스의 인스턴스를 사용할 수 있습니다.\n",
    "- 손실 함수 (loss function). 모델이 최적화에 사용되는 목적 함수입니다. categorical_crossentropy 또는 mse와 같은 기존의 손실 함수의 문자열 식별자 또는 목적 함수를 사용할 수 있습니다. 참고: 손실\n",
    "- 기준(metric) 리스트. 분류 문제에 대해서는 metrics=['accuracy']로 설정합니다. 기준은 문자열 식별자 또는 사용자 정의 기준 함수를 사용할 수 있습니다."
   ]
  },
  {
   "cell_type": "code",
   "execution_count": 584,
   "id": "37ea4c72",
   "metadata": {},
   "outputs": [],
   "source": [
    "model.compile(loss='categorical_crossentropy', optimizer='adam', metrics=['accuracy'])"
   ]
  },
  {
   "cell_type": "code",
   "execution_count": 585,
   "id": "00055273",
   "metadata": {},
   "outputs": [
    {
     "name": "stdout",
     "output_type": "stream",
     "text": [
      "Epoch 1/5\n",
      "213/213 [==============================] - 3s 12ms/step - loss: 0.0000e+00 - accuracy: 0.5000 - val_loss: 0.0000e+00 - val_accuracy: 0.5000\n",
      "Epoch 2/5\n",
      "213/213 [==============================] - 1s 5ms/step - loss: 0.0000e+00 - accuracy: 0.5000 - val_loss: 0.0000e+00 - val_accuracy: 0.5000\n",
      "Epoch 3/5\n",
      "213/213 [==============================] - 1s 6ms/step - loss: 0.0000e+00 - accuracy: 0.5000 - val_loss: 0.0000e+00 - val_accuracy: 0.5000\n",
      "Epoch 4/5\n",
      "213/213 [==============================] - 1s 5ms/step - loss: 0.0000e+00 - accuracy: 0.5000 - val_loss: 0.0000e+00 - val_accuracy: 0.5000\n",
      "Epoch 5/5\n",
      "213/213 [==============================] - 1s 6ms/step - loss: 0.0000e+00 - accuracy: 0.5000 - val_loss: 0.0000e+00 - val_accuracy: 0.5000\n"
     ]
    }
   ],
   "source": [
    "hist = model.fit(x_train, y_train, epochs=5, batch_size=128, validation_data=(x_val, y_val))"
   ]
  },
  {
   "cell_type": "markdown",
   "id": "e58f4c2c",
   "metadata": {},
   "source": [
    "loss: nan에서 하이퍼 파라미터를 변경해도 변화가 없어 데이터의 편향이 큰 것을 원인으로 파악(sepsis 0.1: non_sepsis 0.9)\n",
    "\n",
    "데이터 비율을 1:1로 맞추어 다시 진행"
   ]
  },
  {
   "cell_type": "code",
   "execution_count": 562,
   "id": "4a781999",
   "metadata": {},
   "outputs": [
    {
     "data": {
      "text/plain": [
       "13584"
      ]
     },
     "execution_count": 562,
     "metadata": {},
     "output_type": "execute_result"
    }
   ],
   "source": [
    "len(x_train)"
   ]
  },
  {
   "cell_type": "code",
   "execution_count": 567,
   "id": "fd052b81",
   "metadata": {},
   "outputs": [
    {
     "name": "stdout",
     "output_type": "stream",
     "text": [
      "27168 3396 3396 33960\n"
     ]
    }
   ],
   "source": [
    "y_train = [1]*len(x_train) + [0]*len(x_train)\n",
    "y_val = [1]*len(x_val) + [0]*len(x_val)\n",
    "y_test = [1]*len(x_test) + [0]*len(x_test)\n",
    "\n",
    "print(len(y_train), len(y_val), len(y_test), len(y_val) + len(y_test)+ len(y_train))"
   ]
  },
  {
   "cell_type": "code",
   "execution_count": 568,
   "id": "1d8f2735",
   "metadata": {},
   "outputs": [
    {
     "name": "stdout",
     "output_type": "stream",
     "text": [
      "27168 3396 3396 33960\n"
     ]
    }
   ],
   "source": [
    "x_train = x_train + nx_train[:len(x_train)]\n",
    "x_val = x_val + nx_val[:len(x_val)]\n",
    "x_test = x_test + nx_test[:len(x_test)]\n",
    "\n",
    "print(len(x_train), len(x_val), len(x_test), len(x_val) + len(x_test)+ len(x_train))"
   ]
  },
  {
   "cell_type": "code",
   "execution_count": 569,
   "id": "dccc06f6",
   "metadata": {},
   "outputs": [],
   "source": [
    "model.compile(loss='categorical_crossentropy', optimizer='adam', metrics=['accuracy'])"
   ]
  },
  {
   "cell_type": "code",
   "execution_count": 571,
   "id": "c93862bd",
   "metadata": {
    "scrolled": true
   },
   "outputs": [
    {
     "name": "stdout",
     "output_type": "stream",
     "text": [
      "Epoch 1/5\n",
      "2717/2717 [==============================] - 9s 3ms/step - loss: nan - accuracy: 0.5000 - val_loss: nan - val_accuracy: 0.5000\n",
      "Epoch 2/5\n",
      "2717/2717 [==============================] - 7s 3ms/step - loss: nan - accuracy: 0.5000 - val_loss: nan - val_accuracy: 0.5000\n",
      "Epoch 3/5\n",
      "2717/2717 [==============================] - 7s 3ms/step - loss: nan - accuracy: 0.5000 - val_loss: nan - val_accuracy: 0.5000\n",
      "Epoch 4/5\n",
      "2717/2717 [==============================] - 7s 3ms/step - loss: nan - accuracy: 0.5000 - val_loss: nan - val_accuracy: 0.5000\n",
      "Epoch 5/5\n",
      "2717/2717 [==============================] - 7s 3ms/step - loss: nan - accuracy: 0.5000 - val_loss: nan - val_accuracy: 0.5000\n"
     ]
    }
   ],
   "source": [
    "hist = model.fit(x_train, y_train, epochs=5, batch_size=10, validation_data=(x_val, y_val))"
   ]
  },
  {
   "cell_type": "markdown",
   "id": "4e871f0f",
   "metadata": {},
   "source": [
    "데이터 세트를 동일하게 맞추어 진행하여도 학습이 되지 않음."
   ]
  },
  {
   "cell_type": "code",
   "execution_count": 578,
   "id": "2a75f22b",
   "metadata": {},
   "outputs": [],
   "source": [
    "model.compile(loss='categorical_crossentropy', optimizer='adam', metrics=['accuracy'])"
   ]
  },
  {
   "cell_type": "code",
   "execution_count": 593,
   "id": "96216822",
   "metadata": {},
   "outputs": [
    {
     "name": "stdout",
     "output_type": "stream",
     "text": [
      "Epoch 1/10\n",
      "213/213 [==============================] - 2s 11ms/step - loss: 0.0000e+00 - accuracy: 0.5000 - val_loss: 0.0000e+00 - val_accuracy: 0.5000\n",
      "Epoch 2/10\n",
      "213/213 [==============================] - 1s 6ms/step - loss: 0.0000e+00 - accuracy: 0.5000 - val_loss: 0.0000e+00 - val_accuracy: 0.5000\n",
      "Epoch 3/10\n",
      "213/213 [==============================] - 1s 6ms/step - loss: 0.0000e+00 - accuracy: 0.5000 - val_loss: 0.0000e+00 - val_accuracy: 0.5000\n",
      "Epoch 4/10\n",
      "213/213 [==============================] - 1s 6ms/step - loss: 0.0000e+00 - accuracy: 0.5000 - val_loss: 0.0000e+00 - val_accuracy: 0.5000\n",
      "Epoch 5/10\n",
      "213/213 [==============================] - 1s 5ms/step - loss: 0.0000e+00 - accuracy: 0.5000 - val_loss: 0.0000e+00 - val_accuracy: 0.5000\n",
      "Epoch 6/10\n",
      "213/213 [==============================] - 1s 5ms/step - loss: 0.0000e+00 - accuracy: 0.5000 - val_loss: 0.0000e+00 - val_accuracy: 0.5000\n",
      "Epoch 7/10\n",
      "213/213 [==============================] - 1s 6ms/step - loss: 0.0000e+00 - accuracy: 0.5000 - val_loss: 0.0000e+00 - val_accuracy: 0.5000\n",
      "Epoch 8/10\n",
      "213/213 [==============================] - 1s 5ms/step - loss: 0.0000e+00 - accuracy: 0.5000 - val_loss: 0.0000e+00 - val_accuracy: 0.5000\n",
      "Epoch 9/10\n",
      "213/213 [==============================] - 1s 6ms/step - loss: 0.0000e+00 - accuracy: 0.5000 - val_loss: 0.0000e+00 - val_accuracy: 0.5000\n",
      "Epoch 10/10\n",
      "213/213 [==============================] - 1s 5ms/step - loss: 0.0000e+00 - accuracy: 0.5000 - val_loss: 0.0000e+00 - val_accuracy: 0.5000\n"
     ]
    }
   ],
   "source": [
    "hist = model.fit(x_train, y_train, epochs=10, batch_size=128, validation_data=(x_val, y_val))"
   ]
  }
 ],
 "metadata": {
  "kernelspec": {
   "display_name": "ai",
   "language": "python",
   "name": "ai"
  },
  "language_info": {
   "codemirror_mode": {
    "name": "ipython",
    "version": 3
   },
   "file_extension": ".py",
   "mimetype": "text/x-python",
   "name": "python",
   "nbconvert_exporter": "python",
   "pygments_lexer": "ipython3",
   "version": "3.9.7"
  }
 },
 "nbformat": 4,
 "nbformat_minor": 5
}
