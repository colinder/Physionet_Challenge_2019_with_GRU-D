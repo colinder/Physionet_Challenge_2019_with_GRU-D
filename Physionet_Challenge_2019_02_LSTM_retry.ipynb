{
 "cells": [
  {
   "cell_type": "code",
   "execution_count": 59,
   "id": "f45e18df",
   "metadata": {},
   "outputs": [],
   "source": [
    "import pandas as pd\n",
    "import numpy as np\n",
    "import matplotlib.pyplot as plt\n",
    "import seaborn as sns\n",
    "\n",
    "import os\n",
    "import csv\n",
    "from tqdm import tqdm"
   ]
  },
  {
   "cell_type": "code",
   "execution_count": 60,
   "id": "0c92c354",
   "metadata": {},
   "outputs": [],
   "source": [
    "# import data\n",
    "df = pd.read_csv('00_df.csv', index_col=0)\n",
    "pre_df = pd.read_csv('01_pre_df.csv', index_col=0)\n",
    "interpolated_mv_df = pd.read_csv('02_interpolated_mv_df.csv', index_col=0)"
   ]
  },
  {
   "cell_type": "code",
   "execution_count": 61,
   "id": "7ed43377",
   "metadata": {},
   "outputs": [
    {
     "data": {
      "text/plain": [
       "(783926, 41)"
      ]
     },
     "execution_count": 61,
     "metadata": {},
     "output_type": "execute_result"
    }
   ],
   "source": [
    "df.shape   # (783926, 41)"
   ]
  },
  {
   "cell_type": "code",
   "execution_count": 62,
   "id": "ac0b3bf3",
   "metadata": {},
   "outputs": [
    {
     "data": {
      "text/plain": [
       "(783926, 37)"
      ]
     },
     "execution_count": 62,
     "metadata": {},
     "output_type": "execute_result"
    }
   ],
   "source": [
    "pre_df.shape   # (783926, 37)"
   ]
  },
  {
   "cell_type": "code",
   "execution_count": 63,
   "id": "dd4af8f4",
   "metadata": {},
   "outputs": [
    {
     "data": {
      "text/plain": [
       "(783926, 40)"
      ]
     },
     "execution_count": 63,
     "metadata": {},
     "output_type": "execute_result"
    }
   ],
   "source": [
    "interpolated_mv_df.shape"
   ]
  },
  {
   "cell_type": "code",
   "execution_count": 64,
   "id": "d9e3d7cb",
   "metadata": {},
   "outputs": [],
   "source": [
    "# import list data\n",
    "\n",
    "data_length_per_person = []\n",
    "data_length_per_person_sum = []\n",
    "\n",
    "with open('data_length_per_person.csv', 'r', encoding='utf-8') as f:\n",
    "    rdr = csv.reader(f)\n",
    "    for para in rdr:\n",
    "        for i in para:\n",
    "            data_length_per_person.append(int(i))\n",
    "\n",
    "\n",
    "with open('data_length_per_person_sum.csv', 'r', encoding='utf-8') as f:\n",
    "    rdr = csv.reader(f)\n",
    "    for para in rdr:\n",
    "        for i in para:\n",
    "            data_length_per_person_sum.append(int(i))"
   ]
  },
  {
   "cell_type": "code",
   "execution_count": 65,
   "id": "87347e21",
   "metadata": {},
   "outputs": [
    {
     "data": {
      "text/plain": [
       "20169"
      ]
     },
     "execution_count": 65,
     "metadata": {},
     "output_type": "execute_result"
    }
   ],
   "source": [
    "len(data_length_per_person)   # 20169"
   ]
  },
  {
   "cell_type": "code",
   "execution_count": 66,
   "id": "e4248d48",
   "metadata": {},
   "outputs": [
    {
     "data": {
      "text/plain": [
       "20169"
      ]
     },
     "execution_count": 66,
     "metadata": {},
     "output_type": "execute_result"
    }
   ],
   "source": [
    "len(data_length_per_person_sum)   # 20169"
   ]
  },
  {
   "cell_type": "markdown",
   "id": "c135ec0b",
   "metadata": {},
   "source": [
    "## interpolated_mv_df 기준 \n",
    "논적으로 필요없는 데이터와 선형회귀로 결측치가 대치된 데이터만 사용해서 테스트"
   ]
  },
  {
   "cell_type": "code",
   "execution_count": 67,
   "id": "2f01dcf2",
   "metadata": {},
   "outputs": [
    {
     "data": {
      "text/html": [
       "<div>\n",
       "<style scoped>\n",
       "    .dataframe tbody tr th:only-of-type {\n",
       "        vertical-align: middle;\n",
       "    }\n",
       "\n",
       "    .dataframe tbody tr th {\n",
       "        vertical-align: top;\n",
       "    }\n",
       "\n",
       "    .dataframe thead th {\n",
       "        text-align: right;\n",
       "    }\n",
       "</style>\n",
       "<table border=\"1\" class=\"dataframe\">\n",
       "  <thead>\n",
       "    <tr style=\"text-align: right;\">\n",
       "      <th></th>\n",
       "      <th>HR</th>\n",
       "      <th>O2Sat</th>\n",
       "      <th>Temp</th>\n",
       "      <th>SBP</th>\n",
       "      <th>MAP</th>\n",
       "      <th>DBP</th>\n",
       "      <th>Resp</th>\n",
       "      <th>BaseExcess</th>\n",
       "      <th>HCO3</th>\n",
       "      <th>FiO2</th>\n",
       "      <th>...</th>\n",
       "      <th>WBC</th>\n",
       "      <th>Fibrinogen</th>\n",
       "      <th>Platelets</th>\n",
       "      <th>Age</th>\n",
       "      <th>Gender</th>\n",
       "      <th>Unit1</th>\n",
       "      <th>Unit2</th>\n",
       "      <th>HospAdmTime</th>\n",
       "      <th>ICULOS</th>\n",
       "      <th>SepsisLabel</th>\n",
       "    </tr>\n",
       "  </thead>\n",
       "  <tbody>\n",
       "    <tr>\n",
       "      <th>0</th>\n",
       "      <td>101.6</td>\n",
       "      <td>91.5</td>\n",
       "      <td>36.80</td>\n",
       "      <td>126.8</td>\n",
       "      <td>87.30</td>\n",
       "      <td>NaN</td>\n",
       "      <td>24.8</td>\n",
       "      <td>20.7</td>\n",
       "      <td>46.5</td>\n",
       "      <td>0.30</td>\n",
       "      <td>...</td>\n",
       "      <td>10.2</td>\n",
       "      <td>NaN</td>\n",
       "      <td>327.5</td>\n",
       "      <td>83.14</td>\n",
       "      <td>0</td>\n",
       "      <td>NaN</td>\n",
       "      <td>NaN</td>\n",
       "      <td>-0.03</td>\n",
       "      <td>1</td>\n",
       "      <td>0</td>\n",
       "    </tr>\n",
       "    <tr>\n",
       "      <th>1</th>\n",
       "      <td>97.0</td>\n",
       "      <td>95.0</td>\n",
       "      <td>36.80</td>\n",
       "      <td>98.0</td>\n",
       "      <td>75.33</td>\n",
       "      <td>NaN</td>\n",
       "      <td>19.0</td>\n",
       "      <td>20.7</td>\n",
       "      <td>46.5</td>\n",
       "      <td>0.30</td>\n",
       "      <td>...</td>\n",
       "      <td>10.2</td>\n",
       "      <td>NaN</td>\n",
       "      <td>327.5</td>\n",
       "      <td>83.14</td>\n",
       "      <td>0</td>\n",
       "      <td>NaN</td>\n",
       "      <td>NaN</td>\n",
       "      <td>-0.03</td>\n",
       "      <td>2</td>\n",
       "      <td>0</td>\n",
       "    </tr>\n",
       "    <tr>\n",
       "      <th>2</th>\n",
       "      <td>89.0</td>\n",
       "      <td>99.0</td>\n",
       "      <td>36.80</td>\n",
       "      <td>122.0</td>\n",
       "      <td>86.00</td>\n",
       "      <td>NaN</td>\n",
       "      <td>22.0</td>\n",
       "      <td>20.7</td>\n",
       "      <td>46.5</td>\n",
       "      <td>0.30</td>\n",
       "      <td>...</td>\n",
       "      <td>10.2</td>\n",
       "      <td>NaN</td>\n",
       "      <td>327.5</td>\n",
       "      <td>83.14</td>\n",
       "      <td>0</td>\n",
       "      <td>NaN</td>\n",
       "      <td>NaN</td>\n",
       "      <td>-0.03</td>\n",
       "      <td>3</td>\n",
       "      <td>0</td>\n",
       "    </tr>\n",
       "    <tr>\n",
       "      <th>3</th>\n",
       "      <td>90.0</td>\n",
       "      <td>95.0</td>\n",
       "      <td>36.80</td>\n",
       "      <td>126.8</td>\n",
       "      <td>87.30</td>\n",
       "      <td>NaN</td>\n",
       "      <td>30.0</td>\n",
       "      <td>24.0</td>\n",
       "      <td>46.5</td>\n",
       "      <td>0.30</td>\n",
       "      <td>...</td>\n",
       "      <td>10.2</td>\n",
       "      <td>NaN</td>\n",
       "      <td>327.5</td>\n",
       "      <td>83.14</td>\n",
       "      <td>0</td>\n",
       "      <td>NaN</td>\n",
       "      <td>NaN</td>\n",
       "      <td>-0.03</td>\n",
       "      <td>4</td>\n",
       "      <td>0</td>\n",
       "    </tr>\n",
       "    <tr>\n",
       "      <th>4</th>\n",
       "      <td>103.0</td>\n",
       "      <td>88.5</td>\n",
       "      <td>36.80</td>\n",
       "      <td>122.0</td>\n",
       "      <td>91.33</td>\n",
       "      <td>NaN</td>\n",
       "      <td>24.5</td>\n",
       "      <td>20.7</td>\n",
       "      <td>46.5</td>\n",
       "      <td>0.28</td>\n",
       "      <td>...</td>\n",
       "      <td>10.2</td>\n",
       "      <td>NaN</td>\n",
       "      <td>327.5</td>\n",
       "      <td>83.14</td>\n",
       "      <td>0</td>\n",
       "      <td>NaN</td>\n",
       "      <td>NaN</td>\n",
       "      <td>-0.03</td>\n",
       "      <td>5</td>\n",
       "      <td>0</td>\n",
       "    </tr>\n",
       "    <tr>\n",
       "      <th>...</th>\n",
       "      <td>...</td>\n",
       "      <td>...</td>\n",
       "      <td>...</td>\n",
       "      <td>...</td>\n",
       "      <td>...</td>\n",
       "      <td>...</td>\n",
       "      <td>...</td>\n",
       "      <td>...</td>\n",
       "      <td>...</td>\n",
       "      <td>...</td>\n",
       "      <td>...</td>\n",
       "      <td>...</td>\n",
       "      <td>...</td>\n",
       "      <td>...</td>\n",
       "      <td>...</td>\n",
       "      <td>...</td>\n",
       "      <td>...</td>\n",
       "      <td>...</td>\n",
       "      <td>...</td>\n",
       "      <td>...</td>\n",
       "      <td>...</td>\n",
       "    </tr>\n",
       "    <tr>\n",
       "      <th>783921</th>\n",
       "      <td>88.0</td>\n",
       "      <td>98.0</td>\n",
       "      <td>38.10</td>\n",
       "      <td>135.0</td>\n",
       "      <td>81.00</td>\n",
       "      <td>64.0</td>\n",
       "      <td>16.0</td>\n",
       "      <td>0.0</td>\n",
       "      <td>25.7</td>\n",
       "      <td>0.50</td>\n",
       "      <td>...</td>\n",
       "      <td>14.0</td>\n",
       "      <td>NaN</td>\n",
       "      <td>325.5</td>\n",
       "      <td>62.29</td>\n",
       "      <td>1</td>\n",
       "      <td>NaN</td>\n",
       "      <td>NaN</td>\n",
       "      <td>-0.03</td>\n",
       "      <td>31</td>\n",
       "      <td>1</td>\n",
       "    </tr>\n",
       "    <tr>\n",
       "      <th>783922</th>\n",
       "      <td>96.0</td>\n",
       "      <td>98.0</td>\n",
       "      <td>38.72</td>\n",
       "      <td>174.0</td>\n",
       "      <td>97.00</td>\n",
       "      <td>72.0</td>\n",
       "      <td>16.0</td>\n",
       "      <td>2.0</td>\n",
       "      <td>25.7</td>\n",
       "      <td>0.50</td>\n",
       "      <td>...</td>\n",
       "      <td>14.0</td>\n",
       "      <td>NaN</td>\n",
       "      <td>325.5</td>\n",
       "      <td>62.29</td>\n",
       "      <td>1</td>\n",
       "      <td>NaN</td>\n",
       "      <td>NaN</td>\n",
       "      <td>-0.03</td>\n",
       "      <td>32</td>\n",
       "      <td>1</td>\n",
       "    </tr>\n",
       "    <tr>\n",
       "      <th>783923</th>\n",
       "      <td>140.0</td>\n",
       "      <td>97.0</td>\n",
       "      <td>38.10</td>\n",
       "      <td>133.0</td>\n",
       "      <td>81.50</td>\n",
       "      <td>62.5</td>\n",
       "      <td>16.0</td>\n",
       "      <td>0.0</td>\n",
       "      <td>25.7</td>\n",
       "      <td>0.50</td>\n",
       "      <td>...</td>\n",
       "      <td>14.0</td>\n",
       "      <td>NaN</td>\n",
       "      <td>325.5</td>\n",
       "      <td>62.29</td>\n",
       "      <td>1</td>\n",
       "      <td>NaN</td>\n",
       "      <td>NaN</td>\n",
       "      <td>-0.03</td>\n",
       "      <td>33</td>\n",
       "      <td>1</td>\n",
       "    </tr>\n",
       "    <tr>\n",
       "      <th>783924</th>\n",
       "      <td>120.0</td>\n",
       "      <td>96.0</td>\n",
       "      <td>38.10</td>\n",
       "      <td>154.0</td>\n",
       "      <td>118.00</td>\n",
       "      <td>105.0</td>\n",
       "      <td>16.0</td>\n",
       "      <td>0.0</td>\n",
       "      <td>25.7</td>\n",
       "      <td>0.50</td>\n",
       "      <td>...</td>\n",
       "      <td>14.0</td>\n",
       "      <td>NaN</td>\n",
       "      <td>325.5</td>\n",
       "      <td>62.29</td>\n",
       "      <td>1</td>\n",
       "      <td>NaN</td>\n",
       "      <td>NaN</td>\n",
       "      <td>-0.03</td>\n",
       "      <td>34</td>\n",
       "      <td>1</td>\n",
       "    </tr>\n",
       "    <tr>\n",
       "      <th>783925</th>\n",
       "      <td>115.0</td>\n",
       "      <td>95.0</td>\n",
       "      <td>38.10</td>\n",
       "      <td>150.0</td>\n",
       "      <td>117.00</td>\n",
       "      <td>104.0</td>\n",
       "      <td>16.0</td>\n",
       "      <td>0.0</td>\n",
       "      <td>25.7</td>\n",
       "      <td>0.50</td>\n",
       "      <td>...</td>\n",
       "      <td>14.0</td>\n",
       "      <td>NaN</td>\n",
       "      <td>325.5</td>\n",
       "      <td>62.29</td>\n",
       "      <td>1</td>\n",
       "      <td>NaN</td>\n",
       "      <td>NaN</td>\n",
       "      <td>-0.03</td>\n",
       "      <td>35</td>\n",
       "      <td>1</td>\n",
       "    </tr>\n",
       "  </tbody>\n",
       "</table>\n",
       "<p>783926 rows × 40 columns</p>\n",
       "</div>"
      ],
      "text/plain": [
       "           HR  O2Sat   Temp    SBP     MAP    DBP  Resp  BaseExcess  HCO3  \\\n",
       "0       101.6   91.5  36.80  126.8   87.30    NaN  24.8        20.7  46.5   \n",
       "1        97.0   95.0  36.80   98.0   75.33    NaN  19.0        20.7  46.5   \n",
       "2        89.0   99.0  36.80  122.0   86.00    NaN  22.0        20.7  46.5   \n",
       "3        90.0   95.0  36.80  126.8   87.30    NaN  30.0        24.0  46.5   \n",
       "4       103.0   88.5  36.80  122.0   91.33    NaN  24.5        20.7  46.5   \n",
       "...       ...    ...    ...    ...     ...    ...   ...         ...   ...   \n",
       "783921   88.0   98.0  38.10  135.0   81.00   64.0  16.0         0.0  25.7   \n",
       "783922   96.0   98.0  38.72  174.0   97.00   72.0  16.0         2.0  25.7   \n",
       "783923  140.0   97.0  38.10  133.0   81.50   62.5  16.0         0.0  25.7   \n",
       "783924  120.0   96.0  38.10  154.0  118.00  105.0  16.0         0.0  25.7   \n",
       "783925  115.0   95.0  38.10  150.0  117.00  104.0  16.0         0.0  25.7   \n",
       "\n",
       "        FiO2  ...   WBC  Fibrinogen  Platelets    Age  Gender  Unit1  Unit2  \\\n",
       "0       0.30  ...  10.2         NaN      327.5  83.14       0    NaN    NaN   \n",
       "1       0.30  ...  10.2         NaN      327.5  83.14       0    NaN    NaN   \n",
       "2       0.30  ...  10.2         NaN      327.5  83.14       0    NaN    NaN   \n",
       "3       0.30  ...  10.2         NaN      327.5  83.14       0    NaN    NaN   \n",
       "4       0.28  ...  10.2         NaN      327.5  83.14       0    NaN    NaN   \n",
       "...      ...  ...   ...         ...        ...    ...     ...    ...    ...   \n",
       "783921  0.50  ...  14.0         NaN      325.5  62.29       1    NaN    NaN   \n",
       "783922  0.50  ...  14.0         NaN      325.5  62.29       1    NaN    NaN   \n",
       "783923  0.50  ...  14.0         NaN      325.5  62.29       1    NaN    NaN   \n",
       "783924  0.50  ...  14.0         NaN      325.5  62.29       1    NaN    NaN   \n",
       "783925  0.50  ...  14.0         NaN      325.5  62.29       1    NaN    NaN   \n",
       "\n",
       "        HospAdmTime  ICULOS  SepsisLabel  \n",
       "0             -0.03       1            0  \n",
       "1             -0.03       2            0  \n",
       "2             -0.03       3            0  \n",
       "3             -0.03       4            0  \n",
       "4             -0.03       5            0  \n",
       "...             ...     ...          ...  \n",
       "783921        -0.03      31            1  \n",
       "783922        -0.03      32            1  \n",
       "783923        -0.03      33            1  \n",
       "783924        -0.03      34            1  \n",
       "783925        -0.03      35            1  \n",
       "\n",
       "[783926 rows x 40 columns]"
      ]
     },
     "execution_count": 67,
     "metadata": {},
     "output_type": "execute_result"
    }
   ],
   "source": [
    "interpolated_mv_df"
   ]
  },
  {
   "cell_type": "code",
   "execution_count": 68,
   "id": "c4d56327",
   "metadata": {},
   "outputs": [],
   "source": [
    "interpolated_mv_df.drop(['Unit1', 'Unit2', 'HospAdmTime', 'ICULOS'], axis=1, inplace=True)"
   ]
  },
  {
   "cell_type": "code",
   "execution_count": 69,
   "id": "7b025527",
   "metadata": {},
   "outputs": [
    {
     "data": {
      "text/plain": [
       "(783926, 36)"
      ]
     },
     "execution_count": 69,
     "metadata": {},
     "output_type": "execute_result"
    }
   ],
   "source": [
    "interpolated_mv_df.shape"
   ]
  },
  {
   "cell_type": "code",
   "execution_count": 70,
   "id": "572150c0",
   "metadata": {},
   "outputs": [
    {
     "data": {
      "text/plain": [
       "36"
      ]
     },
     "execution_count": 70,
     "metadata": {},
     "output_type": "execute_result"
    }
   ],
   "source": [
    "cols = interpolated_mv_df.columns\n",
    "len(cols)"
   ]
  },
  {
   "cell_type": "markdown",
   "id": "5927265f",
   "metadata": {},
   "source": [
    "## 환자별 20 row data를 추출\n",
    "20 row가 되지 않는다면 drop / 20 이상의 row를 가지고 있다면 뒤쪽 데이터부터 20을 추출"
   ]
  },
  {
   "cell_type": "code",
   "execution_count": 71,
   "id": "a9ae0d59",
   "metadata": {},
   "outputs": [
    {
     "data": {
      "text/plain": [
       "20169"
      ]
     },
     "execution_count": 71,
     "metadata": {},
     "output_type": "execute_result"
    }
   ],
   "source": [
    "len(data_length_per_person_sum)"
   ]
  },
  {
   "cell_type": "code",
   "execution_count": 72,
   "id": "005aa2d3",
   "metadata": {},
   "outputs": [],
   "source": [
    "data_length_per_person_sum.insert(0,0)"
   ]
  },
  {
   "cell_type": "code",
   "execution_count": 73,
   "id": "b536f936",
   "metadata": {},
   "outputs": [
    {
     "data": {
      "text/plain": [
       "20170"
      ]
     },
     "execution_count": 73,
     "metadata": {},
     "output_type": "execute_result"
    }
   ],
   "source": [
    "len(data_length_per_person_sum)"
   ]
  },
  {
   "cell_type": "code",
   "execution_count": 74,
   "id": "cb77f0fe",
   "metadata": {},
   "outputs": [
    {
     "name": "stderr",
     "output_type": "stream",
     "text": [
      "100%|██████████| 20169/20169 [05:55<00:00, 56.75it/s]\n"
     ]
    }
   ],
   "source": [
    "s_i = 0\n",
    "e_i = 1\n",
    "\n",
    "df_patient_per_20 = pd.DataFrame(columns = cols)\n",
    "for i in tqdm(range(len(data_length_per_person_sum)-1)):\n",
    "    s = data_length_per_person_sum[s_i]\n",
    "    e = data_length_per_person_sum[e_i]\n",
    "    if e - s >= 20:\n",
    "        temp = interpolated_mv_df[e-20:e]\n",
    "        df_patient_per_20 = pd.concat([df_patient_per_20, temp])\n",
    "    \n",
    "    s_i += 1\n",
    "    e_i += 1"
   ]
  },
  {
   "cell_type": "code",
   "execution_count": 75,
   "id": "cfc6b608",
   "metadata": {},
   "outputs": [
    {
     "data": {
      "text/html": [
       "<div>\n",
       "<style scoped>\n",
       "    .dataframe tbody tr th:only-of-type {\n",
       "        vertical-align: middle;\n",
       "    }\n",
       "\n",
       "    .dataframe tbody tr th {\n",
       "        vertical-align: top;\n",
       "    }\n",
       "\n",
       "    .dataframe thead th {\n",
       "        text-align: right;\n",
       "    }\n",
       "</style>\n",
       "<table border=\"1\" class=\"dataframe\">\n",
       "  <thead>\n",
       "    <tr style=\"text-align: right;\">\n",
       "      <th></th>\n",
       "      <th>HR</th>\n",
       "      <th>O2Sat</th>\n",
       "      <th>Temp</th>\n",
       "      <th>SBP</th>\n",
       "      <th>MAP</th>\n",
       "      <th>DBP</th>\n",
       "      <th>Resp</th>\n",
       "      <th>BaseExcess</th>\n",
       "      <th>HCO3</th>\n",
       "      <th>FiO2</th>\n",
       "      <th>...</th>\n",
       "      <th>TroponinI</th>\n",
       "      <th>Hct</th>\n",
       "      <th>Hgb</th>\n",
       "      <th>PTT</th>\n",
       "      <th>WBC</th>\n",
       "      <th>Fibrinogen</th>\n",
       "      <th>Platelets</th>\n",
       "      <th>Age</th>\n",
       "      <th>Gender</th>\n",
       "      <th>SepsisLabel</th>\n",
       "    </tr>\n",
       "  </thead>\n",
       "  <tbody>\n",
       "    <tr>\n",
       "      <th>34</th>\n",
       "      <td>102.0</td>\n",
       "      <td>91.5</td>\n",
       "      <td>36.80</td>\n",
       "      <td>103.0</td>\n",
       "      <td>75.67</td>\n",
       "      <td>NaN</td>\n",
       "      <td>24.0</td>\n",
       "      <td>20.7</td>\n",
       "      <td>46.5</td>\n",
       "      <td>0.3</td>\n",
       "      <td>...</td>\n",
       "      <td>NaN</td>\n",
       "      <td>36.7</td>\n",
       "      <td>12.3</td>\n",
       "      <td>NaN</td>\n",
       "      <td>10.2</td>\n",
       "      <td>NaN</td>\n",
       "      <td>327.5</td>\n",
       "      <td>83.14</td>\n",
       "      <td>0</td>\n",
       "      <td>0</td>\n",
       "    </tr>\n",
       "    <tr>\n",
       "      <th>35</th>\n",
       "      <td>99.0</td>\n",
       "      <td>89.0</td>\n",
       "      <td>37.11</td>\n",
       "      <td>113.0</td>\n",
       "      <td>96.33</td>\n",
       "      <td>NaN</td>\n",
       "      <td>26.0</td>\n",
       "      <td>20.7</td>\n",
       "      <td>46.5</td>\n",
       "      <td>0.3</td>\n",
       "      <td>...</td>\n",
       "      <td>NaN</td>\n",
       "      <td>36.7</td>\n",
       "      <td>12.3</td>\n",
       "      <td>NaN</td>\n",
       "      <td>10.2</td>\n",
       "      <td>NaN</td>\n",
       "      <td>327.5</td>\n",
       "      <td>83.14</td>\n",
       "      <td>0</td>\n",
       "      <td>0</td>\n",
       "    </tr>\n",
       "    <tr>\n",
       "      <th>36</th>\n",
       "      <td>97.0</td>\n",
       "      <td>89.0</td>\n",
       "      <td>36.80</td>\n",
       "      <td>110.0</td>\n",
       "      <td>72.00</td>\n",
       "      <td>NaN</td>\n",
       "      <td>29.0</td>\n",
       "      <td>20.7</td>\n",
       "      <td>46.5</td>\n",
       "      <td>0.3</td>\n",
       "      <td>...</td>\n",
       "      <td>NaN</td>\n",
       "      <td>36.7</td>\n",
       "      <td>12.3</td>\n",
       "      <td>NaN</td>\n",
       "      <td>10.2</td>\n",
       "      <td>NaN</td>\n",
       "      <td>327.5</td>\n",
       "      <td>83.14</td>\n",
       "      <td>0</td>\n",
       "      <td>0</td>\n",
       "    </tr>\n",
       "    <tr>\n",
       "      <th>37</th>\n",
       "      <td>110.0</td>\n",
       "      <td>89.0</td>\n",
       "      <td>36.80</td>\n",
       "      <td>108.0</td>\n",
       "      <td>90.67</td>\n",
       "      <td>NaN</td>\n",
       "      <td>24.0</td>\n",
       "      <td>20.7</td>\n",
       "      <td>46.5</td>\n",
       "      <td>0.3</td>\n",
       "      <td>...</td>\n",
       "      <td>NaN</td>\n",
       "      <td>36.7</td>\n",
       "      <td>12.3</td>\n",
       "      <td>NaN</td>\n",
       "      <td>10.2</td>\n",
       "      <td>NaN</td>\n",
       "      <td>327.5</td>\n",
       "      <td>83.14</td>\n",
       "      <td>0</td>\n",
       "      <td>0</td>\n",
       "    </tr>\n",
       "    <tr>\n",
       "      <th>38</th>\n",
       "      <td>108.0</td>\n",
       "      <td>89.0</td>\n",
       "      <td>36.80</td>\n",
       "      <td>139.0</td>\n",
       "      <td>102.33</td>\n",
       "      <td>NaN</td>\n",
       "      <td>26.0</td>\n",
       "      <td>20.0</td>\n",
       "      <td>46.5</td>\n",
       "      <td>0.3</td>\n",
       "      <td>...</td>\n",
       "      <td>NaN</td>\n",
       "      <td>36.7</td>\n",
       "      <td>12.3</td>\n",
       "      <td>NaN</td>\n",
       "      <td>10.2</td>\n",
       "      <td>NaN</td>\n",
       "      <td>327.5</td>\n",
       "      <td>83.14</td>\n",
       "      <td>0</td>\n",
       "      <td>0</td>\n",
       "    </tr>\n",
       "    <tr>\n",
       "      <th>...</th>\n",
       "      <td>...</td>\n",
       "      <td>...</td>\n",
       "      <td>...</td>\n",
       "      <td>...</td>\n",
       "      <td>...</td>\n",
       "      <td>...</td>\n",
       "      <td>...</td>\n",
       "      <td>...</td>\n",
       "      <td>...</td>\n",
       "      <td>...</td>\n",
       "      <td>...</td>\n",
       "      <td>...</td>\n",
       "      <td>...</td>\n",
       "      <td>...</td>\n",
       "      <td>...</td>\n",
       "      <td>...</td>\n",
       "      <td>...</td>\n",
       "      <td>...</td>\n",
       "      <td>...</td>\n",
       "      <td>...</td>\n",
       "      <td>...</td>\n",
       "    </tr>\n",
       "    <tr>\n",
       "      <th>783921</th>\n",
       "      <td>88.0</td>\n",
       "      <td>98.0</td>\n",
       "      <td>38.10</td>\n",
       "      <td>135.0</td>\n",
       "      <td>81.00</td>\n",
       "      <td>64.0</td>\n",
       "      <td>16.0</td>\n",
       "      <td>0.0</td>\n",
       "      <td>25.7</td>\n",
       "      <td>0.5</td>\n",
       "      <td>...</td>\n",
       "      <td>NaN</td>\n",
       "      <td>31.2</td>\n",
       "      <td>11.6</td>\n",
       "      <td>29.8</td>\n",
       "      <td>14.0</td>\n",
       "      <td>NaN</td>\n",
       "      <td>325.5</td>\n",
       "      <td>62.29</td>\n",
       "      <td>1</td>\n",
       "      <td>1</td>\n",
       "    </tr>\n",
       "    <tr>\n",
       "      <th>783922</th>\n",
       "      <td>96.0</td>\n",
       "      <td>98.0</td>\n",
       "      <td>38.72</td>\n",
       "      <td>174.0</td>\n",
       "      <td>97.00</td>\n",
       "      <td>72.0</td>\n",
       "      <td>16.0</td>\n",
       "      <td>2.0</td>\n",
       "      <td>25.7</td>\n",
       "      <td>0.5</td>\n",
       "      <td>...</td>\n",
       "      <td>NaN</td>\n",
       "      <td>27.8</td>\n",
       "      <td>11.6</td>\n",
       "      <td>29.8</td>\n",
       "      <td>14.0</td>\n",
       "      <td>NaN</td>\n",
       "      <td>325.5</td>\n",
       "      <td>62.29</td>\n",
       "      <td>1</td>\n",
       "      <td>1</td>\n",
       "    </tr>\n",
       "    <tr>\n",
       "      <th>783923</th>\n",
       "      <td>140.0</td>\n",
       "      <td>97.0</td>\n",
       "      <td>38.10</td>\n",
       "      <td>133.0</td>\n",
       "      <td>81.50</td>\n",
       "      <td>62.5</td>\n",
       "      <td>16.0</td>\n",
       "      <td>0.0</td>\n",
       "      <td>25.7</td>\n",
       "      <td>0.5</td>\n",
       "      <td>...</td>\n",
       "      <td>NaN</td>\n",
       "      <td>31.2</td>\n",
       "      <td>11.6</td>\n",
       "      <td>29.8</td>\n",
       "      <td>14.0</td>\n",
       "      <td>NaN</td>\n",
       "      <td>325.5</td>\n",
       "      <td>62.29</td>\n",
       "      <td>1</td>\n",
       "      <td>1</td>\n",
       "    </tr>\n",
       "    <tr>\n",
       "      <th>783924</th>\n",
       "      <td>120.0</td>\n",
       "      <td>96.0</td>\n",
       "      <td>38.10</td>\n",
       "      <td>154.0</td>\n",
       "      <td>118.00</td>\n",
       "      <td>105.0</td>\n",
       "      <td>16.0</td>\n",
       "      <td>0.0</td>\n",
       "      <td>25.7</td>\n",
       "      <td>0.5</td>\n",
       "      <td>...</td>\n",
       "      <td>NaN</td>\n",
       "      <td>31.2</td>\n",
       "      <td>11.6</td>\n",
       "      <td>29.8</td>\n",
       "      <td>14.0</td>\n",
       "      <td>NaN</td>\n",
       "      <td>325.5</td>\n",
       "      <td>62.29</td>\n",
       "      <td>1</td>\n",
       "      <td>1</td>\n",
       "    </tr>\n",
       "    <tr>\n",
       "      <th>783925</th>\n",
       "      <td>115.0</td>\n",
       "      <td>95.0</td>\n",
       "      <td>38.10</td>\n",
       "      <td>150.0</td>\n",
       "      <td>117.00</td>\n",
       "      <td>104.0</td>\n",
       "      <td>16.0</td>\n",
       "      <td>0.0</td>\n",
       "      <td>25.7</td>\n",
       "      <td>0.5</td>\n",
       "      <td>...</td>\n",
       "      <td>NaN</td>\n",
       "      <td>31.2</td>\n",
       "      <td>11.6</td>\n",
       "      <td>29.8</td>\n",
       "      <td>14.0</td>\n",
       "      <td>NaN</td>\n",
       "      <td>325.5</td>\n",
       "      <td>62.29</td>\n",
       "      <td>1</td>\n",
       "      <td>1</td>\n",
       "    </tr>\n",
       "  </tbody>\n",
       "</table>\n",
       "<p>351700 rows × 36 columns</p>\n",
       "</div>"
      ],
      "text/plain": [
       "           HR  O2Sat   Temp    SBP     MAP    DBP  Resp  BaseExcess  HCO3  \\\n",
       "34      102.0   91.5  36.80  103.0   75.67    NaN  24.0        20.7  46.5   \n",
       "35       99.0   89.0  37.11  113.0   96.33    NaN  26.0        20.7  46.5   \n",
       "36       97.0   89.0  36.80  110.0   72.00    NaN  29.0        20.7  46.5   \n",
       "37      110.0   89.0  36.80  108.0   90.67    NaN  24.0        20.7  46.5   \n",
       "38      108.0   89.0  36.80  139.0  102.33    NaN  26.0        20.0  46.5   \n",
       "...       ...    ...    ...    ...     ...    ...   ...         ...   ...   \n",
       "783921   88.0   98.0  38.10  135.0   81.00   64.0  16.0         0.0  25.7   \n",
       "783922   96.0   98.0  38.72  174.0   97.00   72.0  16.0         2.0  25.7   \n",
       "783923  140.0   97.0  38.10  133.0   81.50   62.5  16.0         0.0  25.7   \n",
       "783924  120.0   96.0  38.10  154.0  118.00  105.0  16.0         0.0  25.7   \n",
       "783925  115.0   95.0  38.10  150.0  117.00  104.0  16.0         0.0  25.7   \n",
       "\n",
       "        FiO2  ...  TroponinI   Hct   Hgb   PTT   WBC  Fibrinogen  Platelets  \\\n",
       "34       0.3  ...        NaN  36.7  12.3   NaN  10.2         NaN      327.5   \n",
       "35       0.3  ...        NaN  36.7  12.3   NaN  10.2         NaN      327.5   \n",
       "36       0.3  ...        NaN  36.7  12.3   NaN  10.2         NaN      327.5   \n",
       "37       0.3  ...        NaN  36.7  12.3   NaN  10.2         NaN      327.5   \n",
       "38       0.3  ...        NaN  36.7  12.3   NaN  10.2         NaN      327.5   \n",
       "...      ...  ...        ...   ...   ...   ...   ...         ...        ...   \n",
       "783921   0.5  ...        NaN  31.2  11.6  29.8  14.0         NaN      325.5   \n",
       "783922   0.5  ...        NaN  27.8  11.6  29.8  14.0         NaN      325.5   \n",
       "783923   0.5  ...        NaN  31.2  11.6  29.8  14.0         NaN      325.5   \n",
       "783924   0.5  ...        NaN  31.2  11.6  29.8  14.0         NaN      325.5   \n",
       "783925   0.5  ...        NaN  31.2  11.6  29.8  14.0         NaN      325.5   \n",
       "\n",
       "          Age  Gender  SepsisLabel  \n",
       "34      83.14       0            0  \n",
       "35      83.14       0            0  \n",
       "36      83.14       0            0  \n",
       "37      83.14       0            0  \n",
       "38      83.14       0            0  \n",
       "...       ...     ...          ...  \n",
       "783921  62.29       1            1  \n",
       "783922  62.29       1            1  \n",
       "783923  62.29       1            1  \n",
       "783924  62.29       1            1  \n",
       "783925  62.29       1            1  \n",
       "\n",
       "[351700 rows x 36 columns]"
      ]
     },
     "execution_count": 75,
     "metadata": {},
     "output_type": "execute_result"
    }
   ],
   "source": [
    "df_patient_per_20"
   ]
  },
  {
   "cell_type": "code",
   "execution_count": 76,
   "id": "56aa3ea8",
   "metadata": {},
   "outputs": [
    {
     "data": {
      "text/plain": [
       "17585"
      ]
     },
     "execution_count": 76,
     "metadata": {},
     "output_type": "execute_result"
    }
   ],
   "source": [
    "people = int(df_patient_per_20.shape[0]/20)\n",
    "people"
   ]
  },
  {
   "cell_type": "code",
   "execution_count": 77,
   "id": "b9870b5a",
   "metadata": {},
   "outputs": [
    {
     "name": "stdout",
     "output_type": "stream",
     "text": [
      "20행 미만의 데이터 수 : 2584.0, 손실율: 12.8)\n"
     ]
    }
   ],
   "source": [
    "diff = (len(data_length_per_person_sum)-1) - df_patient_per_20.shape[0]/20\n",
    "loss = round(diff/(len(data_length_per_person_sum)-1)*100, 1)\n",
    "\n",
    "print(f'20행 미만의 데이터 수 : {diff}, 손실율: {loss})')"
   ]
  },
  {
   "cell_type": "markdown",
   "id": "9fc9b4aa",
   "metadata": {},
   "source": [
    "# 스케일링(정규화)"
   ]
  },
  {
   "cell_type": "markdown",
   "id": "4b7fa37c",
   "metadata": {},
   "source": [
    "라벨값 분리"
   ]
  },
  {
   "cell_type": "code",
   "execution_count": 78,
   "id": "a9bb7376",
   "metadata": {},
   "outputs": [
    {
     "data": {
      "text/plain": [
       "34        0\n",
       "35        0\n",
       "36        0\n",
       "37        0\n",
       "38        0\n",
       "         ..\n",
       "783921    1\n",
       "783922    1\n",
       "783923    1\n",
       "783924    1\n",
       "783925    1\n",
       "Name: SepsisLabel, Length: 351700, dtype: object"
      ]
     },
     "execution_count": 78,
     "metadata": {},
     "output_type": "execute_result"
    }
   ],
   "source": [
    "label = df_patient_per_20[\"SepsisLabel\"]\n",
    "label"
   ]
  },
  {
   "cell_type": "markdown",
   "id": "a94967f8",
   "metadata": {},
   "source": [
    "정규 분포 혹은 minmax스캐일링 진행"
   ]
  },
  {
   "cell_type": "code",
   "execution_count": 79,
   "id": "e6cbb8e7",
   "metadata": {},
   "outputs": [
    {
     "data": {
      "text/html": [
       "<div>\n",
       "<style scoped>\n",
       "    .dataframe tbody tr th:only-of-type {\n",
       "        vertical-align: middle;\n",
       "    }\n",
       "\n",
       "    .dataframe tbody tr th {\n",
       "        vertical-align: top;\n",
       "    }\n",
       "\n",
       "    .dataframe thead th {\n",
       "        text-align: right;\n",
       "    }\n",
       "</style>\n",
       "<table border=\"1\" class=\"dataframe\">\n",
       "  <thead>\n",
       "    <tr style=\"text-align: right;\">\n",
       "      <th></th>\n",
       "      <th>HR</th>\n",
       "      <th>O2Sat</th>\n",
       "      <th>Temp</th>\n",
       "      <th>SBP</th>\n",
       "      <th>MAP</th>\n",
       "      <th>DBP</th>\n",
       "      <th>Resp</th>\n",
       "      <th>BaseExcess</th>\n",
       "      <th>HCO3</th>\n",
       "      <th>FiO2</th>\n",
       "      <th>...</th>\n",
       "      <th>TroponinI</th>\n",
       "      <th>Hct</th>\n",
       "      <th>Hgb</th>\n",
       "      <th>PTT</th>\n",
       "      <th>WBC</th>\n",
       "      <th>Fibrinogen</th>\n",
       "      <th>Platelets</th>\n",
       "      <th>Age</th>\n",
       "      <th>Gender</th>\n",
       "      <th>SepsisLabel</th>\n",
       "    </tr>\n",
       "  </thead>\n",
       "  <tbody>\n",
       "    <tr>\n",
       "      <th>34</th>\n",
       "      <td>1.066961</td>\n",
       "      <td>-1.862253</td>\n",
       "      <td>-0.239035</td>\n",
       "      <td>-0.880981</td>\n",
       "      <td>-0.211372</td>\n",
       "      <td>NaN</td>\n",
       "      <td>0.974005</td>\n",
       "      <td>5.581491</td>\n",
       "      <td>5.647835</td>\n",
       "      <td>-1.315663</td>\n",
       "      <td>...</td>\n",
       "      <td>NaN</td>\n",
       "      <td>1.131153</td>\n",
       "      <td>0.975539</td>\n",
       "      <td>NaN</td>\n",
       "      <td>-0.238756</td>\n",
       "      <td>NaN</td>\n",
       "      <td>1.110786</td>\n",
       "      <td>1.255027</td>\n",
       "      <td>-1.173589</td>\n",
       "      <td>-0.18765</td>\n",
       "    </tr>\n",
       "    <tr>\n",
       "      <th>35</th>\n",
       "      <td>0.883750</td>\n",
       "      <td>-2.714666</td>\n",
       "      <td>0.277930</td>\n",
       "      <td>-0.400239</td>\n",
       "      <td>1.200863</td>\n",
       "      <td>NaN</td>\n",
       "      <td>1.358281</td>\n",
       "      <td>5.581491</td>\n",
       "      <td>5.647835</td>\n",
       "      <td>-1.315663</td>\n",
       "      <td>...</td>\n",
       "      <td>NaN</td>\n",
       "      <td>1.131153</td>\n",
       "      <td>0.975539</td>\n",
       "      <td>NaN</td>\n",
       "      <td>-0.238756</td>\n",
       "      <td>NaN</td>\n",
       "      <td>1.110786</td>\n",
       "      <td>1.255027</td>\n",
       "      <td>-1.173589</td>\n",
       "      <td>-0.18765</td>\n",
       "    </tr>\n",
       "    <tr>\n",
       "      <th>36</th>\n",
       "      <td>0.761609</td>\n",
       "      <td>-2.714666</td>\n",
       "      <td>-0.239035</td>\n",
       "      <td>-0.544461</td>\n",
       "      <td>-0.462239</td>\n",
       "      <td>NaN</td>\n",
       "      <td>1.934695</td>\n",
       "      <td>5.581491</td>\n",
       "      <td>5.647835</td>\n",
       "      <td>-1.315663</td>\n",
       "      <td>...</td>\n",
       "      <td>NaN</td>\n",
       "      <td>1.131153</td>\n",
       "      <td>0.975539</td>\n",
       "      <td>NaN</td>\n",
       "      <td>-0.238756</td>\n",
       "      <td>NaN</td>\n",
       "      <td>1.110786</td>\n",
       "      <td>1.255027</td>\n",
       "      <td>-1.173589</td>\n",
       "      <td>-0.18765</td>\n",
       "    </tr>\n",
       "    <tr>\n",
       "      <th>37</th>\n",
       "      <td>1.555525</td>\n",
       "      <td>-2.714666</td>\n",
       "      <td>-0.239035</td>\n",
       "      <td>-0.640610</td>\n",
       "      <td>0.813968</td>\n",
       "      <td>NaN</td>\n",
       "      <td>0.974005</td>\n",
       "      <td>5.581491</td>\n",
       "      <td>5.647835</td>\n",
       "      <td>-1.315663</td>\n",
       "      <td>...</td>\n",
       "      <td>NaN</td>\n",
       "      <td>1.131153</td>\n",
       "      <td>0.975539</td>\n",
       "      <td>NaN</td>\n",
       "      <td>-0.238756</td>\n",
       "      <td>NaN</td>\n",
       "      <td>1.110786</td>\n",
       "      <td>1.255027</td>\n",
       "      <td>-1.173589</td>\n",
       "      <td>-0.18765</td>\n",
       "    </tr>\n",
       "    <tr>\n",
       "      <th>38</th>\n",
       "      <td>1.433384</td>\n",
       "      <td>-2.714666</td>\n",
       "      <td>-0.239035</td>\n",
       "      <td>0.849690</td>\n",
       "      <td>1.611000</td>\n",
       "      <td>NaN</td>\n",
       "      <td>1.358281</td>\n",
       "      <td>5.394760</td>\n",
       "      <td>5.647835</td>\n",
       "      <td>-1.315663</td>\n",
       "      <td>...</td>\n",
       "      <td>NaN</td>\n",
       "      <td>1.131153</td>\n",
       "      <td>0.975539</td>\n",
       "      <td>NaN</td>\n",
       "      <td>-0.238756</td>\n",
       "      <td>NaN</td>\n",
       "      <td>1.110786</td>\n",
       "      <td>1.255027</td>\n",
       "      <td>-1.173589</td>\n",
       "      <td>-0.18765</td>\n",
       "    </tr>\n",
       "  </tbody>\n",
       "</table>\n",
       "<p>5 rows × 36 columns</p>\n",
       "</div>"
      ],
      "text/plain": [
       "          HR     O2Sat      Temp       SBP       MAP  DBP      Resp  \\\n",
       "34  1.066961 -1.862253 -0.239035 -0.880981 -0.211372  NaN  0.974005   \n",
       "35  0.883750 -2.714666  0.277930 -0.400239  1.200863  NaN  1.358281   \n",
       "36  0.761609 -2.714666 -0.239035 -0.544461 -0.462239  NaN  1.934695   \n",
       "37  1.555525 -2.714666 -0.239035 -0.640610  0.813968  NaN  0.974005   \n",
       "38  1.433384 -2.714666 -0.239035  0.849690  1.611000  NaN  1.358281   \n",
       "\n",
       "    BaseExcess      HCO3      FiO2  ...  TroponinI       Hct       Hgb  PTT  \\\n",
       "34    5.581491  5.647835 -1.315663  ...        NaN  1.131153  0.975539  NaN   \n",
       "35    5.581491  5.647835 -1.315663  ...        NaN  1.131153  0.975539  NaN   \n",
       "36    5.581491  5.647835 -1.315663  ...        NaN  1.131153  0.975539  NaN   \n",
       "37    5.581491  5.647835 -1.315663  ...        NaN  1.131153  0.975539  NaN   \n",
       "38    5.394760  5.647835 -1.315663  ...        NaN  1.131153  0.975539  NaN   \n",
       "\n",
       "         WBC  Fibrinogen  Platelets       Age    Gender  SepsisLabel  \n",
       "34 -0.238756         NaN   1.110786  1.255027 -1.173589     -0.18765  \n",
       "35 -0.238756         NaN   1.110786  1.255027 -1.173589     -0.18765  \n",
       "36 -0.238756         NaN   1.110786  1.255027 -1.173589     -0.18765  \n",
       "37 -0.238756         NaN   1.110786  1.255027 -1.173589     -0.18765  \n",
       "38 -0.238756         NaN   1.110786  1.255027 -1.173589     -0.18765  \n",
       "\n",
       "[5 rows x 36 columns]"
      ]
     },
     "execution_count": 79,
     "metadata": {},
     "output_type": "execute_result"
    }
   ],
   "source": [
    "# 정규 분포\n",
    "df_patient_per_20 = (df_patient_per_20 - df_patient_per_20.mean())/df_patient_per_20.std()\n",
    "df_patient_per_20.head()"
   ]
  },
  {
   "cell_type": "code",
   "execution_count": 80,
   "id": "0181c248",
   "metadata": {},
   "outputs": [],
   "source": [
    "# minmax 스켈일링\n",
    "# normalized_df=(df-df.min())/(df.max()-df.min())"
   ]
  },
  {
   "cell_type": "markdown",
   "id": "4c25f557",
   "metadata": {},
   "source": [
    "라벨값 재부착"
   ]
  },
  {
   "cell_type": "code",
   "execution_count": 81,
   "id": "c9fe7e4a",
   "metadata": {},
   "outputs": [],
   "source": [
    "df_patient_per_20[\"SepsisLabel\"] = label"
   ]
  },
  {
   "cell_type": "code",
   "execution_count": 82,
   "id": "67736991",
   "metadata": {},
   "outputs": [
    {
     "data": {
      "text/html": [
       "<div>\n",
       "<style scoped>\n",
       "    .dataframe tbody tr th:only-of-type {\n",
       "        vertical-align: middle;\n",
       "    }\n",
       "\n",
       "    .dataframe tbody tr th {\n",
       "        vertical-align: top;\n",
       "    }\n",
       "\n",
       "    .dataframe thead th {\n",
       "        text-align: right;\n",
       "    }\n",
       "</style>\n",
       "<table border=\"1\" class=\"dataframe\">\n",
       "  <thead>\n",
       "    <tr style=\"text-align: right;\">\n",
       "      <th></th>\n",
       "      <th>HR</th>\n",
       "      <th>O2Sat</th>\n",
       "      <th>Temp</th>\n",
       "      <th>SBP</th>\n",
       "      <th>MAP</th>\n",
       "      <th>DBP</th>\n",
       "      <th>Resp</th>\n",
       "      <th>BaseExcess</th>\n",
       "      <th>HCO3</th>\n",
       "      <th>FiO2</th>\n",
       "      <th>...</th>\n",
       "      <th>TroponinI</th>\n",
       "      <th>Hct</th>\n",
       "      <th>Hgb</th>\n",
       "      <th>PTT</th>\n",
       "      <th>WBC</th>\n",
       "      <th>Fibrinogen</th>\n",
       "      <th>Platelets</th>\n",
       "      <th>Age</th>\n",
       "      <th>Gender</th>\n",
       "      <th>SepsisLabel</th>\n",
       "    </tr>\n",
       "  </thead>\n",
       "  <tbody>\n",
       "    <tr>\n",
       "      <th>34</th>\n",
       "      <td>1.066961</td>\n",
       "      <td>-1.862253</td>\n",
       "      <td>-0.239035</td>\n",
       "      <td>-0.880981</td>\n",
       "      <td>-0.211372</td>\n",
       "      <td>NaN</td>\n",
       "      <td>0.974005</td>\n",
       "      <td>5.581491</td>\n",
       "      <td>5.647835</td>\n",
       "      <td>-1.315663</td>\n",
       "      <td>...</td>\n",
       "      <td>NaN</td>\n",
       "      <td>1.131153</td>\n",
       "      <td>0.975539</td>\n",
       "      <td>NaN</td>\n",
       "      <td>-0.238756</td>\n",
       "      <td>NaN</td>\n",
       "      <td>1.110786</td>\n",
       "      <td>1.255027</td>\n",
       "      <td>-1.173589</td>\n",
       "      <td>0</td>\n",
       "    </tr>\n",
       "    <tr>\n",
       "      <th>35</th>\n",
       "      <td>0.883750</td>\n",
       "      <td>-2.714666</td>\n",
       "      <td>0.277930</td>\n",
       "      <td>-0.400239</td>\n",
       "      <td>1.200863</td>\n",
       "      <td>NaN</td>\n",
       "      <td>1.358281</td>\n",
       "      <td>5.581491</td>\n",
       "      <td>5.647835</td>\n",
       "      <td>-1.315663</td>\n",
       "      <td>...</td>\n",
       "      <td>NaN</td>\n",
       "      <td>1.131153</td>\n",
       "      <td>0.975539</td>\n",
       "      <td>NaN</td>\n",
       "      <td>-0.238756</td>\n",
       "      <td>NaN</td>\n",
       "      <td>1.110786</td>\n",
       "      <td>1.255027</td>\n",
       "      <td>-1.173589</td>\n",
       "      <td>0</td>\n",
       "    </tr>\n",
       "    <tr>\n",
       "      <th>36</th>\n",
       "      <td>0.761609</td>\n",
       "      <td>-2.714666</td>\n",
       "      <td>-0.239035</td>\n",
       "      <td>-0.544461</td>\n",
       "      <td>-0.462239</td>\n",
       "      <td>NaN</td>\n",
       "      <td>1.934695</td>\n",
       "      <td>5.581491</td>\n",
       "      <td>5.647835</td>\n",
       "      <td>-1.315663</td>\n",
       "      <td>...</td>\n",
       "      <td>NaN</td>\n",
       "      <td>1.131153</td>\n",
       "      <td>0.975539</td>\n",
       "      <td>NaN</td>\n",
       "      <td>-0.238756</td>\n",
       "      <td>NaN</td>\n",
       "      <td>1.110786</td>\n",
       "      <td>1.255027</td>\n",
       "      <td>-1.173589</td>\n",
       "      <td>0</td>\n",
       "    </tr>\n",
       "    <tr>\n",
       "      <th>37</th>\n",
       "      <td>1.555525</td>\n",
       "      <td>-2.714666</td>\n",
       "      <td>-0.239035</td>\n",
       "      <td>-0.640610</td>\n",
       "      <td>0.813968</td>\n",
       "      <td>NaN</td>\n",
       "      <td>0.974005</td>\n",
       "      <td>5.581491</td>\n",
       "      <td>5.647835</td>\n",
       "      <td>-1.315663</td>\n",
       "      <td>...</td>\n",
       "      <td>NaN</td>\n",
       "      <td>1.131153</td>\n",
       "      <td>0.975539</td>\n",
       "      <td>NaN</td>\n",
       "      <td>-0.238756</td>\n",
       "      <td>NaN</td>\n",
       "      <td>1.110786</td>\n",
       "      <td>1.255027</td>\n",
       "      <td>-1.173589</td>\n",
       "      <td>0</td>\n",
       "    </tr>\n",
       "    <tr>\n",
       "      <th>38</th>\n",
       "      <td>1.433384</td>\n",
       "      <td>-2.714666</td>\n",
       "      <td>-0.239035</td>\n",
       "      <td>0.849690</td>\n",
       "      <td>1.611000</td>\n",
       "      <td>NaN</td>\n",
       "      <td>1.358281</td>\n",
       "      <td>5.394760</td>\n",
       "      <td>5.647835</td>\n",
       "      <td>-1.315663</td>\n",
       "      <td>...</td>\n",
       "      <td>NaN</td>\n",
       "      <td>1.131153</td>\n",
       "      <td>0.975539</td>\n",
       "      <td>NaN</td>\n",
       "      <td>-0.238756</td>\n",
       "      <td>NaN</td>\n",
       "      <td>1.110786</td>\n",
       "      <td>1.255027</td>\n",
       "      <td>-1.173589</td>\n",
       "      <td>0</td>\n",
       "    </tr>\n",
       "    <tr>\n",
       "      <th>...</th>\n",
       "      <td>...</td>\n",
       "      <td>...</td>\n",
       "      <td>...</td>\n",
       "      <td>...</td>\n",
       "      <td>...</td>\n",
       "      <td>...</td>\n",
       "      <td>...</td>\n",
       "      <td>...</td>\n",
       "      <td>...</td>\n",
       "      <td>...</td>\n",
       "      <td>...</td>\n",
       "      <td>...</td>\n",
       "      <td>...</td>\n",
       "      <td>...</td>\n",
       "      <td>...</td>\n",
       "      <td>...</td>\n",
       "      <td>...</td>\n",
       "      <td>...</td>\n",
       "      <td>...</td>\n",
       "      <td>...</td>\n",
       "      <td>...</td>\n",
       "    </tr>\n",
       "    <tr>\n",
       "      <th>783921</th>\n",
       "      <td>0.211975</td>\n",
       "      <td>0.354021</td>\n",
       "      <td>1.928884</td>\n",
       "      <td>0.657393</td>\n",
       "      <td>0.152965</td>\n",
       "      <td>0.298209</td>\n",
       "      <td>-0.563099</td>\n",
       "      <td>0.059607</td>\n",
       "      <td>0.310561</td>\n",
       "      <td>-0.181486</td>\n",
       "      <td>...</td>\n",
       "      <td>NaN</td>\n",
       "      <td>-0.067349</td>\n",
       "      <td>0.544034</td>\n",
       "      <td>-0.404244</td>\n",
       "      <td>0.348151</td>\n",
       "      <td>NaN</td>\n",
       "      <td>1.091695</td>\n",
       "      <td>-0.036595</td>\n",
       "      <td>0.852085</td>\n",
       "      <td>1</td>\n",
       "    </tr>\n",
       "    <tr>\n",
       "      <th>783922</th>\n",
       "      <td>0.700538</td>\n",
       "      <td>0.354021</td>\n",
       "      <td>2.962814</td>\n",
       "      <td>2.532286</td>\n",
       "      <td>1.246662</td>\n",
       "      <td>0.945965</td>\n",
       "      <td>-0.563099</td>\n",
       "      <td>0.593123</td>\n",
       "      <td>0.310561</td>\n",
       "      <td>-0.181486</td>\n",
       "      <td>...</td>\n",
       "      <td>NaN</td>\n",
       "      <td>-0.808241</td>\n",
       "      <td>0.544034</td>\n",
       "      <td>-0.404244</td>\n",
       "      <td>0.348151</td>\n",
       "      <td>NaN</td>\n",
       "      <td>1.091695</td>\n",
       "      <td>-0.036595</td>\n",
       "      <td>0.852085</td>\n",
       "      <td>1</td>\n",
       "    </tr>\n",
       "    <tr>\n",
       "      <th>783923</th>\n",
       "      <td>3.387639</td>\n",
       "      <td>0.013056</td>\n",
       "      <td>1.928884</td>\n",
       "      <td>0.561245</td>\n",
       "      <td>0.187143</td>\n",
       "      <td>0.176754</td>\n",
       "      <td>-0.563099</td>\n",
       "      <td>0.059607</td>\n",
       "      <td>0.310561</td>\n",
       "      <td>-0.181486</td>\n",
       "      <td>...</td>\n",
       "      <td>NaN</td>\n",
       "      <td>-0.067349</td>\n",
       "      <td>0.544034</td>\n",
       "      <td>-0.404244</td>\n",
       "      <td>0.348151</td>\n",
       "      <td>NaN</td>\n",
       "      <td>1.091695</td>\n",
       "      <td>-0.036595</td>\n",
       "      <td>0.852085</td>\n",
       "      <td>1</td>\n",
       "    </tr>\n",
       "    <tr>\n",
       "      <th>783924</th>\n",
       "      <td>2.166230</td>\n",
       "      <td>-0.327910</td>\n",
       "      <td>1.928884</td>\n",
       "      <td>1.570802</td>\n",
       "      <td>2.682139</td>\n",
       "      <td>3.617961</td>\n",
       "      <td>-0.563099</td>\n",
       "      <td>0.059607</td>\n",
       "      <td>0.310561</td>\n",
       "      <td>-0.181486</td>\n",
       "      <td>...</td>\n",
       "      <td>NaN</td>\n",
       "      <td>-0.067349</td>\n",
       "      <td>0.544034</td>\n",
       "      <td>-0.404244</td>\n",
       "      <td>0.348151</td>\n",
       "      <td>NaN</td>\n",
       "      <td>1.091695</td>\n",
       "      <td>-0.036595</td>\n",
       "      <td>0.852085</td>\n",
       "      <td>1</td>\n",
       "    </tr>\n",
       "    <tr>\n",
       "      <th>783925</th>\n",
       "      <td>1.860877</td>\n",
       "      <td>-0.668875</td>\n",
       "      <td>1.928884</td>\n",
       "      <td>1.378506</td>\n",
       "      <td>2.613783</td>\n",
       "      <td>3.536991</td>\n",
       "      <td>-0.563099</td>\n",
       "      <td>0.059607</td>\n",
       "      <td>0.310561</td>\n",
       "      <td>-0.181486</td>\n",
       "      <td>...</td>\n",
       "      <td>NaN</td>\n",
       "      <td>-0.067349</td>\n",
       "      <td>0.544034</td>\n",
       "      <td>-0.404244</td>\n",
       "      <td>0.348151</td>\n",
       "      <td>NaN</td>\n",
       "      <td>1.091695</td>\n",
       "      <td>-0.036595</td>\n",
       "      <td>0.852085</td>\n",
       "      <td>1</td>\n",
       "    </tr>\n",
       "  </tbody>\n",
       "</table>\n",
       "<p>351700 rows × 36 columns</p>\n",
       "</div>"
      ],
      "text/plain": [
       "              HR     O2Sat      Temp       SBP       MAP       DBP      Resp  \\\n",
       "34      1.066961 -1.862253 -0.239035 -0.880981 -0.211372       NaN  0.974005   \n",
       "35      0.883750 -2.714666  0.277930 -0.400239  1.200863       NaN  1.358281   \n",
       "36      0.761609 -2.714666 -0.239035 -0.544461 -0.462239       NaN  1.934695   \n",
       "37      1.555525 -2.714666 -0.239035 -0.640610  0.813968       NaN  0.974005   \n",
       "38      1.433384 -2.714666 -0.239035  0.849690  1.611000       NaN  1.358281   \n",
       "...          ...       ...       ...       ...       ...       ...       ...   \n",
       "783921  0.211975  0.354021  1.928884  0.657393  0.152965  0.298209 -0.563099   \n",
       "783922  0.700538  0.354021  2.962814  2.532286  1.246662  0.945965 -0.563099   \n",
       "783923  3.387639  0.013056  1.928884  0.561245  0.187143  0.176754 -0.563099   \n",
       "783924  2.166230 -0.327910  1.928884  1.570802  2.682139  3.617961 -0.563099   \n",
       "783925  1.860877 -0.668875  1.928884  1.378506  2.613783  3.536991 -0.563099   \n",
       "\n",
       "        BaseExcess      HCO3      FiO2  ...  TroponinI       Hct       Hgb  \\\n",
       "34        5.581491  5.647835 -1.315663  ...        NaN  1.131153  0.975539   \n",
       "35        5.581491  5.647835 -1.315663  ...        NaN  1.131153  0.975539   \n",
       "36        5.581491  5.647835 -1.315663  ...        NaN  1.131153  0.975539   \n",
       "37        5.581491  5.647835 -1.315663  ...        NaN  1.131153  0.975539   \n",
       "38        5.394760  5.647835 -1.315663  ...        NaN  1.131153  0.975539   \n",
       "...            ...       ...       ...  ...        ...       ...       ...   \n",
       "783921    0.059607  0.310561 -0.181486  ...        NaN -0.067349  0.544034   \n",
       "783922    0.593123  0.310561 -0.181486  ...        NaN -0.808241  0.544034   \n",
       "783923    0.059607  0.310561 -0.181486  ...        NaN -0.067349  0.544034   \n",
       "783924    0.059607  0.310561 -0.181486  ...        NaN -0.067349  0.544034   \n",
       "783925    0.059607  0.310561 -0.181486  ...        NaN -0.067349  0.544034   \n",
       "\n",
       "             PTT       WBC  Fibrinogen  Platelets       Age    Gender  \\\n",
       "34           NaN -0.238756         NaN   1.110786  1.255027 -1.173589   \n",
       "35           NaN -0.238756         NaN   1.110786  1.255027 -1.173589   \n",
       "36           NaN -0.238756         NaN   1.110786  1.255027 -1.173589   \n",
       "37           NaN -0.238756         NaN   1.110786  1.255027 -1.173589   \n",
       "38           NaN -0.238756         NaN   1.110786  1.255027 -1.173589   \n",
       "...          ...       ...         ...        ...       ...       ...   \n",
       "783921 -0.404244  0.348151         NaN   1.091695 -0.036595  0.852085   \n",
       "783922 -0.404244  0.348151         NaN   1.091695 -0.036595  0.852085   \n",
       "783923 -0.404244  0.348151         NaN   1.091695 -0.036595  0.852085   \n",
       "783924 -0.404244  0.348151         NaN   1.091695 -0.036595  0.852085   \n",
       "783925 -0.404244  0.348151         NaN   1.091695 -0.036595  0.852085   \n",
       "\n",
       "        SepsisLabel  \n",
       "34                0  \n",
       "35                0  \n",
       "36                0  \n",
       "37                0  \n",
       "38                0  \n",
       "...             ...  \n",
       "783921            1  \n",
       "783922            1  \n",
       "783923            1  \n",
       "783924            1  \n",
       "783925            1  \n",
       "\n",
       "[351700 rows x 36 columns]"
      ]
     },
     "execution_count": 82,
     "metadata": {},
     "output_type": "execute_result"
    }
   ],
   "source": [
    "df_patient_per_20"
   ]
  },
  {
   "cell_type": "markdown",
   "id": "4bd0e62a",
   "metadata": {},
   "source": [
    "# sepsis vs non_sepsis 추출"
   ]
  },
  {
   "cell_type": "code",
   "execution_count": 83,
   "id": "23ce8479",
   "metadata": {},
   "outputs": [
    {
     "name": "stderr",
     "output_type": "stream",
     "text": [
      "100%|██████████| 17585/17585 [06:02<00:00, 48.51it/s]\n"
     ]
    }
   ],
   "source": [
    "# sepsis와 non sepsis 구분\n",
    "\n",
    "s = 0\n",
    "e = 20\n",
    "\n",
    "sepsis_df = pd.DataFrame(columns=cols)\n",
    "non_sepsis_df = pd.DataFrame(columns=cols)\n",
    "\n",
    "for _ in tqdm(range(people)):\n",
    "    if df_patient_per_20[s:e]['SepsisLabel'].sum() >= 1:\n",
    "        data = df_patient_per_20[s:e]\n",
    "        sepsis_df = pd.concat([sepsis_df, data])\n",
    "    else: \n",
    "        data = df_patient_per_20[s:e]\n",
    "        non_sepsis_df = pd.concat([non_sepsis_df, data])\n",
    "        \n",
    "    s += 20\n",
    "    e += 20"
   ]
  },
  {
   "cell_type": "code",
   "execution_count": 84,
   "id": "56542206",
   "metadata": {},
   "outputs": [
    {
     "data": {
      "text/plain": [
       "(24700, 36)"
      ]
     },
     "execution_count": 84,
     "metadata": {},
     "output_type": "execute_result"
    }
   ],
   "source": [
    "sepsis_df.shape"
   ]
  },
  {
   "cell_type": "code",
   "execution_count": 85,
   "id": "8a0edb04",
   "metadata": {},
   "outputs": [
    {
     "data": {
      "text/plain": [
       "(327000, 36)"
      ]
     },
     "execution_count": 85,
     "metadata": {},
     "output_type": "execute_result"
    }
   ],
   "source": [
    "non_sepsis_df.shape"
   ]
  },
  {
   "cell_type": "markdown",
   "id": "a372c93d",
   "metadata": {},
   "source": [
    "# 3시간의 데이터를 보고 6시간 후의 패혈증 발병 정도를 예측\n",
    "## label 분리\n",
    "1환자당 12개의 데이터 추출가능"
   ]
  },
  {
   "cell_type": "code",
   "execution_count": 86,
   "id": "ad363ce4",
   "metadata": {},
   "outputs": [
    {
     "name": "stderr",
     "output_type": "stream",
     "text": [
      "100%|██████████| 1235/1235 [00:00<00:00, 24752.90it/s]\n"
     ]
    }
   ],
   "source": [
    "e = 20\n",
    "\n",
    "s_label = []\n",
    "for i in tqdm(range(int(sepsis_df.shape[0]/20))):\n",
    "    temp = sepsis_df[\"SepsisLabel\"][e-12:e]\n",
    "    s_label.append(list(temp))\n",
    "    \n",
    "    e += 20"
   ]
  },
  {
   "cell_type": "code",
   "execution_count": 87,
   "id": "1cc9a986",
   "metadata": {},
   "outputs": [
    {
     "name": "stderr",
     "output_type": "stream",
     "text": [
      "100%|██████████| 16350/16350 [00:00<00:00, 22274.08it/s]\n"
     ]
    }
   ],
   "source": [
    "e = 20\n",
    "\n",
    "ns_label = []\n",
    "for i in tqdm(range(int(non_sepsis_df.shape[0]/20))):\n",
    "    temp = non_sepsis_df[\"SepsisLabel\"][e-12:e]\n",
    "    ns_label.append(list(temp))\n",
    "    \n",
    "    e += 20"
   ]
  },
  {
   "cell_type": "markdown",
   "id": "4ebc0666",
   "metadata": {},
   "source": [
    "### 훈련, 검증, 테스트 세트 구성\n",
    "sepsis와 non_sepsis 데이터의 비율을 고려하지 않고 모든 데이터를 활용"
   ]
  },
  {
   "cell_type": "code",
   "execution_count": 88,
   "id": "1bd392f4",
   "metadata": {},
   "outputs": [
    {
     "data": {
      "text/plain": [
       "(24700, 35)"
      ]
     },
     "execution_count": 88,
     "metadata": {},
     "output_type": "execute_result"
    }
   ],
   "source": [
    "sepsis_df_no_label = sepsis_df.drop(['SepsisLabel'], axis=1)\n",
    "sepsis_df_no_label.shape"
   ]
  },
  {
   "cell_type": "code",
   "execution_count": 89,
   "id": "3a5a86de",
   "metadata": {},
   "outputs": [
    {
     "data": {
      "text/plain": [
       "(327000, 35)"
      ]
     },
     "execution_count": 89,
     "metadata": {},
     "output_type": "execute_result"
    }
   ],
   "source": [
    "non_sepsis_df_no_label = non_sepsis_df.drop(['SepsisLabel'], axis=1)\n",
    "non_sepsis_df_no_label.shape"
   ]
  },
  {
   "cell_type": "markdown",
   "id": "fc8855f7",
   "metadata": {},
   "source": [
    "### 환자 별로 구성하여 선형회귀법으로 결측치를 대치하고 남은 결측치는 현 상태의 평균대치법으로 적용"
   ]
  },
  {
   "cell_type": "code",
   "execution_count": 90,
   "id": "ae1173a2",
   "metadata": {},
   "outputs": [],
   "source": [
    "cols = sepsis_df_no_label.columns"
   ]
  },
  {
   "cell_type": "code",
   "execution_count": 91,
   "id": "4d9ca6a2",
   "metadata": {},
   "outputs": [],
   "source": [
    "# # 전체 평균\n",
    "\n",
    "# total_mean = []\n",
    "\n",
    "# for col in cols:\n",
    "#     total_mean.append(round(sepsis_df_no_label[col].mean(), 1))\n",
    "\n",
    "# len(total_mean)"
   ]
  },
  {
   "cell_type": "code",
   "execution_count": 92,
   "id": "de6ac3b5",
   "metadata": {},
   "outputs": [
    {
     "name": "stderr",
     "output_type": "stream",
     "text": [
      "100%|██████████| 1235/1235 [00:03<00:00, 312.82it/s]\n"
     ]
    },
    {
     "data": {
      "text/plain": [
       "1235"
      ]
     },
     "execution_count": 92,
     "metadata": {},
     "output_type": "execute_result"
    }
   ],
   "source": [
    "# 환자 별 평균\n",
    "person_mean = []\n",
    "\n",
    "s_i = 0\n",
    "e_i = 20\n",
    "\n",
    "for _ in tqdm(range(int(sepsis_df_no_label.shape[0]/20))):\n",
    "    temp = []\n",
    "    for col in cols:\n",
    "        temp.append(sepsis_df_no_label[col][s_i:e_i].mean())\n",
    "    person_mean.append(temp)\n",
    "    \n",
    "    s_i += 20\n",
    "    e_i += 20\n",
    "    \n",
    "len(person_mean)"
   ]
  },
  {
   "cell_type": "markdown",
   "id": "97797d30",
   "metadata": {},
   "source": [
    "### 환자별 평균 값으로 column을 채워도 결측인 값은 0으로 대치 / 이후 전체 평균으로 대치하는 방법도 시도"
   ]
  },
  {
   "cell_type": "code",
   "execution_count": 93,
   "id": "460856f5",
   "metadata": {},
   "outputs": [
    {
     "name": "stderr",
     "output_type": "stream",
     "text": [
      "100%|██████████| 1235/1235 [00:00<00:00, 15268.56it/s]\n"
     ]
    }
   ],
   "source": [
    "# 환자별 평균을 정리한 리스트에 결측값을 0으로 변환\n",
    "\n",
    "for i in tqdm(range(len(person_mean))):\n",
    "    for j in range(len(person_mean[i])):\n",
    "        if str(person_mean[i][j]) == \"nan\":\n",
    "            person_mean[i][j] = 0\n",
    "        else:\n",
    "            person_mean[i][j] = round(person_mean[i][j], 1)"
   ]
  },
  {
   "cell_type": "code",
   "execution_count": 94,
   "id": "7798e529",
   "metadata": {},
   "outputs": [
    {
     "name": "stderr",
     "output_type": "stream",
     "text": [
      "100%|██████████| 1235/1235 [00:24<00:00, 49.41it/s]\n"
     ]
    }
   ],
   "source": [
    "# DP 생성 후 결측치 없는 데이터 세트 구성\n",
    "\n",
    "sepsis_df_no_label_mv = pd.DataFrame(columns = cols)\n",
    "\n",
    "s_i = 0\n",
    "e_i = 20\n",
    "\n",
    "for i in tqdm(range(int(sepsis_df_no_label.shape[0]/20))):\n",
    "    temp = pd.DataFrame()\n",
    "    for j, col in enumerate(cols):\n",
    "        temp[col] = sepsis_df_no_label[col][s_i:e_i].fillna(person_mean[i][j])\n",
    "        \n",
    "    sepsis_df_no_label_mv = pd.concat([sepsis_df_no_label_mv, temp])\n",
    "    s_i += 20\n",
    "    e_i += 20"
   ]
  },
  {
   "cell_type": "markdown",
   "id": "04379826",
   "metadata": {},
   "source": [
    "### 1환자 데이터(20개)를 3개씩 묶어서 x_train 세트 구성"
   ]
  },
  {
   "cell_type": "code",
   "execution_count": 95,
   "id": "89eb3096",
   "metadata": {},
   "outputs": [],
   "source": [
    "def ratio(li):\n",
    "    l = len(li)\n",
    "    train = l*0.8\n",
    "    val = train + int(l*0.1)\n",
    "    return int(train), int(val)"
   ]
  },
  {
   "cell_type": "code",
   "execution_count": 96,
   "id": "5191bf3d",
   "metadata": {},
   "outputs": [
    {
     "name": "stdout",
     "output_type": "stream",
     "text": [
      "988 1111\n"
     ]
    }
   ],
   "source": [
    "tr, va = ratio(s_label)\n",
    "print(tr, va)"
   ]
  },
  {
   "cell_type": "code",
   "execution_count": 97,
   "id": "7d0579c9",
   "metadata": {},
   "outputs": [
    {
     "name": "stderr",
     "output_type": "stream",
     "text": [
      "100%|██████████| 1235/1235 [00:06<00:00, 195.09it/s]\n"
     ]
    }
   ],
   "source": [
    "# sepsis 데이터 > x_train, x_val, x_test\n",
    "\n",
    "s = 0\n",
    "x_train = []\n",
    "x_val = []\n",
    "x_test = []\n",
    "\n",
    "for _ in tqdm(range(int(sepsis_df_no_label_mv.shape[0]/20))):\n",
    "    if _ < tr:\n",
    "        for i in range(12):     # 20개의 데이터 세트에서 12개의 데이터를 label에 달아 사용 가능\n",
    "            temp = sepsis_df_no_label_mv[s+i : s+i+3].values.tolist()\n",
    "            x_train.append(temp)\n",
    "    elif _ < va:\n",
    "        for i in range(12):     # 20개의 데이터 세트에서 12개의 데이터를 label에 달아 사용 가능\n",
    "            temp = sepsis_df_no_label_mv[s+i : s+i+3].values.tolist()\n",
    "            x_val.append(temp)\n",
    "    else: \n",
    "        for i in range(12):     # 20개의 데이터 세트에서 12개의 데이터를 label에 달아 사용 가능\n",
    "            temp = sepsis_df_no_label_mv[s+i : s+i+3].values.tolist()\n",
    "            x_test.append(temp)\n",
    "    s += 20"
   ]
  },
  {
   "cell_type": "code",
   "execution_count": 98,
   "id": "630a7eea",
   "metadata": {},
   "outputs": [
    {
     "name": "stdout",
     "output_type": "stream",
     "text": [
      "988.0 123.0 124.0 1235\n"
     ]
    }
   ],
   "source": [
    "print(len(x_train)/12, len(x_val)/12, len(x_test)/12, len(x_train)//12 + len(x_val)//12 + len(x_test)//12)"
   ]
  },
  {
   "cell_type": "markdown",
   "id": "9d21ceee",
   "metadata": {},
   "source": [
    "### non_sepsis_df 에도 동일하게 수행"
   ]
  },
  {
   "cell_type": "code",
   "execution_count": 99,
   "id": "d58de909",
   "metadata": {},
   "outputs": [
    {
     "name": "stderr",
     "output_type": "stream",
     "text": [
      "100%|██████████| 16350/16350 [00:51<00:00, 320.35it/s]\n"
     ]
    },
    {
     "data": {
      "text/plain": [
       "16350"
      ]
     },
     "execution_count": 99,
     "metadata": {},
     "output_type": "execute_result"
    }
   ],
   "source": [
    "# 환자 별 평균\n",
    "person_mean = []\n",
    "\n",
    "s_i = 0\n",
    "e_i = 20\n",
    "\n",
    "for _ in tqdm(range(int(non_sepsis_df_no_label.shape[0]/20))):\n",
    "    temp = []\n",
    "    for col in cols:\n",
    "        temp.append(non_sepsis_df_no_label[col][s_i:e_i].mean())\n",
    "    person_mean.append(temp)\n",
    "    \n",
    "    s_i += 20\n",
    "    e_i += 20\n",
    "    \n",
    "len(person_mean)"
   ]
  },
  {
   "cell_type": "code",
   "execution_count": 100,
   "id": "eab0087a",
   "metadata": {},
   "outputs": [
    {
     "name": "stderr",
     "output_type": "stream",
     "text": [
      "100%|██████████| 16350/16350 [00:01<00:00, 16247.56it/s]\n"
     ]
    }
   ],
   "source": [
    "# 환자별 평균을 정리한 리스트에 결측값을 0으로 변환\n",
    "\n",
    "for i in tqdm(range(len(person_mean))):\n",
    "    for j in range(len(person_mean[i])):\n",
    "        if str(person_mean[i][j]) == \"nan\":\n",
    "            person_mean[i][j] = 0\n",
    "        else:\n",
    "            person_mean[i][j] = round(person_mean[i][j], 1)"
   ]
  },
  {
   "cell_type": "code",
   "execution_count": 101,
   "id": "f0c35c78",
   "metadata": {},
   "outputs": [
    {
     "name": "stderr",
     "output_type": "stream",
     "text": [
      "100%|██████████| 16350/16350 [09:17<00:00, 29.35it/s]\n"
     ]
    }
   ],
   "source": [
    "# DP 생성 후 결측치 없는 데이터 세트 구성\n",
    "\n",
    "non_sepsis_df_no_label_mv = pd.DataFrame(columns = cols)\n",
    "\n",
    "s_i = 0\n",
    "e_i = 20\n",
    "\n",
    "for i in tqdm(range(int(non_sepsis_df_no_label.shape[0]/20))):\n",
    "    temp = pd.DataFrame()\n",
    "    for j, col in enumerate(cols):\n",
    "        temp[col] = non_sepsis_df_no_label[col][s_i:e_i].fillna(person_mean[i][j])\n",
    "        \n",
    "    non_sepsis_df_no_label_mv = pd.concat([non_sepsis_df_no_label_mv, temp])\n",
    "    s_i += 20\n",
    "    e_i += 20"
   ]
  },
  {
   "cell_type": "code",
   "execution_count": 102,
   "id": "b039e8f8",
   "metadata": {},
   "outputs": [
    {
     "name": "stderr",
     "output_type": "stream",
     "text": [
      "  8%|▊         | 1235/16350 [00:06<01:13, 205.78it/s]\n"
     ]
    }
   ],
   "source": [
    "# non_sepsis 데이터 > x_train, x_val, x_test .append\n",
    "\n",
    "s = 0\n",
    "\n",
    "for _ in tqdm(range(int(non_sepsis_df_no_label_mv.shape[0]/20))):\n",
    "    if _ < tr:\n",
    "        for i in range(12):     # 20개의 데이터 세트에서 12개의 데이터를 label에 달아 사용 가능\n",
    "            temp = non_sepsis_df_no_label_mv[s+i : s+i+3].values.tolist()\n",
    "            x_train.append(temp)\n",
    "    elif _ < va:\n",
    "        for i in range(12):     # 20개의 데이터 세트에서 12개의 데이터를 label에 달아 사용 가능\n",
    "            temp = non_sepsis_df_no_label_mv[s+i : s+i+3].values.tolist()\n",
    "            x_val.append(temp)\n",
    "    elif _ < 1235:\n",
    "        for i in range(12):     # 20개의 데이터 세트에서 12개의 데이터를 label에 달아 사용 가능\n",
    "            temp = non_sepsis_df_no_label_mv[s+i : s+i+3].values.tolist()\n",
    "            x_test.append(temp)\n",
    "    else:\n",
    "        break\n",
    "    s += 20"
   ]
  },
  {
   "cell_type": "code",
   "execution_count": 103,
   "id": "bf2194a4",
   "metadata": {},
   "outputs": [
    {
     "name": "stdout",
     "output_type": "stream",
     "text": [
      "1976.0 246.0 248.0 2470\n"
     ]
    }
   ],
   "source": [
    "print(len(x_train)/12, len(x_val)/12, len(x_test)/12, len(x_train)//12 + len(x_val)//12 + len(x_test)//12)"
   ]
  },
  {
   "cell_type": "code",
   "execution_count": 104,
   "id": "b5c31ad9",
   "metadata": {},
   "outputs": [],
   "source": [
    "# sepsis label > train, val, test set 구성\n",
    "\n",
    "y_train = []\n",
    "y_val = []\n",
    "y_test = []   # 988 123 124 1235\n",
    "\n",
    "for _ in range(len(s_label)):\n",
    "    if _ < tr:\n",
    "        y_train += s_label[_]\n",
    "    elif _ < va:\n",
    "        y_val += s_label[_]\n",
    "    elif _ < 1235:\n",
    "        y_test += s_label[_]\n",
    "    else:\n",
    "        break"
   ]
  },
  {
   "cell_type": "code",
   "execution_count": 105,
   "id": "c969d625",
   "metadata": {},
   "outputs": [
    {
     "name": "stdout",
     "output_type": "stream",
     "text": [
      "988.0 123.0 124.0 1235\n"
     ]
    }
   ],
   "source": [
    "print(len(y_train)/12, len(y_val)/12, len(y_test)/12, len(y_train)//12 + len(y_val)//12 + len(y_test)//12)"
   ]
  },
  {
   "cell_type": "code",
   "execution_count": 106,
   "id": "8c7f0ff1",
   "metadata": {},
   "outputs": [],
   "source": [
    "y_train += [0] * len(y_train)\n",
    "y_val += [0] * len(y_val)\n",
    "y_test += [0] * len(y_test)"
   ]
  },
  {
   "cell_type": "code",
   "execution_count": 107,
   "id": "7f272141",
   "metadata": {},
   "outputs": [
    {
     "name": "stdout",
     "output_type": "stream",
     "text": [
      "1976.0 246.0 248.0 2470\n"
     ]
    }
   ],
   "source": [
    "print(len(y_train)/12, len(y_val)/12, len(y_test)/12, len(y_train)//12 + len(y_val)//12 + len(y_test)//12)"
   ]
  },
  {
   "cell_type": "markdown",
   "id": "f112c5bf",
   "metadata": {},
   "source": [
    "## 파이선 list로 되어있는 데이터 세트를 np.array로 변환"
   ]
  },
  {
   "cell_type": "code",
   "execution_count": 108,
   "id": "f7c8e09f",
   "metadata": {},
   "outputs": [
    {
     "data": {
      "text/plain": [
       "array([[[ 2.96014568, -1.00983987,  1.09506886, ...,  0.4998645 ,\n",
       "         -2.16575771,  0.85208461],\n",
       "        [ 3.20442755, -1.00983987,  1.09506886, ...,  0.4998645 ,\n",
       "         -2.16575771,  0.85208461],\n",
       "        [ 3.26549802, -0.32790958,  3.98006871, ...,  0.4998645 ,\n",
       "         -2.16575771,  0.85208461]],\n",
       "\n",
       "       [[ 3.20442755, -1.00983987,  1.09506886, ...,  0.4998645 ,\n",
       "         -2.16575771,  0.85208461],\n",
       "        [ 3.26549802, -0.32790958,  3.98006871, ...,  0.4998645 ,\n",
       "         -2.16575771,  0.85208461],\n",
       "        [ 3.38763896, -0.32790958,  1.09506886, ...,  0.4998645 ,\n",
       "         -2.16575771,  0.85208461]],\n",
       "\n",
       "       [[ 3.26549802, -0.32790958,  3.98006871, ...,  0.4998645 ,\n",
       "         -2.16575771,  0.85208461],\n",
       "        [ 3.38763896, -0.32790958,  1.09506886, ...,  0.4998645 ,\n",
       "         -2.16575771,  0.85208461],\n",
       "        [ 3.08228661,  0.01305556,  2.87943293, ...,  0.4998645 ,\n",
       "         -2.16575771,  0.85208461]],\n",
       "\n",
       "       ...,\n",
       "\n",
       "       [[ 0.5173269 ,  1.03595099,  0.09449088, ..., -0.163558  ,\n",
       "          0.19261347,  0.85208461],\n",
       "        [ 0.5173269 ,  1.03595099,  0.09449088, ..., -0.163558  ,\n",
       "          0.19261347,  0.85208461],\n",
       "        [ 0.57839737,  1.03595099,  1.21180296, ..., -0.163558  ,\n",
       "          0.19261347,  0.85208461]],\n",
       "\n",
       "       [[ 0.5173269 ,  1.03595099,  0.09449088, ..., -0.163558  ,\n",
       "          0.19261347,  0.85208461],\n",
       "        [ 0.57839737,  1.03595099,  1.21180296, ..., -0.163558  ,\n",
       "          0.19261347,  0.85208461],\n",
       "        [ 0.39518597,  1.03595099,  0.09449088, ..., -0.163558  ,\n",
       "          0.19261347,  0.85208461]],\n",
       "\n",
       "       [[ 0.57839737,  1.03595099,  1.21180296, ..., -0.163558  ,\n",
       "          0.19261347,  0.85208461],\n",
       "        [ 0.39518597,  1.03595099,  0.09449088, ..., -0.163558  ,\n",
       "          0.19261347,  0.85208461],\n",
       "        [ 0.3341155 ,  1.03595099,  0.09449088, ..., -0.163558  ,\n",
       "          0.19261347,  0.85208461]]])"
      ]
     },
     "execution_count": 108,
     "metadata": {},
     "output_type": "execute_result"
    }
   ],
   "source": [
    "X_train = np.array(x_train)\n",
    "X_train"
   ]
  },
  {
   "cell_type": "code",
   "execution_count": 109,
   "id": "dcd2abed",
   "metadata": {},
   "outputs": [
    {
     "data": {
      "text/plain": [
       "(23712, 3, 35)"
      ]
     },
     "execution_count": 109,
     "metadata": {},
     "output_type": "execute_result"
    }
   ],
   "source": [
    "X_train.shape"
   ]
  },
  {
   "cell_type": "code",
   "execution_count": 110,
   "id": "b05877b5",
   "metadata": {},
   "outputs": [],
   "source": [
    "X_val = np.array(x_val)\n",
    "X_test = np.array(x_test)\n",
    "\n",
    "Y_train = np.array(y_train)\n",
    "Y_val = np.array(y_val)\n",
    "Y_test = np.array(y_test)"
   ]
  },
  {
   "cell_type": "markdown",
   "id": "efde2588",
   "metadata": {},
   "source": [
    "# 데이터 세트 구성 완료\n",
    "## 모델은 이전과 동일하게 구성"
   ]
  },
  {
   "cell_type": "code",
   "execution_count": 111,
   "id": "e761c6b5",
   "metadata": {},
   "outputs": [],
   "source": [
    "import tensorflow as tf\n",
    "from tensorflow.keras.layers import Dense, LSTM, Dropout, GRU\n",
    "from tensorflow.keras.models import Sequential\n",
    "from tensorflow.keras.models import load_model\n",
    "from tensorflow.keras.callbacks import EarlyStopping, ModelCheckpoint"
   ]
  },
  {
   "cell_type": "code",
   "execution_count": 112,
   "id": "fd1b82a9",
   "metadata": {},
   "outputs": [
    {
     "name": "stdout",
     "output_type": "stream",
     "text": [
      "Model: \"sequential\"\n",
      "_________________________________________________________________\n",
      " Layer (type)                Output Shape              Param #   \n",
      "=================================================================\n",
      " lstm (LSTM)                 (None, 128)               83968     \n",
      "                                                                 \n",
      " dense (Dense)               (None, 64)                8256      \n",
      "                                                                 \n",
      " dense_1 (Dense)             (None, 1)                 65        \n",
      "                                                                 \n",
      "=================================================================\n",
      "Total params: 92,289\n",
      "Trainable params: 92,289\n",
      "Non-trainable params: 0\n",
      "_________________________________________________________________\n"
     ]
    }
   ],
   "source": [
    "hidden_units = 128\n",
    "\n",
    "model = Sequential()\n",
    "model.add(LSTM(hidden_units, activation='relu', input_shape=(3, 35)))\n",
    "model.add(Dense(64, activation=\"relu\"))\n",
    "model.add(Dense(1, activation='sigmoid'))\n",
    "\n",
    "model.summary()"
   ]
  },
  {
   "cell_type": "code",
   "execution_count": 113,
   "id": "d720f940",
   "metadata": {},
   "outputs": [],
   "source": [
    "model.compile(loss=tf.keras.losses.BinaryCrossentropy(from_logits=False), optimizer='SGD', metrics=['accuracy'])"
   ]
  },
  {
   "cell_type": "code",
   "execution_count": 114,
   "id": "05d9365c",
   "metadata": {},
   "outputs": [],
   "source": [
    "model.compile(loss=tf.keras.losses.BinaryCrossentropy(from_logits=False), optimizer=tf.keras.optimizers.SGD(learning_rate=0.06), metrics=['accuracy'])"
   ]
  },
  {
   "cell_type": "code",
   "execution_count": 115,
   "id": "d0c0393c",
   "metadata": {},
   "outputs": [
    {
     "name": "stdout",
     "output_type": "stream",
     "text": [
      "Epoch 1/10\n",
      "741/741 [==============================] - 3s 3ms/step - loss: 0.6178 - accuracy: 0.6501 - val_loss: 0.6346 - val_accuracy: 0.6267\n",
      "Epoch 2/10\n",
      "741/741 [==============================] - 2s 3ms/step - loss: 0.5461 - accuracy: 0.7193 - val_loss: 0.6468 - val_accuracy: 0.6440\n",
      "Epoch 3/10\n",
      "741/741 [==============================] - 2s 3ms/step - loss: 0.4979 - accuracy: 0.7556 - val_loss: 0.6807 - val_accuracy: 0.6413\n",
      "Epoch 4/10\n",
      "741/741 [==============================] - 2s 3ms/step - loss: 0.4598 - accuracy: 0.7842 - val_loss: 0.7597 - val_accuracy: 0.6565\n",
      "Epoch 5/10\n",
      "741/741 [==============================] - 2s 3ms/step - loss: 0.4256 - accuracy: 0.8039 - val_loss: 0.7554 - val_accuracy: 0.6596\n",
      "Epoch 6/10\n",
      "741/741 [==============================] - 2s 3ms/step - loss: 0.3941 - accuracy: 0.8257 - val_loss: 0.8029 - val_accuracy: 0.6511\n",
      "Epoch 7/10\n",
      "741/741 [==============================] - 2s 3ms/step - loss: 0.3663 - accuracy: 0.8427 - val_loss: 0.9005 - val_accuracy: 0.6507\n",
      "Epoch 8/10\n",
      "741/741 [==============================] - 2s 3ms/step - loss: 0.3415 - accuracy: 0.8575 - val_loss: 0.9432 - val_accuracy: 0.6440\n",
      "Epoch 9/10\n",
      "741/741 [==============================] - 2s 3ms/step - loss: 0.3241 - accuracy: 0.8684 - val_loss: 1.0159 - val_accuracy: 0.6416\n",
      "Epoch 10/10\n",
      "741/741 [==============================] - 2s 3ms/step - loss: 0.3062 - accuracy: 0.8753 - val_loss: 1.0551 - val_accuracy: 0.6494\n"
     ]
    }
   ],
   "source": [
    "hist = model.fit(X_train, Y_train, epochs=10, batch_size=32, validation_data=(X_val, Y_val))"
   ]
  },
  {
   "cell_type": "markdown",
   "id": "80d2aea2",
   "metadata": {},
   "source": [
    "학습 안됨. \n",
    "\n",
    "1. 초기 데이터 세트(df)에서 선형회귀 방법으로 결측치를 대치하고 변화되지 않는 결측값은 0으로 처리.\n",
    "2. sepsis와 non_sepsis군을 나누어 전처리를 진행하였고, 3시간의 데이터를 보고 6시간 후 sepsis 확률을 예측할 수 있는 모습으로 전처리\n",
    "3. sepsis 데이터량이 non_sepsis에 비해 많이 적어 sepsis 양에 맞게 non_sepsis 데이터를 제한하여 train, val, test를 구성 \n",
    "4. 기본적인 LSTM의 모델을 구성하여 학습을 진행\n",
    "5. 학습 안됨"
   ]
  },
  {
   "cell_type": "code",
   "execution_count": 116,
   "id": "4ab6e403",
   "metadata": {},
   "outputs": [
    {
     "name": "stdout",
     "output_type": "stream",
     "text": [
      "## result ##\n",
      "0 2976 2976\n"
     ]
    }
   ],
   "source": [
    "result = model.predict(X_test)\n",
    "print('## result ##')\n",
    "\n",
    "o = 0\n",
    "x = 0\n",
    "\n",
    "for y, r in zip(Y_test, result):\n",
    "    if y == r:\n",
    "        o += 1\n",
    "    else:\n",
    "        x += 1\n",
    "    \n",
    "print(o, x, o+x)"
   ]
  },
  {
   "cell_type": "code",
   "execution_count": 117,
   "id": "c2e8457f",
   "metadata": {},
   "outputs": [
    {
     "name": "stdout",
     "output_type": "stream",
     "text": [
      "0.0 1.0\n"
     ]
    }
   ],
   "source": [
    "print(o/(o+x), x/(o+x))"
   ]
  },
  {
   "cell_type": "markdown",
   "id": "78d1fd02",
   "metadata": {},
   "source": [
    "### 의문\n",
    ">혹시 인풋은 3차원인데 아웃풋은 2차원이라서 그런가?"
   ]
  },
  {
   "cell_type": "code",
   "execution_count": 118,
   "id": "7451ca7d",
   "metadata": {},
   "outputs": [
    {
     "data": {
      "text/plain": [
       "array([[0],\n",
       "       [0],\n",
       "       [1],\n",
       "       ...,\n",
       "       [0],\n",
       "       [0],\n",
       "       [0]])"
      ]
     },
     "execution_count": 118,
     "metadata": {},
     "output_type": "execute_result"
    }
   ],
   "source": [
    "test = Y_train.reshape(-1, 1)\n",
    "test"
   ]
  },
  {
   "cell_type": "code",
   "execution_count": 119,
   "id": "a423e3c6",
   "metadata": {},
   "outputs": [],
   "source": [
    "t_val = Y_val.reshape(-1, 1)"
   ]
  },
  {
   "cell_type": "code",
   "execution_count": 120,
   "id": "2a59fb0b",
   "metadata": {},
   "outputs": [
    {
     "name": "stdout",
     "output_type": "stream",
     "text": [
      "Epoch 1/5\n",
      "186/186 [==============================] - 2s 7ms/step - loss: 0.2670 - accuracy: 0.8969 - val_loss: 1.1356 - val_accuracy: 0.6413\n",
      "Epoch 2/5\n",
      "186/186 [==============================] - 1s 6ms/step - loss: 0.2583 - accuracy: 0.9009 - val_loss: 1.1276 - val_accuracy: 0.6592\n",
      "Epoch 3/5\n",
      "186/186 [==============================] - 1s 6ms/step - loss: 0.2545 - accuracy: 0.9024 - val_loss: 1.2293 - val_accuracy: 0.6497\n",
      "Epoch 4/5\n",
      "186/186 [==============================] - 1s 6ms/step - loss: 0.2498 - accuracy: 0.9049 - val_loss: 1.1984 - val_accuracy: 0.6507\n",
      "Epoch 5/5\n",
      "186/186 [==============================] - 1s 6ms/step - loss: 0.2470 - accuracy: 0.9048 - val_loss: 1.2629 - val_accuracy: 0.6440\n"
     ]
    }
   ],
   "source": [
    "hist = model.fit(X_train, test, epochs=5, batch_size=128, validation_data=(X_val, t_val))"
   ]
  },
  {
   "cell_type": "markdown",
   "id": "6d2cd1f1",
   "metadata": {},
   "source": [
    "loss가 확인되지 않음."
   ]
  },
  {
   "cell_type": "markdown",
   "id": "3fad298f",
   "metadata": {},
   "source": [
    "### 의문\n",
    ">혹시 shuffle이 안되어서 학습이 안될 수 도 있기 때문에 shuffle 진행 후 다시 시도"
   ]
  },
  {
   "cell_type": "code",
   "execution_count": 131,
   "id": "2af32db1",
   "metadata": {},
   "outputs": [
    {
     "name": "stdout",
     "output_type": "stream",
     "text": [
      "s [0 1 2 3 4 5 6 7 8 9]\n",
      "x:  [[ 1  2]\n",
      " [ 0  1]\n",
      " [ 5  6]\n",
      " [ 6  7]\n",
      " [ 7  8]\n",
      " [ 2  3]\n",
      " [ 3  4]\n",
      " [ 9 10]\n",
      " [ 8  9]\n",
      " [ 4  5]]\n",
      "y:  [[1]\n",
      " [0]\n",
      " [5]\n",
      " [6]\n",
      " [7]\n",
      " [2]\n",
      " [3]\n",
      " [9]\n",
      " [8]\n",
      " [4]]\n"
     ]
    }
   ],
   "source": [
    "# Shuffle 기능 확인\n",
    "\n",
    "# import numpy as np\n",
    "\n",
    "# # x = np.arange(10).reshape(-1, 1)\n",
    "# # print (\"x: \", x)\n",
    "# y = np.arange(10).reshape(-1, 1)\n",
    "# # print (\"y: \", y)\n",
    "\n",
    "# x = np.array([[0,1], [1,2], [2,3], [3,4], [4,5], [5,6], [6,7], [7,8], [8,9], [9,10]])\n",
    "\n",
    "# s = np.arange(x.shape[0])\n",
    "# print('s', s)\n",
    "# np.random.shuffle(s)\n",
    "\n",
    "# x = x[s]\n",
    "# print (\"x: \", x)\n",
    "# y = y[s]\n",
    "# print (\"y: \", y)"
   ]
  },
  {
   "cell_type": "code",
   "execution_count": 122,
   "id": "7886227e",
   "metadata": {},
   "outputs": [],
   "source": [
    "# Train, Test data 적용\n",
    "i = np.arange(X_train.shape[0])\n",
    "np.random.shuffle(i)\n",
    "\n",
    "train = X_train[i]\n",
    "test = Y_train[i]"
   ]
  },
  {
   "cell_type": "code",
   "execution_count": 123,
   "id": "474e4c06",
   "metadata": {},
   "outputs": [],
   "source": [
    "# Val data 적용\n",
    "\n",
    "i = np.arange(X_val.shape[0])\n",
    "np.random.shuffle(i)\n",
    "\n",
    "sx_val = X_val[i]\n",
    "sy_val = Y_val[i]"
   ]
  },
  {
   "cell_type": "code",
   "execution_count": 124,
   "id": "8186433e",
   "metadata": {},
   "outputs": [
    {
     "name": "stdout",
     "output_type": "stream",
     "text": [
      "Epoch 1/5\n",
      "186/186 [==============================] - 2s 5ms/step - loss: 0.2427 - accuracy: 0.9061 - val_loss: 1.4316 - val_accuracy: 0.6494\n",
      "Epoch 2/5\n",
      "186/186 [==============================] - 1s 6ms/step - loss: 0.2408 - accuracy: 0.9060 - val_loss: 1.2931 - val_accuracy: 0.6524\n",
      "Epoch 3/5\n",
      "186/186 [==============================] - 1s 6ms/step - loss: 0.2377 - accuracy: 0.9072 - val_loss: 1.3320 - val_accuracy: 0.6484\n",
      "Epoch 4/5\n",
      "186/186 [==============================] - 1s 6ms/step - loss: 0.2341 - accuracy: 0.9092 - val_loss: 1.4178 - val_accuracy: 0.6386\n",
      "Epoch 5/5\n",
      "186/186 [==============================] - 1s 6ms/step - loss: 0.2315 - accuracy: 0.9092 - val_loss: 1.3115 - val_accuracy: 0.6531\n"
     ]
    }
   ],
   "source": [
    "hist = model.fit(train, test, epochs=5, batch_size=128, validation_data=(sx_val, sy_val))"
   ]
  },
  {
   "cell_type": "markdown",
   "id": "c3e5f223",
   "metadata": {},
   "source": [
    "변화 없음"
   ]
  },
  {
   "cell_type": "markdown",
   "id": "b281d123",
   "metadata": {},
   "source": [
    "### 의문\n",
    "> 혹시 node가 너무 적어서 학습이 안되는지 확인"
   ]
  },
  {
   "cell_type": "code",
   "execution_count": 126,
   "id": "c6039eb8",
   "metadata": {},
   "outputs": [
    {
     "ename": "ValueError",
     "evalue": "Input 0 of layer \"lstm_4\" is incompatible with the layer: expected ndim=3, found ndim=2. Full shape received: (None, 512)",
     "output_type": "error",
     "traceback": [
      "\u001b[1;31m---------------------------------------------------------------------------\u001b[0m",
      "\u001b[1;31mValueError\u001b[0m                                Traceback (most recent call last)",
      "\u001b[1;32m~\\AppData\\Local\\Temp/ipykernel_19492/2421502380.py\u001b[0m in \u001b[0;36m<module>\u001b[1;34m\u001b[0m\n\u001b[0;32m      3\u001b[0m \u001b[0mmodel\u001b[0m \u001b[1;33m=\u001b[0m \u001b[0mSequential\u001b[0m\u001b[1;33m(\u001b[0m\u001b[1;33m)\u001b[0m\u001b[1;33m\u001b[0m\u001b[1;33m\u001b[0m\u001b[0m\n\u001b[0;32m      4\u001b[0m \u001b[0mmodel\u001b[0m\u001b[1;33m.\u001b[0m\u001b[0madd\u001b[0m\u001b[1;33m(\u001b[0m\u001b[0mLSTM\u001b[0m\u001b[1;33m(\u001b[0m\u001b[0mhidden_units\u001b[0m\u001b[1;33m,\u001b[0m \u001b[0mactivation\u001b[0m\u001b[1;33m=\u001b[0m\u001b[1;34m'relu'\u001b[0m\u001b[1;33m,\u001b[0m \u001b[0minput_shape\u001b[0m\u001b[1;33m=\u001b[0m\u001b[1;33m(\u001b[0m\u001b[1;36m3\u001b[0m\u001b[1;33m,\u001b[0m \u001b[1;36m35\u001b[0m\u001b[1;33m)\u001b[0m\u001b[1;33m)\u001b[0m\u001b[1;33m)\u001b[0m\u001b[1;33m\u001b[0m\u001b[1;33m\u001b[0m\u001b[0m\n\u001b[1;32m----> 5\u001b[1;33m \u001b[0mmodel\u001b[0m\u001b[1;33m.\u001b[0m\u001b[0madd\u001b[0m\u001b[1;33m(\u001b[0m\u001b[0mLSTM\u001b[0m\u001b[1;33m(\u001b[0m\u001b[1;36m64\u001b[0m\u001b[1;33m,\u001b[0m \u001b[0mactivation\u001b[0m\u001b[1;33m=\u001b[0m\u001b[1;34m'relu'\u001b[0m\u001b[1;33m,\u001b[0m \u001b[0minput_shape\u001b[0m\u001b[1;33m=\u001b[0m\u001b[1;33m(\u001b[0m\u001b[1;36m3\u001b[0m\u001b[1;33m,\u001b[0m \u001b[1;36m35\u001b[0m\u001b[1;33m)\u001b[0m\u001b[1;33m)\u001b[0m\u001b[1;33m)\u001b[0m\u001b[1;33m\u001b[0m\u001b[1;33m\u001b[0m\u001b[0m\n\u001b[0m\u001b[0;32m      6\u001b[0m \u001b[0mmodel\u001b[0m\u001b[1;33m.\u001b[0m\u001b[0madd\u001b[0m\u001b[1;33m(\u001b[0m\u001b[0mDense\u001b[0m\u001b[1;33m(\u001b[0m\u001b[1;36m1\u001b[0m\u001b[1;33m,\u001b[0m \u001b[0mactivation\u001b[0m\u001b[1;33m=\u001b[0m\u001b[1;34m'softmax'\u001b[0m\u001b[1;33m)\u001b[0m\u001b[1;33m)\u001b[0m\u001b[1;33m\u001b[0m\u001b[1;33m\u001b[0m\u001b[0m\n\u001b[0;32m      7\u001b[0m \u001b[1;33m\u001b[0m\u001b[0m\n",
      "\u001b[1;32m~\\Anaconda3\\envs\\ai\\lib\\site-packages\\tensorflow\\python\\training\\tracking\\base.py\u001b[0m in \u001b[0;36m_method_wrapper\u001b[1;34m(self, *args, **kwargs)\u001b[0m\n\u001b[0;32m    528\u001b[0m     \u001b[0mself\u001b[0m\u001b[1;33m.\u001b[0m\u001b[0m_self_setattr_tracking\u001b[0m \u001b[1;33m=\u001b[0m \u001b[1;32mFalse\u001b[0m  \u001b[1;31m# pylint: disable=protected-access\u001b[0m\u001b[1;33m\u001b[0m\u001b[1;33m\u001b[0m\u001b[0m\n\u001b[0;32m    529\u001b[0m     \u001b[1;32mtry\u001b[0m\u001b[1;33m:\u001b[0m\u001b[1;33m\u001b[0m\u001b[1;33m\u001b[0m\u001b[0m\n\u001b[1;32m--> 530\u001b[1;33m       \u001b[0mresult\u001b[0m \u001b[1;33m=\u001b[0m \u001b[0mmethod\u001b[0m\u001b[1;33m(\u001b[0m\u001b[0mself\u001b[0m\u001b[1;33m,\u001b[0m \u001b[1;33m*\u001b[0m\u001b[0margs\u001b[0m\u001b[1;33m,\u001b[0m \u001b[1;33m**\u001b[0m\u001b[0mkwargs\u001b[0m\u001b[1;33m)\u001b[0m\u001b[1;33m\u001b[0m\u001b[1;33m\u001b[0m\u001b[0m\n\u001b[0m\u001b[0;32m    531\u001b[0m     \u001b[1;32mfinally\u001b[0m\u001b[1;33m:\u001b[0m\u001b[1;33m\u001b[0m\u001b[1;33m\u001b[0m\u001b[0m\n\u001b[0;32m    532\u001b[0m       \u001b[0mself\u001b[0m\u001b[1;33m.\u001b[0m\u001b[0m_self_setattr_tracking\u001b[0m \u001b[1;33m=\u001b[0m \u001b[0mprevious_value\u001b[0m  \u001b[1;31m# pylint: disable=protected-access\u001b[0m\u001b[1;33m\u001b[0m\u001b[1;33m\u001b[0m\u001b[0m\n",
      "\u001b[1;32m~\\Anaconda3\\envs\\ai\\lib\\site-packages\\keras\\utils\\traceback_utils.py\u001b[0m in \u001b[0;36merror_handler\u001b[1;34m(*args, **kwargs)\u001b[0m\n\u001b[0;32m     65\u001b[0m     \u001b[1;32mexcept\u001b[0m \u001b[0mException\u001b[0m \u001b[1;32mas\u001b[0m \u001b[0me\u001b[0m\u001b[1;33m:\u001b[0m  \u001b[1;31m# pylint: disable=broad-except\u001b[0m\u001b[1;33m\u001b[0m\u001b[1;33m\u001b[0m\u001b[0m\n\u001b[0;32m     66\u001b[0m       \u001b[0mfiltered_tb\u001b[0m \u001b[1;33m=\u001b[0m \u001b[0m_process_traceback_frames\u001b[0m\u001b[1;33m(\u001b[0m\u001b[0me\u001b[0m\u001b[1;33m.\u001b[0m\u001b[0m__traceback__\u001b[0m\u001b[1;33m)\u001b[0m\u001b[1;33m\u001b[0m\u001b[1;33m\u001b[0m\u001b[0m\n\u001b[1;32m---> 67\u001b[1;33m       \u001b[1;32mraise\u001b[0m \u001b[0me\u001b[0m\u001b[1;33m.\u001b[0m\u001b[0mwith_traceback\u001b[0m\u001b[1;33m(\u001b[0m\u001b[0mfiltered_tb\u001b[0m\u001b[1;33m)\u001b[0m \u001b[1;32mfrom\u001b[0m \u001b[1;32mNone\u001b[0m\u001b[1;33m\u001b[0m\u001b[1;33m\u001b[0m\u001b[0m\n\u001b[0m\u001b[0;32m     68\u001b[0m     \u001b[1;32mfinally\u001b[0m\u001b[1;33m:\u001b[0m\u001b[1;33m\u001b[0m\u001b[1;33m\u001b[0m\u001b[0m\n\u001b[0;32m     69\u001b[0m       \u001b[1;32mdel\u001b[0m \u001b[0mfiltered_tb\u001b[0m\u001b[1;33m\u001b[0m\u001b[1;33m\u001b[0m\u001b[0m\n",
      "\u001b[1;32m~\\Anaconda3\\envs\\ai\\lib\\site-packages\\keras\\engine\\input_spec.py\u001b[0m in \u001b[0;36massert_input_compatibility\u001b[1;34m(input_spec, inputs, layer_name)\u001b[0m\n\u001b[0;32m    211\u001b[0m       \u001b[0mndim\u001b[0m \u001b[1;33m=\u001b[0m \u001b[0mshape\u001b[0m\u001b[1;33m.\u001b[0m\u001b[0mrank\u001b[0m\u001b[1;33m\u001b[0m\u001b[1;33m\u001b[0m\u001b[0m\n\u001b[0;32m    212\u001b[0m       \u001b[1;32mif\u001b[0m \u001b[0mndim\u001b[0m \u001b[1;33m!=\u001b[0m \u001b[0mspec\u001b[0m\u001b[1;33m.\u001b[0m\u001b[0mndim\u001b[0m\u001b[1;33m:\u001b[0m\u001b[1;33m\u001b[0m\u001b[1;33m\u001b[0m\u001b[0m\n\u001b[1;32m--> 213\u001b[1;33m         raise ValueError(f'Input {input_index} of layer \"{layer_name}\" '\n\u001b[0m\u001b[0;32m    214\u001b[0m                          \u001b[1;34m'is incompatible with the layer: '\u001b[0m\u001b[1;33m\u001b[0m\u001b[1;33m\u001b[0m\u001b[0m\n\u001b[0;32m    215\u001b[0m                          \u001b[1;34mf'expected ndim={spec.ndim}, found ndim={ndim}. '\u001b[0m\u001b[1;33m\u001b[0m\u001b[1;33m\u001b[0m\u001b[0m\n",
      "\u001b[1;31mValueError\u001b[0m: Input 0 of layer \"lstm_4\" is incompatible with the layer: expected ndim=3, found ndim=2. Full shape received: (None, 512)"
     ]
    }
   ],
   "source": [
    "hidden_units = 512\n",
    "\n",
    "model = Sequential()\n",
    "model.add(LSTM(hidden_units, activation='relu', input_shape=(3, 35)))\n",
    "model.add(LSTM(64, activation='relu', input_shape=(3, 35)))\n",
    "model.add(Dense(1, activation='softmax'))\n",
    "\n",
    "model.summary()"
   ]
  },
  {
   "cell_type": "code",
   "execution_count": null,
   "id": "a8ea57d6",
   "metadata": {},
   "outputs": [],
   "source": [
    "model.compile(loss='categorical_crossentropy', optimizer='adam', metrics=['accuracy'])"
   ]
  },
  {
   "cell_type": "code",
   "execution_count": null,
   "id": "a6a9eedb",
   "metadata": {},
   "outputs": [],
   "source": [
    "hist = model.fit(train, test, epochs=5, batch_size=128, validation_data=(sx_val, sy_val))"
   ]
  },
  {
   "cell_type": "markdown",
   "id": "7110b5e7",
   "metadata": {},
   "source": [
    "변화 없음"
   ]
  },
  {
   "cell_type": "markdown",
   "id": "5263487c",
   "metadata": {},
   "source": [
    "### 의문\n",
    "> 혹시 epochs가 너무 적어서 학습이 안되는지 확인"
   ]
  },
  {
   "cell_type": "code",
   "execution_count": null,
   "id": "c1d458c0",
   "metadata": {
    "scrolled": true
   },
   "outputs": [],
   "source": [
    "hist = model.fit(train, test, epochs=20, batch_size=128, validation_data=(sx_val, sy_val))"
   ]
  },
  {
   "cell_type": "markdown",
   "id": "e5353543",
   "metadata": {},
   "source": [
    "변화 없음"
   ]
  },
  {
   "cell_type": "markdown",
   "id": "5439ddb2",
   "metadata": {},
   "source": [
    "## LSTM에 적합한 활성화 함수가 있음을 확인. tanh로 시도"
   ]
  },
  {
   "cell_type": "code",
   "execution_count": 127,
   "id": "adf942a5",
   "metadata": {},
   "outputs": [
    {
     "name": "stdout",
     "output_type": "stream",
     "text": [
      "Model: \"sequential_3\"\n",
      "_________________________________________________________________\n",
      " Layer (type)                Output Shape              Param #   \n",
      "=================================================================\n",
      " lstm_5 (LSTM)               (None, 128)               83968     \n",
      "                                                                 \n",
      " dense_2 (Dense)             (None, 64)                8256      \n",
      "                                                                 \n",
      " dropout (Dropout)           (None, 64)                0         \n",
      "                                                                 \n",
      " dense_3 (Dense)             (None, 1)                 65        \n",
      "                                                                 \n",
      "=================================================================\n",
      "Total params: 92,289\n",
      "Trainable params: 92,289\n",
      "Non-trainable params: 0\n",
      "_________________________________________________________________\n"
     ]
    }
   ],
   "source": [
    "hidden_units = 128\n",
    "\n",
    "model = Sequential()\n",
    "model.add(LSTM(hidden_units, activation='tanh', input_shape=(3, 35)))\n",
    "model.add(Dense(64, activation='relu'))\n",
    "model.add(Dropout(0.5))\n",
    "model.add(Dense(1, activation='sigmoid'))\n",
    "\n",
    "model.summary()"
   ]
  },
  {
   "cell_type": "code",
   "execution_count": 128,
   "id": "6930ba71",
   "metadata": {},
   "outputs": [],
   "source": [
    "SGD = tf.keras.optimizers.SGD(learning_rate=0.02)\n",
    "\n",
    "model.compile(loss=tf.keras.losses.BinaryCrossentropy(), optimizer=SGD, metrics=['accuracy'])"
   ]
  },
  {
   "cell_type": "code",
   "execution_count": 129,
   "id": "00a41dc6",
   "metadata": {},
   "outputs": [],
   "source": [
    "# callback = tf.keras.callbacks.EarlyStopping(monitor=\"val_loss\", patience=2)"
   ]
  },
  {
   "cell_type": "code",
   "execution_count": 130,
   "id": "6ef05754",
   "metadata": {},
   "outputs": [
    {
     "name": "stdout",
     "output_type": "stream",
     "text": [
      "Epoch 1/20\n",
      "741/741 [==============================] - 3s 3ms/step - loss: 0.6465 - accuracy: 0.6172 - val_loss: 0.6333 - val_accuracy: 0.6179\n",
      "Epoch 2/20\n",
      "741/741 [==============================] - 2s 3ms/step - loss: 0.6120 - accuracy: 0.6565 - val_loss: 0.6296 - val_accuracy: 0.6243\n",
      "Epoch 3/20\n",
      "741/741 [==============================] - 2s 3ms/step - loss: 0.5998 - accuracy: 0.6708 - val_loss: 0.6268 - val_accuracy: 0.6284\n",
      "Epoch 4/20\n",
      "741/741 [==============================] - 2s 3ms/step - loss: 0.5874 - accuracy: 0.6810 - val_loss: 0.6240 - val_accuracy: 0.6325\n",
      "Epoch 5/20\n",
      "741/741 [==============================] - 2s 3ms/step - loss: 0.5788 - accuracy: 0.6899 - val_loss: 0.6214 - val_accuracy: 0.6358\n",
      "Epoch 6/20\n",
      "741/741 [==============================] - 2s 3ms/step - loss: 0.5691 - accuracy: 0.6999 - val_loss: 0.6215 - val_accuracy: 0.6348\n",
      "Epoch 7/20\n",
      "741/741 [==============================] - 2s 3ms/step - loss: 0.5594 - accuracy: 0.7071 - val_loss: 0.6218 - val_accuracy: 0.6389\n",
      "Epoch 8/20\n",
      "741/741 [==============================] - 2s 3ms/step - loss: 0.5482 - accuracy: 0.7165 - val_loss: 0.6254 - val_accuracy: 0.6382\n",
      "Epoch 9/20\n",
      "741/741 [==============================] - 2s 3ms/step - loss: 0.5387 - accuracy: 0.7263 - val_loss: 0.6262 - val_accuracy: 0.6423\n",
      "Epoch 10/20\n",
      "741/741 [==============================] - 2s 3ms/step - loss: 0.5301 - accuracy: 0.7284 - val_loss: 0.6247 - val_accuracy: 0.6433\n",
      "Epoch 11/20\n",
      "741/741 [==============================] - 2s 3ms/step - loss: 0.5216 - accuracy: 0.7400 - val_loss: 0.6274 - val_accuracy: 0.6419\n",
      "Epoch 12/20\n",
      "741/741 [==============================] - 2s 3ms/step - loss: 0.5100 - accuracy: 0.7468 - val_loss: 0.6409 - val_accuracy: 0.6450\n",
      "Epoch 13/20\n",
      "741/741 [==============================] - 2s 3ms/step - loss: 0.4977 - accuracy: 0.7575 - val_loss: 0.6426 - val_accuracy: 0.6413\n",
      "Epoch 14/20\n",
      "741/741 [==============================] - 2s 3ms/step - loss: 0.4880 - accuracy: 0.7689 - val_loss: 0.6562 - val_accuracy: 0.6436\n",
      "Epoch 15/20\n",
      "741/741 [==============================] - 2s 3ms/step - loss: 0.4744 - accuracy: 0.7726 - val_loss: 0.6668 - val_accuracy: 0.6423\n",
      "Epoch 16/20\n",
      "741/741 [==============================] - 2s 3ms/step - loss: 0.4654 - accuracy: 0.7840 - val_loss: 0.6729 - val_accuracy: 0.6440\n",
      "Epoch 17/20\n",
      "741/741 [==============================] - 2s 3ms/step - loss: 0.4542 - accuracy: 0.7889 - val_loss: 0.6729 - val_accuracy: 0.6284\n",
      "Epoch 18/20\n",
      "741/741 [==============================] - 2s 3ms/step - loss: 0.4414 - accuracy: 0.7947 - val_loss: 0.6815 - val_accuracy: 0.6460\n",
      "Epoch 19/20\n",
      "741/741 [==============================] - 2s 3ms/step - loss: 0.4313 - accuracy: 0.8044 - val_loss: 0.7065 - val_accuracy: 0.6264\n",
      "Epoch 20/20\n",
      "741/741 [==============================] - 2s 3ms/step - loss: 0.4204 - accuracy: 0.8100 - val_loss: 0.7108 - val_accuracy: 0.6399\n"
     ]
    }
   ],
   "source": [
    "hist = model.fit(train, test, epochs=20, batch_size=32, validation_data=(sx_val, sy_val))"
   ]
  },
  {
   "cell_type": "code",
   "execution_count": null,
   "id": "89e55e9b",
   "metadata": {},
   "outputs": [],
   "source": [
    "plt.plot(hist.history['loss'])\n",
    "plt.plot(hist.history['val_loss'])\n",
    "plt.title('Loss compare')\n",
    "plt.legend(['loss','val_loss'], loc='upper left')\n",
    "plt.show()"
   ]
  },
  {
   "cell_type": "code",
   "execution_count": null,
   "id": "07da2f8c",
   "metadata": {},
   "outputs": [],
   "source": [
    "plt.plot(hist.history['accuracy'])\n",
    "plt.plot(hist.history['val_accuracy'])\n",
    "plt.title('Loss compare')\n",
    "plt.legend(['accuracy','val_accuracy'], loc='upper left')\n",
    "plt.show()"
   ]
  },
  {
   "cell_type": "markdown",
   "id": "628821a7",
   "metadata": {},
   "source": [
    "## GRU로 테스트 결과 LSTM 보다 성능이 낮게 나와 제외"
   ]
  }
 ],
 "metadata": {
  "kernelspec": {
   "display_name": "ai",
   "language": "python",
   "name": "ai"
  },
  "language_info": {
   "codemirror_mode": {
    "name": "ipython",
    "version": 3
   },
   "file_extension": ".py",
   "mimetype": "text/x-python",
   "name": "python",
   "nbconvert_exporter": "python",
   "pygments_lexer": "ipython3",
   "version": "3.9.7"
  }
 },
 "nbformat": 4,
 "nbformat_minor": 5
}
