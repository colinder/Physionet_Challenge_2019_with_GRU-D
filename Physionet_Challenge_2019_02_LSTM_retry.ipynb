{
 "cells": [
  {
   "cell_type": "code",
   "execution_count": 1,
   "id": "f45e18df",
   "metadata": {},
   "outputs": [],
   "source": [
    "import pandas as pd\n",
    "import numpy as np\n",
    "import matplotlib.pyplot as plt\n",
    "import seaborn as sns\n",
    "\n",
    "import os\n",
    "import csv\n",
    "from tqdm import tqdm"
   ]
  },
  {
   "cell_type": "code",
   "execution_count": 2,
   "id": "0c92c354",
   "metadata": {},
   "outputs": [],
   "source": [
    "# import data\n",
    "df = pd.read_csv('00_df.csv', index_col=0)\n",
    "pre_df = pd.read_csv('01_pre_df.csv', index_col=0)\n",
    "interpoltaed_mv_df = pd.read_csv('02_interpoltaed_mv_df.csv', index_col=0)"
   ]
  },
  {
   "cell_type": "code",
   "execution_count": 3,
   "id": "7ed43377",
   "metadata": {},
   "outputs": [
    {
     "data": {
      "text/plain": [
       "(783926, 41)"
      ]
     },
     "execution_count": 3,
     "metadata": {},
     "output_type": "execute_result"
    }
   ],
   "source": [
    "df.shape   # (783926, 41)"
   ]
  },
  {
   "cell_type": "code",
   "execution_count": 4,
   "id": "ac0b3bf3",
   "metadata": {},
   "outputs": [
    {
     "data": {
      "text/plain": [
       "(783926, 37)"
      ]
     },
     "execution_count": 4,
     "metadata": {},
     "output_type": "execute_result"
    }
   ],
   "source": [
    "pre_df.shape   # (783926, 37)"
   ]
  },
  {
   "cell_type": "code",
   "execution_count": 5,
   "id": "dd4af8f4",
   "metadata": {},
   "outputs": [
    {
     "data": {
      "text/plain": [
       "(783926, 40)"
      ]
     },
     "execution_count": 5,
     "metadata": {},
     "output_type": "execute_result"
    }
   ],
   "source": [
    "interpoltaed_mv_df.shape"
   ]
  },
  {
   "cell_type": "code",
   "execution_count": 6,
   "id": "d9e3d7cb",
   "metadata": {},
   "outputs": [],
   "source": [
    "# import list data\n",
    "\n",
    "data_length_per_person = []\n",
    "data_length_per_person_sum = []\n",
    "\n",
    "with open('data_length_per_person.csv', 'r', encoding='utf-8') as f:\n",
    "    rdr = csv.reader(f)\n",
    "    for para in rdr:\n",
    "        for i in para:\n",
    "            data_length_per_person.append(int(i))\n",
    "\n",
    "\n",
    "with open('data_length_per_person_sum.csv', 'r', encoding='utf-8') as f:\n",
    "    rdr = csv.reader(f)\n",
    "    for para in rdr:\n",
    "        for i in para:\n",
    "            data_length_per_person_sum.append(int(i))"
   ]
  },
  {
   "cell_type": "code",
   "execution_count": 7,
   "id": "87347e21",
   "metadata": {},
   "outputs": [
    {
     "data": {
      "text/plain": [
       "20169"
      ]
     },
     "execution_count": 7,
     "metadata": {},
     "output_type": "execute_result"
    }
   ],
   "source": [
    "len(data_length_per_person)   # 20169"
   ]
  },
  {
   "cell_type": "code",
   "execution_count": 8,
   "id": "e4248d48",
   "metadata": {},
   "outputs": [
    {
     "data": {
      "text/plain": [
       "20169"
      ]
     },
     "execution_count": 8,
     "metadata": {},
     "output_type": "execute_result"
    }
   ],
   "source": [
    "len(data_length_per_person_sum)   # 20169"
   ]
  },
  {
   "cell_type": "markdown",
   "id": "c135ec0b",
   "metadata": {},
   "source": [
    "## interpoltaed_mv_df 기준 \n",
    "논적으로 필요없는 데이터와 선형회귀로 결측치가 대치된 데이터만 사용해서 테스트"
   ]
  },
  {
   "cell_type": "code",
   "execution_count": 9,
   "id": "2f01dcf2",
   "metadata": {},
   "outputs": [
    {
     "data": {
      "text/html": [
       "<div>\n",
       "<style scoped>\n",
       "    .dataframe tbody tr th:only-of-type {\n",
       "        vertical-align: middle;\n",
       "    }\n",
       "\n",
       "    .dataframe tbody tr th {\n",
       "        vertical-align: top;\n",
       "    }\n",
       "\n",
       "    .dataframe thead th {\n",
       "        text-align: right;\n",
       "    }\n",
       "</style>\n",
       "<table border=\"1\" class=\"dataframe\">\n",
       "  <thead>\n",
       "    <tr style=\"text-align: right;\">\n",
       "      <th></th>\n",
       "      <th>HR</th>\n",
       "      <th>O2Sat</th>\n",
       "      <th>Temp</th>\n",
       "      <th>SBP</th>\n",
       "      <th>MAP</th>\n",
       "      <th>DBP</th>\n",
       "      <th>Resp</th>\n",
       "      <th>BaseExcess</th>\n",
       "      <th>HCO3</th>\n",
       "      <th>FiO2</th>\n",
       "      <th>...</th>\n",
       "      <th>WBC</th>\n",
       "      <th>Fibrinogen</th>\n",
       "      <th>Platelets</th>\n",
       "      <th>Age</th>\n",
       "      <th>Gender</th>\n",
       "      <th>Unit1</th>\n",
       "      <th>Unit2</th>\n",
       "      <th>HospAdmTime</th>\n",
       "      <th>ICULOS</th>\n",
       "      <th>SepsisLabel</th>\n",
       "    </tr>\n",
       "  </thead>\n",
       "  <tbody>\n",
       "    <tr>\n",
       "      <th>0</th>\n",
       "      <td>101.6</td>\n",
       "      <td>91.5</td>\n",
       "      <td>36.80</td>\n",
       "      <td>126.8</td>\n",
       "      <td>87.30</td>\n",
       "      <td>NaN</td>\n",
       "      <td>24.8</td>\n",
       "      <td>20.7</td>\n",
       "      <td>46.5</td>\n",
       "      <td>0.30</td>\n",
       "      <td>...</td>\n",
       "      <td>10.2</td>\n",
       "      <td>NaN</td>\n",
       "      <td>327.5</td>\n",
       "      <td>83.14</td>\n",
       "      <td>0</td>\n",
       "      <td>NaN</td>\n",
       "      <td>NaN</td>\n",
       "      <td>-0.03</td>\n",
       "      <td>1</td>\n",
       "      <td>0</td>\n",
       "    </tr>\n",
       "    <tr>\n",
       "      <th>1</th>\n",
       "      <td>97.0</td>\n",
       "      <td>95.0</td>\n",
       "      <td>36.80</td>\n",
       "      <td>98.0</td>\n",
       "      <td>75.33</td>\n",
       "      <td>NaN</td>\n",
       "      <td>19.0</td>\n",
       "      <td>20.7</td>\n",
       "      <td>46.5</td>\n",
       "      <td>0.30</td>\n",
       "      <td>...</td>\n",
       "      <td>10.2</td>\n",
       "      <td>NaN</td>\n",
       "      <td>327.5</td>\n",
       "      <td>83.14</td>\n",
       "      <td>0</td>\n",
       "      <td>NaN</td>\n",
       "      <td>NaN</td>\n",
       "      <td>-0.03</td>\n",
       "      <td>2</td>\n",
       "      <td>0</td>\n",
       "    </tr>\n",
       "    <tr>\n",
       "      <th>2</th>\n",
       "      <td>89.0</td>\n",
       "      <td>99.0</td>\n",
       "      <td>36.80</td>\n",
       "      <td>122.0</td>\n",
       "      <td>86.00</td>\n",
       "      <td>NaN</td>\n",
       "      <td>22.0</td>\n",
       "      <td>20.7</td>\n",
       "      <td>46.5</td>\n",
       "      <td>0.30</td>\n",
       "      <td>...</td>\n",
       "      <td>10.2</td>\n",
       "      <td>NaN</td>\n",
       "      <td>327.5</td>\n",
       "      <td>83.14</td>\n",
       "      <td>0</td>\n",
       "      <td>NaN</td>\n",
       "      <td>NaN</td>\n",
       "      <td>-0.03</td>\n",
       "      <td>3</td>\n",
       "      <td>0</td>\n",
       "    </tr>\n",
       "    <tr>\n",
       "      <th>3</th>\n",
       "      <td>90.0</td>\n",
       "      <td>95.0</td>\n",
       "      <td>36.80</td>\n",
       "      <td>126.8</td>\n",
       "      <td>87.30</td>\n",
       "      <td>NaN</td>\n",
       "      <td>30.0</td>\n",
       "      <td>24.0</td>\n",
       "      <td>46.5</td>\n",
       "      <td>0.30</td>\n",
       "      <td>...</td>\n",
       "      <td>10.2</td>\n",
       "      <td>NaN</td>\n",
       "      <td>327.5</td>\n",
       "      <td>83.14</td>\n",
       "      <td>0</td>\n",
       "      <td>NaN</td>\n",
       "      <td>NaN</td>\n",
       "      <td>-0.03</td>\n",
       "      <td>4</td>\n",
       "      <td>0</td>\n",
       "    </tr>\n",
       "    <tr>\n",
       "      <th>4</th>\n",
       "      <td>103.0</td>\n",
       "      <td>88.5</td>\n",
       "      <td>36.80</td>\n",
       "      <td>122.0</td>\n",
       "      <td>91.33</td>\n",
       "      <td>NaN</td>\n",
       "      <td>24.5</td>\n",
       "      <td>20.7</td>\n",
       "      <td>46.5</td>\n",
       "      <td>0.28</td>\n",
       "      <td>...</td>\n",
       "      <td>10.2</td>\n",
       "      <td>NaN</td>\n",
       "      <td>327.5</td>\n",
       "      <td>83.14</td>\n",
       "      <td>0</td>\n",
       "      <td>NaN</td>\n",
       "      <td>NaN</td>\n",
       "      <td>-0.03</td>\n",
       "      <td>5</td>\n",
       "      <td>0</td>\n",
       "    </tr>\n",
       "    <tr>\n",
       "      <th>...</th>\n",
       "      <td>...</td>\n",
       "      <td>...</td>\n",
       "      <td>...</td>\n",
       "      <td>...</td>\n",
       "      <td>...</td>\n",
       "      <td>...</td>\n",
       "      <td>...</td>\n",
       "      <td>...</td>\n",
       "      <td>...</td>\n",
       "      <td>...</td>\n",
       "      <td>...</td>\n",
       "      <td>...</td>\n",
       "      <td>...</td>\n",
       "      <td>...</td>\n",
       "      <td>...</td>\n",
       "      <td>...</td>\n",
       "      <td>...</td>\n",
       "      <td>...</td>\n",
       "      <td>...</td>\n",
       "      <td>...</td>\n",
       "      <td>...</td>\n",
       "    </tr>\n",
       "    <tr>\n",
       "      <th>783921</th>\n",
       "      <td>88.0</td>\n",
       "      <td>98.0</td>\n",
       "      <td>38.10</td>\n",
       "      <td>135.0</td>\n",
       "      <td>81.00</td>\n",
       "      <td>64.0</td>\n",
       "      <td>16.0</td>\n",
       "      <td>0.0</td>\n",
       "      <td>25.7</td>\n",
       "      <td>0.50</td>\n",
       "      <td>...</td>\n",
       "      <td>14.0</td>\n",
       "      <td>NaN</td>\n",
       "      <td>325.5</td>\n",
       "      <td>62.29</td>\n",
       "      <td>1</td>\n",
       "      <td>NaN</td>\n",
       "      <td>NaN</td>\n",
       "      <td>-0.03</td>\n",
       "      <td>31</td>\n",
       "      <td>1</td>\n",
       "    </tr>\n",
       "    <tr>\n",
       "      <th>783922</th>\n",
       "      <td>96.0</td>\n",
       "      <td>98.0</td>\n",
       "      <td>38.72</td>\n",
       "      <td>174.0</td>\n",
       "      <td>97.00</td>\n",
       "      <td>72.0</td>\n",
       "      <td>16.0</td>\n",
       "      <td>2.0</td>\n",
       "      <td>25.7</td>\n",
       "      <td>0.50</td>\n",
       "      <td>...</td>\n",
       "      <td>14.0</td>\n",
       "      <td>NaN</td>\n",
       "      <td>325.5</td>\n",
       "      <td>62.29</td>\n",
       "      <td>1</td>\n",
       "      <td>NaN</td>\n",
       "      <td>NaN</td>\n",
       "      <td>-0.03</td>\n",
       "      <td>32</td>\n",
       "      <td>1</td>\n",
       "    </tr>\n",
       "    <tr>\n",
       "      <th>783923</th>\n",
       "      <td>140.0</td>\n",
       "      <td>97.0</td>\n",
       "      <td>38.10</td>\n",
       "      <td>133.0</td>\n",
       "      <td>81.50</td>\n",
       "      <td>62.5</td>\n",
       "      <td>16.0</td>\n",
       "      <td>0.0</td>\n",
       "      <td>25.7</td>\n",
       "      <td>0.50</td>\n",
       "      <td>...</td>\n",
       "      <td>14.0</td>\n",
       "      <td>NaN</td>\n",
       "      <td>325.5</td>\n",
       "      <td>62.29</td>\n",
       "      <td>1</td>\n",
       "      <td>NaN</td>\n",
       "      <td>NaN</td>\n",
       "      <td>-0.03</td>\n",
       "      <td>33</td>\n",
       "      <td>1</td>\n",
       "    </tr>\n",
       "    <tr>\n",
       "      <th>783924</th>\n",
       "      <td>120.0</td>\n",
       "      <td>96.0</td>\n",
       "      <td>38.10</td>\n",
       "      <td>154.0</td>\n",
       "      <td>118.00</td>\n",
       "      <td>105.0</td>\n",
       "      <td>16.0</td>\n",
       "      <td>0.0</td>\n",
       "      <td>25.7</td>\n",
       "      <td>0.50</td>\n",
       "      <td>...</td>\n",
       "      <td>14.0</td>\n",
       "      <td>NaN</td>\n",
       "      <td>325.5</td>\n",
       "      <td>62.29</td>\n",
       "      <td>1</td>\n",
       "      <td>NaN</td>\n",
       "      <td>NaN</td>\n",
       "      <td>-0.03</td>\n",
       "      <td>34</td>\n",
       "      <td>1</td>\n",
       "    </tr>\n",
       "    <tr>\n",
       "      <th>783925</th>\n",
       "      <td>115.0</td>\n",
       "      <td>95.0</td>\n",
       "      <td>38.10</td>\n",
       "      <td>150.0</td>\n",
       "      <td>117.00</td>\n",
       "      <td>104.0</td>\n",
       "      <td>16.0</td>\n",
       "      <td>0.0</td>\n",
       "      <td>25.7</td>\n",
       "      <td>0.50</td>\n",
       "      <td>...</td>\n",
       "      <td>14.0</td>\n",
       "      <td>NaN</td>\n",
       "      <td>325.5</td>\n",
       "      <td>62.29</td>\n",
       "      <td>1</td>\n",
       "      <td>NaN</td>\n",
       "      <td>NaN</td>\n",
       "      <td>-0.03</td>\n",
       "      <td>35</td>\n",
       "      <td>1</td>\n",
       "    </tr>\n",
       "  </tbody>\n",
       "</table>\n",
       "<p>783926 rows × 40 columns</p>\n",
       "</div>"
      ],
      "text/plain": [
       "           HR  O2Sat   Temp    SBP     MAP    DBP  Resp  BaseExcess  HCO3  \\\n",
       "0       101.6   91.5  36.80  126.8   87.30    NaN  24.8        20.7  46.5   \n",
       "1        97.0   95.0  36.80   98.0   75.33    NaN  19.0        20.7  46.5   \n",
       "2        89.0   99.0  36.80  122.0   86.00    NaN  22.0        20.7  46.5   \n",
       "3        90.0   95.0  36.80  126.8   87.30    NaN  30.0        24.0  46.5   \n",
       "4       103.0   88.5  36.80  122.0   91.33    NaN  24.5        20.7  46.5   \n",
       "...       ...    ...    ...    ...     ...    ...   ...         ...   ...   \n",
       "783921   88.0   98.0  38.10  135.0   81.00   64.0  16.0         0.0  25.7   \n",
       "783922   96.0   98.0  38.72  174.0   97.00   72.0  16.0         2.0  25.7   \n",
       "783923  140.0   97.0  38.10  133.0   81.50   62.5  16.0         0.0  25.7   \n",
       "783924  120.0   96.0  38.10  154.0  118.00  105.0  16.0         0.0  25.7   \n",
       "783925  115.0   95.0  38.10  150.0  117.00  104.0  16.0         0.0  25.7   \n",
       "\n",
       "        FiO2  ...   WBC  Fibrinogen  Platelets    Age  Gender  Unit1  Unit2  \\\n",
       "0       0.30  ...  10.2         NaN      327.5  83.14       0    NaN    NaN   \n",
       "1       0.30  ...  10.2         NaN      327.5  83.14       0    NaN    NaN   \n",
       "2       0.30  ...  10.2         NaN      327.5  83.14       0    NaN    NaN   \n",
       "3       0.30  ...  10.2         NaN      327.5  83.14       0    NaN    NaN   \n",
       "4       0.28  ...  10.2         NaN      327.5  83.14       0    NaN    NaN   \n",
       "...      ...  ...   ...         ...        ...    ...     ...    ...    ...   \n",
       "783921  0.50  ...  14.0         NaN      325.5  62.29       1    NaN    NaN   \n",
       "783922  0.50  ...  14.0         NaN      325.5  62.29       1    NaN    NaN   \n",
       "783923  0.50  ...  14.0         NaN      325.5  62.29       1    NaN    NaN   \n",
       "783924  0.50  ...  14.0         NaN      325.5  62.29       1    NaN    NaN   \n",
       "783925  0.50  ...  14.0         NaN      325.5  62.29       1    NaN    NaN   \n",
       "\n",
       "        HospAdmTime  ICULOS  SepsisLabel  \n",
       "0             -0.03       1            0  \n",
       "1             -0.03       2            0  \n",
       "2             -0.03       3            0  \n",
       "3             -0.03       4            0  \n",
       "4             -0.03       5            0  \n",
       "...             ...     ...          ...  \n",
       "783921        -0.03      31            1  \n",
       "783922        -0.03      32            1  \n",
       "783923        -0.03      33            1  \n",
       "783924        -0.03      34            1  \n",
       "783925        -0.03      35            1  \n",
       "\n",
       "[783926 rows x 40 columns]"
      ]
     },
     "execution_count": 9,
     "metadata": {},
     "output_type": "execute_result"
    }
   ],
   "source": [
    "interpoltaed_mv_df"
   ]
  },
  {
   "cell_type": "code",
   "execution_count": 10,
   "id": "bb8284d0",
   "metadata": {},
   "outputs": [
    {
     "data": {
      "text/plain": [
       "Index(['HR', 'O2Sat', 'Temp', 'SBP', 'MAP', 'DBP', 'Resp', 'BaseExcess',\n",
       "       'HCO3', 'FiO2', 'pH', 'PaCO2', 'SaO2', 'AST', 'BUN', 'Alkalinephos',\n",
       "       'Calcium', 'Chloride', 'Creatinine', 'Bilirubin_direct', 'Glucose',\n",
       "       'Lactate', 'Magnesium', 'Phosphate', 'Potassium', 'Bilirubin_total',\n",
       "       'TroponinI', 'Hct', 'Hgb', 'PTT', 'WBC', 'Fibrinogen', 'Platelets',\n",
       "       'Age', 'Gender', 'Unit1', 'Unit2', 'HospAdmTime', 'ICULOS',\n",
       "       'SepsisLabel'],\n",
       "      dtype='object')"
      ]
     },
     "execution_count": 10,
     "metadata": {},
     "output_type": "execute_result"
    }
   ],
   "source": [
    "cols = interpoltaed_mv_df.columns\n",
    "cols"
   ]
  },
  {
   "cell_type": "code",
   "execution_count": 11,
   "id": "c4d56327",
   "metadata": {},
   "outputs": [],
   "source": [
    "interpoltaed_mv_df.drop(['Unit1', 'Unit2', 'HospAdmTime', 'ICULOS'], axis=1, inplace=True)"
   ]
  },
  {
   "cell_type": "code",
   "execution_count": 12,
   "id": "7b025527",
   "metadata": {},
   "outputs": [
    {
     "data": {
      "text/plain": [
       "(783926, 36)"
      ]
     },
     "execution_count": 12,
     "metadata": {},
     "output_type": "execute_result"
    }
   ],
   "source": [
    "interpoltaed_mv_df.shape"
   ]
  },
  {
   "cell_type": "code",
   "execution_count": 13,
   "id": "572150c0",
   "metadata": {},
   "outputs": [
    {
     "data": {
      "text/plain": [
       "36"
      ]
     },
     "execution_count": 13,
     "metadata": {},
     "output_type": "execute_result"
    }
   ],
   "source": [
    "cols = interpoltaed_mv_df.columns\n",
    "len(cols)"
   ]
  },
  {
   "cell_type": "markdown",
   "id": "5927265f",
   "metadata": {},
   "source": [
    "## 환자별 20 row data를 추출\n",
    "20 row가 되지 않는다면 drop / 20 이상의 row를 가지고 있다면 뒤쪽 데이터부터 20을 추출"
   ]
  },
  {
   "cell_type": "code",
   "execution_count": 14,
   "id": "a9ae0d59",
   "metadata": {},
   "outputs": [
    {
     "data": {
      "text/plain": [
       "20169"
      ]
     },
     "execution_count": 14,
     "metadata": {},
     "output_type": "execute_result"
    }
   ],
   "source": [
    "len(data_length_per_person_sum)"
   ]
  },
  {
   "cell_type": "code",
   "execution_count": 15,
   "id": "005aa2d3",
   "metadata": {},
   "outputs": [],
   "source": [
    "data_length_per_person_sum.insert(0,0)"
   ]
  },
  {
   "cell_type": "code",
   "execution_count": 16,
   "id": "b536f936",
   "metadata": {},
   "outputs": [
    {
     "data": {
      "text/plain": [
       "20170"
      ]
     },
     "execution_count": 16,
     "metadata": {},
     "output_type": "execute_result"
    }
   ],
   "source": [
    "len(data_length_per_person_sum)"
   ]
  },
  {
   "cell_type": "code",
   "execution_count": 17,
   "id": "cb77f0fe",
   "metadata": {},
   "outputs": [
    {
     "name": "stderr",
     "output_type": "stream",
     "text": [
      "100%|██████████| 20169/20169 [07:31<00:00, 44.65it/s]\n"
     ]
    }
   ],
   "source": [
    "s_i = 0\n",
    "e_i = 1\n",
    "\n",
    "data_per_patient_for_20 = pd.DataFrame(columns = cols)\n",
    "for i in tqdm(range(len(data_length_per_person_sum)-1)):\n",
    "    s = data_length_per_person_sum[s_i]\n",
    "    e = data_length_per_person_sum[e_i]\n",
    "    if e - s >= 20:\n",
    "        temp = interpoltaed_mv_df[e-20:e]\n",
    "        data_per_patient_for_20 = pd.concat([data_per_patient_for_20, temp])\n",
    "    \n",
    "    s_i += 1\n",
    "    e_i += 1"
   ]
  },
  {
   "cell_type": "code",
   "execution_count": 18,
   "id": "cfc6b608",
   "metadata": {},
   "outputs": [
    {
     "data": {
      "text/html": [
       "<div>\n",
       "<style scoped>\n",
       "    .dataframe tbody tr th:only-of-type {\n",
       "        vertical-align: middle;\n",
       "    }\n",
       "\n",
       "    .dataframe tbody tr th {\n",
       "        vertical-align: top;\n",
       "    }\n",
       "\n",
       "    .dataframe thead th {\n",
       "        text-align: right;\n",
       "    }\n",
       "</style>\n",
       "<table border=\"1\" class=\"dataframe\">\n",
       "  <thead>\n",
       "    <tr style=\"text-align: right;\">\n",
       "      <th></th>\n",
       "      <th>HR</th>\n",
       "      <th>O2Sat</th>\n",
       "      <th>Temp</th>\n",
       "      <th>SBP</th>\n",
       "      <th>MAP</th>\n",
       "      <th>DBP</th>\n",
       "      <th>Resp</th>\n",
       "      <th>BaseExcess</th>\n",
       "      <th>HCO3</th>\n",
       "      <th>FiO2</th>\n",
       "      <th>...</th>\n",
       "      <th>TroponinI</th>\n",
       "      <th>Hct</th>\n",
       "      <th>Hgb</th>\n",
       "      <th>PTT</th>\n",
       "      <th>WBC</th>\n",
       "      <th>Fibrinogen</th>\n",
       "      <th>Platelets</th>\n",
       "      <th>Age</th>\n",
       "      <th>Gender</th>\n",
       "      <th>SepsisLabel</th>\n",
       "    </tr>\n",
       "  </thead>\n",
       "  <tbody>\n",
       "    <tr>\n",
       "      <th>34</th>\n",
       "      <td>102.0</td>\n",
       "      <td>91.5</td>\n",
       "      <td>36.80</td>\n",
       "      <td>103.0</td>\n",
       "      <td>75.67</td>\n",
       "      <td>NaN</td>\n",
       "      <td>24.0</td>\n",
       "      <td>20.7</td>\n",
       "      <td>46.5</td>\n",
       "      <td>0.3</td>\n",
       "      <td>...</td>\n",
       "      <td>NaN</td>\n",
       "      <td>36.7</td>\n",
       "      <td>12.3</td>\n",
       "      <td>NaN</td>\n",
       "      <td>10.2</td>\n",
       "      <td>NaN</td>\n",
       "      <td>327.5</td>\n",
       "      <td>83.14</td>\n",
       "      <td>0</td>\n",
       "      <td>0</td>\n",
       "    </tr>\n",
       "    <tr>\n",
       "      <th>35</th>\n",
       "      <td>99.0</td>\n",
       "      <td>89.0</td>\n",
       "      <td>37.11</td>\n",
       "      <td>113.0</td>\n",
       "      <td>96.33</td>\n",
       "      <td>NaN</td>\n",
       "      <td>26.0</td>\n",
       "      <td>20.7</td>\n",
       "      <td>46.5</td>\n",
       "      <td>0.3</td>\n",
       "      <td>...</td>\n",
       "      <td>NaN</td>\n",
       "      <td>36.7</td>\n",
       "      <td>12.3</td>\n",
       "      <td>NaN</td>\n",
       "      <td>10.2</td>\n",
       "      <td>NaN</td>\n",
       "      <td>327.5</td>\n",
       "      <td>83.14</td>\n",
       "      <td>0</td>\n",
       "      <td>0</td>\n",
       "    </tr>\n",
       "    <tr>\n",
       "      <th>36</th>\n",
       "      <td>97.0</td>\n",
       "      <td>89.0</td>\n",
       "      <td>36.80</td>\n",
       "      <td>110.0</td>\n",
       "      <td>72.00</td>\n",
       "      <td>NaN</td>\n",
       "      <td>29.0</td>\n",
       "      <td>20.7</td>\n",
       "      <td>46.5</td>\n",
       "      <td>0.3</td>\n",
       "      <td>...</td>\n",
       "      <td>NaN</td>\n",
       "      <td>36.7</td>\n",
       "      <td>12.3</td>\n",
       "      <td>NaN</td>\n",
       "      <td>10.2</td>\n",
       "      <td>NaN</td>\n",
       "      <td>327.5</td>\n",
       "      <td>83.14</td>\n",
       "      <td>0</td>\n",
       "      <td>0</td>\n",
       "    </tr>\n",
       "    <tr>\n",
       "      <th>37</th>\n",
       "      <td>110.0</td>\n",
       "      <td>89.0</td>\n",
       "      <td>36.80</td>\n",
       "      <td>108.0</td>\n",
       "      <td>90.67</td>\n",
       "      <td>NaN</td>\n",
       "      <td>24.0</td>\n",
       "      <td>20.7</td>\n",
       "      <td>46.5</td>\n",
       "      <td>0.3</td>\n",
       "      <td>...</td>\n",
       "      <td>NaN</td>\n",
       "      <td>36.7</td>\n",
       "      <td>12.3</td>\n",
       "      <td>NaN</td>\n",
       "      <td>10.2</td>\n",
       "      <td>NaN</td>\n",
       "      <td>327.5</td>\n",
       "      <td>83.14</td>\n",
       "      <td>0</td>\n",
       "      <td>0</td>\n",
       "    </tr>\n",
       "    <tr>\n",
       "      <th>38</th>\n",
       "      <td>108.0</td>\n",
       "      <td>89.0</td>\n",
       "      <td>36.80</td>\n",
       "      <td>139.0</td>\n",
       "      <td>102.33</td>\n",
       "      <td>NaN</td>\n",
       "      <td>26.0</td>\n",
       "      <td>20.0</td>\n",
       "      <td>46.5</td>\n",
       "      <td>0.3</td>\n",
       "      <td>...</td>\n",
       "      <td>NaN</td>\n",
       "      <td>36.7</td>\n",
       "      <td>12.3</td>\n",
       "      <td>NaN</td>\n",
       "      <td>10.2</td>\n",
       "      <td>NaN</td>\n",
       "      <td>327.5</td>\n",
       "      <td>83.14</td>\n",
       "      <td>0</td>\n",
       "      <td>0</td>\n",
       "    </tr>\n",
       "    <tr>\n",
       "      <th>...</th>\n",
       "      <td>...</td>\n",
       "      <td>...</td>\n",
       "      <td>...</td>\n",
       "      <td>...</td>\n",
       "      <td>...</td>\n",
       "      <td>...</td>\n",
       "      <td>...</td>\n",
       "      <td>...</td>\n",
       "      <td>...</td>\n",
       "      <td>...</td>\n",
       "      <td>...</td>\n",
       "      <td>...</td>\n",
       "      <td>...</td>\n",
       "      <td>...</td>\n",
       "      <td>...</td>\n",
       "      <td>...</td>\n",
       "      <td>...</td>\n",
       "      <td>...</td>\n",
       "      <td>...</td>\n",
       "      <td>...</td>\n",
       "      <td>...</td>\n",
       "    </tr>\n",
       "    <tr>\n",
       "      <th>783921</th>\n",
       "      <td>88.0</td>\n",
       "      <td>98.0</td>\n",
       "      <td>38.10</td>\n",
       "      <td>135.0</td>\n",
       "      <td>81.00</td>\n",
       "      <td>64.0</td>\n",
       "      <td>16.0</td>\n",
       "      <td>0.0</td>\n",
       "      <td>25.7</td>\n",
       "      <td>0.5</td>\n",
       "      <td>...</td>\n",
       "      <td>NaN</td>\n",
       "      <td>31.2</td>\n",
       "      <td>11.6</td>\n",
       "      <td>29.8</td>\n",
       "      <td>14.0</td>\n",
       "      <td>NaN</td>\n",
       "      <td>325.5</td>\n",
       "      <td>62.29</td>\n",
       "      <td>1</td>\n",
       "      <td>1</td>\n",
       "    </tr>\n",
       "    <tr>\n",
       "      <th>783922</th>\n",
       "      <td>96.0</td>\n",
       "      <td>98.0</td>\n",
       "      <td>38.72</td>\n",
       "      <td>174.0</td>\n",
       "      <td>97.00</td>\n",
       "      <td>72.0</td>\n",
       "      <td>16.0</td>\n",
       "      <td>2.0</td>\n",
       "      <td>25.7</td>\n",
       "      <td>0.5</td>\n",
       "      <td>...</td>\n",
       "      <td>NaN</td>\n",
       "      <td>27.8</td>\n",
       "      <td>11.6</td>\n",
       "      <td>29.8</td>\n",
       "      <td>14.0</td>\n",
       "      <td>NaN</td>\n",
       "      <td>325.5</td>\n",
       "      <td>62.29</td>\n",
       "      <td>1</td>\n",
       "      <td>1</td>\n",
       "    </tr>\n",
       "    <tr>\n",
       "      <th>783923</th>\n",
       "      <td>140.0</td>\n",
       "      <td>97.0</td>\n",
       "      <td>38.10</td>\n",
       "      <td>133.0</td>\n",
       "      <td>81.50</td>\n",
       "      <td>62.5</td>\n",
       "      <td>16.0</td>\n",
       "      <td>0.0</td>\n",
       "      <td>25.7</td>\n",
       "      <td>0.5</td>\n",
       "      <td>...</td>\n",
       "      <td>NaN</td>\n",
       "      <td>31.2</td>\n",
       "      <td>11.6</td>\n",
       "      <td>29.8</td>\n",
       "      <td>14.0</td>\n",
       "      <td>NaN</td>\n",
       "      <td>325.5</td>\n",
       "      <td>62.29</td>\n",
       "      <td>1</td>\n",
       "      <td>1</td>\n",
       "    </tr>\n",
       "    <tr>\n",
       "      <th>783924</th>\n",
       "      <td>120.0</td>\n",
       "      <td>96.0</td>\n",
       "      <td>38.10</td>\n",
       "      <td>154.0</td>\n",
       "      <td>118.00</td>\n",
       "      <td>105.0</td>\n",
       "      <td>16.0</td>\n",
       "      <td>0.0</td>\n",
       "      <td>25.7</td>\n",
       "      <td>0.5</td>\n",
       "      <td>...</td>\n",
       "      <td>NaN</td>\n",
       "      <td>31.2</td>\n",
       "      <td>11.6</td>\n",
       "      <td>29.8</td>\n",
       "      <td>14.0</td>\n",
       "      <td>NaN</td>\n",
       "      <td>325.5</td>\n",
       "      <td>62.29</td>\n",
       "      <td>1</td>\n",
       "      <td>1</td>\n",
       "    </tr>\n",
       "    <tr>\n",
       "      <th>783925</th>\n",
       "      <td>115.0</td>\n",
       "      <td>95.0</td>\n",
       "      <td>38.10</td>\n",
       "      <td>150.0</td>\n",
       "      <td>117.00</td>\n",
       "      <td>104.0</td>\n",
       "      <td>16.0</td>\n",
       "      <td>0.0</td>\n",
       "      <td>25.7</td>\n",
       "      <td>0.5</td>\n",
       "      <td>...</td>\n",
       "      <td>NaN</td>\n",
       "      <td>31.2</td>\n",
       "      <td>11.6</td>\n",
       "      <td>29.8</td>\n",
       "      <td>14.0</td>\n",
       "      <td>NaN</td>\n",
       "      <td>325.5</td>\n",
       "      <td>62.29</td>\n",
       "      <td>1</td>\n",
       "      <td>1</td>\n",
       "    </tr>\n",
       "  </tbody>\n",
       "</table>\n",
       "<p>351700 rows × 36 columns</p>\n",
       "</div>"
      ],
      "text/plain": [
       "           HR  O2Sat   Temp    SBP     MAP    DBP  Resp  BaseExcess  HCO3  \\\n",
       "34      102.0   91.5  36.80  103.0   75.67    NaN  24.0        20.7  46.5   \n",
       "35       99.0   89.0  37.11  113.0   96.33    NaN  26.0        20.7  46.5   \n",
       "36       97.0   89.0  36.80  110.0   72.00    NaN  29.0        20.7  46.5   \n",
       "37      110.0   89.0  36.80  108.0   90.67    NaN  24.0        20.7  46.5   \n",
       "38      108.0   89.0  36.80  139.0  102.33    NaN  26.0        20.0  46.5   \n",
       "...       ...    ...    ...    ...     ...    ...   ...         ...   ...   \n",
       "783921   88.0   98.0  38.10  135.0   81.00   64.0  16.0         0.0  25.7   \n",
       "783922   96.0   98.0  38.72  174.0   97.00   72.0  16.0         2.0  25.7   \n",
       "783923  140.0   97.0  38.10  133.0   81.50   62.5  16.0         0.0  25.7   \n",
       "783924  120.0   96.0  38.10  154.0  118.00  105.0  16.0         0.0  25.7   \n",
       "783925  115.0   95.0  38.10  150.0  117.00  104.0  16.0         0.0  25.7   \n",
       "\n",
       "        FiO2  ...  TroponinI   Hct   Hgb   PTT   WBC  Fibrinogen  Platelets  \\\n",
       "34       0.3  ...        NaN  36.7  12.3   NaN  10.2         NaN      327.5   \n",
       "35       0.3  ...        NaN  36.7  12.3   NaN  10.2         NaN      327.5   \n",
       "36       0.3  ...        NaN  36.7  12.3   NaN  10.2         NaN      327.5   \n",
       "37       0.3  ...        NaN  36.7  12.3   NaN  10.2         NaN      327.5   \n",
       "38       0.3  ...        NaN  36.7  12.3   NaN  10.2         NaN      327.5   \n",
       "...      ...  ...        ...   ...   ...   ...   ...         ...        ...   \n",
       "783921   0.5  ...        NaN  31.2  11.6  29.8  14.0         NaN      325.5   \n",
       "783922   0.5  ...        NaN  27.8  11.6  29.8  14.0         NaN      325.5   \n",
       "783923   0.5  ...        NaN  31.2  11.6  29.8  14.0         NaN      325.5   \n",
       "783924   0.5  ...        NaN  31.2  11.6  29.8  14.0         NaN      325.5   \n",
       "783925   0.5  ...        NaN  31.2  11.6  29.8  14.0         NaN      325.5   \n",
       "\n",
       "          Age  Gender  SepsisLabel  \n",
       "34      83.14       0            0  \n",
       "35      83.14       0            0  \n",
       "36      83.14       0            0  \n",
       "37      83.14       0            0  \n",
       "38      83.14       0            0  \n",
       "...       ...     ...          ...  \n",
       "783921  62.29       1            1  \n",
       "783922  62.29       1            1  \n",
       "783923  62.29       1            1  \n",
       "783924  62.29       1            1  \n",
       "783925  62.29       1            1  \n",
       "\n",
       "[351700 rows x 36 columns]"
      ]
     },
     "execution_count": 18,
     "metadata": {},
     "output_type": "execute_result"
    }
   ],
   "source": [
    "data_per_patient_for_20"
   ]
  },
  {
   "cell_type": "code",
   "execution_count": 19,
   "id": "56aa3ea8",
   "metadata": {},
   "outputs": [
    {
     "data": {
      "text/plain": [
       "17585"
      ]
     },
     "execution_count": 19,
     "metadata": {},
     "output_type": "execute_result"
    }
   ],
   "source": [
    "people = int(data_per_patient_for_20.shape[0]/20)\n",
    "people"
   ]
  },
  {
   "cell_type": "code",
   "execution_count": 20,
   "id": "b9870b5a",
   "metadata": {},
   "outputs": [
    {
     "name": "stdout",
     "output_type": "stream",
     "text": [
      "20행 미만의 데이터 수 : 2584.0, 손실율: 12.8)\n"
     ]
    }
   ],
   "source": [
    "diff = (len(data_length_per_person_sum)-1) - data_per_patient_for_20.shape[0]/20\n",
    "loss = round(diff/(len(data_length_per_person_sum)-1)*100, 1)\n",
    "\n",
    "print(f'20행 미만의 데이터 수 : {diff}, 손실율: {loss})')"
   ]
  },
  {
   "cell_type": "markdown",
   "id": "4bd0e62a",
   "metadata": {},
   "source": [
    "### sepsis vs non_sepsis 추출"
   ]
  },
  {
   "cell_type": "code",
   "execution_count": 21,
   "id": "23ce8479",
   "metadata": {},
   "outputs": [
    {
     "name": "stderr",
     "output_type": "stream",
     "text": [
      "100%|██████████| 17585/17585 [07:59<00:00, 36.68it/s]\n"
     ]
    }
   ],
   "source": [
    "# sepsis와 non sepsis 구분\n",
    "\n",
    "s = 0\n",
    "e = 20\n",
    "\n",
    "sepsis_df = pd.DataFrame(columns=cols)\n",
    "non_sepsis_df = pd.DataFrame(columns=cols)\n",
    "\n",
    "for _ in tqdm(range(people)):\n",
    "    if data_per_patient_for_20[s:e]['SepsisLabel'].sum() >= 1:\n",
    "        data = data_per_patient_for_20[s:e]\n",
    "        sepsis_df = pd.concat([sepsis_df, data])\n",
    "    else: \n",
    "        data = data_per_patient_for_20[s:e]\n",
    "        non_sepsis_df = pd.concat([non_sepsis_df, data])\n",
    "        \n",
    "    s += 20\n",
    "    e += 20"
   ]
  },
  {
   "cell_type": "code",
   "execution_count": 22,
   "id": "56542206",
   "metadata": {},
   "outputs": [
    {
     "data": {
      "text/plain": [
       "(24700, 36)"
      ]
     },
     "execution_count": 22,
     "metadata": {},
     "output_type": "execute_result"
    }
   ],
   "source": [
    "sepsis_df.shape"
   ]
  },
  {
   "cell_type": "code",
   "execution_count": 23,
   "id": "8a0edb04",
   "metadata": {},
   "outputs": [
    {
     "data": {
      "text/plain": [
       "(327000, 36)"
      ]
     },
     "execution_count": 23,
     "metadata": {},
     "output_type": "execute_result"
    }
   ],
   "source": [
    "non_sepsis_df.shape"
   ]
  },
  {
   "cell_type": "markdown",
   "id": "a372c93d",
   "metadata": {},
   "source": [
    "## 3시간의 데이터를 보고 6시간 후의 패혈증 발병 정도를 예측\n",
    "### label 우선 추출\n",
    "1환자당 12개의 데이터 추출가능"
   ]
  },
  {
   "cell_type": "code",
   "execution_count": 24,
   "id": "ad363ce4",
   "metadata": {},
   "outputs": [
    {
     "name": "stderr",
     "output_type": "stream",
     "text": [
      "100%|██████████| 1235/1235 [00:00<00:00, 21713.93it/s]\n"
     ]
    }
   ],
   "source": [
    "e = 20\n",
    "\n",
    "s_label = []\n",
    "for i in tqdm(range(int(sepsis_df.shape[0]/20))):\n",
    "    temp = sepsis_df[\"SepsisLabel\"][e-12:e]\n",
    "    s_label.append(list(temp))\n",
    "    \n",
    "    e += 20"
   ]
  },
  {
   "cell_type": "code",
   "execution_count": 25,
   "id": "1cc9a986",
   "metadata": {},
   "outputs": [
    {
     "name": "stderr",
     "output_type": "stream",
     "text": [
      "100%|██████████| 16350/16350 [00:00<00:00, 20139.75it/s]\n"
     ]
    }
   ],
   "source": [
    "e = 20\n",
    "\n",
    "ns_label = []\n",
    "for i in tqdm(range(int(non_sepsis_df.shape[0]/20))):\n",
    "    temp = non_sepsis_df[\"SepsisLabel\"][e-12:e]\n",
    "    ns_label.append(list(temp))\n",
    "    \n",
    "    e += 20"
   ]
  },
  {
   "cell_type": "markdown",
   "id": "4ebc0666",
   "metadata": {},
   "source": [
    "### 훈련, 검증, 테스트 세트 구성\n",
    "sepsis와 non_sepsis 데이터의 비율을 고려하지 않고 모든 데이터를 활용"
   ]
  },
  {
   "cell_type": "code",
   "execution_count": 26,
   "id": "1bd392f4",
   "metadata": {},
   "outputs": [
    {
     "data": {
      "text/plain": [
       "(24700, 35)"
      ]
     },
     "execution_count": 26,
     "metadata": {},
     "output_type": "execute_result"
    }
   ],
   "source": [
    "sepsis_df_no_label = sepsis_df.drop(['SepsisLabel'], axis=1)\n",
    "sepsis_df_no_label.shape"
   ]
  },
  {
   "cell_type": "code",
   "execution_count": 27,
   "id": "3a5a86de",
   "metadata": {},
   "outputs": [
    {
     "data": {
      "text/plain": [
       "(327000, 35)"
      ]
     },
     "execution_count": 27,
     "metadata": {},
     "output_type": "execute_result"
    }
   ],
   "source": [
    "non_sepsis_df_no_label = non_sepsis_df.drop(['SepsisLabel'], axis=1)\n",
    "non_sepsis_df_no_label.shape"
   ]
  },
  {
   "cell_type": "markdown",
   "id": "fc8855f7",
   "metadata": {},
   "source": [
    "### 선형회귀법으로 결측치를 대치하고 남은 결측치는 현 상태의 평균대치법으로 적용"
   ]
  },
  {
   "cell_type": "code",
   "execution_count": 28,
   "id": "ae1173a2",
   "metadata": {},
   "outputs": [],
   "source": [
    "cols = sepsis_df_no_label.columns"
   ]
  },
  {
   "cell_type": "code",
   "execution_count": 29,
   "id": "4d9ca6a2",
   "metadata": {},
   "outputs": [],
   "source": [
    "# # 전체 평균\n",
    "\n",
    "# total_mean = []\n",
    "\n",
    "# for col in cols:\n",
    "#     total_mean.append(round(sepsis_df_no_label[col].mean(), 1))\n",
    "\n",
    "# len(total_mean)"
   ]
  },
  {
   "cell_type": "code",
   "execution_count": 30,
   "id": "de6ac3b5",
   "metadata": {},
   "outputs": [
    {
     "name": "stderr",
     "output_type": "stream",
     "text": [
      "100%|██████████| 1235/1235 [00:06<00:00, 178.51it/s]\n"
     ]
    },
    {
     "data": {
      "text/plain": [
       "1235"
      ]
     },
     "execution_count": 30,
     "metadata": {},
     "output_type": "execute_result"
    }
   ],
   "source": [
    "# 환자 별 평균\n",
    "person_mean = []\n",
    "\n",
    "s_i = 0\n",
    "e_i = 20\n",
    "\n",
    "for _ in tqdm(range(int(sepsis_df_no_label.shape[0]/20))):\n",
    "    temp = []\n",
    "    for col in cols:\n",
    "        temp.append(sepsis_df_no_label[col][s_i:e_i].mean())\n",
    "    person_mean.append(temp)\n",
    "    \n",
    "    s_i += 20\n",
    "    e_i += 20\n",
    "    \n",
    "len(person_mean)"
   ]
  },
  {
   "cell_type": "markdown",
   "id": "97797d30",
   "metadata": {},
   "source": [
    "### 환자별 평균 값으로 column을 채워도 결측인 값은 0으로 대치 / 이후 전체 평균으로 대치하는 방법도 시도"
   ]
  },
  {
   "cell_type": "code",
   "execution_count": 31,
   "id": "460856f5",
   "metadata": {},
   "outputs": [
    {
     "name": "stderr",
     "output_type": "stream",
     "text": [
      "100%|██████████| 1235/1235 [00:00<00:00, 10415.76it/s]\n"
     ]
    }
   ],
   "source": [
    "# 환자별 평균을 정리한 리스트에 결측값을 0으로 변환\n",
    "\n",
    "for i in tqdm(range(len(person_mean))):\n",
    "    for j in range(len(person_mean[i])):\n",
    "        if str(person_mean[i][j]) == \"nan\":\n",
    "            person_mean[i][j] = 0\n",
    "        else:\n",
    "            person_mean[i][j] = round(person_mean[i][j], 1)"
   ]
  },
  {
   "cell_type": "code",
   "execution_count": 32,
   "id": "7798e529",
   "metadata": {},
   "outputs": [
    {
     "name": "stderr",
     "output_type": "stream",
     "text": [
      "100%|██████████| 1235/1235 [00:50<00:00, 24.63it/s]\n"
     ]
    }
   ],
   "source": [
    "# DP 생성 후 결측치 없는 데이터 세트 구성\n",
    "\n",
    "sepsis_df_no_label_mv = pd.DataFrame(columns = cols)\n",
    "\n",
    "s_i = 0\n",
    "e_i = 20\n",
    "\n",
    "for i in tqdm(range(int(sepsis_df_no_label.shape[0]/20))):\n",
    "    temp = pd.DataFrame()\n",
    "    for j, col in enumerate(cols):\n",
    "        temp[col] = sepsis_df_no_label[col][s_i:e_i].fillna(person_mean[i][j])\n",
    "        \n",
    "    sepsis_df_no_label_mv = pd.concat([sepsis_df_no_label_mv, temp])\n",
    "    s_i += 20\n",
    "    e_i += 20"
   ]
  },
  {
   "cell_type": "markdown",
   "id": "04379826",
   "metadata": {},
   "source": [
    "### 1환자 데이터(20개)를 3개씩 묶어서 x_train 세트 구성"
   ]
  },
  {
   "cell_type": "code",
   "execution_count": 33,
   "id": "89eb3096",
   "metadata": {},
   "outputs": [],
   "source": [
    "def ratio(li):\n",
    "    l = len(li)\n",
    "    train = l*0.8\n",
    "    val = train + int(l*0.1)\n",
    "    return int(train), int(val)"
   ]
  },
  {
   "cell_type": "code",
   "execution_count": 34,
   "id": "5191bf3d",
   "metadata": {},
   "outputs": [
    {
     "name": "stdout",
     "output_type": "stream",
     "text": [
      "988 1111\n"
     ]
    }
   ],
   "source": [
    "tr, va = ratio(s_label)\n",
    "print(tr, va)"
   ]
  },
  {
   "cell_type": "code",
   "execution_count": 35,
   "id": "7d0579c9",
   "metadata": {},
   "outputs": [
    {
     "name": "stderr",
     "output_type": "stream",
     "text": [
      "100%|██████████| 1235/1235 [00:17<00:00, 71.82it/s]\n"
     ]
    }
   ],
   "source": [
    "# sepsis 데이터 > x_train, x_val, x_test\n",
    "\n",
    "s = 0\n",
    "x_train = []\n",
    "x_val = []\n",
    "x_test = []\n",
    "\n",
    "for _ in tqdm(range(int(sepsis_df_no_label_mv.shape[0]/20))):\n",
    "    if _ < 988:\n",
    "        for i in range(12):     # 20개의 데이터 세트에서 12개의 데이터를 label에 달아 사용 가능\n",
    "            temp = sepsis_df_no_label_mv[s+i : s+i+3].values.tolist()\n",
    "            x_train.append(temp)\n",
    "    elif _ < 1111:\n",
    "        for i in range(12):     # 20개의 데이터 세트에서 12개의 데이터를 label에 달아 사용 가능\n",
    "            temp = sepsis_df_no_label_mv[s+i : s+i+3].values.tolist()\n",
    "            x_val.append(temp)\n",
    "    else: \n",
    "        for i in range(12):     # 20개의 데이터 세트에서 12개의 데이터를 label에 달아 사용 가능\n",
    "            temp = sepsis_df_no_label_mv[s+i : s+i+3].values.tolist()\n",
    "            x_test.append(temp)\n",
    "    s += 20"
   ]
  },
  {
   "cell_type": "code",
   "execution_count": 36,
   "id": "630a7eea",
   "metadata": {},
   "outputs": [
    {
     "name": "stdout",
     "output_type": "stream",
     "text": [
      "988.0 123.0 124.0 1235\n"
     ]
    }
   ],
   "source": [
    "print(len(x_train)/12, len(x_val)/12, len(x_test)/12, len(x_train)//12 + len(x_val)//12 + len(x_test)//12)"
   ]
  },
  {
   "cell_type": "markdown",
   "id": "9d21ceee",
   "metadata": {},
   "source": [
    "### non_sepsis_df 에도 동일하게 수행"
   ]
  },
  {
   "cell_type": "code",
   "execution_count": 37,
   "id": "d58de909",
   "metadata": {},
   "outputs": [
    {
     "name": "stderr",
     "output_type": "stream",
     "text": [
      "100%|██████████| 16350/16350 [02:16<00:00, 119.95it/s]\n"
     ]
    },
    {
     "data": {
      "text/plain": [
       "16350"
      ]
     },
     "execution_count": 37,
     "metadata": {},
     "output_type": "execute_result"
    }
   ],
   "source": [
    "# 환자 별 평균\n",
    "person_mean = []\n",
    "\n",
    "s_i = 0\n",
    "e_i = 20\n",
    "\n",
    "for _ in tqdm(range(int(non_sepsis_df_no_label.shape[0]/20))):\n",
    "    temp = []\n",
    "    for col in cols:\n",
    "        temp.append(non_sepsis_df_no_label[col][s_i:e_i].mean())\n",
    "    person_mean.append(temp)\n",
    "    \n",
    "    s_i += 20\n",
    "    e_i += 20\n",
    "    \n",
    "len(person_mean)"
   ]
  },
  {
   "cell_type": "code",
   "execution_count": 38,
   "id": "eab0087a",
   "metadata": {},
   "outputs": [
    {
     "name": "stderr",
     "output_type": "stream",
     "text": [
      "100%|██████████| 16350/16350 [00:01<00:00, 8396.45it/s]\n"
     ]
    }
   ],
   "source": [
    "# 환자별 평균을 정리한 리스트에 결측값을 0으로 변환\n",
    "\n",
    "for i in tqdm(range(len(person_mean))):\n",
    "    for j in range(len(person_mean[i])):\n",
    "        if str(person_mean[i][j]) == \"nan\":\n",
    "            person_mean[i][j] = 0\n",
    "        else:\n",
    "            person_mean[i][j] = round(person_mean[i][j], 1)"
   ]
  },
  {
   "cell_type": "code",
   "execution_count": 39,
   "id": "f0c35c78",
   "metadata": {},
   "outputs": [
    {
     "name": "stderr",
     "output_type": "stream",
     "text": [
      "100%|██████████| 16350/16350 [14:24<00:00, 18.91it/s]\n"
     ]
    }
   ],
   "source": [
    "# DP 생성 후 결측치 없는 데이터 세트 구성\n",
    "\n",
    "non_sepsis_df_no_label_mv = pd.DataFrame(columns = cols)\n",
    "\n",
    "s_i = 0\n",
    "e_i = 20\n",
    "\n",
    "for i in tqdm(range(int(non_sepsis_df_no_label.shape[0]/20))):\n",
    "    temp = pd.DataFrame()\n",
    "    for j, col in enumerate(cols):\n",
    "        temp[col] = non_sepsis_df_no_label[col][s_i:e_i].fillna(person_mean[i][j])\n",
    "        \n",
    "    non_sepsis_df_no_label_mv = pd.concat([non_sepsis_df_no_label_mv, temp])\n",
    "    s_i += 20\n",
    "    e_i += 20"
   ]
  },
  {
   "cell_type": "code",
   "execution_count": 40,
   "id": "b039e8f8",
   "metadata": {},
   "outputs": [
    {
     "name": "stderr",
     "output_type": "stream",
     "text": [
      "  8%|▊         | 1235/16350 [00:07<01:32, 162.55it/s]\n"
     ]
    }
   ],
   "source": [
    "# non_sepsis 데이터 > y_train, y_val, y_test\n",
    "\n",
    "s = 0\n",
    "\n",
    "for _ in tqdm(range(int(non_sepsis_df_no_label_mv.shape[0]/20))):\n",
    "    if _ < 988:\n",
    "        for i in range(12):     # 20개의 데이터 세트에서 12개의 데이터를 label에 달아 사용 가능\n",
    "            temp = non_sepsis_df_no_label_mv[s+i : s+i+3].values.tolist()\n",
    "            x_train.append(temp)\n",
    "    elif _ < 1111:\n",
    "        for i in range(12):     # 20개의 데이터 세트에서 12개의 데이터를 label에 달아 사용 가능\n",
    "            temp = non_sepsis_df_no_label_mv[s+i : s+i+3].values.tolist()\n",
    "            x_val.append(temp)\n",
    "    elif _ < 1235:\n",
    "        for i in range(12):     # 20개의 데이터 세트에서 12개의 데이터를 label에 달아 사용 가능\n",
    "            temp = non_sepsis_df_no_label_mv[s+i : s+i+3].values.tolist()\n",
    "            x_test.append(temp)\n",
    "    else:\n",
    "        break\n",
    "    s += 20"
   ]
  },
  {
   "cell_type": "code",
   "execution_count": 41,
   "id": "e288ca8e",
   "metadata": {},
   "outputs": [
    {
     "name": "stdout",
     "output_type": "stream",
     "text": [
      "1976.0 246.0 248.0 2470\n"
     ]
    }
   ],
   "source": [
    "print(len(x_train)/12, len(x_val)/12, len(x_test)/12, len(x_train)//12 + len(x_val)//12 + len(x_test)//12)"
   ]
  },
  {
   "cell_type": "code",
   "execution_count": 42,
   "id": "bf2194a4",
   "metadata": {},
   "outputs": [
    {
     "name": "stdout",
     "output_type": "stream",
     "text": [
      "1976.0 246.0 248.0 2470\n"
     ]
    }
   ],
   "source": [
    "print(len(x_train)/12, len(x_val)/12, len(x_test)/12, len(x_train)//12 + len(x_val)//12 + len(x_test)//12)"
   ]
  },
  {
   "cell_type": "code",
   "execution_count": 43,
   "id": "b5c31ad9",
   "metadata": {},
   "outputs": [],
   "source": [
    "# sepsis label > train, val, test set 구성\n",
    "\n",
    "y_train = []\n",
    "y_val = []\n",
    "y_test = []   # 988 123 124 1235\n",
    "\n",
    "for _ in range(len(s_label)):\n",
    "    if _ < 988:\n",
    "        y_train += s_label[_]\n",
    "    elif _ < 1111:\n",
    "        y_val += s_label[_]\n",
    "    elif _ < 1235:\n",
    "        y_test += s_label[_]\n",
    "    else:\n",
    "        break"
   ]
  },
  {
   "cell_type": "code",
   "execution_count": 44,
   "id": "c969d625",
   "metadata": {},
   "outputs": [
    {
     "name": "stdout",
     "output_type": "stream",
     "text": [
      "988.0 123.0 124.0 1235\n"
     ]
    }
   ],
   "source": [
    "print(len(y_train)/12, len(y_val)/12, len(y_test)/12, len(y_train)//12 + len(y_val)//12 + len(y_test)//12)"
   ]
  },
  {
   "cell_type": "code",
   "execution_count": 45,
   "id": "8c7f0ff1",
   "metadata": {},
   "outputs": [],
   "source": [
    "y_train += [0] * len(y_train)\n",
    "y_val += [0] * len(y_val)\n",
    "y_test += [0] * len(y_test)"
   ]
  },
  {
   "cell_type": "code",
   "execution_count": 46,
   "id": "7f272141",
   "metadata": {},
   "outputs": [
    {
     "name": "stdout",
     "output_type": "stream",
     "text": [
      "1976.0 246.0 248.0 2470\n"
     ]
    }
   ],
   "source": [
    "print(len(y_train)/12, len(y_val)/12, len(y_test)/12, len(y_train)//12 + len(y_val)//12 + len(y_test)//12)"
   ]
  },
  {
   "cell_type": "markdown",
   "id": "f112c5bf",
   "metadata": {},
   "source": [
    "## 파이선 list로 되어있는 데이터 세트를 np.array로 변환"
   ]
  },
  {
   "cell_type": "code",
   "execution_count": 47,
   "id": "f7c8e09f",
   "metadata": {},
   "outputs": [
    {
     "data": {
      "text/plain": [
       "array([[[133.  ,  94.  ,  37.6 , ..., 263.5 ,  27.92,   1.  ],\n",
       "        [137.  ,  94.  ,  37.6 , ..., 263.5 ,  27.92,   1.  ],\n",
       "        [138.  ,  96.  ,  39.33, ..., 263.5 ,  27.92,   1.  ]],\n",
       "\n",
       "       [[137.  ,  94.  ,  37.6 , ..., 263.5 ,  27.92,   1.  ],\n",
       "        [138.  ,  96.  ,  39.33, ..., 263.5 ,  27.92,   1.  ],\n",
       "        [140.  ,  96.  ,  37.6 , ..., 263.5 ,  27.92,   1.  ]],\n",
       "\n",
       "       [[138.  ,  96.  ,  39.33, ..., 263.5 ,  27.92,   1.  ],\n",
       "        [140.  ,  96.  ,  37.6 , ..., 263.5 ,  27.92,   1.  ],\n",
       "        [135.  ,  97.  ,  38.67, ..., 263.5 ,  27.92,   1.  ]],\n",
       "\n",
       "       ...,\n",
       "\n",
       "       [[ 93.  , 100.  ,  37.  , ..., 194.  ,  65.99,   1.  ],\n",
       "        [ 93.  , 100.  ,  37.  , ..., 194.  ,  65.99,   1.  ],\n",
       "        [ 94.  , 100.  ,  37.67, ..., 194.  ,  65.99,   1.  ]],\n",
       "\n",
       "       [[ 93.  , 100.  ,  37.  , ..., 194.  ,  65.99,   1.  ],\n",
       "        [ 94.  , 100.  ,  37.67, ..., 194.  ,  65.99,   1.  ],\n",
       "        [ 91.  , 100.  ,  37.  , ..., 194.  ,  65.99,   1.  ]],\n",
       "\n",
       "       [[ 94.  , 100.  ,  37.67, ..., 194.  ,  65.99,   1.  ],\n",
       "        [ 91.  , 100.  ,  37.  , ..., 194.  ,  65.99,   1.  ],\n",
       "        [ 90.  , 100.  ,  37.  , ..., 194.  ,  65.99,   1.  ]]])"
      ]
     },
     "execution_count": 47,
     "metadata": {},
     "output_type": "execute_result"
    }
   ],
   "source": [
    "X_train = np.array(x_train)\n",
    "X_train"
   ]
  },
  {
   "cell_type": "code",
   "execution_count": 48,
   "id": "dcd2abed",
   "metadata": {},
   "outputs": [
    {
     "data": {
      "text/plain": [
       "(23712, 3, 35)"
      ]
     },
     "execution_count": 48,
     "metadata": {},
     "output_type": "execute_result"
    }
   ],
   "source": [
    "X_train.shape"
   ]
  },
  {
   "cell_type": "code",
   "execution_count": 49,
   "id": "b05877b5",
   "metadata": {},
   "outputs": [],
   "source": [
    "X_val = np.array(x_val)\n",
    "X_test = np.array(x_test)\n",
    "\n",
    "Y_train = np.array(y_train)\n",
    "Y_val = np.array(y_val)\n",
    "Y_test = np.array(y_test)"
   ]
  },
  {
   "cell_type": "markdown",
   "id": "efde2588",
   "metadata": {},
   "source": [
    "# 데이터 세트 구성 완료\n",
    "## 모델은 이전과 동일하게 구성"
   ]
  },
  {
   "cell_type": "code",
   "execution_count": 111,
   "id": "e761c6b5",
   "metadata": {},
   "outputs": [],
   "source": [
    "import tensorflow as tf\n",
    "from tensorflow.keras.layers import Dense, LSTM, Dropout\n",
    "from tensorflow.keras.models import Sequential\n",
    "from tensorflow.keras.models import load_model\n",
    "from tensorflow.keras.callbacks import EarlyStopping, ModelCheckpoint"
   ]
  },
  {
   "cell_type": "code",
   "execution_count": 78,
   "id": "fd1b82a9",
   "metadata": {},
   "outputs": [
    {
     "name": "stdout",
     "output_type": "stream",
     "text": [
      "Model: \"sequential_3\"\n",
      "_________________________________________________________________\n",
      " Layer (type)                Output Shape              Param #   \n",
      "=================================================================\n",
      " lstm_3 (LSTM)               (None, 128)               83968     \n",
      "                                                                 \n",
      " dense_6 (Dense)             (None, 64)                8256      \n",
      "                                                                 \n",
      " dense_7 (Dense)             (None, 1)                 65        \n",
      "                                                                 \n",
      "=================================================================\n",
      "Total params: 92,289\n",
      "Trainable params: 92,289\n",
      "Non-trainable params: 0\n",
      "_________________________________________________________________\n"
     ]
    }
   ],
   "source": [
    "hidden_units = 128\n",
    "\n",
    "model = Sequential()\n",
    "model.add(LSTM(hidden_units, activation='tanh', input_shape=(3, 35)))\n",
    "model.add(Dense(64, activation=\"relu\"))\n",
    "model.add(Dense(1, activation='sigmoid'))\n",
    "\n",
    "model.summary()"
   ]
  },
  {
   "cell_type": "code",
   "execution_count": 95,
   "id": "d720f940",
   "metadata": {},
   "outputs": [],
   "source": [
    "model.compile(loss=tf.keras.losses.BinaryCrossentropy(from_logits=False), optimizer='SGD', metrics=['accuracy'])"
   ]
  },
  {
   "cell_type": "code",
   "execution_count": 91,
   "id": "05d9365c",
   "metadata": {},
   "outputs": [],
   "source": [
    "model.compile(loss=tf.keras.losses.BinaryCrossentropy(from_logits=False), optimizer=tf.keras.optimizers.SGD(learning_rate=0.06), metrics=['accuracy'])"
   ]
  },
  {
   "cell_type": "code",
   "execution_count": 96,
   "id": "d0c0393c",
   "metadata": {},
   "outputs": [
    {
     "name": "stdout",
     "output_type": "stream",
     "text": [
      "Epoch 1/10\n",
      "741/741 [==============================] - 3s 3ms/step - loss: 0.5944 - accuracy: 0.6765 - val_loss: 0.6273 - val_accuracy: 0.6524\n",
      "Epoch 2/10\n",
      "741/741 [==============================] - 2s 3ms/step - loss: 0.6016 - accuracy: 0.6654 - val_loss: 0.6274 - val_accuracy: 0.6507\n",
      "Epoch 3/10\n",
      "741/741 [==============================] - 2s 3ms/step - loss: 0.5983 - accuracy: 0.6679 - val_loss: 0.6252 - val_accuracy: 0.6372\n",
      "Epoch 4/10\n",
      "741/741 [==============================] - 2s 3ms/step - loss: 0.5961 - accuracy: 0.6684 - val_loss: 0.6178 - val_accuracy: 0.6640\n",
      "Epoch 5/10\n",
      "741/741 [==============================] - 2s 3ms/step - loss: 0.5939 - accuracy: 0.6746 - val_loss: 0.6266 - val_accuracy: 0.6331\n",
      "Epoch 6/10\n",
      "741/741 [==============================] - 2s 3ms/step - loss: 0.5901 - accuracy: 0.6765 - val_loss: 0.6272 - val_accuracy: 0.6443\n",
      "Epoch 7/10\n",
      "741/741 [==============================] - 2s 3ms/step - loss: 0.5895 - accuracy: 0.6750 - val_loss: 0.6289 - val_accuracy: 0.6409\n",
      "Epoch 8/10\n",
      "741/741 [==============================] - 2s 3ms/step - loss: 0.5887 - accuracy: 0.6762 - val_loss: 0.6298 - val_accuracy: 0.6318\n",
      "Epoch 9/10\n",
      "741/741 [==============================] - 2s 3ms/step - loss: 0.5883 - accuracy: 0.6758 - val_loss: 0.6166 - val_accuracy: 0.6653\n",
      "Epoch 10/10\n",
      "741/741 [==============================] - 2s 3ms/step - loss: 0.5863 - accuracy: 0.6755 - val_loss: 0.6159 - val_accuracy: 0.6389\n"
     ]
    }
   ],
   "source": [
    "hist = model.fit(X_train, Y_train, epochs=10, batch_size=32, validation_data=(X_val, Y_val))"
   ]
  },
  {
   "cell_type": "markdown",
   "id": "80d2aea2",
   "metadata": {},
   "source": [
    "학습 안됨. \n",
    "\n",
    "1. 초기 데이터 세트(df)에서 선형회귀 방법으로 결측치를 대치하고 변화되지 않는 결측값은 0으로 처리.\n",
    "2. sepsis와 non_sepsis군을 나누어 전처리를 진행하였고, 3시간의 데이터를 보고 6시간 후 sepsis 확률을 예측할 수 있는 모습으로 전처리\n",
    "3. sepsis 데이터량이 non_sepsis에 비해 많이 적어 sepsis 양에 맞게 non_sepsis 데이터를 제한하여 train, val, test를 구성 \n",
    "4. 기본적인 LSTM의 모델을 구성하여 학습을 진행\n",
    "5. 학습 안됨"
   ]
  },
  {
   "cell_type": "code",
   "execution_count": 54,
   "id": "4ab6e403",
   "metadata": {},
   "outputs": [
    {
     "name": "stdout",
     "output_type": "stream",
     "text": [
      "## result ##\n",
      "1199 1777 2976\n"
     ]
    }
   ],
   "source": [
    "result = model.predict(X_test)\n",
    "print('## result ##')\n",
    "\n",
    "o = 0\n",
    "x = 0\n",
    "\n",
    "for y, r in zip(Y_test, result):\n",
    "    if y == r:\n",
    "        o += 1\n",
    "    else:\n",
    "        x += 1\n",
    "    \n",
    "print(o, x, o+x)"
   ]
  },
  {
   "cell_type": "code",
   "execution_count": 55,
   "id": "c2e8457f",
   "metadata": {},
   "outputs": [
    {
     "name": "stdout",
     "output_type": "stream",
     "text": [
      "0.40288978494623656 0.5971102150537635\n"
     ]
    }
   ],
   "source": [
    "print(o/(o+x), x/(o+x))"
   ]
  },
  {
   "cell_type": "markdown",
   "id": "78d1fd02",
   "metadata": {},
   "source": [
    "### 의문\n",
    ">혹시 인풋은 3차원인데 아웃풋은 2차원이라서 그런가?"
   ]
  },
  {
   "cell_type": "code",
   "execution_count": 56,
   "id": "7451ca7d",
   "metadata": {},
   "outputs": [
    {
     "data": {
      "text/plain": [
       "array([[0],\n",
       "       [0],\n",
       "       [1],\n",
       "       ...,\n",
       "       [0],\n",
       "       [0],\n",
       "       [0]])"
      ]
     },
     "execution_count": 56,
     "metadata": {},
     "output_type": "execute_result"
    }
   ],
   "source": [
    "test = Y_train.reshape(-1, 1)\n",
    "test"
   ]
  },
  {
   "cell_type": "code",
   "execution_count": 57,
   "id": "a423e3c6",
   "metadata": {},
   "outputs": [],
   "source": [
    "t_val = Y_val.reshape(-1, 1)"
   ]
  },
  {
   "cell_type": "code",
   "execution_count": 58,
   "id": "2a59fb0b",
   "metadata": {},
   "outputs": [
    {
     "name": "stdout",
     "output_type": "stream",
     "text": [
      "Epoch 1/5\n",
      "186/186 [==============================] - 2s 10ms/step - loss: 0.0000e+00 - accuracy: 0.4038 - val_loss: 0.0000e+00 - val_accuracy: 0.4028\n",
      "Epoch 2/5\n",
      "186/186 [==============================] - 2s 9ms/step - loss: 0.0000e+00 - accuracy: 0.4038 - val_loss: 0.0000e+00 - val_accuracy: 0.4028\n",
      "Epoch 3/5\n",
      "186/186 [==============================] - 2s 9ms/step - loss: 0.0000e+00 - accuracy: 0.4038 - val_loss: 0.0000e+00 - val_accuracy: 0.4028\n",
      "Epoch 4/5\n",
      "186/186 [==============================] - 2s 9ms/step - loss: 0.0000e+00 - accuracy: 0.4038 - val_loss: 0.0000e+00 - val_accuracy: 0.4028\n",
      "Epoch 5/5\n",
      "186/186 [==============================] - 2s 9ms/step - loss: 0.0000e+00 - accuracy: 0.4038 - val_loss: 0.0000e+00 - val_accuracy: 0.4028\n"
     ]
    }
   ],
   "source": [
    "hist = model.fit(X_train, test, epochs=5, batch_size=128, validation_data=(X_val, t_val))"
   ]
  },
  {
   "cell_type": "markdown",
   "id": "6d2cd1f1",
   "metadata": {},
   "source": [
    "loss가 확인되지 않음."
   ]
  },
  {
   "cell_type": "markdown",
   "id": "3fad298f",
   "metadata": {},
   "source": [
    "### 의문\n",
    ">혹시 shuffle이 안되어서 학습이 안될 수 도 있기 때문에 shuffle 진행 후 다시 시도"
   ]
  },
  {
   "cell_type": "code",
   "execution_count": 59,
   "id": "2af32db1",
   "metadata": {},
   "outputs": [
    {
     "name": "stdout",
     "output_type": "stream",
     "text": [
      "s [0 1 2 3 4 5 6 7 8 9]\n",
      "x:  [[ 6  7]\n",
      " [ 2  3]\n",
      " [ 4  5]\n",
      " [ 9 10]\n",
      " [ 5  6]\n",
      " [ 8  9]\n",
      " [ 0  1]\n",
      " [ 3  4]\n",
      " [ 1  2]\n",
      " [ 7  8]]\n",
      "y:  [[6]\n",
      " [2]\n",
      " [4]\n",
      " [9]\n",
      " [5]\n",
      " [8]\n",
      " [0]\n",
      " [3]\n",
      " [1]\n",
      " [7]]\n"
     ]
    }
   ],
   "source": [
    "## Shuffle 기능 확인\n",
    "\n",
    "import numpy as np\n",
    "\n",
    "# x = np.arange(10).reshape(-1, 1)\n",
    "# print (\"x: \", x)\n",
    "y = np.arange(10).reshape(-1, 1)\n",
    "# print (\"y: \", y)\n",
    "\n",
    "x = np.array([[0,1], [1,2], [2,3], [3,4], [4,5], [5,6], [6,7], [7,8], [8,9], [9,10]])\n",
    "\n",
    "s = np.arange(x.shape[0])\n",
    "print('s', s)\n",
    "np.random.shuffle(s)\n",
    "\n",
    "x = x[s]\n",
    "print (\"x: \", x)\n",
    "y = y[s]\n",
    "print (\"y: \", y)"
   ]
  },
  {
   "cell_type": "code",
   "execution_count": 60,
   "id": "7886227e",
   "metadata": {},
   "outputs": [],
   "source": [
    "# Train, Test data 적용\n",
    "i = np.arange(X_train.shape[0])\n",
    "np.random.shuffle(i)\n",
    "\n",
    "train = X_train[i]\n",
    "test = Y_train[i]"
   ]
  },
  {
   "cell_type": "code",
   "execution_count": 61,
   "id": "474e4c06",
   "metadata": {},
   "outputs": [],
   "source": [
    "# Val data 적용\n",
    "\n",
    "i = np.arange(X_val.shape[0])\n",
    "np.random.shuffle(i)\n",
    "\n",
    "sx_val = X_val[i]\n",
    "sy_val = Y_val[i]"
   ]
  },
  {
   "cell_type": "code",
   "execution_count": 62,
   "id": "8186433e",
   "metadata": {},
   "outputs": [
    {
     "name": "stdout",
     "output_type": "stream",
     "text": [
      "Epoch 1/5\n",
      "186/186 [==============================] - 2s 9ms/step - loss: 0.0000e+00 - accuracy: 0.4038 - val_loss: 0.0000e+00 - val_accuracy: 0.4028\n",
      "Epoch 2/5\n",
      "186/186 [==============================] - 2s 8ms/step - loss: 0.0000e+00 - accuracy: 0.4038 - val_loss: 0.0000e+00 - val_accuracy: 0.4028\n",
      "Epoch 3/5\n",
      "186/186 [==============================] - 2s 8ms/step - loss: 0.0000e+00 - accuracy: 0.4038 - val_loss: 0.0000e+00 - val_accuracy: 0.4028\n",
      "Epoch 4/5\n",
      "186/186 [==============================] - 2s 9ms/step - loss: 0.0000e+00 - accuracy: 0.4038 - val_loss: 0.0000e+00 - val_accuracy: 0.4028\n",
      "Epoch 5/5\n",
      "186/186 [==============================] - 2s 9ms/step - loss: 0.0000e+00 - accuracy: 0.4038 - val_loss: 0.0000e+00 - val_accuracy: 0.4028\n"
     ]
    }
   ],
   "source": [
    "hist = model.fit(train, test, epochs=5, batch_size=128, validation_data=(sx_val, sy_val))"
   ]
  },
  {
   "cell_type": "markdown",
   "id": "c3e5f223",
   "metadata": {},
   "source": [
    "변화 없음"
   ]
  },
  {
   "cell_type": "markdown",
   "id": "b281d123",
   "metadata": {},
   "source": [
    "### 의문\n",
    "> 혹시 node가 너무 적어서 학습이 안되는지 확인"
   ]
  },
  {
   "cell_type": "code",
   "execution_count": 63,
   "id": "c6039eb8",
   "metadata": {},
   "outputs": [
    {
     "name": "stdout",
     "output_type": "stream",
     "text": [
      "Model: \"sequential_1\"\n",
      "_________________________________________________________________\n",
      " Layer (type)                Output Shape              Param #   \n",
      "=================================================================\n",
      " lstm_1 (LSTM)               (None, 512)               1122304   \n",
      "                                                                 \n",
      " dense_2 (Dense)             (None, 64)                32832     \n",
      "                                                                 \n",
      " dense_3 (Dense)             (None, 1)                 65        \n",
      "                                                                 \n",
      "=================================================================\n",
      "Total params: 1,155,201\n",
      "Trainable params: 1,155,201\n",
      "Non-trainable params: 0\n",
      "_________________________________________________________________\n"
     ]
    }
   ],
   "source": [
    "hidden_units = 512\n",
    "\n",
    "model = Sequential()\n",
    "model.add(LSTM(hidden_units, activation='relu', input_shape=(3, 35)))\n",
    "model.add(Dense(64))\n",
    "model.add(Dense(1, activation='softmax'))\n",
    "\n",
    "model.summary()"
   ]
  },
  {
   "cell_type": "code",
   "execution_count": 64,
   "id": "a8ea57d6",
   "metadata": {},
   "outputs": [],
   "source": [
    "model.compile(loss='categorical_crossentropy', optimizer='adam', metrics=['accuracy'])"
   ]
  },
  {
   "cell_type": "code",
   "execution_count": 65,
   "id": "a6a9eedb",
   "metadata": {},
   "outputs": [
    {
     "name": "stdout",
     "output_type": "stream",
     "text": [
      "Epoch 1/5\n",
      "186/186 [==============================] - 9s 42ms/step - loss: 0.0000e+00 - accuracy: 0.4038 - val_loss: 0.0000e+00 - val_accuracy: 0.4028\n",
      "Epoch 2/5\n",
      "186/186 [==============================] - 7s 40ms/step - loss: 0.0000e+00 - accuracy: 0.4038 - val_loss: 0.0000e+00 - val_accuracy: 0.4028\n",
      "Epoch 3/5\n",
      "186/186 [==============================] - 7s 40ms/step - loss: 0.0000e+00 - accuracy: 0.4038 - val_loss: 0.0000e+00 - val_accuracy: 0.4028\n",
      "Epoch 4/5\n",
      "186/186 [==============================] - 7s 40ms/step - loss: 0.0000e+00 - accuracy: 0.4038 - val_loss: 0.0000e+00 - val_accuracy: 0.4028\n",
      "Epoch 5/5\n",
      "186/186 [==============================] - 7s 40ms/step - loss: 0.0000e+00 - accuracy: 0.4038 - val_loss: 0.0000e+00 - val_accuracy: 0.4028\n"
     ]
    }
   ],
   "source": [
    "hist = model.fit(train, test, epochs=5, batch_size=128, validation_data=(sx_val, sy_val))"
   ]
  },
  {
   "cell_type": "markdown",
   "id": "7110b5e7",
   "metadata": {},
   "source": [
    "변화 없음"
   ]
  },
  {
   "cell_type": "markdown",
   "id": "5263487c",
   "metadata": {},
   "source": [
    "### 의문\n",
    "> 혹시 epochs가 너무 적어서 학습이 안되는지 확인"
   ]
  },
  {
   "cell_type": "code",
   "execution_count": 66,
   "id": "c1d458c0",
   "metadata": {
    "scrolled": true
   },
   "outputs": [
    {
     "name": "stdout",
     "output_type": "stream",
     "text": [
      "Epoch 1/20\n",
      "186/186 [==============================] - 8s 41ms/step - loss: 0.0000e+00 - accuracy: 0.4038 - val_loss: 0.0000e+00 - val_accuracy: 0.4028\n",
      "Epoch 2/20\n",
      "186/186 [==============================] - 7s 40ms/step - loss: 0.0000e+00 - accuracy: 0.4038 - val_loss: 0.0000e+00 - val_accuracy: 0.4028\n",
      "Epoch 3/20\n",
      "186/186 [==============================] - 7s 40ms/step - loss: 0.0000e+00 - accuracy: 0.4038 - val_loss: 0.0000e+00 - val_accuracy: 0.4028\n",
      "Epoch 4/20\n",
      "186/186 [==============================] - 7s 40ms/step - loss: 0.0000e+00 - accuracy: 0.4038 - val_loss: 0.0000e+00 - val_accuracy: 0.4028\n",
      "Epoch 5/20\n",
      "186/186 [==============================] - 7s 40ms/step - loss: 0.0000e+00 - accuracy: 0.4038 - val_loss: 0.0000e+00 - val_accuracy: 0.4028\n",
      "Epoch 6/20\n",
      "186/186 [==============================] - 7s 40ms/step - loss: 0.0000e+00 - accuracy: 0.4038 - val_loss: 0.0000e+00 - val_accuracy: 0.4028\n",
      "Epoch 7/20\n",
      "186/186 [==============================] - 7s 40ms/step - loss: 0.0000e+00 - accuracy: 0.4038 - val_loss: 0.0000e+00 - val_accuracy: 0.4028\n",
      "Epoch 8/20\n",
      "186/186 [==============================] - 7s 40ms/step - loss: 0.0000e+00 - accuracy: 0.4038 - val_loss: 0.0000e+00 - val_accuracy: 0.4028\n",
      "Epoch 9/20\n",
      "186/186 [==============================] - 8s 41ms/step - loss: 0.0000e+00 - accuracy: 0.4038 - val_loss: 0.0000e+00 - val_accuracy: 0.4028\n",
      "Epoch 10/20\n",
      "186/186 [==============================] - 7s 40ms/step - loss: 0.0000e+00 - accuracy: 0.4038 - val_loss: 0.0000e+00 - val_accuracy: 0.4028\n",
      "Epoch 11/20\n",
      "186/186 [==============================] - 7s 40ms/step - loss: 0.0000e+00 - accuracy: 0.4038 - val_loss: 0.0000e+00 - val_accuracy: 0.4028\n",
      "Epoch 12/20\n",
      "186/186 [==============================] - 7s 40ms/step - loss: 0.0000e+00 - accuracy: 0.4038 - val_loss: 0.0000e+00 - val_accuracy: 0.4028\n",
      "Epoch 13/20\n",
      "186/186 [==============================] - 7s 40ms/step - loss: 0.0000e+00 - accuracy: 0.4038 - val_loss: 0.0000e+00 - val_accuracy: 0.4028\n",
      "Epoch 14/20\n",
      "186/186 [==============================] - 7s 40ms/step - loss: 0.0000e+00 - accuracy: 0.4038 - val_loss: 0.0000e+00 - val_accuracy: 0.4028\n",
      "Epoch 15/20\n",
      "186/186 [==============================] - 7s 40ms/step - loss: 0.0000e+00 - accuracy: 0.4038 - val_loss: 0.0000e+00 - val_accuracy: 0.4028\n",
      "Epoch 16/20\n",
      "186/186 [==============================] - 7s 40ms/step - loss: 0.0000e+00 - accuracy: 0.4038 - val_loss: 0.0000e+00 - val_accuracy: 0.4028\n",
      "Epoch 17/20\n",
      "186/186 [==============================] - 7s 40ms/step - loss: 0.0000e+00 - accuracy: 0.4038 - val_loss: 0.0000e+00 - val_accuracy: 0.4028\n",
      "Epoch 18/20\n",
      "186/186 [==============================] - 7s 40ms/step - loss: 0.0000e+00 - accuracy: 0.4038 - val_loss: 0.0000e+00 - val_accuracy: 0.4028\n",
      "Epoch 19/20\n",
      "186/186 [==============================] - 7s 40ms/step - loss: 0.0000e+00 - accuracy: 0.4038 - val_loss: 0.0000e+00 - val_accuracy: 0.4028\n",
      "Epoch 20/20\n",
      "186/186 [==============================] - 7s 40ms/step - loss: 0.0000e+00 - accuracy: 0.4038 - val_loss: 0.0000e+00 - val_accuracy: 0.4028\n"
     ]
    }
   ],
   "source": [
    "hist = model.fit(train, test, epochs=20, batch_size=128, validation_data=(sx_val, sy_val))"
   ]
  },
  {
   "cell_type": "markdown",
   "id": "e5353543",
   "metadata": {},
   "source": [
    "변화 없음"
   ]
  },
  {
   "cell_type": "code",
   "execution_count": 116,
   "id": "adf942a5",
   "metadata": {},
   "outputs": [
    {
     "name": "stdout",
     "output_type": "stream",
     "text": [
      "Model: \"sequential_8\"\n",
      "_________________________________________________________________\n",
      " Layer (type)                Output Shape              Param #   \n",
      "=================================================================\n",
      " lstm_8 (LSTM)               (None, 128)               83968     \n",
      "                                                                 \n",
      " dropout_2 (Dropout)         (None, 128)               0         \n",
      "                                                                 \n",
      " dense_16 (Dense)            (None, 64)                8256      \n",
      "                                                                 \n",
      " dropout_3 (Dropout)         (None, 64)                0         \n",
      "                                                                 \n",
      " dense_17 (Dense)            (None, 1)                 65        \n",
      "                                                                 \n",
      "=================================================================\n",
      "Total params: 92,289\n",
      "Trainable params: 92,289\n",
      "Non-trainable params: 0\n",
      "_________________________________________________________________\n"
     ]
    }
   ],
   "source": [
    "hidden_units = 128\n",
    "\n",
    "model = Sequential()\n",
    "model.add(LSTM(hidden_units, activation='tanh', input_shape=(3, 35)))\n",
    "model.add(Dropout(0.1))\n",
    "model.add(Dense(64, activation=\"relu\"))\n",
    "model.add(Dropout(0.3))\n",
    "model.add(Dense(1, activation='sigmoid'))\n",
    "\n",
    "model.summary()"
   ]
  },
  {
   "cell_type": "code",
   "execution_count": 117,
   "id": "6930ba71",
   "metadata": {},
   "outputs": [],
   "source": [
    "model.compile(loss=tf.keras.losses.BinaryCrossentropy(from_logits=False), optimizer=tf.keras.optimizers.SGD(lr=0.03), metrics=['accuracy'])"
   ]
  },
  {
   "cell_type": "code",
   "execution_count": 118,
   "id": "6ef05754",
   "metadata": {},
   "outputs": [
    {
     "name": "stdout",
     "output_type": "stream",
     "text": [
      "Epoch 1/50\n",
      "186/186 [==============================] - 3s 9ms/step - loss: 0.6440 - accuracy: 0.6251 - val_loss: 0.6270 - val_accuracy: 0.6311\n",
      "Epoch 2/50\n",
      "186/186 [==============================] - 1s 7ms/step - loss: 0.6225 - accuracy: 0.6452 - val_loss: 0.6191 - val_accuracy: 0.6419\n",
      "Epoch 3/50\n",
      "186/186 [==============================] - 1s 7ms/step - loss: 0.6144 - accuracy: 0.6563 - val_loss: 0.6227 - val_accuracy: 0.6443\n",
      "Epoch 4/50\n",
      "186/186 [==============================] - 1s 7ms/step - loss: 0.6104 - accuracy: 0.6584 - val_loss: 0.6094 - val_accuracy: 0.6582\n",
      "Epoch 5/50\n",
      "186/186 [==============================] - 1s 7ms/step - loss: 0.6063 - accuracy: 0.6661 - val_loss: 0.6120 - val_accuracy: 0.6616\n",
      "Epoch 6/50\n",
      "186/186 [==============================] - 1s 7ms/step - loss: 0.6026 - accuracy: 0.6649 - val_loss: 0.6046 - val_accuracy: 0.6562\n",
      "Epoch 7/50\n",
      "186/186 [==============================] - 1s 7ms/step - loss: 0.5996 - accuracy: 0.6694 - val_loss: 0.6105 - val_accuracy: 0.6633\n",
      "Epoch 8/50\n",
      "186/186 [==============================] - 1s 7ms/step - loss: 0.6011 - accuracy: 0.6669 - val_loss: 0.6364 - val_accuracy: 0.6040\n",
      "Epoch 9/50\n",
      "186/186 [==============================] - 1s 7ms/step - loss: 0.5996 - accuracy: 0.6683 - val_loss: 0.6095 - val_accuracy: 0.6440\n",
      "Epoch 10/50\n",
      "186/186 [==============================] - 1s 7ms/step - loss: 0.5968 - accuracy: 0.6723 - val_loss: 0.6254 - val_accuracy: 0.6436\n",
      "Epoch 11/50\n",
      "186/186 [==============================] - 1s 7ms/step - loss: 0.5979 - accuracy: 0.6711 - val_loss: 0.6080 - val_accuracy: 0.6409\n",
      "Epoch 12/50\n",
      "186/186 [==============================] - 1s 7ms/step - loss: 0.5923 - accuracy: 0.6755 - val_loss: 0.6143 - val_accuracy: 0.6453\n",
      "Epoch 13/50\n",
      "186/186 [==============================] - 1s 7ms/step - loss: 0.5906 - accuracy: 0.6759 - val_loss: 0.6088 - val_accuracy: 0.6474\n",
      "Epoch 14/50\n",
      "186/186 [==============================] - 1s 7ms/step - loss: 0.5892 - accuracy: 0.6775 - val_loss: 0.6148 - val_accuracy: 0.6382\n",
      "Epoch 15/50\n",
      "186/186 [==============================] - 1s 7ms/step - loss: 0.5886 - accuracy: 0.6764 - val_loss: 0.6158 - val_accuracy: 0.6260\n",
      "Epoch 16/50\n",
      "186/186 [==============================] - 1s 8ms/step - loss: 0.5852 - accuracy: 0.6810 - val_loss: 0.6083 - val_accuracy: 0.6531\n",
      "Epoch 17/50\n",
      "186/186 [==============================] - 1s 7ms/step - loss: 0.5817 - accuracy: 0.6841 - val_loss: 0.6053 - val_accuracy: 0.6545\n",
      "Epoch 18/50\n",
      "186/186 [==============================] - 1s 7ms/step - loss: 0.5795 - accuracy: 0.6834 - val_loss: 0.6084 - val_accuracy: 0.6653\n",
      "Epoch 19/50\n",
      "186/186 [==============================] - 1s 7ms/step - loss: 0.5840 - accuracy: 0.6801 - val_loss: 0.6133 - val_accuracy: 0.6626\n",
      "Epoch 20/50\n",
      "186/186 [==============================] - 1s 7ms/step - loss: 0.5826 - accuracy: 0.6778 - val_loss: 0.6118 - val_accuracy: 0.6626\n",
      "Epoch 21/50\n",
      "186/186 [==============================] - 2s 8ms/step - loss: 0.5794 - accuracy: 0.6832 - val_loss: 0.6022 - val_accuracy: 0.6497\n",
      "Epoch 22/50\n",
      "186/186 [==============================] - 1s 7ms/step - loss: 0.5779 - accuracy: 0.6850 - val_loss: 0.5975 - val_accuracy: 0.6514\n",
      "Epoch 23/50\n",
      "186/186 [==============================] - 1s 8ms/step - loss: 0.5767 - accuracy: 0.6868 - val_loss: 0.6300 - val_accuracy: 0.6450\n",
      "Epoch 24/50\n",
      "186/186 [==============================] - 1s 8ms/step - loss: 0.5766 - accuracy: 0.6883 - val_loss: 0.6177 - val_accuracy: 0.6453\n",
      "Epoch 25/50\n",
      "186/186 [==============================] - 1s 7ms/step - loss: 0.5736 - accuracy: 0.6850 - val_loss: 0.6138 - val_accuracy: 0.6538\n",
      "Epoch 26/50\n",
      "186/186 [==============================] - 2s 8ms/step - loss: 0.5740 - accuracy: 0.6904 - val_loss: 0.6142 - val_accuracy: 0.6450\n",
      "Epoch 27/50\n",
      "186/186 [==============================] - 2s 9ms/step - loss: 0.5714 - accuracy: 0.6911 - val_loss: 0.6015 - val_accuracy: 0.6596\n",
      "Epoch 28/50\n",
      "186/186 [==============================] - 2s 10ms/step - loss: 0.5647 - accuracy: 0.6950 - val_loss: 0.6095 - val_accuracy: 0.6443\n",
      "Epoch 29/50\n",
      "186/186 [==============================] - 2s 9ms/step - loss: 0.5697 - accuracy: 0.6916 - val_loss: 0.5956 - val_accuracy: 0.6545\n",
      "Epoch 30/50\n",
      "186/186 [==============================] - 2s 8ms/step - loss: 0.5716 - accuracy: 0.6917 - val_loss: 0.6006 - val_accuracy: 0.6582\n",
      "Epoch 31/50\n",
      "186/186 [==============================] - 2s 9ms/step - loss: 0.5684 - accuracy: 0.6920 - val_loss: 0.6051 - val_accuracy: 0.6558\n",
      "Epoch 32/50\n",
      "186/186 [==============================] - 2s 8ms/step - loss: 0.5625 - accuracy: 0.6963 - val_loss: 0.6029 - val_accuracy: 0.6660\n",
      "Epoch 33/50\n",
      "186/186 [==============================] - 2s 9ms/step - loss: 0.5629 - accuracy: 0.6935 - val_loss: 0.6036 - val_accuracy: 0.6772\n",
      "Epoch 34/50\n",
      "186/186 [==============================] - 2s 8ms/step - loss: 0.5655 - accuracy: 0.6951 - val_loss: 0.5893 - val_accuracy: 0.6599\n",
      "Epoch 35/50\n",
      "186/186 [==============================] - 2s 9ms/step - loss: 0.5645 - accuracy: 0.6956 - val_loss: 0.5962 - val_accuracy: 0.6609\n",
      "Epoch 36/50\n",
      "186/186 [==============================] - 2s 9ms/step - loss: 0.5596 - accuracy: 0.6988 - val_loss: 0.5993 - val_accuracy: 0.6626\n",
      "Epoch 37/50\n",
      "186/186 [==============================] - 2s 9ms/step - loss: 0.5652 - accuracy: 0.6955 - val_loss: 0.6087 - val_accuracy: 0.6663\n",
      "Epoch 38/50\n",
      "186/186 [==============================] - 2s 9ms/step - loss: 0.5622 - accuracy: 0.6996 - val_loss: 0.6047 - val_accuracy: 0.6606\n",
      "Epoch 39/50\n",
      "186/186 [==============================] - 2s 8ms/step - loss: 0.5609 - accuracy: 0.6966 - val_loss: 0.6139 - val_accuracy: 0.6575\n",
      "Epoch 40/50\n",
      "186/186 [==============================] - 2s 9ms/step - loss: 0.5595 - accuracy: 0.7014 - val_loss: 0.6018 - val_accuracy: 0.6453\n",
      "Epoch 41/50\n",
      "186/186 [==============================] - 1s 8ms/step - loss: 0.5610 - accuracy: 0.7021 - val_loss: 0.6032 - val_accuracy: 0.6667\n",
      "Epoch 42/50\n",
      "186/186 [==============================] - 2s 9ms/step - loss: 0.5601 - accuracy: 0.7002 - val_loss: 0.5983 - val_accuracy: 0.6491\n",
      "Epoch 43/50\n",
      "186/186 [==============================] - 2s 9ms/step - loss: 0.5556 - accuracy: 0.7012 - val_loss: 0.6091 - val_accuracy: 0.6538\n",
      "Epoch 44/50\n",
      "186/186 [==============================] - 2s 8ms/step - loss: 0.5581 - accuracy: 0.6996 - val_loss: 0.6019 - val_accuracy: 0.6555\n",
      "Epoch 45/50\n",
      "186/186 [==============================] - 2s 9ms/step - loss: 0.5555 - accuracy: 0.7036 - val_loss: 0.6084 - val_accuracy: 0.6463\n",
      "Epoch 46/50\n",
      "186/186 [==============================] - 2s 8ms/step - loss: 0.5599 - accuracy: 0.7004 - val_loss: 0.6271 - val_accuracy: 0.6375\n",
      "Epoch 47/50\n",
      "186/186 [==============================] - 2s 9ms/step - loss: 0.5618 - accuracy: 0.6994 - val_loss: 0.5939 - val_accuracy: 0.6643\n",
      "Epoch 48/50\n",
      "186/186 [==============================] - 2s 9ms/step - loss: 0.5551 - accuracy: 0.7037 - val_loss: 0.6261 - val_accuracy: 0.6355\n",
      "Epoch 49/50\n",
      "186/186 [==============================] - 1s 8ms/step - loss: 0.5555 - accuracy: 0.7058 - val_loss: 0.6124 - val_accuracy: 0.6501\n",
      "Epoch 50/50\n",
      "186/186 [==============================] - 2s 9ms/step - loss: 0.5608 - accuracy: 0.7007 - val_loss: 0.6105 - val_accuracy: 0.6521\n"
     ]
    }
   ],
   "source": [
    "hist = model.fit(train, test, epochs=50, batch_size=128, validation_data=(sx_val, sy_val))"
   ]
  },
  {
   "cell_type": "code",
   "execution_count": 130,
   "id": "d6017e6f",
   "metadata": {},
   "outputs": [],
   "source": [
    "from sklearn.model_selection import GridSearchCV \n",
    "from sklearn.svm import SVC\n",
    "from sklearn.ensemble import RandomForestRegressor"
   ]
  },
  {
   "cell_type": "code",
   "execution_count": 140,
   "id": "89ec45b7",
   "metadata": {},
   "outputs": [],
   "source": [
    "param_grid = {\n",
    "    'n_estimators': [100, 150, 200, 250],\n",
    "    'max_depth': [None, 6, 9, 12],\n",
    "}"
   ]
  },
  {
   "cell_type": "code",
   "execution_count": 141,
   "id": "c2613e5c",
   "metadata": {},
   "outputs": [],
   "source": [
    "estimator = RandomForestRegressor()"
   ]
  },
  {
   "cell_type": "code",
   "execution_count": 142,
   "id": "2bbe66bb",
   "metadata": {},
   "outputs": [],
   "source": [
    "from sklearn.model_selection import KFold\n",
    "\n",
    "kf = KFold(random_state=30, n_splits=10, shuffle=True )"
   ]
  },
  {
   "cell_type": "code",
   "execution_count": 143,
   "id": "22765d44",
   "metadata": {},
   "outputs": [
    {
     "name": "stdout",
     "output_type": "stream",
     "text": [
      "Fitting 5 folds for each of 16 candidates, totalling 80 fits\n"
     ]
    },
    {
     "name": "stderr",
     "output_type": "stream",
     "text": [
      "C:\\Users\\kjong\\Anaconda3\\envs\\ai\\lib\\site-packages\\sklearn\\model_selection\\_validation.py:372: FitFailedWarning: \n",
      "80 fits failed out of a total of 80.\n",
      "The score on these train-test partitions for these parameters will be set to nan.\n",
      "If these failures are not expected, you can try to debug them by setting error_score='raise'.\n",
      "\n",
      "Below are more details about the failures:\n",
      "--------------------------------------------------------------------------------\n",
      "80 fits failed with the following error:\n",
      "Traceback (most recent call last):\n",
      "  File \"C:\\Users\\kjong\\Anaconda3\\envs\\ai\\lib\\site-packages\\sklearn\\model_selection\\_validation.py\", line 680, in _fit_and_score\n",
      "    estimator.fit(X_train, y_train, **fit_params)\n",
      "  File \"C:\\Users\\kjong\\Anaconda3\\envs\\ai\\lib\\site-packages\\sklearn\\ensemble\\_forest.py\", line 327, in fit\n",
      "    X, y = self._validate_data(\n",
      "  File \"C:\\Users\\kjong\\Anaconda3\\envs\\ai\\lib\\site-packages\\sklearn\\base.py\", line 581, in _validate_data\n",
      "    X, y = check_X_y(X, y, **check_params)\n",
      "  File \"C:\\Users\\kjong\\Anaconda3\\envs\\ai\\lib\\site-packages\\sklearn\\utils\\validation.py\", line 964, in check_X_y\n",
      "    X = check_array(\n",
      "  File \"C:\\Users\\kjong\\Anaconda3\\envs\\ai\\lib\\site-packages\\sklearn\\utils\\validation.py\", line 794, in check_array\n",
      "    raise ValueError(\n",
      "ValueError: Found array with dim 3. Estimator expected <= 2.\n",
      "\n",
      "  warnings.warn(some_fits_failed_message, FitFailedWarning)\n",
      "C:\\Users\\kjong\\Anaconda3\\envs\\ai\\lib\\site-packages\\sklearn\\model_selection\\_search.py:969: UserWarning: One or more of the test scores are non-finite: [nan nan nan nan nan nan nan nan nan nan nan nan nan nan nan nan]\n",
      "  warnings.warn(\n"
     ]
    },
    {
     "ename": "ValueError",
     "evalue": "Found array with dim 3. Estimator expected <= 2.",
     "output_type": "error",
     "traceback": [
      "\u001b[1;31m---------------------------------------------------------------------------\u001b[0m",
      "\u001b[1;31mValueError\u001b[0m                                Traceback (most recent call last)",
      "\u001b[1;32m~\\AppData\\Local\\Temp/ipykernel_12580/3937451669.py\u001b[0m in \u001b[0;36m<module>\u001b[1;34m\u001b[0m\n\u001b[0;32m      2\u001b[0m \u001b[1;33m\u001b[0m\u001b[0m\n\u001b[0;32m      3\u001b[0m \u001b[1;31m# fit with (x_train, y_train)\u001b[0m\u001b[1;33m\u001b[0m\u001b[1;33m\u001b[0m\u001b[0m\n\u001b[1;32m----> 4\u001b[1;33m \u001b[0mgrid_search\u001b[0m\u001b[1;33m.\u001b[0m\u001b[0mfit\u001b[0m\u001b[1;33m(\u001b[0m\u001b[0mx_train\u001b[0m\u001b[1;33m,\u001b[0m \u001b[0my_train\u001b[0m\u001b[1;33m)\u001b[0m\u001b[1;33m\u001b[0m\u001b[1;33m\u001b[0m\u001b[0m\n\u001b[0m",
      "\u001b[1;32m~\\Anaconda3\\envs\\ai\\lib\\site-packages\\sklearn\\model_selection\\_search.py\u001b[0m in \u001b[0;36mfit\u001b[1;34m(self, X, y, groups, **fit_params)\u001b[0m\n\u001b[0;32m    924\u001b[0m             \u001b[0mrefit_start_time\u001b[0m \u001b[1;33m=\u001b[0m \u001b[0mtime\u001b[0m\u001b[1;33m.\u001b[0m\u001b[0mtime\u001b[0m\u001b[1;33m(\u001b[0m\u001b[1;33m)\u001b[0m\u001b[1;33m\u001b[0m\u001b[1;33m\u001b[0m\u001b[0m\n\u001b[0;32m    925\u001b[0m             \u001b[1;32mif\u001b[0m \u001b[0my\u001b[0m \u001b[1;32mis\u001b[0m \u001b[1;32mnot\u001b[0m \u001b[1;32mNone\u001b[0m\u001b[1;33m:\u001b[0m\u001b[1;33m\u001b[0m\u001b[1;33m\u001b[0m\u001b[0m\n\u001b[1;32m--> 926\u001b[1;33m                 \u001b[0mself\u001b[0m\u001b[1;33m.\u001b[0m\u001b[0mbest_estimator_\u001b[0m\u001b[1;33m.\u001b[0m\u001b[0mfit\u001b[0m\u001b[1;33m(\u001b[0m\u001b[0mX\u001b[0m\u001b[1;33m,\u001b[0m \u001b[0my\u001b[0m\u001b[1;33m,\u001b[0m \u001b[1;33m**\u001b[0m\u001b[0mfit_params\u001b[0m\u001b[1;33m)\u001b[0m\u001b[1;33m\u001b[0m\u001b[1;33m\u001b[0m\u001b[0m\n\u001b[0m\u001b[0;32m    927\u001b[0m             \u001b[1;32melse\u001b[0m\u001b[1;33m:\u001b[0m\u001b[1;33m\u001b[0m\u001b[1;33m\u001b[0m\u001b[0m\n\u001b[0;32m    928\u001b[0m                 \u001b[0mself\u001b[0m\u001b[1;33m.\u001b[0m\u001b[0mbest_estimator_\u001b[0m\u001b[1;33m.\u001b[0m\u001b[0mfit\u001b[0m\u001b[1;33m(\u001b[0m\u001b[0mX\u001b[0m\u001b[1;33m,\u001b[0m \u001b[1;33m**\u001b[0m\u001b[0mfit_params\u001b[0m\u001b[1;33m)\u001b[0m\u001b[1;33m\u001b[0m\u001b[1;33m\u001b[0m\u001b[0m\n",
      "\u001b[1;32m~\\Anaconda3\\envs\\ai\\lib\\site-packages\\sklearn\\ensemble\\_forest.py\u001b[0m in \u001b[0;36mfit\u001b[1;34m(self, X, y, sample_weight)\u001b[0m\n\u001b[0;32m    325\u001b[0m         \u001b[1;32mif\u001b[0m \u001b[0missparse\u001b[0m\u001b[1;33m(\u001b[0m\u001b[0my\u001b[0m\u001b[1;33m)\u001b[0m\u001b[1;33m:\u001b[0m\u001b[1;33m\u001b[0m\u001b[1;33m\u001b[0m\u001b[0m\n\u001b[0;32m    326\u001b[0m             \u001b[1;32mraise\u001b[0m \u001b[0mValueError\u001b[0m\u001b[1;33m(\u001b[0m\u001b[1;34m\"sparse multilabel-indicator for y is not supported.\"\u001b[0m\u001b[1;33m)\u001b[0m\u001b[1;33m\u001b[0m\u001b[1;33m\u001b[0m\u001b[0m\n\u001b[1;32m--> 327\u001b[1;33m         X, y = self._validate_data(\n\u001b[0m\u001b[0;32m    328\u001b[0m             \u001b[0mX\u001b[0m\u001b[1;33m,\u001b[0m \u001b[0my\u001b[0m\u001b[1;33m,\u001b[0m \u001b[0mmulti_output\u001b[0m\u001b[1;33m=\u001b[0m\u001b[1;32mTrue\u001b[0m\u001b[1;33m,\u001b[0m \u001b[0maccept_sparse\u001b[0m\u001b[1;33m=\u001b[0m\u001b[1;34m\"csc\"\u001b[0m\u001b[1;33m,\u001b[0m \u001b[0mdtype\u001b[0m\u001b[1;33m=\u001b[0m\u001b[0mDTYPE\u001b[0m\u001b[1;33m\u001b[0m\u001b[1;33m\u001b[0m\u001b[0m\n\u001b[0;32m    329\u001b[0m         )\n",
      "\u001b[1;32m~\\Anaconda3\\envs\\ai\\lib\\site-packages\\sklearn\\base.py\u001b[0m in \u001b[0;36m_validate_data\u001b[1;34m(self, X, y, reset, validate_separately, **check_params)\u001b[0m\n\u001b[0;32m    579\u001b[0m                 \u001b[0my\u001b[0m \u001b[1;33m=\u001b[0m \u001b[0mcheck_array\u001b[0m\u001b[1;33m(\u001b[0m\u001b[0my\u001b[0m\u001b[1;33m,\u001b[0m \u001b[1;33m**\u001b[0m\u001b[0mcheck_y_params\u001b[0m\u001b[1;33m)\u001b[0m\u001b[1;33m\u001b[0m\u001b[1;33m\u001b[0m\u001b[0m\n\u001b[0;32m    580\u001b[0m             \u001b[1;32melse\u001b[0m\u001b[1;33m:\u001b[0m\u001b[1;33m\u001b[0m\u001b[1;33m\u001b[0m\u001b[0m\n\u001b[1;32m--> 581\u001b[1;33m                 \u001b[0mX\u001b[0m\u001b[1;33m,\u001b[0m \u001b[0my\u001b[0m \u001b[1;33m=\u001b[0m \u001b[0mcheck_X_y\u001b[0m\u001b[1;33m(\u001b[0m\u001b[0mX\u001b[0m\u001b[1;33m,\u001b[0m \u001b[0my\u001b[0m\u001b[1;33m,\u001b[0m \u001b[1;33m**\u001b[0m\u001b[0mcheck_params\u001b[0m\u001b[1;33m)\u001b[0m\u001b[1;33m\u001b[0m\u001b[1;33m\u001b[0m\u001b[0m\n\u001b[0m\u001b[0;32m    582\u001b[0m             \u001b[0mout\u001b[0m \u001b[1;33m=\u001b[0m \u001b[0mX\u001b[0m\u001b[1;33m,\u001b[0m \u001b[0my\u001b[0m\u001b[1;33m\u001b[0m\u001b[1;33m\u001b[0m\u001b[0m\n\u001b[0;32m    583\u001b[0m \u001b[1;33m\u001b[0m\u001b[0m\n",
      "\u001b[1;32m~\\Anaconda3\\envs\\ai\\lib\\site-packages\\sklearn\\utils\\validation.py\u001b[0m in \u001b[0;36mcheck_X_y\u001b[1;34m(X, y, accept_sparse, accept_large_sparse, dtype, order, copy, force_all_finite, ensure_2d, allow_nd, multi_output, ensure_min_samples, ensure_min_features, y_numeric, estimator)\u001b[0m\n\u001b[0;32m    962\u001b[0m         \u001b[1;32mraise\u001b[0m \u001b[0mValueError\u001b[0m\u001b[1;33m(\u001b[0m\u001b[1;34m\"y cannot be None\"\u001b[0m\u001b[1;33m)\u001b[0m\u001b[1;33m\u001b[0m\u001b[1;33m\u001b[0m\u001b[0m\n\u001b[0;32m    963\u001b[0m \u001b[1;33m\u001b[0m\u001b[0m\n\u001b[1;32m--> 964\u001b[1;33m     X = check_array(\n\u001b[0m\u001b[0;32m    965\u001b[0m         \u001b[0mX\u001b[0m\u001b[1;33m,\u001b[0m\u001b[1;33m\u001b[0m\u001b[1;33m\u001b[0m\u001b[0m\n\u001b[0;32m    966\u001b[0m         \u001b[0maccept_sparse\u001b[0m\u001b[1;33m=\u001b[0m\u001b[0maccept_sparse\u001b[0m\u001b[1;33m,\u001b[0m\u001b[1;33m\u001b[0m\u001b[1;33m\u001b[0m\u001b[0m\n",
      "\u001b[1;32m~\\Anaconda3\\envs\\ai\\lib\\site-packages\\sklearn\\utils\\validation.py\u001b[0m in \u001b[0;36mcheck_array\u001b[1;34m(array, accept_sparse, accept_large_sparse, dtype, order, copy, force_all_finite, ensure_2d, allow_nd, ensure_min_samples, ensure_min_features, estimator)\u001b[0m\n\u001b[0;32m    792\u001b[0m                 ) from e\n\u001b[0;32m    793\u001b[0m         \u001b[1;32mif\u001b[0m \u001b[1;32mnot\u001b[0m \u001b[0mallow_nd\u001b[0m \u001b[1;32mand\u001b[0m \u001b[0marray\u001b[0m\u001b[1;33m.\u001b[0m\u001b[0mndim\u001b[0m \u001b[1;33m>=\u001b[0m \u001b[1;36m3\u001b[0m\u001b[1;33m:\u001b[0m\u001b[1;33m\u001b[0m\u001b[1;33m\u001b[0m\u001b[0m\n\u001b[1;32m--> 794\u001b[1;33m             raise ValueError(\n\u001b[0m\u001b[0;32m    795\u001b[0m                 \u001b[1;34m\"Found array with dim %d. %s expected <= 2.\"\u001b[0m\u001b[1;33m\u001b[0m\u001b[1;33m\u001b[0m\u001b[0m\n\u001b[0;32m    796\u001b[0m                 \u001b[1;33m%\u001b[0m \u001b[1;33m(\u001b[0m\u001b[0marray\u001b[0m\u001b[1;33m.\u001b[0m\u001b[0mndim\u001b[0m\u001b[1;33m,\u001b[0m \u001b[0mestimator_name\u001b[0m\u001b[1;33m)\u001b[0m\u001b[1;33m\u001b[0m\u001b[1;33m\u001b[0m\u001b[0m\n",
      "\u001b[1;31mValueError\u001b[0m: Found array with dim 3. Estimator expected <= 2."
     ]
    }
   ],
   "source": [
    "grid_search = GridSearchCV(estimator=estimator, param_grid=param_grid, n_jobs=-1, verbose=2)\n",
    "\n",
    "# fit with (x_train, y_train)\n",
    "grid_search.fit(x_train, y_train)"
   ]
  },
  {
   "cell_type": "code",
   "execution_count": null,
   "id": "855e8045",
   "metadata": {},
   "outputs": [],
   "source": []
  }
 ],
 "metadata": {
  "kernelspec": {
   "display_name": "ai",
   "language": "python",
   "name": "ai"
  },
  "language_info": {
   "codemirror_mode": {
    "name": "ipython",
    "version": 3
   },
   "file_extension": ".py",
   "mimetype": "text/x-python",
   "name": "python",
   "nbconvert_exporter": "python",
   "pygments_lexer": "ipython3",
   "version": "3.9.7"
  }
 },
 "nbformat": 4,
 "nbformat_minor": 5
}
