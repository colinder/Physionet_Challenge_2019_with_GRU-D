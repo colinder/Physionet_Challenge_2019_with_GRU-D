{
 "cells": [
  {
   "cell_type": "code",
   "execution_count": 375,
   "id": "23ba0bce",
   "metadata": {},
   "outputs": [],
   "source": [
    "import pandas as pd\n",
    "import numpy as np\n",
    "import matplotlib.pyplot as plt\n",
    "import seaborn as sns\n",
    "\n",
    "import os\n",
    "import csv\n",
    "from tqdm import tqdm"
   ]
  },
  {
   "cell_type": "code",
   "execution_count": 376,
   "id": "b3ea8055",
   "metadata": {},
   "outputs": [],
   "source": [
    "# import data\n",
    "df = pd.read_csv('00_df.csv', index_col=0)\n",
    "pre_df = pd.read_csv('01_pre_df.csv', index_col=0)\n",
    "interpolated_mv_df = pd.read_csv('02_interpolated_mv_df.csv', index_col=0)"
   ]
  },
  {
   "cell_type": "code",
   "execution_count": 377,
   "id": "91116b7f",
   "metadata": {},
   "outputs": [
    {
     "data": {
      "text/plain": [
       "(783926, 41)"
      ]
     },
     "execution_count": 377,
     "metadata": {},
     "output_type": "execute_result"
    }
   ],
   "source": [
    "df.shape"
   ]
  },
  {
   "cell_type": "code",
   "execution_count": 378,
   "id": "32ceb201",
   "metadata": {},
   "outputs": [
    {
     "data": {
      "text/plain": [
       "(783926, 37)"
      ]
     },
     "execution_count": 378,
     "metadata": {},
     "output_type": "execute_result"
    }
   ],
   "source": [
    "pre_df.shape"
   ]
  },
  {
   "cell_type": "code",
   "execution_count": 379,
   "id": "e86e19c5",
   "metadata": {},
   "outputs": [
    {
     "data": {
      "text/plain": [
       "(783926, 40)"
      ]
     },
     "execution_count": 379,
     "metadata": {},
     "output_type": "execute_result"
    }
   ],
   "source": [
    "interpolated_mv_df.shape"
   ]
  },
  {
   "cell_type": "code",
   "execution_count": 380,
   "id": "4f0597cc",
   "metadata": {},
   "outputs": [],
   "source": [
    "# import list data\n",
    "\n",
    "data_length_per_person = []\n",
    "data_length_per_person_sum = []\n",
    "\n",
    "with open('data_length_per_person.csv', 'r', encoding='utf-8') as f:\n",
    "    rdr = csv.reader(f)\n",
    "    for para in rdr:\n",
    "        for i in para:\n",
    "            data_length_per_person.append(int(i))\n",
    "\n",
    "\n",
    "with open('data_length_per_person_sum.csv', 'r', encoding='utf-8') as f:\n",
    "    rdr = csv.reader(f)\n",
    "    for para in rdr:\n",
    "        for i in para:\n",
    "            data_length_per_person_sum.append(int(i))"
   ]
  },
  {
   "cell_type": "code",
   "execution_count": 381,
   "id": "3bd2319f",
   "metadata": {},
   "outputs": [
    {
     "data": {
      "text/plain": [
       "20169"
      ]
     },
     "execution_count": 381,
     "metadata": {},
     "output_type": "execute_result"
    }
   ],
   "source": [
    "len(data_length_per_person)   # 20169"
   ]
  },
  {
   "cell_type": "code",
   "execution_count": 382,
   "id": "9456d9db",
   "metadata": {},
   "outputs": [
    {
     "data": {
      "text/plain": [
       "20169"
      ]
     },
     "execution_count": 382,
     "metadata": {},
     "output_type": "execute_result"
    }
   ],
   "source": [
    "len(data_length_per_person_sum)   # 20169"
   ]
  },
  {
   "cell_type": "markdown",
   "id": "26f9b035",
   "metadata": {},
   "source": [
    "## 선형회귀를 사용한 결측치 대치 기준 이상의 결측열은 삭제 후 모델링"
   ]
  },
  {
   "cell_type": "code",
   "execution_count": 383,
   "id": "199560a5",
   "metadata": {},
   "outputs": [
    {
     "data": {
      "text/html": [
       "<div>\n",
       "<style scoped>\n",
       "    .dataframe tbody tr th:only-of-type {\n",
       "        vertical-align: middle;\n",
       "    }\n",
       "\n",
       "    .dataframe tbody tr th {\n",
       "        vertical-align: top;\n",
       "    }\n",
       "\n",
       "    .dataframe thead th {\n",
       "        text-align: right;\n",
       "    }\n",
       "</style>\n",
       "<table border=\"1\" class=\"dataframe\">\n",
       "  <thead>\n",
       "    <tr style=\"text-align: right;\">\n",
       "      <th></th>\n",
       "      <th>HR</th>\n",
       "      <th>O2Sat</th>\n",
       "      <th>Temp</th>\n",
       "      <th>SBP</th>\n",
       "      <th>MAP</th>\n",
       "      <th>DBP</th>\n",
       "      <th>Resp</th>\n",
       "      <th>BaseExcess</th>\n",
       "      <th>HCO3</th>\n",
       "      <th>FiO2</th>\n",
       "      <th>...</th>\n",
       "      <th>WBC</th>\n",
       "      <th>Fibrinogen</th>\n",
       "      <th>Platelets</th>\n",
       "      <th>Age</th>\n",
       "      <th>Gender</th>\n",
       "      <th>Unit1</th>\n",
       "      <th>Unit2</th>\n",
       "      <th>HospAdmTime</th>\n",
       "      <th>ICULOS</th>\n",
       "      <th>SepsisLabel</th>\n",
       "    </tr>\n",
       "  </thead>\n",
       "  <tbody>\n",
       "    <tr>\n",
       "      <th>0</th>\n",
       "      <td>101.6</td>\n",
       "      <td>91.5</td>\n",
       "      <td>36.80</td>\n",
       "      <td>126.8</td>\n",
       "      <td>87.30</td>\n",
       "      <td>NaN</td>\n",
       "      <td>24.8</td>\n",
       "      <td>20.7</td>\n",
       "      <td>46.5</td>\n",
       "      <td>0.30</td>\n",
       "      <td>...</td>\n",
       "      <td>10.2</td>\n",
       "      <td>NaN</td>\n",
       "      <td>327.5</td>\n",
       "      <td>83.14</td>\n",
       "      <td>0</td>\n",
       "      <td>NaN</td>\n",
       "      <td>NaN</td>\n",
       "      <td>-0.03</td>\n",
       "      <td>1</td>\n",
       "      <td>0</td>\n",
       "    </tr>\n",
       "    <tr>\n",
       "      <th>1</th>\n",
       "      <td>97.0</td>\n",
       "      <td>95.0</td>\n",
       "      <td>36.80</td>\n",
       "      <td>98.0</td>\n",
       "      <td>75.33</td>\n",
       "      <td>NaN</td>\n",
       "      <td>19.0</td>\n",
       "      <td>20.7</td>\n",
       "      <td>46.5</td>\n",
       "      <td>0.30</td>\n",
       "      <td>...</td>\n",
       "      <td>10.2</td>\n",
       "      <td>NaN</td>\n",
       "      <td>327.5</td>\n",
       "      <td>83.14</td>\n",
       "      <td>0</td>\n",
       "      <td>NaN</td>\n",
       "      <td>NaN</td>\n",
       "      <td>-0.03</td>\n",
       "      <td>2</td>\n",
       "      <td>0</td>\n",
       "    </tr>\n",
       "    <tr>\n",
       "      <th>2</th>\n",
       "      <td>89.0</td>\n",
       "      <td>99.0</td>\n",
       "      <td>36.80</td>\n",
       "      <td>122.0</td>\n",
       "      <td>86.00</td>\n",
       "      <td>NaN</td>\n",
       "      <td>22.0</td>\n",
       "      <td>20.7</td>\n",
       "      <td>46.5</td>\n",
       "      <td>0.30</td>\n",
       "      <td>...</td>\n",
       "      <td>10.2</td>\n",
       "      <td>NaN</td>\n",
       "      <td>327.5</td>\n",
       "      <td>83.14</td>\n",
       "      <td>0</td>\n",
       "      <td>NaN</td>\n",
       "      <td>NaN</td>\n",
       "      <td>-0.03</td>\n",
       "      <td>3</td>\n",
       "      <td>0</td>\n",
       "    </tr>\n",
       "    <tr>\n",
       "      <th>3</th>\n",
       "      <td>90.0</td>\n",
       "      <td>95.0</td>\n",
       "      <td>36.80</td>\n",
       "      <td>126.8</td>\n",
       "      <td>87.30</td>\n",
       "      <td>NaN</td>\n",
       "      <td>30.0</td>\n",
       "      <td>24.0</td>\n",
       "      <td>46.5</td>\n",
       "      <td>0.30</td>\n",
       "      <td>...</td>\n",
       "      <td>10.2</td>\n",
       "      <td>NaN</td>\n",
       "      <td>327.5</td>\n",
       "      <td>83.14</td>\n",
       "      <td>0</td>\n",
       "      <td>NaN</td>\n",
       "      <td>NaN</td>\n",
       "      <td>-0.03</td>\n",
       "      <td>4</td>\n",
       "      <td>0</td>\n",
       "    </tr>\n",
       "    <tr>\n",
       "      <th>4</th>\n",
       "      <td>103.0</td>\n",
       "      <td>88.5</td>\n",
       "      <td>36.80</td>\n",
       "      <td>122.0</td>\n",
       "      <td>91.33</td>\n",
       "      <td>NaN</td>\n",
       "      <td>24.5</td>\n",
       "      <td>20.7</td>\n",
       "      <td>46.5</td>\n",
       "      <td>0.28</td>\n",
       "      <td>...</td>\n",
       "      <td>10.2</td>\n",
       "      <td>NaN</td>\n",
       "      <td>327.5</td>\n",
       "      <td>83.14</td>\n",
       "      <td>0</td>\n",
       "      <td>NaN</td>\n",
       "      <td>NaN</td>\n",
       "      <td>-0.03</td>\n",
       "      <td>5</td>\n",
       "      <td>0</td>\n",
       "    </tr>\n",
       "    <tr>\n",
       "      <th>...</th>\n",
       "      <td>...</td>\n",
       "      <td>...</td>\n",
       "      <td>...</td>\n",
       "      <td>...</td>\n",
       "      <td>...</td>\n",
       "      <td>...</td>\n",
       "      <td>...</td>\n",
       "      <td>...</td>\n",
       "      <td>...</td>\n",
       "      <td>...</td>\n",
       "      <td>...</td>\n",
       "      <td>...</td>\n",
       "      <td>...</td>\n",
       "      <td>...</td>\n",
       "      <td>...</td>\n",
       "      <td>...</td>\n",
       "      <td>...</td>\n",
       "      <td>...</td>\n",
       "      <td>...</td>\n",
       "      <td>...</td>\n",
       "      <td>...</td>\n",
       "    </tr>\n",
       "    <tr>\n",
       "      <th>783921</th>\n",
       "      <td>88.0</td>\n",
       "      <td>98.0</td>\n",
       "      <td>38.10</td>\n",
       "      <td>135.0</td>\n",
       "      <td>81.00</td>\n",
       "      <td>64.0</td>\n",
       "      <td>16.0</td>\n",
       "      <td>0.0</td>\n",
       "      <td>25.7</td>\n",
       "      <td>0.50</td>\n",
       "      <td>...</td>\n",
       "      <td>14.0</td>\n",
       "      <td>NaN</td>\n",
       "      <td>325.5</td>\n",
       "      <td>62.29</td>\n",
       "      <td>1</td>\n",
       "      <td>NaN</td>\n",
       "      <td>NaN</td>\n",
       "      <td>-0.03</td>\n",
       "      <td>31</td>\n",
       "      <td>1</td>\n",
       "    </tr>\n",
       "    <tr>\n",
       "      <th>783922</th>\n",
       "      <td>96.0</td>\n",
       "      <td>98.0</td>\n",
       "      <td>38.72</td>\n",
       "      <td>174.0</td>\n",
       "      <td>97.00</td>\n",
       "      <td>72.0</td>\n",
       "      <td>16.0</td>\n",
       "      <td>2.0</td>\n",
       "      <td>25.7</td>\n",
       "      <td>0.50</td>\n",
       "      <td>...</td>\n",
       "      <td>14.0</td>\n",
       "      <td>NaN</td>\n",
       "      <td>325.5</td>\n",
       "      <td>62.29</td>\n",
       "      <td>1</td>\n",
       "      <td>NaN</td>\n",
       "      <td>NaN</td>\n",
       "      <td>-0.03</td>\n",
       "      <td>32</td>\n",
       "      <td>1</td>\n",
       "    </tr>\n",
       "    <tr>\n",
       "      <th>783923</th>\n",
       "      <td>140.0</td>\n",
       "      <td>97.0</td>\n",
       "      <td>38.10</td>\n",
       "      <td>133.0</td>\n",
       "      <td>81.50</td>\n",
       "      <td>62.5</td>\n",
       "      <td>16.0</td>\n",
       "      <td>0.0</td>\n",
       "      <td>25.7</td>\n",
       "      <td>0.50</td>\n",
       "      <td>...</td>\n",
       "      <td>14.0</td>\n",
       "      <td>NaN</td>\n",
       "      <td>325.5</td>\n",
       "      <td>62.29</td>\n",
       "      <td>1</td>\n",
       "      <td>NaN</td>\n",
       "      <td>NaN</td>\n",
       "      <td>-0.03</td>\n",
       "      <td>33</td>\n",
       "      <td>1</td>\n",
       "    </tr>\n",
       "    <tr>\n",
       "      <th>783924</th>\n",
       "      <td>120.0</td>\n",
       "      <td>96.0</td>\n",
       "      <td>38.10</td>\n",
       "      <td>154.0</td>\n",
       "      <td>118.00</td>\n",
       "      <td>105.0</td>\n",
       "      <td>16.0</td>\n",
       "      <td>0.0</td>\n",
       "      <td>25.7</td>\n",
       "      <td>0.50</td>\n",
       "      <td>...</td>\n",
       "      <td>14.0</td>\n",
       "      <td>NaN</td>\n",
       "      <td>325.5</td>\n",
       "      <td>62.29</td>\n",
       "      <td>1</td>\n",
       "      <td>NaN</td>\n",
       "      <td>NaN</td>\n",
       "      <td>-0.03</td>\n",
       "      <td>34</td>\n",
       "      <td>1</td>\n",
       "    </tr>\n",
       "    <tr>\n",
       "      <th>783925</th>\n",
       "      <td>115.0</td>\n",
       "      <td>95.0</td>\n",
       "      <td>38.10</td>\n",
       "      <td>150.0</td>\n",
       "      <td>117.00</td>\n",
       "      <td>104.0</td>\n",
       "      <td>16.0</td>\n",
       "      <td>0.0</td>\n",
       "      <td>25.7</td>\n",
       "      <td>0.50</td>\n",
       "      <td>...</td>\n",
       "      <td>14.0</td>\n",
       "      <td>NaN</td>\n",
       "      <td>325.5</td>\n",
       "      <td>62.29</td>\n",
       "      <td>1</td>\n",
       "      <td>NaN</td>\n",
       "      <td>NaN</td>\n",
       "      <td>-0.03</td>\n",
       "      <td>35</td>\n",
       "      <td>1</td>\n",
       "    </tr>\n",
       "  </tbody>\n",
       "</table>\n",
       "<p>783926 rows × 40 columns</p>\n",
       "</div>"
      ],
      "text/plain": [
       "           HR  O2Sat   Temp    SBP     MAP    DBP  Resp  BaseExcess  HCO3  \\\n",
       "0       101.6   91.5  36.80  126.8   87.30    NaN  24.8        20.7  46.5   \n",
       "1        97.0   95.0  36.80   98.0   75.33    NaN  19.0        20.7  46.5   \n",
       "2        89.0   99.0  36.80  122.0   86.00    NaN  22.0        20.7  46.5   \n",
       "3        90.0   95.0  36.80  126.8   87.30    NaN  30.0        24.0  46.5   \n",
       "4       103.0   88.5  36.80  122.0   91.33    NaN  24.5        20.7  46.5   \n",
       "...       ...    ...    ...    ...     ...    ...   ...         ...   ...   \n",
       "783921   88.0   98.0  38.10  135.0   81.00   64.0  16.0         0.0  25.7   \n",
       "783922   96.0   98.0  38.72  174.0   97.00   72.0  16.0         2.0  25.7   \n",
       "783923  140.0   97.0  38.10  133.0   81.50   62.5  16.0         0.0  25.7   \n",
       "783924  120.0   96.0  38.10  154.0  118.00  105.0  16.0         0.0  25.7   \n",
       "783925  115.0   95.0  38.10  150.0  117.00  104.0  16.0         0.0  25.7   \n",
       "\n",
       "        FiO2  ...   WBC  Fibrinogen  Platelets    Age  Gender  Unit1  Unit2  \\\n",
       "0       0.30  ...  10.2         NaN      327.5  83.14       0    NaN    NaN   \n",
       "1       0.30  ...  10.2         NaN      327.5  83.14       0    NaN    NaN   \n",
       "2       0.30  ...  10.2         NaN      327.5  83.14       0    NaN    NaN   \n",
       "3       0.30  ...  10.2         NaN      327.5  83.14       0    NaN    NaN   \n",
       "4       0.28  ...  10.2         NaN      327.5  83.14       0    NaN    NaN   \n",
       "...      ...  ...   ...         ...        ...    ...     ...    ...    ...   \n",
       "783921  0.50  ...  14.0         NaN      325.5  62.29       1    NaN    NaN   \n",
       "783922  0.50  ...  14.0         NaN      325.5  62.29       1    NaN    NaN   \n",
       "783923  0.50  ...  14.0         NaN      325.5  62.29       1    NaN    NaN   \n",
       "783924  0.50  ...  14.0         NaN      325.5  62.29       1    NaN    NaN   \n",
       "783925  0.50  ...  14.0         NaN      325.5  62.29       1    NaN    NaN   \n",
       "\n",
       "        HospAdmTime  ICULOS  SepsisLabel  \n",
       "0             -0.03       1            0  \n",
       "1             -0.03       2            0  \n",
       "2             -0.03       3            0  \n",
       "3             -0.03       4            0  \n",
       "4             -0.03       5            0  \n",
       "...             ...     ...          ...  \n",
       "783921        -0.03      31            1  \n",
       "783922        -0.03      32            1  \n",
       "783923        -0.03      33            1  \n",
       "783924        -0.03      34            1  \n",
       "783925        -0.03      35            1  \n",
       "\n",
       "[783926 rows x 40 columns]"
      ]
     },
     "execution_count": 383,
     "metadata": {},
     "output_type": "execute_result"
    }
   ],
   "source": [
    "interpolated_mv_df"
   ]
  },
  {
   "cell_type": "code",
   "execution_count": 384,
   "id": "4829cece",
   "metadata": {},
   "outputs": [],
   "source": [
    "interpolated_mv_df.drop(['Unit1', 'Unit2', 'HospAdmTime', 'ICULOS'], axis=1, inplace=True)"
   ]
  },
  {
   "cell_type": "code",
   "execution_count": 385,
   "id": "f3805b49",
   "metadata": {},
   "outputs": [
    {
     "data": {
      "image/png": "[encoded data removed]",
      "text/plain": [
       "<Figure size 432x288 with 1 Axes>"
      ]
     },
     "metadata": {
      "needs_background": "light"
     },
     "output_type": "display_data"
    }
   ],
   "source": [
    "plt.hist(interpolated_mv_df.isnull().sum() / interpolated_mv_df.shape[0]*100)\n",
    "plt.show()"
   ]
  },
  {
   "cell_type": "code",
   "execution_count": 387,
   "id": "c9491598",
   "metadata": {},
   "outputs": [
    {
     "data": {
      "text/plain": [
       "HR                   0.001148\n",
       "O2Sat                0.026916\n",
       "Temp                 0.858499\n",
       "SBP                  1.269125\n",
       "MAP                  0.003062\n",
       "DBP                 32.635733\n",
       "Resp                 0.089422\n",
       "BaseExcess          32.518631\n",
       "HCO3                 1.298464\n",
       "FiO2                36.225358\n",
       "pH                  29.944663\n",
       "PaCO2               32.828354\n",
       "SaO2                57.334238\n",
       "AST                 66.450277\n",
       "BUN                  0.933634\n",
       "Alkalinephos        67.339519\n",
       "Calcium             13.873121\n",
       "Chloride             1.309562\n",
       "Creatinine           1.020377\n",
       "Bilirubin_direct    96.241482\n",
       "Glucose              0.931721\n",
       "Lactate             56.030799\n",
       "Magnesium            4.114419\n",
       "Phosphate           13.209793\n",
       "Potassium            1.017443\n",
       "Bilirubin_total     66.958488\n",
       "TroponinI           97.348857\n",
       "Hct                  0.773542\n",
       "Hgb                  1.154956\n",
       "PTT                 17.837398\n",
       "WBC                  1.506647\n",
       "Fibrinogen          85.060962\n",
       "Platelets            1.387248\n",
       "Age                  0.000000\n",
       "Gender               0.000000\n",
       "SepsisLabel          0.000000\n",
       "dtype: float64"
      ]
     },
     "execution_count": 387,
     "metadata": {},
     "output_type": "execute_result"
    }
   ],
   "source": [
    "interpolated_mv_df.isnull().sum() / interpolated_mv_df.shape[0]*100"
   ]
  },
  {
   "cell_type": "code",
   "execution_count": 388,
   "id": "fdc75f38",
   "metadata": {},
   "outputs": [],
   "source": [
    "base = 29"
   ]
  },
  {
   "cell_type": "code",
   "execution_count": 389,
   "id": "18fccfc4",
   "metadata": {},
   "outputs": [],
   "source": [
    "mv_cols = interpolated_mv_df.isnull().sum() / interpolated_mv_df.shape[0]*100 >= base"
   ]
  },
  {
   "cell_type": "code",
   "execution_count": 390,
   "id": "504b7307",
   "metadata": {},
   "outputs": [],
   "source": [
    "drop_columns_list = interpolated_mv_df.columns[mv_cols]"
   ]
  },
  {
   "cell_type": "code",
   "execution_count": 391,
   "id": "8be9bc35",
   "metadata": {},
   "outputs": [],
   "source": [
    "interpolated_mv_df.drop(drop_columns_list, axis=1, inplace=True)"
   ]
  },
  {
   "cell_type": "code",
   "execution_count": 392,
   "id": "013f3f68",
   "metadata": {},
   "outputs": [
    {
     "data": {
      "text/plain": [
       "(783926, 23)"
      ]
     },
     "execution_count": 392,
     "metadata": {},
     "output_type": "execute_result"
    }
   ],
   "source": [
    "interpolated_mv_df.shape"
   ]
  },
  {
   "cell_type": "code",
   "execution_count": 393,
   "id": "3bbcf9ca",
   "metadata": {},
   "outputs": [
    {
     "data": {
      "text/plain": [
       "Index(['HR', 'O2Sat', 'Temp', 'SBP', 'MAP', 'Resp', 'HCO3', 'BUN', 'Calcium',\n",
       "       'Chloride', 'Creatinine', 'Glucose', 'Magnesium', 'Phosphate',\n",
       "       'Potassium', 'Hct', 'Hgb', 'PTT', 'WBC', 'Platelets', 'Age', 'Gender',\n",
       "       'SepsisLabel'],\n",
       "      dtype='object')"
      ]
     },
     "execution_count": 393,
     "metadata": {},
     "output_type": "execute_result"
    }
   ],
   "source": [
    "interpolated_mv_df.columns"
   ]
  },
  {
   "cell_type": "markdown",
   "id": "c6cfbc43",
   "metadata": {},
   "source": [
    "# base 보다 많은 결측치 포함 columns 제거 후 데이터 전처리 진행"
   ]
  },
  {
   "cell_type": "code",
   "execution_count": 394,
   "id": "26735e87",
   "metadata": {},
   "outputs": [],
   "source": [
    "cols = interpolated_mv_df.columns"
   ]
  },
  {
   "cell_type": "code",
   "execution_count": 396,
   "id": "165ed80d",
   "metadata": {},
   "outputs": [],
   "source": [
    "data_length_per_person_sum.insert(0,0)"
   ]
  },
  {
   "cell_type": "code",
   "execution_count": 397,
   "id": "55871a1c",
   "metadata": {},
   "outputs": [],
   "source": [
    "L = len(data_length_per_person_sum)"
   ]
  },
  {
   "cell_type": "code",
   "execution_count": 398,
   "id": "13c6cdf5",
   "metadata": {},
   "outputs": [
    {
     "name": "stderr",
     "output_type": "stream",
     "text": [
      "100%|██████████| 20169/20169 [03:50<00:00, 87.68it/s] \n"
     ]
    }
   ],
   "source": [
    "s_i = 0\n",
    "e_i = 1\n",
    "\n",
    "df_patient_per_20 = pd.DataFrame(columns = cols)\n",
    "\n",
    "for i in tqdm(range(len(data_length_per_person_sum)-1)):\n",
    "    s = data_length_per_person_sum[s_i]\n",
    "    e = data_length_per_person_sum[e_i]\n",
    "    if e - s >= 20:\n",
    "        temp = interpolated_mv_df[e-20:e]\n",
    "        df_patient_per_20 = pd.concat([df_patient_per_20, temp])\n",
    "    \n",
    "    s_i += 1\n",
    "    e_i += 1"
   ]
  },
  {
   "cell_type": "code",
   "execution_count": 399,
   "id": "ad606e70",
   "metadata": {},
   "outputs": [
    {
     "data": {
      "text/html": [
       "<div>\n",
       "<style scoped>\n",
       "    .dataframe tbody tr th:only-of-type {\n",
       "        vertical-align: middle;\n",
       "    }\n",
       "\n",
       "    .dataframe tbody tr th {\n",
       "        vertical-align: top;\n",
       "    }\n",
       "\n",
       "    .dataframe thead th {\n",
       "        text-align: right;\n",
       "    }\n",
       "</style>\n",
       "<table border=\"1\" class=\"dataframe\">\n",
       "  <thead>\n",
       "    <tr style=\"text-align: right;\">\n",
       "      <th></th>\n",
       "      <th>HR</th>\n",
       "      <th>O2Sat</th>\n",
       "      <th>Temp</th>\n",
       "      <th>SBP</th>\n",
       "      <th>MAP</th>\n",
       "      <th>Resp</th>\n",
       "      <th>HCO3</th>\n",
       "      <th>BUN</th>\n",
       "      <th>Calcium</th>\n",
       "      <th>Chloride</th>\n",
       "      <th>...</th>\n",
       "      <th>Phosphate</th>\n",
       "      <th>Potassium</th>\n",
       "      <th>Hct</th>\n",
       "      <th>Hgb</th>\n",
       "      <th>PTT</th>\n",
       "      <th>WBC</th>\n",
       "      <th>Platelets</th>\n",
       "      <th>Age</th>\n",
       "      <th>Gender</th>\n",
       "      <th>SepsisLabel</th>\n",
       "    </tr>\n",
       "  </thead>\n",
       "  <tbody>\n",
       "    <tr>\n",
       "      <th>34</th>\n",
       "      <td>102.0</td>\n",
       "      <td>91.5</td>\n",
       "      <td>36.80</td>\n",
       "      <td>103.0</td>\n",
       "      <td>75.67</td>\n",
       "      <td>24.0</td>\n",
       "      <td>46.5</td>\n",
       "      <td>18.0</td>\n",
       "      <td>9.4</td>\n",
       "      <td>85.0</td>\n",
       "      <td>...</td>\n",
       "      <td>3.5</td>\n",
       "      <td>4.2</td>\n",
       "      <td>36.7</td>\n",
       "      <td>12.3</td>\n",
       "      <td>NaN</td>\n",
       "      <td>10.2</td>\n",
       "      <td>327.5</td>\n",
       "      <td>83.14</td>\n",
       "      <td>0</td>\n",
       "      <td>0</td>\n",
       "    </tr>\n",
       "    <tr>\n",
       "      <th>35</th>\n",
       "      <td>99.0</td>\n",
       "      <td>89.0</td>\n",
       "      <td>37.11</td>\n",
       "      <td>113.0</td>\n",
       "      <td>96.33</td>\n",
       "      <td>26.0</td>\n",
       "      <td>46.5</td>\n",
       "      <td>18.0</td>\n",
       "      <td>9.4</td>\n",
       "      <td>85.0</td>\n",
       "      <td>...</td>\n",
       "      <td>3.5</td>\n",
       "      <td>4.2</td>\n",
       "      <td>36.7</td>\n",
       "      <td>12.3</td>\n",
       "      <td>NaN</td>\n",
       "      <td>10.2</td>\n",
       "      <td>327.5</td>\n",
       "      <td>83.14</td>\n",
       "      <td>0</td>\n",
       "      <td>0</td>\n",
       "    </tr>\n",
       "    <tr>\n",
       "      <th>36</th>\n",
       "      <td>97.0</td>\n",
       "      <td>89.0</td>\n",
       "      <td>36.80</td>\n",
       "      <td>110.0</td>\n",
       "      <td>72.00</td>\n",
       "      <td>29.0</td>\n",
       "      <td>46.5</td>\n",
       "      <td>18.0</td>\n",
       "      <td>9.4</td>\n",
       "      <td>85.0</td>\n",
       "      <td>...</td>\n",
       "      <td>3.5</td>\n",
       "      <td>4.2</td>\n",
       "      <td>36.7</td>\n",
       "      <td>12.3</td>\n",
       "      <td>NaN</td>\n",
       "      <td>10.2</td>\n",
       "      <td>327.5</td>\n",
       "      <td>83.14</td>\n",
       "      <td>0</td>\n",
       "      <td>0</td>\n",
       "    </tr>\n",
       "    <tr>\n",
       "      <th>37</th>\n",
       "      <td>110.0</td>\n",
       "      <td>89.0</td>\n",
       "      <td>36.80</td>\n",
       "      <td>108.0</td>\n",
       "      <td>90.67</td>\n",
       "      <td>24.0</td>\n",
       "      <td>46.5</td>\n",
       "      <td>18.0</td>\n",
       "      <td>9.4</td>\n",
       "      <td>85.0</td>\n",
       "      <td>...</td>\n",
       "      <td>3.5</td>\n",
       "      <td>4.2</td>\n",
       "      <td>36.7</td>\n",
       "      <td>12.3</td>\n",
       "      <td>NaN</td>\n",
       "      <td>10.2</td>\n",
       "      <td>327.5</td>\n",
       "      <td>83.14</td>\n",
       "      <td>0</td>\n",
       "      <td>0</td>\n",
       "    </tr>\n",
       "    <tr>\n",
       "      <th>38</th>\n",
       "      <td>108.0</td>\n",
       "      <td>89.0</td>\n",
       "      <td>36.80</td>\n",
       "      <td>139.0</td>\n",
       "      <td>102.33</td>\n",
       "      <td>26.0</td>\n",
       "      <td>46.5</td>\n",
       "      <td>18.0</td>\n",
       "      <td>9.4</td>\n",
       "      <td>85.0</td>\n",
       "      <td>...</td>\n",
       "      <td>3.5</td>\n",
       "      <td>4.2</td>\n",
       "      <td>36.7</td>\n",
       "      <td>12.3</td>\n",
       "      <td>NaN</td>\n",
       "      <td>10.2</td>\n",
       "      <td>327.5</td>\n",
       "      <td>83.14</td>\n",
       "      <td>0</td>\n",
       "      <td>0</td>\n",
       "    </tr>\n",
       "    <tr>\n",
       "      <th>...</th>\n",
       "      <td>...</td>\n",
       "      <td>...</td>\n",
       "      <td>...</td>\n",
       "      <td>...</td>\n",
       "      <td>...</td>\n",
       "      <td>...</td>\n",
       "      <td>...</td>\n",
       "      <td>...</td>\n",
       "      <td>...</td>\n",
       "      <td>...</td>\n",
       "      <td>...</td>\n",
       "      <td>...</td>\n",
       "      <td>...</td>\n",
       "      <td>...</td>\n",
       "      <td>...</td>\n",
       "      <td>...</td>\n",
       "      <td>...</td>\n",
       "      <td>...</td>\n",
       "      <td>...</td>\n",
       "      <td>...</td>\n",
       "      <td>...</td>\n",
       "    </tr>\n",
       "    <tr>\n",
       "      <th>783921</th>\n",
       "      <td>88.0</td>\n",
       "      <td>98.0</td>\n",
       "      <td>38.10</td>\n",
       "      <td>135.0</td>\n",
       "      <td>81.00</td>\n",
       "      <td>16.0</td>\n",
       "      <td>25.7</td>\n",
       "      <td>20.5</td>\n",
       "      <td>8.2</td>\n",
       "      <td>103.7</td>\n",
       "      <td>...</td>\n",
       "      <td>4.0</td>\n",
       "      <td>3.8</td>\n",
       "      <td>31.2</td>\n",
       "      <td>11.6</td>\n",
       "      <td>29.8</td>\n",
       "      <td>14.0</td>\n",
       "      <td>325.5</td>\n",
       "      <td>62.29</td>\n",
       "      <td>1</td>\n",
       "      <td>1</td>\n",
       "    </tr>\n",
       "    <tr>\n",
       "      <th>783922</th>\n",
       "      <td>96.0</td>\n",
       "      <td>98.0</td>\n",
       "      <td>38.72</td>\n",
       "      <td>174.0</td>\n",
       "      <td>97.00</td>\n",
       "      <td>16.0</td>\n",
       "      <td>25.7</td>\n",
       "      <td>26.0</td>\n",
       "      <td>8.2</td>\n",
       "      <td>103.7</td>\n",
       "      <td>...</td>\n",
       "      <td>3.5</td>\n",
       "      <td>3.9</td>\n",
       "      <td>27.8</td>\n",
       "      <td>11.6</td>\n",
       "      <td>29.8</td>\n",
       "      <td>14.0</td>\n",
       "      <td>325.5</td>\n",
       "      <td>62.29</td>\n",
       "      <td>1</td>\n",
       "      <td>1</td>\n",
       "    </tr>\n",
       "    <tr>\n",
       "      <th>783923</th>\n",
       "      <td>140.0</td>\n",
       "      <td>97.0</td>\n",
       "      <td>38.10</td>\n",
       "      <td>133.0</td>\n",
       "      <td>81.50</td>\n",
       "      <td>16.0</td>\n",
       "      <td>25.7</td>\n",
       "      <td>20.5</td>\n",
       "      <td>8.2</td>\n",
       "      <td>103.7</td>\n",
       "      <td>...</td>\n",
       "      <td>4.0</td>\n",
       "      <td>3.8</td>\n",
       "      <td>31.2</td>\n",
       "      <td>11.6</td>\n",
       "      <td>29.8</td>\n",
       "      <td>14.0</td>\n",
       "      <td>325.5</td>\n",
       "      <td>62.29</td>\n",
       "      <td>1</td>\n",
       "      <td>1</td>\n",
       "    </tr>\n",
       "    <tr>\n",
       "      <th>783924</th>\n",
       "      <td>120.0</td>\n",
       "      <td>96.0</td>\n",
       "      <td>38.10</td>\n",
       "      <td>154.0</td>\n",
       "      <td>118.00</td>\n",
       "      <td>16.0</td>\n",
       "      <td>25.7</td>\n",
       "      <td>20.5</td>\n",
       "      <td>8.2</td>\n",
       "      <td>103.7</td>\n",
       "      <td>...</td>\n",
       "      <td>4.0</td>\n",
       "      <td>3.8</td>\n",
       "      <td>31.2</td>\n",
       "      <td>11.6</td>\n",
       "      <td>29.8</td>\n",
       "      <td>14.0</td>\n",
       "      <td>325.5</td>\n",
       "      <td>62.29</td>\n",
       "      <td>1</td>\n",
       "      <td>1</td>\n",
       "    </tr>\n",
       "    <tr>\n",
       "      <th>783925</th>\n",
       "      <td>115.0</td>\n",
       "      <td>95.0</td>\n",
       "      <td>38.10</td>\n",
       "      <td>150.0</td>\n",
       "      <td>117.00</td>\n",
       "      <td>16.0</td>\n",
       "      <td>25.7</td>\n",
       "      <td>20.5</td>\n",
       "      <td>8.2</td>\n",
       "      <td>103.7</td>\n",
       "      <td>...</td>\n",
       "      <td>4.0</td>\n",
       "      <td>3.8</td>\n",
       "      <td>31.2</td>\n",
       "      <td>11.6</td>\n",
       "      <td>29.8</td>\n",
       "      <td>14.0</td>\n",
       "      <td>325.5</td>\n",
       "      <td>62.29</td>\n",
       "      <td>1</td>\n",
       "      <td>1</td>\n",
       "    </tr>\n",
       "  </tbody>\n",
       "</table>\n",
       "<p>351700 rows × 23 columns</p>\n",
       "</div>"
      ],
      "text/plain": [
       "           HR  O2Sat   Temp    SBP     MAP  Resp  HCO3   BUN  Calcium  \\\n",
       "34      102.0   91.5  36.80  103.0   75.67  24.0  46.5  18.0      9.4   \n",
       "35       99.0   89.0  37.11  113.0   96.33  26.0  46.5  18.0      9.4   \n",
       "36       97.0   89.0  36.80  110.0   72.00  29.0  46.5  18.0      9.4   \n",
       "37      110.0   89.0  36.80  108.0   90.67  24.0  46.5  18.0      9.4   \n",
       "38      108.0   89.0  36.80  139.0  102.33  26.0  46.5  18.0      9.4   \n",
       "...       ...    ...    ...    ...     ...   ...   ...   ...      ...   \n",
       "783921   88.0   98.0  38.10  135.0   81.00  16.0  25.7  20.5      8.2   \n",
       "783922   96.0   98.0  38.72  174.0   97.00  16.0  25.7  26.0      8.2   \n",
       "783923  140.0   97.0  38.10  133.0   81.50  16.0  25.7  20.5      8.2   \n",
       "783924  120.0   96.0  38.10  154.0  118.00  16.0  25.7  20.5      8.2   \n",
       "783925  115.0   95.0  38.10  150.0  117.00  16.0  25.7  20.5      8.2   \n",
       "\n",
       "        Chloride  ...  Phosphate  Potassium   Hct   Hgb   PTT   WBC  \\\n",
       "34          85.0  ...        3.5        4.2  36.7  12.3   NaN  10.2   \n",
       "35          85.0  ...        3.5        4.2  36.7  12.3   NaN  10.2   \n",
       "36          85.0  ...        3.5        4.2  36.7  12.3   NaN  10.2   \n",
       "37          85.0  ...        3.5        4.2  36.7  12.3   NaN  10.2   \n",
       "38          85.0  ...        3.5        4.2  36.7  12.3   NaN  10.2   \n",
       "...          ...  ...        ...        ...   ...   ...   ...   ...   \n",
       "783921     103.7  ...        4.0        3.8  31.2  11.6  29.8  14.0   \n",
       "783922     103.7  ...        3.5        3.9  27.8  11.6  29.8  14.0   \n",
       "783923     103.7  ...        4.0        3.8  31.2  11.6  29.8  14.0   \n",
       "783924     103.7  ...        4.0        3.8  31.2  11.6  29.8  14.0   \n",
       "783925     103.7  ...        4.0        3.8  31.2  11.6  29.8  14.0   \n",
       "\n",
       "        Platelets    Age  Gender  SepsisLabel  \n",
       "34          327.5  83.14       0            0  \n",
       "35          327.5  83.14       0            0  \n",
       "36          327.5  83.14       0            0  \n",
       "37          327.5  83.14       0            0  \n",
       "38          327.5  83.14       0            0  \n",
       "...           ...    ...     ...          ...  \n",
       "783921      325.5  62.29       1            1  \n",
       "783922      325.5  62.29       1            1  \n",
       "783923      325.5  62.29       1            1  \n",
       "783924      325.5  62.29       1            1  \n",
       "783925      325.5  62.29       1            1  \n",
       "\n",
       "[351700 rows x 23 columns]"
      ]
     },
     "execution_count": 399,
     "metadata": {},
     "output_type": "execute_result"
    }
   ],
   "source": [
    "df_patient_per_20"
   ]
  },
  {
   "cell_type": "markdown",
   "id": "4a73197a",
   "metadata": {},
   "source": [
    "# 스케일링 진행"
   ]
  },
  {
   "cell_type": "code",
   "execution_count": 402,
   "id": "c9a8040b",
   "metadata": {},
   "outputs": [],
   "source": [
    "label = df_patient_per_20[\"SepsisLabel\"]"
   ]
  },
  {
   "cell_type": "code",
   "execution_count": 403,
   "id": "f79bf9e9",
   "metadata": {},
   "outputs": [
    {
     "data": {
      "text/html": [
       "<div>\n",
       "<style scoped>\n",
       "    .dataframe tbody tr th:only-of-type {\n",
       "        vertical-align: middle;\n",
       "    }\n",
       "\n",
       "    .dataframe tbody tr th {\n",
       "        vertical-align: top;\n",
       "    }\n",
       "\n",
       "    .dataframe thead th {\n",
       "        text-align: right;\n",
       "    }\n",
       "</style>\n",
       "<table border=\"1\" class=\"dataframe\">\n",
       "  <thead>\n",
       "    <tr style=\"text-align: right;\">\n",
       "      <th></th>\n",
       "      <th>HR</th>\n",
       "      <th>O2Sat</th>\n",
       "      <th>Temp</th>\n",
       "      <th>SBP</th>\n",
       "      <th>MAP</th>\n",
       "      <th>Resp</th>\n",
       "      <th>HCO3</th>\n",
       "      <th>BUN</th>\n",
       "      <th>Calcium</th>\n",
       "      <th>Chloride</th>\n",
       "      <th>...</th>\n",
       "      <th>Phosphate</th>\n",
       "      <th>Potassium</th>\n",
       "      <th>Hct</th>\n",
       "      <th>Hgb</th>\n",
       "      <th>PTT</th>\n",
       "      <th>WBC</th>\n",
       "      <th>Platelets</th>\n",
       "      <th>Age</th>\n",
       "      <th>Gender</th>\n",
       "      <th>SepsisLabel</th>\n",
       "    </tr>\n",
       "  </thead>\n",
       "  <tbody>\n",
       "    <tr>\n",
       "      <th>34</th>\n",
       "      <td>1.066961</td>\n",
       "      <td>-1.862253</td>\n",
       "      <td>-0.239035</td>\n",
       "      <td>-0.880981</td>\n",
       "      <td>-0.211372</td>\n",
       "      <td>0.974005</td>\n",
       "      <td>5.647835</td>\n",
       "      <td>-0.256995</td>\n",
       "      <td>1.54313</td>\n",
       "      <td>-4.004401</td>\n",
       "      <td>...</td>\n",
       "      <td>-0.029089</td>\n",
       "      <td>0.144512</td>\n",
       "      <td>1.131153</td>\n",
       "      <td>0.975539</td>\n",
       "      <td>NaN</td>\n",
       "      <td>-0.238756</td>\n",
       "      <td>1.110786</td>\n",
       "      <td>1.255027</td>\n",
       "      <td>-1.173589</td>\n",
       "      <td>-0.18765</td>\n",
       "    </tr>\n",
       "    <tr>\n",
       "      <th>35</th>\n",
       "      <td>0.883750</td>\n",
       "      <td>-2.714666</td>\n",
       "      <td>0.277930</td>\n",
       "      <td>-0.400239</td>\n",
       "      <td>1.200863</td>\n",
       "      <td>1.358281</td>\n",
       "      <td>5.647835</td>\n",
       "      <td>-0.256995</td>\n",
       "      <td>1.54313</td>\n",
       "      <td>-4.004401</td>\n",
       "      <td>...</td>\n",
       "      <td>-0.029089</td>\n",
       "      <td>0.144512</td>\n",
       "      <td>1.131153</td>\n",
       "      <td>0.975539</td>\n",
       "      <td>NaN</td>\n",
       "      <td>-0.238756</td>\n",
       "      <td>1.110786</td>\n",
       "      <td>1.255027</td>\n",
       "      <td>-1.173589</td>\n",
       "      <td>-0.18765</td>\n",
       "    </tr>\n",
       "    <tr>\n",
       "      <th>36</th>\n",
       "      <td>0.761609</td>\n",
       "      <td>-2.714666</td>\n",
       "      <td>-0.239035</td>\n",
       "      <td>-0.544461</td>\n",
       "      <td>-0.462239</td>\n",
       "      <td>1.934695</td>\n",
       "      <td>5.647835</td>\n",
       "      <td>-0.256995</td>\n",
       "      <td>1.54313</td>\n",
       "      <td>-4.004401</td>\n",
       "      <td>...</td>\n",
       "      <td>-0.029089</td>\n",
       "      <td>0.144512</td>\n",
       "      <td>1.131153</td>\n",
       "      <td>0.975539</td>\n",
       "      <td>NaN</td>\n",
       "      <td>-0.238756</td>\n",
       "      <td>1.110786</td>\n",
       "      <td>1.255027</td>\n",
       "      <td>-1.173589</td>\n",
       "      <td>-0.18765</td>\n",
       "    </tr>\n",
       "    <tr>\n",
       "      <th>37</th>\n",
       "      <td>1.555525</td>\n",
       "      <td>-2.714666</td>\n",
       "      <td>-0.239035</td>\n",
       "      <td>-0.640610</td>\n",
       "      <td>0.813968</td>\n",
       "      <td>0.974005</td>\n",
       "      <td>5.647835</td>\n",
       "      <td>-0.256995</td>\n",
       "      <td>1.54313</td>\n",
       "      <td>-4.004401</td>\n",
       "      <td>...</td>\n",
       "      <td>-0.029089</td>\n",
       "      <td>0.144512</td>\n",
       "      <td>1.131153</td>\n",
       "      <td>0.975539</td>\n",
       "      <td>NaN</td>\n",
       "      <td>-0.238756</td>\n",
       "      <td>1.110786</td>\n",
       "      <td>1.255027</td>\n",
       "      <td>-1.173589</td>\n",
       "      <td>-0.18765</td>\n",
       "    </tr>\n",
       "    <tr>\n",
       "      <th>38</th>\n",
       "      <td>1.433384</td>\n",
       "      <td>-2.714666</td>\n",
       "      <td>-0.239035</td>\n",
       "      <td>0.849690</td>\n",
       "      <td>1.611000</td>\n",
       "      <td>1.358281</td>\n",
       "      <td>5.647835</td>\n",
       "      <td>-0.256995</td>\n",
       "      <td>1.54313</td>\n",
       "      <td>-4.004401</td>\n",
       "      <td>...</td>\n",
       "      <td>-0.029089</td>\n",
       "      <td>0.144512</td>\n",
       "      <td>1.131153</td>\n",
       "      <td>0.975539</td>\n",
       "      <td>NaN</td>\n",
       "      <td>-0.238756</td>\n",
       "      <td>1.110786</td>\n",
       "      <td>1.255027</td>\n",
       "      <td>-1.173589</td>\n",
       "      <td>-0.18765</td>\n",
       "    </tr>\n",
       "  </tbody>\n",
       "</table>\n",
       "<p>5 rows × 23 columns</p>\n",
       "</div>"
      ],
      "text/plain": [
       "          HR     O2Sat      Temp       SBP       MAP      Resp      HCO3  \\\n",
       "34  1.066961 -1.862253 -0.239035 -0.880981 -0.211372  0.974005  5.647835   \n",
       "35  0.883750 -2.714666  0.277930 -0.400239  1.200863  1.358281  5.647835   \n",
       "36  0.761609 -2.714666 -0.239035 -0.544461 -0.462239  1.934695  5.647835   \n",
       "37  1.555525 -2.714666 -0.239035 -0.640610  0.813968  0.974005  5.647835   \n",
       "38  1.433384 -2.714666 -0.239035  0.849690  1.611000  1.358281  5.647835   \n",
       "\n",
       "         BUN  Calcium  Chloride  ...  Phosphate  Potassium       Hct  \\\n",
       "34 -0.256995  1.54313 -4.004401  ...  -0.029089   0.144512  1.131153   \n",
       "35 -0.256995  1.54313 -4.004401  ...  -0.029089   0.144512  1.131153   \n",
       "36 -0.256995  1.54313 -4.004401  ...  -0.029089   0.144512  1.131153   \n",
       "37 -0.256995  1.54313 -4.004401  ...  -0.029089   0.144512  1.131153   \n",
       "38 -0.256995  1.54313 -4.004401  ...  -0.029089   0.144512  1.131153   \n",
       "\n",
       "         Hgb  PTT       WBC  Platelets       Age    Gender  SepsisLabel  \n",
       "34  0.975539  NaN -0.238756   1.110786  1.255027 -1.173589     -0.18765  \n",
       "35  0.975539  NaN -0.238756   1.110786  1.255027 -1.173589     -0.18765  \n",
       "36  0.975539  NaN -0.238756   1.110786  1.255027 -1.173589     -0.18765  \n",
       "37  0.975539  NaN -0.238756   1.110786  1.255027 -1.173589     -0.18765  \n",
       "38  0.975539  NaN -0.238756   1.110786  1.255027 -1.173589     -0.18765  \n",
       "\n",
       "[5 rows x 23 columns]"
      ]
     },
     "execution_count": 403,
     "metadata": {},
     "output_type": "execute_result"
    }
   ],
   "source": [
    "# 정규 분포\n",
    "df_patient_per_20 = (df_patient_per_20 - df_patient_per_20.mean())/df_patient_per_20.std()\n",
    "df_patient_per_20.head()"
   ]
  },
  {
   "cell_type": "code",
   "execution_count": 404,
   "id": "55bfb52a",
   "metadata": {},
   "outputs": [],
   "source": [
    "df_patient_per_20[\"SepsisLabel\"] = label"
   ]
  },
  {
   "cell_type": "code",
   "execution_count": 405,
   "id": "48209b33",
   "metadata": {},
   "outputs": [
    {
     "data": {
      "text/plain": [
       "(351700, 23)"
      ]
     },
     "execution_count": 405,
     "metadata": {},
     "output_type": "execute_result"
    }
   ],
   "source": [
    "df_patient_per_20.shape"
   ]
  },
  {
   "cell_type": "markdown",
   "id": "ffa79de5",
   "metadata": {},
   "source": [
    "# sepsis vs non_sepsis 추출"
   ]
  },
  {
   "cell_type": "code",
   "execution_count": 406,
   "id": "e2d0567a",
   "metadata": {},
   "outputs": [
    {
     "name": "stderr",
     "output_type": "stream",
     "text": [
      "100%|██████████| 17585/17585 [03:41<00:00, 79.41it/s]\n"
     ]
    }
   ],
   "source": [
    "# sepsis와 non sepsis 구분\n",
    "\n",
    "s = 0\n",
    "e = 20\n",
    "\n",
    "sepsis_df = pd.DataFrame(columns=cols)\n",
    "non_sepsis_df = pd.DataFrame(columns=cols)\n",
    "\n",
    "for _ in tqdm(range(people)):\n",
    "    if df_patient_per_20[s:e]['SepsisLabel'].sum() >= 1:\n",
    "        data = df_patient_per_20[s:e]\n",
    "        sepsis_df = pd.concat([sepsis_df, data])\n",
    "    else: \n",
    "        data = df_patient_per_20[s:e]\n",
    "        non_sepsis_df = pd.concat([non_sepsis_df, data])\n",
    "        \n",
    "    s += 20\n",
    "    e += 20"
   ]
  },
  {
   "cell_type": "code",
   "execution_count": 544,
   "id": "93df69b2",
   "metadata": {},
   "outputs": [
    {
     "data": {
      "text/plain": [
       "(24700, 23)"
      ]
     },
     "execution_count": 544,
     "metadata": {},
     "output_type": "execute_result"
    }
   ],
   "source": [
    "sepsis_df.shape"
   ]
  },
  {
   "cell_type": "code",
   "execution_count": 545,
   "id": "9feef0ec",
   "metadata": {},
   "outputs": [
    {
     "data": {
      "text/plain": [
       "(327000, 23)"
      ]
     },
     "execution_count": 545,
     "metadata": {},
     "output_type": "execute_result"
    }
   ],
   "source": [
    "non_sepsis_df.shape"
   ]
  },
  {
   "cell_type": "markdown",
   "id": "1710f8ae",
   "metadata": {},
   "source": [
    "# Title > 3시간의 데이터를 보고 6시간 후의 패혈증 발병 확률을 예측\n",
    "## Label 분리\n",
    "1환자당 12개의 데이터 추출가능"
   ]
  },
  {
   "cell_type": "code",
   "execution_count": 409,
   "id": "64e8555e",
   "metadata": {},
   "outputs": [
    {
     "name": "stderr",
     "output_type": "stream",
     "text": [
      "100%|██████████| 1235/1235 [00:00<00:00, 24764.85it/s]\n"
     ]
    }
   ],
   "source": [
    "e = 20\n",
    "\n",
    "s_label = []\n",
    "for i in tqdm(range(int(sepsis_df.shape[0]/20))):\n",
    "    temp = sepsis_df[\"SepsisLabel\"][e-12:e]\n",
    "    s_label.append(list(temp))\n",
    "    \n",
    "    e += 20"
   ]
  },
  {
   "cell_type": "code",
   "execution_count": 410,
   "id": "0cdefbb6",
   "metadata": {},
   "outputs": [
    {
     "name": "stderr",
     "output_type": "stream",
     "text": [
      "100%|██████████| 16350/16350 [00:00<00:00, 29859.74it/s]\n"
     ]
    }
   ],
   "source": [
    "e = 20\n",
    "\n",
    "ns_label = []\n",
    "for i in tqdm(range(int(non_sepsis_df.shape[0]/20))):\n",
    "    temp = non_sepsis_df[\"SepsisLabel\"][e-12:e]\n",
    "    ns_label.append(list(temp))\n",
    "    \n",
    "    e += 20"
   ]
  },
  {
   "cell_type": "markdown",
   "id": "398f4e3b",
   "metadata": {},
   "source": [
    "# 훈련, 검증, 테스트 세트 구성\n"
   ]
  },
  {
   "cell_type": "code",
   "execution_count": 411,
   "id": "ba296d03",
   "metadata": {},
   "outputs": [
    {
     "data": {
      "text/plain": [
       "(24700, 22)"
      ]
     },
     "execution_count": 411,
     "metadata": {},
     "output_type": "execute_result"
    }
   ],
   "source": [
    "sepsis_df_no_label = sepsis_df.drop(['SepsisLabel'], axis=1)\n",
    "sepsis_df_no_label.shape"
   ]
  },
  {
   "cell_type": "code",
   "execution_count": 412,
   "id": "76eda2e9",
   "metadata": {},
   "outputs": [
    {
     "data": {
      "text/plain": [
       "(327000, 22)"
      ]
     },
     "execution_count": 412,
     "metadata": {},
     "output_type": "execute_result"
    }
   ],
   "source": [
    "non_sepsis_df_no_label = non_sepsis_df.drop(['SepsisLabel'], axis=1)\n",
    "non_sepsis_df_no_label.shape"
   ]
  },
  {
   "cell_type": "markdown",
   "id": "bfbd9bbe",
   "metadata": {},
   "source": [
    "# 환자별 column 평균으로 결측치 대치"
   ]
  },
  {
   "cell_type": "code",
   "execution_count": 413,
   "id": "e7ee71a1",
   "metadata": {},
   "outputs": [
    {
     "data": {
      "text/plain": [
       "Index(['HR', 'O2Sat', 'Temp', 'SBP', 'MAP', 'Resp', 'HCO3', 'BUN', 'Calcium',\n",
       "       'Chloride', 'Creatinine', 'Glucose', 'Magnesium', 'Phosphate',\n",
       "       'Potassium', 'Hct', 'Hgb', 'PTT', 'WBC', 'Platelets', 'Age', 'Gender'],\n",
       "      dtype='object')"
      ]
     },
     "execution_count": 413,
     "metadata": {},
     "output_type": "execute_result"
    }
   ],
   "source": [
    "cols = sepsis_df_no_label.columns\n",
    "cols"
   ]
  },
  {
   "cell_type": "code",
   "execution_count": 414,
   "id": "f80eb253",
   "metadata": {},
   "outputs": [
    {
     "name": "stderr",
     "output_type": "stream",
     "text": [
      "100%|██████████| 1235/1235 [00:01<00:00, 690.25it/s]\n"
     ]
    },
    {
     "data": {
      "text/plain": [
       "1235"
      ]
     },
     "execution_count": 414,
     "metadata": {},
     "output_type": "execute_result"
    }
   ],
   "source": [
    "# 환자 별 평균\n",
    "person_mean = []\n",
    "\n",
    "s_i = 0\n",
    "e_i = 20\n",
    "\n",
    "for _ in tqdm(range(int(sepsis_df_no_label.shape[0]/20))):\n",
    "    temp = []\n",
    "    for col in cols:\n",
    "        temp.append(sepsis_df_no_label[col][s_i:e_i].mean())\n",
    "    person_mean.append(temp)\n",
    "    \n",
    "    s_i += 20\n",
    "    e_i += 20\n",
    "    \n",
    "len(person_mean)"
   ]
  },
  {
   "cell_type": "code",
   "execution_count": 415,
   "id": "fd260ac2",
   "metadata": {},
   "outputs": [
    {
     "name": "stderr",
     "output_type": "stream",
     "text": [
      "100%|██████████| 1235/1235 [00:00<00:00, 25074.26it/s]\n"
     ]
    }
   ],
   "source": [
    "# 환자별 평균을 정리한 리스트에 결측값을 0으로 변환\n",
    "\n",
    "for i in tqdm(range(len(person_mean))):\n",
    "    for j in range(len(person_mean[i])):\n",
    "        if str(person_mean[i][j]) == \"nan\":\n",
    "            person_mean[i][j] = 0\n",
    "        else:\n",
    "            person_mean[i][j] = round(person_mean[i][j], 1)"
   ]
  },
  {
   "cell_type": "code",
   "execution_count": 419,
   "id": "fa74e9af",
   "metadata": {},
   "outputs": [
    {
     "name": "stderr",
     "output_type": "stream",
     "text": [
      "100%|██████████| 1235/1235 [00:11<00:00, 104.89it/s]\n"
     ]
    }
   ],
   "source": [
    "# DP 생성 후 결측치 없는 데이터 세트 구성\n",
    "\n",
    "sepsis_df_no_label_and_mv = pd.DataFrame(columns = cols)\n",
    "\n",
    "s_i = 0\n",
    "e_i = 20\n",
    "\n",
    "for i in tqdm(range(sepsis_df_no_label.shape[0]//20)):\n",
    "    temp = pd.DataFrame()\n",
    "    for j, col in enumerate(cols):\n",
    "        temp[col] = sepsis_df_no_label[col][s_i:e_i].fillna(person_mean[i][j])\n",
    "        \n",
    "    sepsis_df_no_label_and_mv = pd.concat([sepsis_df_no_label_and_mv, temp])\n",
    "    s_i += 20\n",
    "    e_i += 20"
   ]
  },
  {
   "cell_type": "code",
   "execution_count": 420,
   "id": "db8c0fff",
   "metadata": {},
   "outputs": [],
   "source": [
    "def ratio(li):\n",
    "    l = len(li)\n",
    "    train = l*0.8\n",
    "    val = train + int(l*0.1)\n",
    "    return int(train), int(val)"
   ]
  },
  {
   "cell_type": "code",
   "execution_count": 421,
   "id": "3f8534e2",
   "metadata": {},
   "outputs": [
    {
     "name": "stdout",
     "output_type": "stream",
     "text": [
      "988 1111\n"
     ]
    }
   ],
   "source": [
    "tr, va = ratio(s_label)\n",
    "print(tr, va)"
   ]
  },
  {
   "cell_type": "markdown",
   "id": "1702afec",
   "metadata": {},
   "source": [
    "# Sepsis 데이터 분리 "
   ]
  },
  {
   "cell_type": "code",
   "execution_count": 422,
   "id": "3e9f9661",
   "metadata": {},
   "outputs": [
    {
     "name": "stderr",
     "output_type": "stream",
     "text": [
      "100%|██████████| 1235/1235 [00:03<00:00, 352.63it/s]\n"
     ]
    }
   ],
   "source": [
    "# sepsis 데이터 > x_train, x_val, x_test\n",
    "\n",
    "s = 0\n",
    "x_train = []\n",
    "x_val = []\n",
    "x_test = []\n",
    "\n",
    "for _ in tqdm(range(int(sepsis_df_no_label_and_mv.shape[0]/20))):\n",
    "    if _ < tr:\n",
    "        for i in range(12):     # 20개의 데이터 세트에서 12개의 데이터를 label에 달아 사용 가능\n",
    "            temp = sepsis_df_no_label_and_mv[s+i : s+i+3].values.tolist()\n",
    "            x_train.append(temp)\n",
    "    elif _ < va:\n",
    "        for i in range(12):     # 20개의 데이터 세트에서 12개의 데이터를 label에 달아 사용 가능\n",
    "            temp = sepsis_df_no_label_and_mv[s+i : s+i+3].values.tolist()\n",
    "            x_val.append(temp)\n",
    "    else: \n",
    "        for i in range(12):     # 20개의 데이터 세트에서 12개의 데이터를 label에 달아 사용 가능\n",
    "            temp = sepsis_df_no_label_and_mv[s+i : s+i+3].values.tolist()\n",
    "            x_test.append(temp)\n",
    "    s += 20"
   ]
  },
  {
   "cell_type": "code",
   "execution_count": 424,
   "id": "d5806c85",
   "metadata": {},
   "outputs": [
    {
     "name": "stdout",
     "output_type": "stream",
     "text": [
      "988 123 124 1235\n"
     ]
    }
   ],
   "source": [
    "print(len(x_train)//12, len(x_val)//12, len(x_test)//12, len(x_train)//12 + len(x_val)//12 + len(x_test)//12)"
   ]
  },
  {
   "cell_type": "markdown",
   "id": "af73ebc9",
   "metadata": {},
   "source": [
    "## non_sepsis_df 에도 동일하게 수행 \n",
    "단, 데이터 비율을 sepsis 기준 1:1로 맞춰서 진행"
   ]
  },
  {
   "cell_type": "code",
   "execution_count": 425,
   "id": "3e431a0c",
   "metadata": {},
   "outputs": [
    {
     "name": "stderr",
     "output_type": "stream",
     "text": [
      "100%|██████████| 16350/16350 [00:24<00:00, 657.88it/s]\n"
     ]
    },
    {
     "data": {
      "text/plain": [
       "16350"
      ]
     },
     "execution_count": 425,
     "metadata": {},
     "output_type": "execute_result"
    }
   ],
   "source": [
    "# non sepsis 환자 별 평균\n",
    "person_mean = []\n",
    "\n",
    "s_i = 0\n",
    "e_i = 20\n",
    "\n",
    "for _ in tqdm(range(int(non_sepsis_df_no_label.shape[0]/20))):\n",
    "    temp = []\n",
    "    for col in cols:\n",
    "        temp.append(non_sepsis_df_no_label[col][s_i:e_i].mean())\n",
    "    person_mean.append(temp)\n",
    "    \n",
    "    s_i += 20\n",
    "    e_i += 20\n",
    "    \n",
    "len(person_mean)"
   ]
  },
  {
   "cell_type": "code",
   "execution_count": 426,
   "id": "afc9ce90",
   "metadata": {},
   "outputs": [
    {
     "name": "stderr",
     "output_type": "stream",
     "text": [
      "100%|██████████| 16350/16350 [00:00<00:00, 24761.39it/s]\n"
     ]
    }
   ],
   "source": [
    "# 환자별 평균을 정리한 리스트에 결측값을 0으로 변환\n",
    "\n",
    "for i in tqdm(range(len(person_mean))):\n",
    "    for j in range(len(person_mean[i])):\n",
    "        if str(person_mean[i][j]) == \"nan\":\n",
    "            person_mean[i][j] = 0\n",
    "        else:\n",
    "            person_mean[i][j] = round(person_mean[i][j], 1)"
   ]
  },
  {
   "cell_type": "code",
   "execution_count": 427,
   "id": "a84d0d6b",
   "metadata": {},
   "outputs": [
    {
     "name": "stderr",
     "output_type": "stream",
     "text": [
      "100%|██████████| 16350/16350 [05:28<00:00, 49.81it/s]\n"
     ]
    }
   ],
   "source": [
    "# 결측치 없는 non sepsis DF 생성\n",
    "\n",
    "non_sepsis_df_no_label_and_mv = pd.DataFrame(columns = cols)\n",
    "\n",
    "s_i = 0\n",
    "e_i = 20\n",
    "\n",
    "for i in tqdm(range(int(non_sepsis_df_no_label.shape[0]/20))):\n",
    "    temp = pd.DataFrame()\n",
    "    for j, col in enumerate(cols):\n",
    "        temp[col] = non_sepsis_df_no_label[col][s_i:e_i].fillna(person_mean[i][j])\n",
    "        \n",
    "    non_sepsis_df_no_label_and_mv = pd.concat([non_sepsis_df_no_label_and_mv, temp])\n",
    "    s_i += 20\n",
    "    e_i += 20"
   ]
  },
  {
   "cell_type": "code",
   "execution_count": 428,
   "id": "4827d44d",
   "metadata": {},
   "outputs": [
    {
     "name": "stderr",
     "output_type": "stream",
     "text": [
      "  8%|▊         | 1235/16350 [00:03<00:45, 330.69it/s]\n"
     ]
    }
   ],
   "source": [
    "# non_sepsis 데이터 > x_train, x_val, x_test에 추가 \n",
    "\n",
    "s = 0\n",
    "\n",
    "for _ in tqdm(range(int(non_sepsis_df_no_label_and_mv.shape[0]/20))):\n",
    "    if _ < tr:\n",
    "        for i in range(12):     # 20개의 데이터 세트에서 12개의 데이터를 label에 달아 사용 가능\n",
    "            temp = non_sepsis_df_no_label_and_mv[s+i : s+i+3].values.tolist()\n",
    "            x_train.append(temp)\n",
    "    elif _ < va:\n",
    "        for i in range(12):     # 20개의 데이터 세트에서 12개의 데이터를 label에 달아 사용 가능\n",
    "            temp = non_sepsis_df_no_label_and_mv[s+i : s+i+3].values.tolist()\n",
    "            x_val.append(temp)\n",
    "    elif _ < 1235:\n",
    "        for i in range(12):     # 20개의 데이터 세트에서 12개의 데이터를 label에 달아 사용 가능\n",
    "            temp = non_sepsis_df_no_label_and_mv[s+i : s+i+3].values.tolist()\n",
    "            x_test.append(temp)\n",
    "    else:\n",
    "        break\n",
    "    s += 20"
   ]
  },
  {
   "cell_type": "code",
   "execution_count": 429,
   "id": "fedac4ae",
   "metadata": {},
   "outputs": [
    {
     "name": "stdout",
     "output_type": "stream",
     "text": [
      "1976 246 248 2470\n"
     ]
    }
   ],
   "source": [
    "print(len(x_train)//12, len(x_val)//12, len(x_test)//12, len(x_train)//12 + len(x_val)//12 + len(x_test)//12)"
   ]
  },
  {
   "cell_type": "code",
   "execution_count": 445,
   "id": "5245ffd9",
   "metadata": {},
   "outputs": [],
   "source": [
    "# sepsis label > train, val, test set 구성\n",
    "\n",
    "y_train = []\n",
    "y_val = []\n",
    "y_test = []   # 988 123 124 1235\n",
    "\n",
    "for i in range(len(s_label)):\n",
    "    if i < tr:\n",
    "        y_train += s_label[i]\n",
    "    elif i < va:\n",
    "        y_val += s_label[i]\n",
    "    elif i < 1235:\n",
    "        y_test += s_label[i]\n",
    "    else:\n",
    "        break"
   ]
  },
  {
   "cell_type": "code",
   "execution_count": 446,
   "id": "b545fee3",
   "metadata": {},
   "outputs": [],
   "source": [
    "y_train += [0] * len(y_train)\n",
    "y_val += [0] * len(y_val)\n",
    "y_test += [0] * len(y_test)"
   ]
  },
  {
   "cell_type": "code",
   "execution_count": 447,
   "id": "41499748",
   "metadata": {},
   "outputs": [
    {
     "name": "stdout",
     "output_type": "stream",
     "text": [
      "1976 246 248 2470\n"
     ]
    }
   ],
   "source": [
    "print(len(y_train)//12, len(y_val)//12, len(y_test)//12, len(y_train)//12 + len(y_val)//12 + len(y_test)//12)"
   ]
  },
  {
   "cell_type": "markdown",
   "id": "6e52d9ee",
   "metadata": {},
   "source": [
    "# numpy 배열로 변환\n",
    "> X(대문자)_train 으로 변경"
   ]
  },
  {
   "cell_type": "code",
   "execution_count": 448,
   "id": "1383a56d",
   "metadata": {},
   "outputs": [],
   "source": [
    "X_train = np.array(x_train)\n",
    "X_val = np.array(x_val)\n",
    "X_test = np.array(x_test)\n",
    "\n",
    "Y_train = np.array(y_train)\n",
    "Y_val = np.array(y_val)\n",
    "Y_test = np.array(y_test)"
   ]
  },
  {
   "cell_type": "code",
   "execution_count": 449,
   "id": "2b18c56d",
   "metadata": {},
   "outputs": [
    {
     "data": {
      "text/plain": [
       "(23712, 3, 22)"
      ]
     },
     "execution_count": 449,
     "metadata": {},
     "output_type": "execute_result"
    }
   ],
   "source": [
    "X_train.shape"
   ]
  },
  {
   "cell_type": "markdown",
   "id": "697253c3",
   "metadata": {},
   "source": [
    "# 데이터 Shuffle 적용"
   ]
  },
  {
   "cell_type": "code",
   "execution_count": 450,
   "id": "6e7c0917",
   "metadata": {},
   "outputs": [],
   "source": [
    "# Train, Test data 적용\n",
    "i = np.arange(X_train.shape[0])\n",
    "np.random.shuffle(i)\n",
    "\n",
    "X_train = X_train[i]\n",
    "Y_train = Y_train[i]"
   ]
  },
  {
   "cell_type": "code",
   "execution_count": 451,
   "id": "2d274a76",
   "metadata": {},
   "outputs": [],
   "source": [
    "# Val data 적용\n",
    "\n",
    "i = np.arange(X_val.shape[0])\n",
    "np.random.shuffle(i)\n",
    "\n",
    "X_val = X_val[i]\n",
    "Y_val = Y_val[i]"
   ]
  },
  {
   "cell_type": "markdown",
   "id": "96b9cc57",
   "metadata": {},
   "source": [
    "# 데이터 세트 구성 완료"
   ]
  },
  {
   "cell_type": "markdown",
   "id": "95e8f452",
   "metadata": {},
   "source": [
    "# 모델 구성"
   ]
  },
  {
   "cell_type": "code",
   "execution_count": 452,
   "id": "061bdddc",
   "metadata": {},
   "outputs": [],
   "source": [
    "import tensorflow as tf\n",
    "from tensorflow.keras.layers import Dense, LSTM, Dropout, GRU\n",
    "from tensorflow.keras.models import Sequential\n",
    "from tensorflow.keras.models import load_model\n",
    "from tensorflow.keras.callbacks import EarlyStopping, ModelCheckpoint"
   ]
  },
  {
   "cell_type": "code",
   "execution_count": null,
   "id": "fdac7479",
   "metadata": {},
   "outputs": [],
   "source": [
    "hidden_units = 64\n",
    "\n",
    "model = Sequential()\n",
    "model.add(LSTM(hidden_units, activation='tanh', input_shape=(3, 22)))\n",
    "# model.add(Dense(82, activation='relu'))\n",
    "model.add(Dense(4, activation=\"relu\"))\n",
    "model.add(Dense(1, activation='sigmoid'))\n",
    "\n",
    "model.summary()"
   ]
  },
  {
   "cell_type": "code",
   "execution_count": null,
   "id": "9f156229",
   "metadata": {},
   "outputs": [],
   "source": [
    "SGD = tf.keras.optimizers.SGD(learning_rate=0.01)  ## Defult Learning_rate = 0.01\n",
    "\n",
    "model.compile(loss=tf.keras.losses.BinaryCrossentropy(), optimizer=SGD, metrics=['accuracy'])"
   ]
  },
  {
   "cell_type": "code",
   "execution_count": 543,
   "id": "8f377ec3",
   "metadata": {},
   "outputs": [
    {
     "name": "stdout",
     "output_type": "stream",
     "text": [
      "Epoch 1/30\n",
      "741/741 [==============================] - 3s 4ms/step - loss: 0.5691 - accuracy: 0.7012 - val_loss: 0.6449 - val_accuracy: 0.6165\n",
      "Epoch 2/30\n",
      "741/741 [==============================] - 3s 5ms/step - loss: 0.5655 - accuracy: 0.7056 - val_loss: 0.6429 - val_accuracy: 0.6189\n",
      "Epoch 3/30\n",
      "741/741 [==============================] - 3s 5ms/step - loss: 0.5620 - accuracy: 0.7078 - val_loss: 0.6452 - val_accuracy: 0.6155\n",
      "Epoch 4/30\n",
      "741/741 [==============================] - 5s 7ms/step - loss: 0.5585 - accuracy: 0.7118 - val_loss: 0.6459 - val_accuracy: 0.6131\n",
      "Epoch 5/30\n",
      "741/741 [==============================] - 3s 4ms/step - loss: 0.5550 - accuracy: 0.7155 - val_loss: 0.6470 - val_accuracy: 0.6152\n",
      "Epoch 6/30\n",
      "741/741 [==============================] - 3s 4ms/step - loss: 0.5517 - accuracy: 0.7189 - val_loss: 0.6491 - val_accuracy: 0.6142\n",
      "Epoch 7/30\n",
      "741/741 [==============================] - 3s 4ms/step - loss: 0.5484 - accuracy: 0.7217 - val_loss: 0.6494 - val_accuracy: 0.6118\n",
      "Epoch 8/30\n",
      "741/741 [==============================] - 3s 4ms/step - loss: 0.5448 - accuracy: 0.7256 - val_loss: 0.6522 - val_accuracy: 0.6114\n",
      "Epoch 9/30\n",
      "741/741 [==============================] - 4s 5ms/step - loss: 0.5417 - accuracy: 0.7270 - val_loss: 0.6517 - val_accuracy: 0.6128\n",
      "Epoch 10/30\n",
      "741/741 [==============================] - 4s 6ms/step - loss: 0.5384 - accuracy: 0.7297 - val_loss: 0.6545 - val_accuracy: 0.6026\n",
      "Epoch 11/30\n",
      "741/741 [==============================] - 3s 4ms/step - loss: 0.5352 - accuracy: 0.7298 - val_loss: 0.6569 - val_accuracy: 0.6054\n",
      "Epoch 12/30\n",
      "741/741 [==============================] - 3s 5ms/step - loss: 0.5318 - accuracy: 0.7341 - val_loss: 0.6582 - val_accuracy: 0.6054\n",
      "Epoch 13/30\n",
      "741/741 [==============================] - 3s 5ms/step - loss: 0.5288 - accuracy: 0.7353 - val_loss: 0.6605 - val_accuracy: 0.6186\n",
      "Epoch 14/30\n",
      "741/741 [==============================] - 3s 5ms/step - loss: 0.5256 - accuracy: 0.7395 - val_loss: 0.6634 - val_accuracy: 0.6070\n",
      "Epoch 15/30\n",
      "741/741 [==============================] - 3s 4ms/step - loss: 0.5225 - accuracy: 0.7419 - val_loss: 0.6660 - val_accuracy: 0.6098\n",
      "Epoch 16/30\n",
      "741/741 [==============================] - 3s 5ms/step - loss: 0.5194 - accuracy: 0.7431 - val_loss: 0.6625 - val_accuracy: 0.6182\n",
      "Epoch 17/30\n",
      "741/741 [==============================] - 3s 4ms/step - loss: 0.5160 - accuracy: 0.7453 - val_loss: 0.6661 - val_accuracy: 0.6209\n",
      "Epoch 18/30\n",
      "741/741 [==============================] - 3s 5ms/step - loss: 0.5130 - accuracy: 0.7494 - val_loss: 0.6703 - val_accuracy: 0.6094\n",
      "Epoch 19/30\n",
      "741/741 [==============================] - 3s 5ms/step - loss: 0.5099 - accuracy: 0.7505 - val_loss: 0.6720 - val_accuracy: 0.6165\n",
      "Epoch 20/30\n",
      "741/741 [==============================] - 3s 5ms/step - loss: 0.5066 - accuracy: 0.7538 - val_loss: 0.6743 - val_accuracy: 0.6121\n",
      "Epoch 21/30\n",
      "741/741 [==============================] - 3s 5ms/step - loss: 0.5036 - accuracy: 0.7570 - val_loss: 0.6771 - val_accuracy: 0.6162\n",
      "Epoch 22/30\n",
      "741/741 [==============================] - 3s 5ms/step - loss: 0.5002 - accuracy: 0.7598 - val_loss: 0.6846 - val_accuracy: 0.6155\n",
      "Epoch 23/30\n",
      "741/741 [==============================] - 3s 5ms/step - loss: 0.4971 - accuracy: 0.7607 - val_loss: 0.6849 - val_accuracy: 0.6220\n",
      "Epoch 24/30\n",
      "741/741 [==============================] - 3s 5ms/step - loss: 0.4938 - accuracy: 0.7651 - val_loss: 0.6897 - val_accuracy: 0.6138\n",
      "Epoch 25/30\n",
      "741/741 [==============================] - 4s 5ms/step - loss: 0.4905 - accuracy: 0.7670 - val_loss: 0.6917 - val_accuracy: 0.6186\n",
      "Epoch 26/30\n",
      "741/741 [==============================] - 4s 5ms/step - loss: 0.4876 - accuracy: 0.7697 - val_loss: 0.6956 - val_accuracy: 0.6186\n",
      "Epoch 27/30\n",
      "741/741 [==============================] - 4s 5ms/step - loss: 0.4844 - accuracy: 0.7724 - val_loss: 0.6985 - val_accuracy: 0.6169\n",
      "Epoch 28/30\n",
      "741/741 [==============================] - 4s 5ms/step - loss: 0.4810 - accuracy: 0.7748 - val_loss: 0.7023 - val_accuracy: 0.6182\n",
      "Epoch 29/30\n",
      "741/741 [==============================] - 4s 5ms/step - loss: 0.4778 - accuracy: 0.7767 - val_loss: 0.7041 - val_accuracy: 0.6220\n",
      "Epoch 30/30\n",
      "741/741 [==============================] - 4s 5ms/step - loss: 0.4747 - accuracy: 0.7812 - val_loss: 0.7091 - val_accuracy: 0.6179\n"
     ]
    }
   ],
   "source": [
    "hist = model.fit(X_train, Y_train, epochs=30, batch_size=32, validation_data=(X_val, Y_val))"
   ]
  },
  {
   "cell_type": "code",
   "execution_count": null,
   "id": "ef9d5b75",
   "metadata": {},
   "outputs": [],
   "source": [
    "plt.plot(hist.history['loss'], label='loss')\n",
    "plt.plot(hist.history['val_loss'], label='val_loss')\n",
    "plt.legend()\n",
    "plt.xlabel(\"Epochs\")\n",
    "plt.show()"
   ]
  },
  {
   "cell_type": "code",
   "execution_count": null,
   "id": "3be13cb9",
   "metadata": {},
   "outputs": [],
   "source": [
    "plt.plot(hist.history['accuracy'], label='accuracy')\n",
    "plt.plot(hist.history['val_accuracy'], label='val_accuracy')\n",
    "plt.legend()\n",
    "plt.xlabel(\"Epochs\")\n",
    "plt.show()"
   ]
  },
  {
   "cell_type": "markdown",
   "id": "f28b6bd9",
   "metadata": {},
   "source": [
    "## 과도한 결측치 대치를 막은 데이터 세트가 더 좋은 결과를 가져옴"
   ]
  },
  {
   "cell_type": "code",
   "execution_count": null,
   "id": "1b3a4497",
   "metadata": {},
   "outputs": [],
   "source": []
  },
  {
   "cell_type": "code",
   "execution_count": null,
   "id": "1d71218d",
   "metadata": {},
   "outputs": [],
   "source": []
  },
  {
   "cell_type": "code",
   "execution_count": null,
   "id": "a7930702",
   "metadata": {},
   "outputs": [],
   "source": []
  },
  {
   "cell_type": "code",
   "execution_count": null,
   "id": "22654727",
   "metadata": {},
   "outputs": [],
   "source": []
  },
  {
   "cell_type": "code",
   "execution_count": null,
   "id": "9a45280d",
   "metadata": {},
   "outputs": [],
   "source": []
  },
  {
   "cell_type": "code",
   "execution_count": null,
   "id": "bc7419d8",
   "metadata": {},
   "outputs": [],
   "source": []
  },
  {
   "cell_type": "code",
   "execution_count": 228,
   "id": "6d4cd7c0",
   "metadata": {},
   "outputs": [
    {
     "name": "stdout",
     "output_type": "stream",
     "text": [
      "Model: \"sequential_19\"\n",
      "_________________________________________________________________\n",
      " Layer (type)                Output Shape              Param #   \n",
      "=================================================================\n",
      " lstm_32 (LSTM)              (None, 128)               79872     \n",
      "                                                                 \n",
      " dropout_15 (Dropout)        (None, 128)               0         \n",
      "                                                                 \n",
      " dense_38 (Dense)            (None, 64)                8256      \n",
      "                                                                 \n",
      " dense_39 (Dense)            (None, 10)                650       \n",
      "                                                                 \n",
      " dense_40 (Dense)            (None, 1)                 11        \n",
      "                                                                 \n",
      "=================================================================\n",
      "Total params: 88,789\n",
      "Trainable params: 88,789\n",
      "Non-trainable params: 0\n",
      "_________________________________________________________________\n"
     ]
    }
   ],
   "source": [
    "hidden_units = 128\n",
    "\n",
    "model = Sequential()\n",
    "model.add(LSTM(hidden_units, activation='tanh', input_shape=(3, 27)))\n",
    "model.add(Dense(64, activation='relu'))\n",
    "model.add(Dense(1, activation='sigmoid'))\n",
    "\n",
    "model.summary()"
   ]
  },
  {
   "cell_type": "code",
   "execution_count": 229,
   "id": "37476e16",
   "metadata": {},
   "outputs": [],
   "source": [
    "SGD = tf.keras.optimizers.SGD(learning_rate=0.01)\n",
    "\n",
    "model.compile(loss=tf.keras.losses.BinaryCrossentropy(), optimizer=SGD, metrics=['accuracy'])"
   ]
  },
  {
   "cell_type": "code",
   "execution_count": 230,
   "id": "5c5101ca",
   "metadata": {},
   "outputs": [
    {
     "name": "stdout",
     "output_type": "stream",
     "text": [
      "Epoch 1/10\n",
      "741/741 [==============================] - 4s 4ms/step - loss: 0.6622 - accuracy: 0.6082 - val_loss: 0.6391 - val_accuracy: 0.6175\n",
      "Epoch 2/10\n",
      "741/741 [==============================] - 2s 3ms/step - loss: 0.6362 - accuracy: 0.6334 - val_loss: 0.6325 - val_accuracy: 0.6267\n",
      "Epoch 3/10\n",
      "741/741 [==============================] - 2s 3ms/step - loss: 0.6250 - accuracy: 0.6452 - val_loss: 0.6292 - val_accuracy: 0.6223\n",
      "Epoch 4/10\n",
      "741/741 [==============================] - 2s 3ms/step - loss: 0.6198 - accuracy: 0.6488 - val_loss: 0.6279 - val_accuracy: 0.6243\n",
      "Epoch 5/10\n",
      "741/741 [==============================] - 2s 3ms/step - loss: 0.6161 - accuracy: 0.6502 - val_loss: 0.6255 - val_accuracy: 0.6277\n",
      "Epoch 6/10\n",
      "741/741 [==============================] - 2s 3ms/step - loss: 0.6132 - accuracy: 0.6549 - val_loss: 0.6229 - val_accuracy: 0.6297\n",
      "Epoch 7/10\n",
      "741/741 [==============================] - 2s 3ms/step - loss: 0.6077 - accuracy: 0.6577 - val_loss: 0.6237 - val_accuracy: 0.6294\n",
      "Epoch 8/10\n",
      "741/741 [==============================] - 2s 3ms/step - loss: 0.6059 - accuracy: 0.6625 - val_loss: 0.6215 - val_accuracy: 0.6325\n",
      "Epoch 9/10\n",
      "741/741 [==============================] - 2s 3ms/step - loss: 0.6017 - accuracy: 0.6641 - val_loss: 0.6227 - val_accuracy: 0.6257\n",
      "Epoch 10/10\n",
      "741/741 [==============================] - 2s 3ms/step - loss: 0.6005 - accuracy: 0.6676 - val_loss: 0.6202 - val_accuracy: 0.6274\n"
     ]
    }
   ],
   "source": [
    "hist = model.fit(X_train, Y_train, epochs=10, batch_size=32, validation_data=(X_val, Y_val))"
   ]
  },
  {
   "cell_type": "markdown",
   "id": "81cea714",
   "metadata": {},
   "source": [
    "# 과적합을 줄이기 위해 데이터세트 증가 \n",
    "non sepsis 데이터만 증가 가능"
   ]
  },
  {
   "cell_type": "markdown",
   "id": "7256d288",
   "metadata": {},
   "source": [
    "# sepsis 정리"
   ]
  },
  {
   "cell_type": "code",
   "execution_count": 238,
   "id": "a57e0732",
   "metadata": {},
   "outputs": [
    {
     "name": "stderr",
     "output_type": "stream",
     "text": [
      "100%|██████████| 1235/1235 [00:04<00:00, 305.00it/s]\n"
     ]
    }
   ],
   "source": [
    "# sepsis 데이터 > x_train, x_val, x_test\n",
    "\n",
    "s = 0\n",
    "x_train = []\n",
    "x_val = []\n",
    "x_test = []\n",
    "\n",
    "for _ in tqdm(range(int(sepsis_df_no_label_and_mv.shape[0]/20))):\n",
    "    if _ < tr:\n",
    "        for i in range(12):     # 20개의 데이터 세트에서 12개의 데이터를 label에 달아 사용 가능\n",
    "            temp = sepsis_df_no_label_and_mv[s+i : s+i+3].values.tolist()\n",
    "            x_train.append(temp)\n",
    "    elif _ < va:\n",
    "        for i in range(12):     # 20개의 데이터 세트에서 12개의 데이터를 label에 달아 사용 가능\n",
    "            temp = sepsis_df_no_label_and_mv[s+i : s+i+3].values.tolist()\n",
    "            x_val.append(temp)\n",
    "    else: \n",
    "        for i in range(12):     # 20개의 데이터 세트에서 12개의 데이터를 label에 달아 사용 가능\n",
    "            temp = sepsis_df_no_label_and_mv[s+i : s+i+3].values.tolist()\n",
    "            x_test.append(temp)\n",
    "    s += 20"
   ]
  },
  {
   "cell_type": "code",
   "execution_count": 239,
   "id": "625121fd",
   "metadata": {},
   "outputs": [
    {
     "name": "stdout",
     "output_type": "stream",
     "text": [
      "988.0 123.0 124.0 1235\n"
     ]
    }
   ],
   "source": [
    "print(len(x_train)/12, len(x_val)/12, len(x_test)/12, len(x_train)//12 + len(x_val)//12 + len(x_test)//12)"
   ]
  },
  {
   "cell_type": "markdown",
   "id": "a391b73a",
   "metadata": {},
   "source": [
    "# non sepsis 정리"
   ]
  },
  {
   "cell_type": "code",
   "execution_count": 240,
   "id": "184454d2",
   "metadata": {},
   "outputs": [
    {
     "name": "stderr",
     "output_type": "stream",
     "text": [
      "100%|██████████| 16350/16350 [00:31<00:00, 520.73it/s]\n"
     ]
    },
    {
     "data": {
      "text/plain": [
       "16350"
      ]
     },
     "execution_count": 240,
     "metadata": {},
     "output_type": "execute_result"
    }
   ],
   "source": [
    "# non sepsis 환자 별 평균\n",
    "person_mean = []\n",
    "\n",
    "s_i = 0\n",
    "e_i = 20\n",
    "\n",
    "for _ in tqdm(range(int(non_sepsis_df_no_label.shape[0]/20))):\n",
    "    temp = []\n",
    "    for col in cols:\n",
    "        temp.append(non_sepsis_df_no_label[col][s_i:e_i].mean())\n",
    "    person_mean.append(temp)\n",
    "    \n",
    "    s_i += 20\n",
    "    e_i += 20\n",
    "    \n",
    "len(person_mean)"
   ]
  },
  {
   "cell_type": "code",
   "execution_count": 241,
   "id": "dde23d99",
   "metadata": {},
   "outputs": [
    {
     "name": "stderr",
     "output_type": "stream",
     "text": [
      "100%|██████████| 16350/16350 [00:00<00:00, 25061.27it/s]\n"
     ]
    }
   ],
   "source": [
    "# 환자별 평균을 정리한 리스트에 결측값을 0으로 변환\n",
    "\n",
    "for i in tqdm(range(len(person_mean))):\n",
    "    for j in range(len(person_mean[i])):\n",
    "        if str(person_mean[i][j]) == \"nan\":\n",
    "            person_mean[i][j] = 0\n",
    "        else:\n",
    "            person_mean[i][j] = round(person_mean[i][j], 1)"
   ]
  },
  {
   "cell_type": "code",
   "execution_count": 242,
   "id": "fda16b0f",
   "metadata": {},
   "outputs": [
    {
     "name": "stderr",
     "output_type": "stream",
     "text": [
      "100%|██████████| 16350/16350 [06:24<00:00, 42.47it/s]\n"
     ]
    }
   ],
   "source": [
    "# 결측치 없는 non sepsis DF 생성\n",
    "\n",
    "non_sepsis_df_no_label_and_mv = pd.DataFrame(columns = cols)\n",
    "\n",
    "s_i = 0\n",
    "e_i = 20\n",
    "\n",
    "for i in tqdm(range(int(non_sepsis_df_no_label.shape[0]/20))):\n",
    "    temp = pd.DataFrame()\n",
    "    for j, col in enumerate(cols):\n",
    "        temp[col] = non_sepsis_df_no_label[col][s_i:e_i].fillna(person_mean[i][j])\n",
    "        \n",
    "    non_sepsis_df_no_label_and_mv = pd.concat([non_sepsis_df_no_label_and_mv, temp])\n",
    "    s_i += 20\n",
    "    e_i += 20"
   ]
  },
  {
   "cell_type": "code",
   "execution_count": 243,
   "id": "eece757f",
   "metadata": {},
   "outputs": [
    {
     "name": "stdout",
     "output_type": "stream",
     "text": [
      "non sepsis 환자 수 :  16350\n"
     ]
    }
   ],
   "source": [
    "non_len = non_sepsis_df_no_label_and_mv.shape[0]//20\n",
    "print('non sepsis 환자 수 : ', non_len)"
   ]
  },
  {
   "cell_type": "code",
   "execution_count": 244,
   "id": "4df29166",
   "metadata": {},
   "outputs": [
    {
     "name": "stderr",
     "output_type": "stream",
     "text": [
      "100%|██████████| 16350/16350 [00:58<00:00, 281.53it/s]\n"
     ]
    }
   ],
   "source": [
    "# non_sepsis 데이터 > x_train, x_val, x_test에 추가 \n",
    "\n",
    "s = 0\n",
    "\n",
    "for _ in tqdm(range(non_len)):\n",
    "    if _ < tr:\n",
    "        for i in range(12):     # 20개의 데이터 세트에서 12개의 데이터를 label에 달아 사용 가능\n",
    "            temp = non_sepsis_df_no_label_and_mv[s+i : s+i+3].values.tolist()\n",
    "            x_train.append(temp)\n",
    "    elif _ < va:\n",
    "        for i in range(12):     # 20개의 데이터 세트에서 12개의 데이터를 label에 달아 사용 가능\n",
    "            temp = non_sepsis_df_no_label_and_mv[s+i : s+i+3].values.tolist()\n",
    "            x_val.append(temp)\n",
    "    elif _ < non_len:\n",
    "        for i in range(12):     # 20개의 데이터 세트에서 12개의 데이터를 label에 달아 사용 가능\n",
    "            temp = non_sepsis_df_no_label_and_mv[s+i : s+i+3].values.tolist()\n",
    "            x_test.append(temp)\n",
    "    else:\n",
    "        break\n",
    "    s += 20"
   ]
  },
  {
   "cell_type": "code",
   "execution_count": 245,
   "id": "eaa33fda",
   "metadata": {},
   "outputs": [
    {
     "name": "stdout",
     "output_type": "stream",
     "text": [
      "1976.0 246.0 15363.0 17585\n"
     ]
    }
   ],
   "source": [
    "print(len(x_train)/12, len(x_val)/12, len(x_test)/12, len(x_train)//12 + len(x_val)//12 + len(x_test)//12)"
   ]
  },
  {
   "cell_type": "code",
   "execution_count": 248,
   "id": "58ccaa2f",
   "metadata": {},
   "outputs": [],
   "source": [
    "# sepsis label > train, val, test set 구성\n",
    "\n",
    "y_train = []\n",
    "y_val = []\n",
    "y_test = []   # 988 123 124 1235\n",
    "\n",
    "for _ in range(len(s_label)):\n",
    "    if _ < tr:\n",
    "        y_train += s_label[_]\n",
    "    elif _ < va:\n",
    "        y_val += s_label[_]\n",
    "    elif _ < 1235:\n",
    "        y_test += s_label[_]\n",
    "    else:\n",
    "        break"
   ]
  },
  {
   "cell_type": "code",
   "execution_count": 257,
   "id": "027a3739",
   "metadata": {},
   "outputs": [],
   "source": [
    "y_train += [0] * (len(x_train)-len(y_train))\n",
    "y_val += [0] * (len(x_val)-len(y_val))\n",
    "y_test += [0] * (len(x_test)-len(y_test))"
   ]
  },
  {
   "cell_type": "code",
   "execution_count": 298,
   "id": "15e03694",
   "metadata": {},
   "outputs": [
    {
     "data": {
      "text/plain": [
       "23712"
      ]
     },
     "execution_count": 298,
     "metadata": {},
     "output_type": "execute_result"
    }
   ],
   "source": [
    "len(x_train)"
   ]
  },
  {
   "cell_type": "markdown",
   "id": "c14d3c6d",
   "metadata": {},
   "source": [
    "# numpy list로 변환"
   ]
  },
  {
   "cell_type": "code",
   "execution_count": 299,
   "id": "4b14e8cd",
   "metadata": {},
   "outputs": [
    {
     "data": {
      "text/plain": [
       "array([[[ 2.96014568, -1.00983987,  1.09506886, ...,  0.4998645 ,\n",
       "         -2.16575771,  0.85208461],\n",
       "        [ 3.20442755, -1.00983987,  1.09506886, ...,  0.4998645 ,\n",
       "         -2.16575771,  0.85208461],\n",
       "        [ 3.26549802, -0.32790958,  3.98006871, ...,  0.4998645 ,\n",
       "         -2.16575771,  0.85208461]],\n",
       "\n",
       "       [[ 3.20442755, -1.00983987,  1.09506886, ...,  0.4998645 ,\n",
       "         -2.16575771,  0.85208461],\n",
       "        [ 3.26549802, -0.32790958,  3.98006871, ...,  0.4998645 ,\n",
       "         -2.16575771,  0.85208461],\n",
       "        [ 3.38763896, -0.32790958,  1.09506886, ...,  0.4998645 ,\n",
       "         -2.16575771,  0.85208461]],\n",
       "\n",
       "       [[ 3.26549802, -0.32790958,  3.98006871, ...,  0.4998645 ,\n",
       "         -2.16575771,  0.85208461],\n",
       "        [ 3.38763896, -0.32790958,  1.09506886, ...,  0.4998645 ,\n",
       "         -2.16575771,  0.85208461],\n",
       "        [ 3.08228661,  0.01305556,  2.87943293, ...,  0.4998645 ,\n",
       "         -2.16575771,  0.85208461]],\n",
       "\n",
       "       ...,\n",
       "\n",
       "       [[ 0.5173269 ,  1.03595099,  0.09449088, ..., -0.163558  ,\n",
       "          0.19261347,  0.85208461],\n",
       "        [ 0.5173269 ,  1.03595099,  0.09449088, ..., -0.163558  ,\n",
       "          0.19261347,  0.85208461],\n",
       "        [ 0.57839737,  1.03595099,  1.21180296, ..., -0.163558  ,\n",
       "          0.19261347,  0.85208461]],\n",
       "\n",
       "       [[ 0.5173269 ,  1.03595099,  0.09449088, ..., -0.163558  ,\n",
       "          0.19261347,  0.85208461],\n",
       "        [ 0.57839737,  1.03595099,  1.21180296, ..., -0.163558  ,\n",
       "          0.19261347,  0.85208461],\n",
       "        [ 0.39518597,  1.03595099,  0.09449088, ..., -0.163558  ,\n",
       "          0.19261347,  0.85208461]],\n",
       "\n",
       "       [[ 0.57839737,  1.03595099,  1.21180296, ..., -0.163558  ,\n",
       "          0.19261347,  0.85208461],\n",
       "        [ 0.39518597,  1.03595099,  0.09449088, ..., -0.163558  ,\n",
       "          0.19261347,  0.85208461],\n",
       "        [ 0.3341155 ,  1.03595099,  0.09449088, ..., -0.163558  ,\n",
       "          0.19261347,  0.85208461]]])"
      ]
     },
     "execution_count": 299,
     "metadata": {},
     "output_type": "execute_result"
    }
   ],
   "source": [
    "x_train = np.array(x_train)\n",
    "x_train"
   ]
  },
  {
   "cell_type": "code",
   "execution_count": 305,
   "id": "ac8121e3",
   "metadata": {},
   "outputs": [
    {
     "data": {
      "text/plain": [
       "(23712, 3, 27)"
      ]
     },
     "execution_count": 305,
     "metadata": {},
     "output_type": "execute_result"
    }
   ],
   "source": [
    "x_train.shape"
   ]
  },
  {
   "cell_type": "code",
   "execution_count": 304,
   "id": "e738bda4",
   "metadata": {},
   "outputs": [],
   "source": [
    "x_val = np.array(x_val)\n",
    "x_test = np.array(x_test)\n",
    "\n",
    "y_train = np.array(y_train)\n",
    "y_val = np.array(y_val)\n",
    "y_test = np.array(y_test)"
   ]
  },
  {
   "cell_type": "code",
   "execution_count": 306,
   "id": "99b3dfb7",
   "metadata": {},
   "outputs": [],
   "source": [
    "# Train, Test data 적용\n",
    "i = np.arange(x_train.shape[0])\n",
    "np.random.shuffle(i)\n",
    "\n",
    "x_train = x_train[i]\n",
    "y_train = y_train[i]"
   ]
  },
  {
   "cell_type": "code",
   "execution_count": 307,
   "id": "a558adfa",
   "metadata": {},
   "outputs": [],
   "source": [
    "# Val data 적용\n",
    "\n",
    "i = np.arange(X_val.shape[0])\n",
    "np.random.shuffle(i)\n",
    "\n",
    "x_val = x_val[i]\n",
    "y_val = y_val[i]"
   ]
  },
  {
   "cell_type": "code",
   "execution_count": 308,
   "id": "e35bbe48",
   "metadata": {},
   "outputs": [
    {
     "data": {
      "text/plain": [
       "(23712, 2952, 184356)"
      ]
     },
     "execution_count": 308,
     "metadata": {},
     "output_type": "execute_result"
    }
   ],
   "source": [
    "len(x_train), len(x_val), len(x_test)"
   ]
  },
  {
   "cell_type": "code",
   "execution_count": 309,
   "id": "9fe08989",
   "metadata": {},
   "outputs": [
    {
     "data": {
      "text/plain": [
       "(23712, 2952, 184356)"
      ]
     },
     "execution_count": 309,
     "metadata": {},
     "output_type": "execute_result"
    }
   ],
   "source": [
    "len(y_train), len(y_val), len(y_test)"
   ]
  },
  {
   "cell_type": "code",
   "execution_count": 369,
   "id": "843aafa7",
   "metadata": {},
   "outputs": [
    {
     "name": "stdout",
     "output_type": "stream",
     "text": [
      "Model: \"sequential_27\"\n",
      "_________________________________________________________________\n",
      " Layer (type)                Output Shape              Param #   \n",
      "=================================================================\n",
      " lstm_40 (LSTM)              (None, 128)               79872     \n",
      "                                                                 \n",
      " dropout_24 (Dropout)        (None, 128)               0         \n",
      "                                                                 \n",
      " dense_55 (Dense)            (None, 64)                8256      \n",
      "                                                                 \n",
      " dropout_25 (Dropout)        (None, 64)                0         \n",
      "                                                                 \n",
      " dense_56 (Dense)            (None, 1)                 65        \n",
      "                                                                 \n",
      "=================================================================\n",
      "Total params: 88,193\n",
      "Trainable params: 88,193\n",
      "Non-trainable params: 0\n",
      "_________________________________________________________________\n"
     ]
    }
   ],
   "source": [
    "hidden_units = 128\n",
    "\n",
    "model = Sequential()\n",
    "model.add(LSTM(hidden_units, activation='tanh', input_shape=(3, 27)))\n",
    "model.add(Dropout(0.7))\n",
    "model.add(Dense(64, activation='relu'))\n",
    "model.add(Dropout(0.5))\n",
    "model.add(Dense(1, activation='sigmoid'))\n",
    "\n",
    "model.summary()"
   ]
  },
  {
   "cell_type": "code",
   "execution_count": 370,
   "id": "207aab9c",
   "metadata": {},
   "outputs": [],
   "source": [
    "SGD = tf.keras.optimizers.SGD(learning_rate=0.04)\n",
    "\n",
    "model.compile(loss=tf.keras.losses.BinaryCrossentropy(), optimizer=SGD, metrics=['accuracy'])"
   ]
  },
  {
   "cell_type": "code",
   "execution_count": null,
   "id": "60c01f07",
   "metadata": {},
   "outputs": [],
   "source": [
    "hist = model.fit(x_train, y_train, epochs=30, batch_size=32, validation_data=(x_val, y_val))"
   ]
  },
  {
   "cell_type": "code",
   "execution_count": null,
   "id": "7ba9f2ce",
   "metadata": {},
   "outputs": [],
   "source": [
    "plt.plot(hist.history['loss'], label='loss')\n",
    "plt.plot(hist.history['val_loss'], label='val_loss')\n",
    "plt.legend()\n",
    "plt.xlabel(\"Epochs\")\n",
    "plt.show()"
   ]
  },
  {
   "cell_type": "code",
   "execution_count": null,
   "id": "617ae4a0",
   "metadata": {},
   "outputs": [],
   "source": [
    "plt.plot(hist.history['accuracy'], label='accuracy')\n",
    "plt.plot(hist.history['val_accuracy'], label='val_accuracy')\n",
    "plt.legend()\n",
    "plt.xlabel(\"Epochs\")\n",
    "plt.show()"
   ]
  },
  {
   "cell_type": "code",
   "execution_count": 328,
   "id": "f9211ad6",
   "metadata": {},
   "outputs": [],
   "source": [
    "result = model.predict(x_test)"
   ]
  },
  {
   "cell_type": "code",
   "execution_count": 329,
   "id": "192cea27",
   "metadata": {},
   "outputs": [],
   "source": [
    "from sklearn.metrics import confusion_matrix"
   ]
  },
  {
   "cell_type": "code",
   "execution_count": 346,
   "id": "11406b7d",
   "metadata": {},
   "outputs": [],
   "source": [
    "r = np.where(result < 0.6, 0, 1)"
   ]
  },
  {
   "cell_type": "code",
   "execution_count": 353,
   "id": "68bf5df7",
   "metadata": {},
   "outputs": [
    {
     "data": {
      "text/plain": [
       "array([[146317,    665],\n",
       "       [ 36840,    534]], dtype=int64)"
      ]
     },
     "execution_count": 353,
     "metadata": {},
     "output_type": "execute_result"
    }
   ],
   "source": [
    "cm = confusion_matrix(r, y_test)\n",
    "cm"
   ]
  },
  {
   "cell_type": "code",
   "execution_count": 348,
   "id": "93362605",
   "metadata": {},
   "outputs": [
    {
     "data": {
      "text/plain": [
       "184356"
      ]
     },
     "execution_count": 348,
     "metadata": {},
     "output_type": "execute_result"
    }
   ],
   "source": [
    "len(y_test)"
   ]
  },
  {
   "cell_type": "code",
   "execution_count": 349,
   "id": "04f0340f",
   "metadata": {},
   "outputs": [
    {
     "name": "stdout",
     "output_type": "stream",
     "text": [
      "184356\n"
     ]
    }
   ],
   "source": [
    "184356\n",
    "\n",
    "print(134495 + 667 + 48662 +532)"
   ]
  },
  {
   "cell_type": "code",
   "execution_count": 351,
   "id": "c258d0d8",
   "metadata": {},
   "outputs": [
    {
     "data": {
      "text/plain": [
       "79.6562086398056"
      ]
     },
     "execution_count": 351,
     "metadata": {},
     "output_type": "execute_result"
    }
   ],
   "source": [
    "(tt+ff)/184356*100"
   ]
  },
  {
   "cell_type": "code",
   "execution_count": 352,
   "id": "5987afcd",
   "metadata": {},
   "outputs": [
    {
     "data": {
      "text/plain": [
       "0.027687760869001633"
      ]
     },
     "execution_count": 352,
     "metadata": {},
     "output_type": "execute_result"
    }
   ],
   "source": [
    "from sklearn.metrics import f1_score\n",
    "f1 = f1_score(y_test, r)\n",
    "f1"
   ]
  }
 ],
 "metadata": {
  "kernelspec": {
   "display_name": "ai",
   "language": "python",
   "name": "ai"
  },
  "language_info": {
   "codemirror_mode": {
    "name": "ipython",
    "version": 3
   },
   "file_extension": ".py",
   "mimetype": "text/x-python",
   "name": "python",
   "nbconvert_exporter": "python",
   "pygments_lexer": "ipython3",
   "version": "3.9.7"
  }
 },
 "nbformat": 4,
 "nbformat_minor": 5
}
